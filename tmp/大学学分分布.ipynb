{
 "cells": [
  {
   "cell_type": "code",
   "execution_count": 9,
   "id": "e90082e7",
   "metadata": {},
   "outputs": [],
   "source": [
    "import numpy as np"
   ]
  },
  {
   "cell_type": "code",
   "execution_count": 10,
   "id": "6e3c249d",
   "metadata": {},
   "outputs": [],
   "source": [
    "import pandas as pd"
   ]
  },
  {
   "cell_type": "code",
   "execution_count": 3,
   "id": "b3f69ca6",
   "metadata": {},
   "outputs": [],
   "source": [
    "import scipy.stats as sci"
   ]
  },
  {
   "cell_type": "code",
   "execution_count": 85,
   "id": "760bfad0",
   "metadata": {},
   "outputs": [],
   "source": [
    "l = []\n",
    "for p in np.linspace(0,0.9,10):\n",
    "    l.append(1-sci.binom.cdf(6,20,p)+sci.binom.cdf(1,20,p))"
   ]
  },
  {
   "cell_type": "code",
   "execution_count": 88,
   "id": "87edd799",
   "metadata": {},
   "outputs": [
    {
     "data": {
      "text/plain": [
       "0.7358734711091516"
      ]
     },
     "execution_count": 88,
     "metadata": {},
     "output_type": "execute_result"
    }
   ],
   "source": [
    "p = .05\n",
    "1-sci.binom.cdf(6,20,p)+sci.binom.cdf(1,20,p)"
   ]
  },
  {
   "cell_type": "code",
   "execution_count": 87,
   "id": "193fc666",
   "metadata": {},
   "outputs": [
    {
     "data": {
      "image/png": "[encoded data removed]",
      "text/plain": [
       "<Figure size 432x288 with 1 Axes>"
      ]
     },
     "metadata": {
      "needs_background": "light"
     },
     "output_type": "display_data"
    }
   ],
   "source": [
    "y = l\n",
    "x = np.linspace(0,0.9,10)\n",
    "fig, ax = plt.subplots()\n",
    "ax.spines['right'].set_visible(False)\n",
    "ax.spines['top'].set_visible(False)\n",
    "plt.scatter(x,y)\n",
    "for i in range(len(x)):\n",
    "    plt.text(x[i],y[i]+0.06,f'{y[i]:.3f}')\n",
    "plt.xlabel('p')\n",
    "plt.ylabel(r'$\\beta_{\\phi}(p)$')\n",
    "plt.xticks(x)\n",
    "plt.show()"
   ]
  },
  {
   "cell_type": "code",
   "execution_count": 84,
   "id": "7928245b",
   "metadata": {},
   "outputs": [
    {
     "data": {
      "text/plain": [
       "9590.777392264867"
      ]
     },
     "execution_count": 84,
     "metadata": {},
     "output_type": "execute_result"
    }
   ],
   "source": [
    "sci.chi2.ppf(0.025,20)*1000"
   ]
  },
  {
   "cell_type": "code",
   "execution_count": 11,
   "id": "708bec97",
   "metadata": {},
   "outputs": [
    {
     "data": {
      "text/plain": [
       "Text(0, 0.5, 'Credit hour')"
      ]
     },
     "execution_count": 11,
     "metadata": {},
     "output_type": "execute_result"
    },
    {
     "data": {
      "image/png": "[encoded data removed]",
      "text/plain": [
       "<Figure size 432x288 with 1 Axes>"
      ]
     },
     "metadata": {
      "needs_background": "light"
     },
     "output_type": "display_data"
    }
   ],
   "source": [
    "import matplotlib.pyplot as plt\n",
    "\n",
    "y = np.array([23.5,24.5,28.5,22.5,13,14,12,11])\n",
    "x = np.arange(1,len(y)+1)\n",
    "plt.bar(x,y)\n",
    "for i in x:\n",
    "    plt.text(i-.25,y[i-1]+.25,f'{y[i-1]}')\n",
    "plt.xlabel('Semester')\n",
    "plt.ylabel('Credit hour')"
   ]
  },
  {
   "cell_type": "code",
   "execution_count": 12,
   "id": "1ce0140e",
   "metadata": {
    "scrolled": true
   },
   "outputs": [
    {
     "name": "stdout",
     "output_type": "stream",
     "text": [
      "tmp.ipynb  \u001b[0m\u001b[01;35m学分.jpg\u001b[0m\r\n"
     ]
    }
   ],
   "source": [
    "%ls"
   ]
  },
  {
   "cell_type": "code",
   "execution_count": 10,
   "id": "4d8d64c8",
   "metadata": {
    "scrolled": true
   },
   "outputs": [
    {
     "data": {
      "text/plain": [
       "<Figure size 432x288 with 0 Axes>"
      ]
     },
     "metadata": {},
     "output_type": "display_data"
    }
   ],
   "source": [
    "plt.savefig('./学分.jpg')"
   ]
  },
  {
   "cell_type": "code",
   "execution_count": 8,
   "id": "cbaf8254",
   "metadata": {},
   "outputs": [
    {
     "data": {
      "text/plain": [
       "0.24197072451914337"
      ]
     },
     "execution_count": 8,
     "metadata": {},
     "output_type": "execute_result"
    }
   ],
   "source": [
    "sci.norm.pdf(1)"
   ]
  }
 ],
 "metadata": {
  "kernelspec": {
   "display_name": "Python 3 (ipykernel)",
   "language": "python",
   "name": "python3"
  },
  "language_info": {
   "codemirror_mode": {
    "name": "ipython",
    "version": 3
   },
   "file_extension": ".py",
   "mimetype": "text/x-python",
   "name": "python",
   "nbconvert_exporter": "python",
   "pygments_lexer": "ipython3",
   "version": "3.9.7"
  },
  "toc": {
   "base_numbering": 1,
   "nav_menu": {},
   "number_sections": true,
   "sideBar": true,
   "skip_h1_title": false,
   "title_cell": "Table of Contents",
   "title_sidebar": "Contents",
   "toc_cell": false,
   "toc_position": {},
   "toc_section_display": true,
   "toc_window_display": false
  }
 },
 "nbformat": 4,
 "nbformat_minor": 5
}
