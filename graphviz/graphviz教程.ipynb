{
 "cells": [
  {
   "cell_type": "code",
   "execution_count": 8,
   "id": "55da959a",
   "metadata": {
    "ExecuteTime": {
     "end_time": "2021-12-13T09:16:31.939707Z",
     "start_time": "2021-12-13T09:16:31.937165Z"
    }
   },
   "outputs": [],
   "source": [
    "from graphviz import Digraph,Source\n",
    "from PIL import Image as img"
   ]
  },
  {
   "cell_type": "markdown",
   "id": "10d5a0b7",
   "metadata": {},
   "source": [
    "> Digraph和Graph分别代表有向图和无向图"
   ]
  },
  {
   "cell_type": "code",
   "execution_count": 12,
   "id": "4ef43edf",
   "metadata": {
    "ExecuteTime": {
     "end_time": "2021-12-13T09:21:53.067213Z",
     "start_time": "2021-12-13T09:21:53.064231Z"
    }
   },
   "outputs": [],
   "source": [
    "import graphviz"
   ]
  },
  {
   "cell_type": "markdown",
   "id": "0f672baa",
   "metadata": {},
   "source": [
    "# 最简单的例子"
   ]
  },
  {
   "cell_type": "markdown",
   "id": "e6a8c503",
   "metadata": {},
   "source": [
    "## python"
   ]
  },
  {
   "cell_type": "code",
   "execution_count": 2,
   "id": "29cbe60a",
   "metadata": {
    "ExecuteTime": {
     "end_time": "2021-12-13T09:14:10.600039Z",
     "start_time": "2021-12-13T09:14:10.595483Z"
    }
   },
   "outputs": [],
   "source": [
    "dot = Digraph(comment='The Round Table',format='png')\n",
    "\n",
    "dot.node('A', 'King Arthur')\n",
    "dot.node('B', 'Sir Bedevere the Wise')\n",
    "dot.node('L', 'Sir Lancelot the Brave')\n",
    "\n",
    "dot.edges(['AB', 'AL'])\n",
    "dot.edge('B', 'L', constraint='false')"
   ]
  },
  {
   "cell_type": "markdown",
   "id": "819ed184",
   "metadata": {},
   "source": [
    "## 渲染"
   ]
  },
  {
   "cell_type": "code",
   "execution_count": 3,
   "id": "5b149846",
   "metadata": {
    "ExecuteTime": {
     "end_time": "2021-12-13T09:14:11.224864Z",
     "start_time": "2021-12-13T09:14:11.182675Z"
    }
   },
   "outputs": [
    {
     "data": {
      "text/plain": [
       "'1.png'"
      ]
     },
     "execution_count": 3,
     "metadata": {},
     "output_type": "execute_result"
    }
   ],
   "source": [
    "# 保存成为png文件\n",
    "dot.render('1')"
   ]
  },
  {
   "cell_type": "markdown",
   "id": "1bc21220",
   "metadata": {},
   "source": [
    "## 效果"
   ]
  },
  {
   "cell_type": "code",
   "execution_count": 4,
   "id": "28b22775",
   "metadata": {
    "ExecuteTime": {
     "end_time": "2021-12-13T09:14:11.865177Z",
     "start_time": "2021-12-13T09:14:11.842174Z"
    }
   },
   "outputs": [
    {
     "data": {
      "image/png": "[encoded data removed]",
      "text/plain": [
       "<PIL.PngImagePlugin.PngImageFile image mode=RGBA size=513x155 at 0x7F9226DD1B50>"
      ]
     },
     "execution_count": 4,
     "metadata": {},
     "output_type": "execute_result"
    }
   ],
   "source": [
    "# 展示\n",
    "img.open('1.png')"
   ]
  },
  {
   "cell_type": "markdown",
   "id": "05de286b",
   "metadata": {},
   "source": [
    "## 源代码"
   ]
  },
  {
   "cell_type": "code",
   "execution_count": 6,
   "id": "7dd2a524",
   "metadata": {
    "ExecuteTime": {
     "end_time": "2021-12-13T09:14:19.878481Z",
     "start_time": "2021-12-13T09:14:19.730689Z"
    }
   },
   "outputs": [
    {
     "name": "stdout",
     "output_type": "stream",
     "text": [
      "// The Round Table\r\n",
      "digraph {\r\n",
      "\tA [label=\"King Arthur\"]\r\n",
      "\tB [label=\"Sir Bedevere the Wise\"]\r\n",
      "\tL [label=\"Sir Lancelot the Brave\"]\r\n",
      "\tA -> B\r\n",
      "\tA -> L\r\n",
      "\tB -> L [constraint=false]\r\n",
      "}\r\n"
     ]
    }
   ],
   "source": [
    "cat 1"
   ]
  },
  {
   "cell_type": "markdown",
   "id": "e278f941",
   "metadata": {},
   "source": [
    "## 使用源代码编译"
   ]
  },
  {
   "cell_type": "code",
   "execution_count": 11,
   "id": "a9d86787",
   "metadata": {
    "ExecuteTime": {
     "end_time": "2021-12-13T09:17:38.171295Z",
     "start_time": "2021-12-13T09:17:38.146407Z"
    }
   },
   "outputs": [
    {
     "data": {
      "image/svg+xml": [
       "<?xml version=\"1.0\" encoding=\"UTF-8\" standalone=\"no\"?>\n",
       "<!DOCTYPE svg PUBLIC \"-//W3C//DTD SVG 1.1//EN\"\n",
       " \"http://www.w3.org/Graphics/SVG/1.1/DTD/svg11.dtd\">\n",
       "<!-- Generated by graphviz version 2.40.1 (0)\n",
       " -->\n",
       "<!-- Title: %3 Pages: 1 -->\n",
       "<svg width=\"384pt\" height=\"116pt\"\n",
       " viewBox=\"0.00 0.00 384.38 116.00\" xmlns=\"http://www.w3.org/2000/svg\" xmlns:xlink=\"http://www.w3.org/1999/xlink\">\n",
       "<g id=\"graph0\" class=\"graph\" transform=\"scale(1 1) rotate(0) translate(4 112)\">\n",
       "<title>%3</title>\n",
       "<polygon fill=\"#ffffff\" stroke=\"transparent\" points=\"-4,4 -4,-112 380.3841,-112 380.3841,4 -4,4\"/>\n",
       "<!-- A -->\n",
       "<g id=\"node1\" class=\"node\">\n",
       "<title>A</title>\n",
       "<ellipse fill=\"none\" stroke=\"#000000\" cx=\"187.692\" cy=\"-90\" rx=\"53.8905\" ry=\"18\"/>\n",
       "<text text-anchor=\"middle\" x=\"187.692\" y=\"-86.3\" font-family=\"Times,serif\" font-size=\"14.00\" fill=\"#000000\">King Arthur</text>\n",
       "</g>\n",
       "<!-- B -->\n",
       "<g id=\"node2\" class=\"node\">\n",
       "<title>B</title>\n",
       "<ellipse fill=\"none\" stroke=\"#000000\" cx=\"89.692\" cy=\"-18\" rx=\"89.8845\" ry=\"18\"/>\n",
       "<text text-anchor=\"middle\" x=\"89.692\" y=\"-14.3\" font-family=\"Times,serif\" font-size=\"14.00\" fill=\"#000000\">Sir Bedevere the Wise</text>\n",
       "</g>\n",
       "<!-- A&#45;&gt;B -->\n",
       "<g id=\"edge1\" class=\"edge\">\n",
       "<title>A&#45;&gt;B</title>\n",
       "<path fill=\"none\" stroke=\"#000000\" d=\"M164.9625,-73.3008C152.2262,-63.9434 136.1278,-52.1161 122.0907,-41.8031\"/>\n",
       "<polygon fill=\"#000000\" stroke=\"#000000\" points=\"123.7967,-38.7134 113.6655,-35.6132 119.6521,-44.3546 123.7967,-38.7134\"/>\n",
       "</g>\n",
       "<!-- L -->\n",
       "<g id=\"node3\" class=\"node\">\n",
       "<title>L</title>\n",
       "<ellipse fill=\"none\" stroke=\"#000000\" cx=\"286.692\" cy=\"-18\" rx=\"89.8845\" ry=\"18\"/>\n",
       "<text text-anchor=\"middle\" x=\"286.692\" y=\"-14.3\" font-family=\"Times,serif\" font-size=\"14.00\" fill=\"#000000\">Sir Lancelot the Brave</text>\n",
       "</g>\n",
       "<!-- A&#45;&gt;L -->\n",
       "<g id=\"edge2\" class=\"edge\">\n",
       "<title>A&#45;&gt;L</title>\n",
       "<path fill=\"none\" stroke=\"#000000\" d=\"M210.6535,-73.3008C223.7367,-63.7857 240.3317,-51.7166 254.678,-41.2829\"/>\n",
       "<polygon fill=\"#000000\" stroke=\"#000000\" points=\"256.7928,-44.0727 262.8216,-35.3603 252.6756,-38.4115 256.7928,-44.0727\"/>\n",
       "</g>\n",
       "<!-- B&#45;&gt;L -->\n",
       "<g id=\"edge3\" class=\"edge\">\n",
       "<title>B&#45;&gt;L</title>\n",
       "<path fill=\"none\" stroke=\"#000000\" d=\"M179.7272,-18C182.047,-18 184.3669,-18 186.6867,-18\"/>\n",
       "<polygon fill=\"#000000\" stroke=\"#000000\" points=\"186.8583,-21.5001 196.8583,-18 186.8583,-14.5001 186.8583,-21.5001\"/>\n",
       "</g>\n",
       "</g>\n",
       "</svg>\n"
      ],
      "text/plain": [
       "<graphviz.sources.Source at 0x7f9226cf63d0>"
      ]
     },
     "execution_count": 11,
     "metadata": {},
     "output_type": "execute_result"
    }
   ],
   "source": [
    "Source('''// The Round Table\n",
    "digraph {\n",
    "\tA [label=\"King Arthur\"]\n",
    "\tB [label=\"Sir Bedevere the Wise\"]\n",
    "\tL [label=\"Sir Lancelot the Brave\"]\n",
    "\tA -> B\n",
    "\tA -> L\n",
    "\tB -> L [constraint=false]\n",
    "}''')"
   ]
  },
  {
   "cell_type": "markdown",
   "id": "98b8d4a9",
   "metadata": {},
   "source": [
    "# 算法流程图"
   ]
  },
  {
   "cell_type": "code",
   "execution_count": 14,
   "id": "decfd322",
   "metadata": {
    "ExecuteTime": {
     "end_time": "2021-12-13T09:37:11.761833Z",
     "start_time": "2021-12-13T09:37:11.757043Z"
    }
   },
   "outputs": [],
   "source": [
    "alg = Digraph(comment='algorithm',format='png')"
   ]
  },
  {
   "cell_type": "code",
   "execution_count": 43,
   "id": "d1e13e8c",
   "metadata": {
    "ExecuteTime": {
     "end_time": "2021-12-13T09:44:56.357678Z",
     "start_time": "2021-12-13T09:44:56.352970Z"
    }
   },
   "outputs": [],
   "source": [
    "alg.node('Start',shape='sdl_start')"
   ]
  },
  {
   "cell_type": "code",
   "execution_count": 44,
   "id": "f4731df3",
   "metadata": {
    "ExecuteTime": {
     "end_time": "2021-12-13T09:44:56.755292Z",
     "start_time": "2021-12-13T09:44:56.733835Z"
    }
   },
   "outputs": [
    {
     "name": "stderr",
     "output_type": "stream",
     "text": [
      "Warning: using box for unknown shape sdl_start\n"
     ]
    },
    {
     "data": {
      "image/svg+xml": [
       "<?xml version=\"1.0\" encoding=\"UTF-8\" standalone=\"no\"?>\n",
       "<!DOCTYPE svg PUBLIC \"-//W3C//DTD SVG 1.1//EN\"\n",
       " \"http://www.w3.org/Graphics/SVG/1.1/DTD/svg11.dtd\">\n",
       "<!-- Generated by graphviz version 2.40.1 (0)\n",
       " -->\n",
       "<!-- Title: %3 Pages: 1 -->\n",
       "<svg width=\"62pt\" height=\"44pt\"\n",
       " viewBox=\"0.00 0.00 62.00 44.00\" xmlns=\"http://www.w3.org/2000/svg\" xmlns:xlink=\"http://www.w3.org/1999/xlink\">\n",
       "<g id=\"graph0\" class=\"graph\" transform=\"scale(1 1) rotate(0) translate(4 40)\">\n",
       "<title>%3</title>\n",
       "<polygon fill=\"#ffffff\" stroke=\"transparent\" points=\"-4,4 -4,-40 58,-40 58,4 -4,4\"/>\n",
       "<!-- Start -->\n",
       "<g id=\"node1\" class=\"node\">\n",
       "<title>Start</title>\n",
       "<polygon fill=\"none\" stroke=\"#000000\" points=\"54,-36 0,-36 0,0 54,0 54,-36\"/>\n",
       "<text text-anchor=\"middle\" x=\"27\" y=\"-14.3\" font-family=\"Times,serif\" font-size=\"14.00\" fill=\"#000000\">Start</text>\n",
       "</g>\n",
       "</g>\n",
       "</svg>\n"
      ],
      "text/plain": [
       "<graphviz.graphs.Digraph at 0x7f9226cf6100>"
      ]
     },
     "execution_count": 44,
     "metadata": {},
     "output_type": "execute_result"
    }
   ],
   "source": [
    "alg"
   ]
  },
  {
   "cell_type": "code",
   "execution_count": null,
   "id": "e246ab87",
   "metadata": {},
   "outputs": [],
   "source": []
  }
 ],
 "metadata": {
  "kernelspec": {
   "display_name": "Python 3 (ipykernel)",
   "language": "python",
   "name": "python3"
  },
  "language_info": {
   "codemirror_mode": {
    "name": "ipython",
    "version": 3
   },
   "file_extension": ".py",
   "mimetype": "text/x-python",
   "name": "python",
   "nbconvert_exporter": "python",
   "pygments_lexer": "ipython3",
   "version": "3.9.7"
  },
  "toc": {
   "base_numbering": 1,
   "nav_menu": {},
   "number_sections": true,
   "sideBar": true,
   "skip_h1_title": false,
   "title_cell": "Table of Contents",
   "title_sidebar": "Contents",
   "toc_cell": false,
   "toc_position": {},
   "toc_section_display": true,
   "toc_window_display": false
  }
 },
 "nbformat": 4,
 "nbformat_minor": 5
}
