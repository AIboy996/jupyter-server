{
 "cells": [
  {
   "cell_type": "code",
   "execution_count": 1,
   "id": "91d141a8",
   "metadata": {
    "ExecuteTime": {
     "end_time": "2021-12-09T08:40:35.332055Z",
     "start_time": "2021-12-09T08:40:33.456Z"
    }
   },
   "outputs": [
    {
     "data": {
      "text/html": [
       "7.84634030026694"
      ],
      "text/latex": [
       "7.84634030026694"
      ],
      "text/markdown": [
       "7.84634030026694"
      ],
      "text/plain": [
       "[1] 7.84634"
      ]
     },
     "metadata": {},
     "output_type": "display_data"
    }
   ],
   "source": [
    "# ppf of cauchy\n",
    "x = qcauchy(runif(10000000),loc=5,scale=2)\n",
    "1/mean(dnorm(x,mean=5.387142857142857,sd=sqrt(9/7)))"
   ]
  },
  {
   "cell_type": "code",
   "execution_count": 2,
   "id": "86e672a4",
   "metadata": {
    "ExecuteTime": {
     "end_time": "2021-12-09T08:40:39.140726Z",
     "start_time": "2021-12-09T08:40:37.853Z"
    }
   },
   "outputs": [
    {
     "data": {
      "text/html": [
       "7.84628225869363"
      ],
      "text/latex": [
       "7.84628225869363"
      ],
      "text/markdown": [
       "7.84628225869363"
      ],
      "text/plain": [
       "[1] 7.846282"
      ]
     },
     "metadata": {},
     "output_type": "display_data"
    }
   ],
   "source": [
    "# ppf of norm\n",
    "x = qnorm(runif(10000000),mean=5.387142857142857,sd=sqrt(9/7))\n",
    "1/mean(dcauchy(x,loc=5,scale=2))"
   ]
  },
  {
   "cell_type": "code",
   "execution_count": 1,
   "id": "57e213f3",
   "metadata": {
    "ExecuteTime": {
     "end_time": "2021-12-12T04:50:47.492667Z",
     "start_time": "2021-12-12T04:40:14.010Z"
    }
   },
   "outputs": [
    {
     "name": "stdout",
     "output_type": "stream",
     "text": [
      "Time difference of 10.53468 mins\n"
     ]
    }
   ],
   "source": [
    "set.seed(10030607)\n",
    "\n",
    "# 先写一个函数实现随机朝四个方向走\n",
    "go = function(x){\n",
    "  out = sample(c(1,2,3,4),1)\n",
    "  if (out == 1){\n",
    "    x[1] = x[1] + 1\n",
    "  }else if(out == 2){\n",
    "    x[1] = x[1] - 1\n",
    "  }else if(out == 3){\n",
    "    x[2] = x[2] + 1\n",
    "  }else if(out == 4){\n",
    "    x[2] = x[2] - 1\n",
    "  }\n",
    "  return(x)\n",
    "}\n",
    "\n",
    "# 再写f的函数\n",
    "f = function(x){\n",
    "  end_point = x[dim(x)[1],]\n",
    "  D = abs(end_point[1]) + abs(end_point[2])\n",
    "  R = dim(x[which((x[,1] == end_point[1,1])&(x[,2] == end_point[1,2])),])[1]\n",
    "  result = exp(-D-R/2)\n",
    "  return(result)\n",
    "}\n",
    "\n",
    "# 设定初始值\n",
    "n_sam = 5000\n",
    "tmax = 30\n",
    "X = as.data.frame(matrix(0,(tmax+1),2*n_sam))\n",
    "X[1,] = rep(0,2*n_sam)\n",
    "w = matrix(0,(tmax+1),n_sam)\n",
    "w[1,] = rep(1/n_sam,n_sam)\n",
    "ess = rep(0,tmax)\n",
    "rejuvs = 0\n",
    "\n",
    "start = Sys.time()\n",
    "for (i in 1:30) {\n",
    "  for (j in 1:n_sam) {\n",
    "    X[(i+1),(2*j-1):(2*j)] = go(X[i,(2*j-1):(2*j)])\n",
    "    w[(i+1),j] = w[i,j]*f(X[1:(i+1),(2*j-1):(2*j)])[1,1]/f(X[1:i,(2*j-1):(2*j)])[1,1]\n",
    "  }\n",
    "  w[(i+1),] = w[(i+1),]/sum(w[(i+1),])\n",
    "  ess[i] = n_sam/(1+(sd(w[(i+1),])/mean(w[(i+1),]))^2)\n",
    "  if ((ess[i] <= n_sam/2)&(i != 30)) {\n",
    "    index_rejuv = sample(1:n_sam,n_sam,prob=w[(i+1),],replace=T)\n",
    "    X_new = as.data.frame(matrix(0,(tmax+1),2*n_sam))\n",
    "    for (k in 1:n_sam) {\n",
    "      X_new[,(2*k-1):(2*k)] = X[,(2*index_rejuv[k]-1):(2*index_rejuv[k])]\n",
    "    }\n",
    "    X = X_new\n",
    "    rejuvs=rejuvs+1\n",
    "    w[(i+1),]=rep(1/n_sam,n_sam)\n",
    "  }\n",
    "}\n",
    "end = Sys.time()\n",
    "print(end-start)"
   ]
  },
  {
   "cell_type": "code",
   "execution_count": 2,
   "id": "9568f8d6",
   "metadata": {
    "ExecuteTime": {
     "end_time": "2021-12-12T05:02:15.729163Z",
     "start_time": "2021-12-12T05:02:08.593Z"
    }
   },
   "outputs": [],
   "source": [
    "D = matrix(0,1,n_sam)\n",
    "M = matrix(0,1,n_sam)\n",
    "for (i in 1:n_sam) {\n",
    "  path_temp = X[,(2*i-1):(2*i)]\n",
    "  D[i] = abs(path_temp[(tmax+1),1]) + abs(path_temp[(tmax+1),2])\n",
    "  count_M = matrix(0,1,(tmax+1))\n",
    "  for (j in 1: (tmax+1)) {\n",
    "    count_M[j] = length(which((path_temp[,1] == path_temp[j,1])&(path_temp[,2] == path_temp[j,2])))\n",
    "  }\n",
    "  M[i] = max(count_M)\n",
    "}\n",
    "\n",
    "mean_d = weighted.mean(D,w[(tmax+1),])\n",
    "sd_d = sqrt(sum(D^2*w[(tmax+1),]) - (mean_d)^2)\n",
    "mean_m = weighted.mean(M,w[(tmax+1),])\n",
    "sd_m = sqrt(sum(M^2*w[(tmax+1),]) - (mean_m)^2)"
   ]
  },
  {
   "cell_type": "code",
   "execution_count": 9,
   "id": "edb7b706",
   "metadata": {
    "ExecuteTime": {
     "end_time": "2021-12-12T05:12:47.240671Z",
     "start_time": "2021-12-12T05:12:45.902Z"
    }
   },
   "outputs": [
    {
     "data": {
      "text/html": [
       "1.47870070002802"
      ],
      "text/latex": [
       "1.47870070002802"
      ],
      "text/markdown": [
       "1.47870070002802"
      ],
      "text/plain": [
       "[1] 1.478701"
      ]
     },
     "metadata": {},
     "output_type": "display_data"
    }
   ],
   "source": [
    "sd_d"
   ]
  },
  {
   "cell_type": "code",
   "execution_count": 3,
   "id": "ace95af1",
   "metadata": {
    "ExecuteTime": {
     "end_time": "2021-12-12T05:04:04.609035Z",
     "start_time": "2021-12-12T05:04:03.270Z"
    }
   },
   "outputs": [
    {
     "data": {
      "text/html": [
       "1.78419371949915"
      ],
      "text/latex": [
       "1.78419371949915"
      ],
      "text/markdown": [
       "1.78419371949915"
      ],
      "text/plain": [
       "[1] 1.784194"
      ]
     },
     "metadata": {},
     "output_type": "display_data"
    }
   ],
   "source": [
    "mean_d"
   ]
  },
  {
   "cell_type": "code",
   "execution_count": 4,
   "id": "3ecfc440",
   "metadata": {
    "ExecuteTime": {
     "end_time": "2021-12-12T05:04:08.462240Z",
     "start_time": "2021-12-12T05:04:07.127Z"
    }
   },
   "outputs": [
    {
     "data": {
      "text/html": [
       "1.47870070002802"
      ],
      "text/latex": [
       "1.47870070002802"
      ],
      "text/markdown": [
       "1.47870070002802"
      ],
      "text/plain": [
       "[1] 1.478701"
      ]
     },
     "metadata": {},
     "output_type": "display_data"
    }
   ],
   "source": [
    "sd_d"
   ]
  },
  {
   "cell_type": "code",
   "execution_count": 5,
   "id": "541cf009",
   "metadata": {
    "ExecuteTime": {
     "end_time": "2021-12-12T05:06:40.467185Z",
     "start_time": "2021-12-12T05:06:39.133Z"
    }
   },
   "outputs": [
    {
     "data": {
      "text/html": [
       "4.52336229368314"
      ],
      "text/latex": [
       "4.52336229368314"
      ],
      "text/markdown": [
       "4.52336229368314"
      ],
      "text/plain": [
       "[1] 4.523362"
      ]
     },
     "metadata": {},
     "output_type": "display_data"
    }
   ],
   "source": [
    "mean_m"
   ]
  },
  {
   "cell_type": "code",
   "execution_count": 6,
   "id": "18c89505",
   "metadata": {
    "ExecuteTime": {
     "end_time": "2021-12-12T05:06:45.156388Z",
     "start_time": "2021-12-12T05:06:43.821Z"
    }
   },
   "outputs": [
    {
     "data": {
      "text/html": [
       "1.23007651517038"
      ],
      "text/latex": [
       "1.23007651517038"
      ],
      "text/markdown": [
       "1.23007651517038"
      ],
      "text/plain": [
       "[1] 1.230077"
      ]
     },
     "metadata": {},
     "output_type": "display_data"
    }
   ],
   "source": [
    "sd_m"
   ]
  },
  {
   "cell_type": "code",
   "execution_count": null,
   "id": "dcc3f266",
   "metadata": {},
   "outputs": [],
   "source": []
  }
 ],
 "metadata": {
  "kernelspec": {
   "display_name": "R",
   "language": "R",
   "name": "ir"
  },
  "language_info": {
   "codemirror_mode": "r",
   "file_extension": ".r",
   "mimetype": "text/x-r-source",
   "name": "R",
   "pygments_lexer": "r",
   "version": "3.6.1"
  },
  "toc": {
   "base_numbering": 1,
   "nav_menu": {},
   "number_sections": true,
   "sideBar": true,
   "skip_h1_title": false,
   "title_cell": "Table of Contents",
   "title_sidebar": "Contents",
   "toc_cell": false,
   "toc_position": {},
   "toc_section_display": true,
   "toc_window_display": false
  }
 },
 "nbformat": 4,
 "nbformat_minor": 5
}
