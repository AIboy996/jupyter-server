{
 "cells": [
  {
   "cell_type": "code",
   "execution_count": 1,
   "id": "38d1d5b2",
   "metadata": {
    "ExecuteTime": {
     "end_time": "2021-12-09T12:42:42.052529Z",
     "start_time": "2021-12-09T12:42:41.347780Z"
    }
   },
   "outputs": [],
   "source": [
    "import pandas as pd\n",
    "import numpy as np\n",
    "import matplotlib.pyplot as plt\n",
    "import scipy.stats as sci"
   ]
  },
  {
   "cell_type": "code",
   "execution_count": 2,
   "id": "6be3e101",
   "metadata": {
    "ExecuteTime": {
     "end_time": "2021-12-09T12:42:42.432445Z",
     "start_time": "2021-12-09T12:42:42.427118Z"
    }
   },
   "outputs": [],
   "source": [
    "with open('alzheimers.dat') as f:\n",
    "    l = f.readlines()\n",
    "    l = list(map(lambda x:x.replace('\\n','').split(),l))\n",
    "f.close()\n",
    "df = pd.DataFrame(np.int32(l[1:]),columns=l[0])"
   ]
  },
  {
   "cell_type": "code",
   "execution_count": 13,
   "id": "4aa85c14",
   "metadata": {
    "ExecuteTime": {
     "end_time": "2021-12-09T12:44:23.953044Z",
     "start_time": "2021-12-09T12:44:23.948849Z"
    }
   },
   "outputs": [],
   "source": [
    "b_0 = np.array([1.804, 0.165])\n",
    "s2_0 = 0.015**2"
   ]
  },
  {
   "cell_type": "code",
   "execution_count": 76,
   "id": "5023e3d1",
   "metadata": {
    "ExecuteTime": {
     "end_time": "2021-12-09T12:59:16.176761Z",
     "start_time": "2021-12-09T12:59:16.170979Z"
    },
    "scrolled": true
   },
   "outputs": [],
   "source": [
    "def f(g,s2=s2_0,b=b_0,i=1):\n",
    "    g_array = np.array([g]*5)\n",
    "    Lambda = np.exp(b[1]*np.array(range(1,6))+b[0]*np.ones(5)+g_array)\n",
    "    Phi = sci.norm.pdf(g,loc=0,scale=np.sqrt(s2))\n",
    "    y_i = np.array(df[df.subject==i]['words'])\n",
    "    Sigma = (y_i-Lambda)@np.array(range(1,6))\n",
    "    Pi = np.prod([sci.poisson.pmf(y_i[j],mu=Lambda[j]) for j in range(5)])\n",
    "    return Pi*Sigma*Phi"
   ]
  },
  {
   "cell_type": "code",
   "execution_count": 78,
   "id": "0344fe78",
   "metadata": {
    "ExecuteTime": {
     "end_time": "2021-12-09T12:59:22.426139Z",
     "start_time": "2021-12-09T12:59:22.417981Z"
    }
   },
   "outputs": [
    {
     "data": {
      "text/plain": [
       "0.00044596804976986736"
      ]
     },
     "execution_count": 78,
     "metadata": {},
     "output_type": "execute_result"
    }
   ],
   "source": [
    "f(0,s2_0,b_0,1)"
   ]
  },
  {
   "attachments": {
    "image.png": {
     "image/png": "[encoded data removed]"
    }
   },
   "cell_type": "markdown",
   "id": "998cbdff",
   "metadata": {},
   "source": [
    "![image.png](attachment:image.png)"
   ]
  },
  {
   "cell_type": "code",
   "execution_count": 95,
   "id": "72a83892",
   "metadata": {
    "ExecuteTime": {
     "end_time": "2021-12-09T13:05:54.713692Z",
     "start_time": "2021-12-09T13:05:54.711236Z"
    }
   },
   "outputs": [],
   "source": [
    "x = np.linspace(-.07,.085,1000)"
   ]
  },
  {
   "cell_type": "code",
   "execution_count": 96,
   "id": "816992c6",
   "metadata": {
    "ExecuteTime": {
     "end_time": "2021-12-09T13:05:56.644144Z",
     "start_time": "2021-12-09T13:05:55.648888Z"
    }
   },
   "outputs": [],
   "source": [
    "y = [f(x_i) for x_i in x]"
   ]
  },
  {
   "cell_type": "code",
   "execution_count": 97,
   "id": "c85205b2",
   "metadata": {
    "ExecuteTime": {
     "end_time": "2021-12-09T13:05:57.173964Z",
     "start_time": "2021-12-09T13:05:57.169643Z"
    }
   },
   "outputs": [],
   "source": [
    "x_ymax = x[y.index(max(y))]"
   ]
  },
  {
   "cell_type": "code",
   "execution_count": 98,
   "id": "663bc06d",
   "metadata": {
    "ExecuteTime": {
     "end_time": "2021-12-09T13:05:57.560928Z",
     "start_time": "2021-12-09T13:05:57.557303Z"
    }
   },
   "outputs": [],
   "source": [
    "x1 = np.linspace(-.07,x_ymax,500)\n",
    "x2 = np.linspace(x_ymax,.085,500)"
   ]
  },
  {
   "cell_type": "code",
   "execution_count": 122,
   "id": "74568980",
   "metadata": {
    "ExecuteTime": {
     "end_time": "2021-12-09T13:18:14.433852Z",
     "start_time": "2021-12-09T13:18:14.315726Z"
    },
    "scrolled": true
   },
   "outputs": [
    {
     "data": {
      "text/plain": [
       "[<matplotlib.lines.Line2D at 0x7f046da4ca30>]"
      ]
     },
     "execution_count": 122,
     "metadata": {},
     "output_type": "execute_result"
    },
    {
     "data": {
      "image/png": "[encoded data removed]",
      "text/plain": [
       "<Figure size 432x288 with 1 Axes>"
      ]
     },
     "metadata": {
      "needs_background": "light"
     },
     "output_type": "display_data"
    }
   ],
   "source": [
    "plt.plot(x,y)\n",
    "plt.plot(x1,(f(x_ymax)-f(-.07))/(x_ymax+.07)*(x1-x_ymax)+f(x_ymax)+2e-5)\n",
    "plt.plot(x2,(f(.085)-f(x_ymax))/(.085-x_ymax)*(x2-x_ymax)+f(x_ymax)+2e-5)\n",
    "plt.plot(x,sci.cauchy.pdf(x,loc=0,scale=100))"
   ]
  },
  {
   "cell_type": "code",
   "execution_count": 91,
   "id": "ea7128c9",
   "metadata": {
    "ExecuteTime": {
     "end_time": "2021-12-09T13:01:36.917330Z",
     "start_time": "2021-12-09T13:01:36.911947Z"
    }
   },
   "outputs": [
    {
     "data": {
      "text/plain": [
       "0.007192015264850052"
      ]
     },
     "execution_count": 91,
     "metadata": {},
     "output_type": "execute_result"
    }
   ],
   "source": [
    "max(y)"
   ]
  }
 ],
 "metadata": {
  "kernelspec": {
   "display_name": "Python 3 (ipykernel)",
   "language": "python",
   "name": "python3"
  },
  "language_info": {
   "codemirror_mode": {
    "name": "ipython",
    "version": 3
   },
   "file_extension": ".py",
   "mimetype": "text/x-python",
   "name": "python",
   "nbconvert_exporter": "python",
   "pygments_lexer": "ipython3",
   "version": "3.9.7"
  },
  "toc": {
   "base_numbering": 1,
   "nav_menu": {},
   "number_sections": true,
   "sideBar": true,
   "skip_h1_title": false,
   "title_cell": "Table of Contents",
   "title_sidebar": "Contents",
   "toc_cell": false,
   "toc_position": {},
   "toc_section_display": true,
   "toc_window_display": false
  }
 },
 "nbformat": 4,
 "nbformat_minor": 5
}
