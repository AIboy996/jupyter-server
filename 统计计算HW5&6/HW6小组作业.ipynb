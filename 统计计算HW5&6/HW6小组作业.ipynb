{
 "cells": [
  {
   "cell_type": "code",
   "execution_count": 1,
   "id": "f6e5eefc",
   "metadata": {
    "ExecuteTime": {
     "end_time": "2021-12-12T07:46:29.415932Z",
     "start_time": "2021-12-12T07:46:29.118594Z"
    }
   },
   "outputs": [],
   "source": [
    "import numpy as np\n",
    "import scipy.stats as sci\n",
    "from collections import Counter"
   ]
  },
  {
   "cell_type": "markdown",
   "id": "c3fa99ea",
   "metadata": {},
   "source": [
    "# a、g为均匀分布"
   ]
  },
  {
   "cell_type": "code",
   "execution_count": 2,
   "id": "dd7dc861",
   "metadata": {
    "ExecuteTime": {
     "end_time": "2021-12-12T07:46:32.258556Z",
     "start_time": "2021-12-12T07:46:32.254182Z"
    }
   },
   "outputs": [],
   "source": [
    "D = lambda x: abs(x.real) + abs(x.imag)  # 距离\n",
    "R = lambda x, X: sum(X == x)  # 到达x的次数"
   ]
  },
  {
   "cell_type": "code",
   "execution_count": 3,
   "id": "41f74fe4",
   "metadata": {
    "ExecuteTime": {
     "end_time": "2021-12-12T07:46:32.725154Z",
     "start_time": "2021-12-12T07:46:32.716735Z"
    }
   },
   "outputs": [],
   "source": [
    "def SIS(t=30, n=100):\n",
    "    '''sequencial importance sampling'''\n",
    "    rejuvenation = 0\n",
    "    X = np.array([[0] * n])  # 每一列是一条抽样，每一行是一次行走\n",
    "    W = np.array([[1] * n])  # W的初始值为1\n",
    "    U = np.array([[1] * n])  # U的初始值用不到，所以可以任取\n",
    "    for i in range(1, t + 1):\n",
    "        # 指数等可能取0123，分别是1,1j,-1,-1j，代表右上左下\n",
    "        x_i = X[i - 1] + 1j**np.random.randint(0, 4, size=n)\n",
    "        f_i = np.exp(-D(x_i) - R(x_i, X) / 2)\n",
    "        u_i = f_i * 4\n",
    "        w_i = W[i - 1] * u_i\n",
    "        ESS = n / (1 + sci.variation(w_i)**2)  # coefficient of variation\n",
    "        if ESS < n / 2 and i<t:\n",
    "            # 多项分布重抽样\n",
    "            multinomial = sci.multinomial.rvs(n, p=w_i/w_i.sum())\n",
    "            l_tmp = []\n",
    "            for j in range(n):\n",
    "                l_tmp += [x_i[j]]*multinomial[j]\n",
    "            x_rejuvenation = np.array(l_tmp)\n",
    "            # 重置权重\n",
    "            w_i = np.array([1] * n)\n",
    "            rejuvenation += 1\n",
    "        # 把新时刻的数据添加到纪录中\n",
    "        X = np.append(X, np.reshape(x_i, (1, n)), axis=0)\n",
    "        W = np.append(W, np.reshape(w_i, (1, n)), axis=0)\n",
    "        U = np.append(U, np.reshape(u_i, (1, n)), axis=0)\n",
    "    print(rejuvenation)\n",
    "    return X, W[-1]"
   ]
  },
  {
   "cell_type": "code",
   "execution_count": 4,
   "id": "1dfd29e4",
   "metadata": {
    "ExecuteTime": {
     "end_time": "2021-12-12T07:46:33.482372Z",
     "start_time": "2021-12-12T07:46:33.181689Z"
    },
    "scrolled": true
   },
   "outputs": [
    {
     "name": "stdout",
     "output_type": "stream",
     "text": [
      "26\n"
     ]
    }
   ],
   "source": [
    "n = 10000\n",
    "sample = SIS(30, n)\n",
    "D_n = D(sample[0][-1])\n",
    "W_n = sample[1]\n",
    "M_n = np.array([max(Counter(list(sample[0][:, i])).values()) for i in range(n)])"
   ]
  },
  {
   "cell_type": "code",
   "execution_count": 5,
   "id": "cf2c0610",
   "metadata": {
    "ExecuteTime": {
     "end_time": "2021-12-12T07:46:33.810763Z",
     "start_time": "2021-12-12T07:46:33.804936Z"
    }
   },
   "outputs": [
    {
     "name": "stdout",
     "output_type": "stream",
     "text": [
      "E(D) = 1.7709844341503083\n",
      "E(M) = 4.509474131820929\n"
     ]
    }
   ],
   "source": [
    "ED = np.average(D_n, weights=W_n)\n",
    "EM = np.average(M_n, weights=W_n)\n",
    "print(f'E(D) = {ED}\\nE(M) = {EM}')"
   ]
  },
  {
   "cell_type": "code",
   "execution_count": 6,
   "id": "7dbb7cbd",
   "metadata": {
    "ExecuteTime": {
     "end_time": "2021-12-12T07:46:35.121326Z",
     "start_time": "2021-12-12T07:46:35.117775Z"
    }
   },
   "outputs": [
    {
     "name": "stdout",
     "output_type": "stream",
     "text": [
      "std(D) = 1.4169736316173491\n",
      "std(M) = 1.252075195318183\n"
     ]
    }
   ],
   "source": [
    "std_D = np.sqrt(np.average((D_n-ED)**2,weights=W_n))\n",
    "std_M = np.sqrt(np.average((M_n-EM)**2,weights=W_n))\n",
    "print(f'std(D) = {std_D}\\nstd(M) = {std_M}')"
   ]
  },
  {
   "cell_type": "markdown",
   "id": "7bc1ba2e",
   "metadata": {},
   "source": [
    "# c、SAW"
   ]
  },
  {
   "cell_type": "markdown",
   "id": "d5d82bfc",
   "metadata": {},
   "source": [
    "这里直接暴力模拟，序贯抽样则使用R语言完成"
   ]
  },
  {
   "cell_type": "code",
   "execution_count": 7,
   "id": "25dc84eb",
   "metadata": {
    "ExecuteTime": {
     "end_time": "2021-12-12T07:46:40.940289Z",
     "start_time": "2021-12-12T07:46:40.933771Z"
    }
   },
   "outputs": [],
   "source": [
    "def SAW(t=30):\n",
    "    X = [0]\n",
    "    for i in range(1,t+1):\n",
    "        # 所有可能的move\n",
    "        possiable = [1,-1,1j,-1j]\n",
    "        for move in possiable[:]:\n",
    "            if (X[i-1]+move) in X:# 避开走过的格点\n",
    "                possiable.remove(move)\n",
    "        c = len(possiable) # 可以走的格点\n",
    "        if c == 0:\n",
    "            return 'trapped'\n",
    "        else:\n",
    "            x_i = X[i-1] + possiable[np.random.randint(0,c)]\n",
    "            X.append(x_i)\n",
    "    return np.reshape(X,(1,t+1))"
   ]
  },
  {
   "cell_type": "code",
   "execution_count": 8,
   "id": "f41069ef",
   "metadata": {
    "ExecuteTime": {
     "end_time": "2021-12-12T07:46:57.722569Z",
     "start_time": "2021-12-12T07:46:41.636612Z"
    }
   },
   "outputs": [
    {
     "name": "stdout",
     "output_type": "stream",
     "text": [
      "0.20545\n"
     ]
    }
   ],
   "source": [
    "n = 20000\n",
    "trapped = 0\n",
    "l = np.zeros(shape=(1,31)) # 0-30共31个位置\n",
    "for j in range(n):\n",
    "    X = SAW()\n",
    "    if isinstance(X,str):\n",
    "        trapped+=1\n",
    "    else:\n",
    "        l = np.append(l,X,axis=0)\n",
    "l = l[1:]\n",
    "print(trapped/n)"
   ]
  },
  {
   "cell_type": "code",
   "execution_count": 9,
   "id": "828ea62b",
   "metadata": {
    "ExecuteTime": {
     "end_time": "2021-12-12T07:46:57.733967Z",
     "start_time": "2021-12-12T07:46:57.725988Z"
    }
   },
   "outputs": [
    {
     "data": {
      "text/plain": [
       "(11.085897677930904, 4.664178631880323)"
      ]
     },
     "execution_count": 9,
     "metadata": {},
     "output_type": "execute_result"
    }
   ],
   "source": [
    "# D的均值与标准差\n",
    "np.mean(D(l[:,-1])),np.std(D(l[:,-1]))"
   ]
  }
 ],
 "metadata": {
  "kernelspec": {
   "display_name": "Python 3 (ipykernel)",
   "language": "python",
   "name": "python3"
  },
  "language_info": {
   "codemirror_mode": {
    "name": "ipython",
    "version": 3
   },
   "file_extension": ".py",
   "mimetype": "text/x-python",
   "name": "python",
   "nbconvert_exporter": "python",
   "pygments_lexer": "ipython3",
   "version": "3.9.7"
  },
  "toc": {
   "base_numbering": 1,
   "nav_menu": {},
   "number_sections": false,
   "sideBar": true,
   "skip_h1_title": false,
   "title_cell": "Table of Contents",
   "title_sidebar": "Contents",
   "toc_cell": false,
   "toc_position": {},
   "toc_section_display": true,
   "toc_window_display": false
  }
 },
 "nbformat": 4,
 "nbformat_minor": 5
}
