{
 "cells": [
  {
   "cell_type": "code",
   "execution_count": null,
   "id": "5852eba2",
   "metadata": {},
   "outputs": [],
   "source": [
    "import matplotlib.pyplot as plt\n",
    "from matplotlib.ticker import MaxNLocator\n",
    "def plotpath(X):\n",
    "    for i in range(1, len(X)):\n",
    "        x = X[i - 1]\n",
    "        dx = X[i] - x\n",
    "        plt.axis('scaled')\n",
    "        plt.gca().xaxis.set_major_locator(MaxNLocator(integer=True))\n",
    "        plt.gca().yaxis.set_major_locator(MaxNLocator(integer=True))\n",
    "        plt.arrow(x.real,\n",
    "                  x.imag,\n",
    "                  dx.real,\n",
    "                  dx.imag,\n",
    "                  shape='full',\n",
    "                  head_width=.1,\n",
    "                  head_length=.2,\n",
    "                  length_includes_head=True,\n",
    "                  alpha=.5)\n",
    "    plt.show()"
   ]
  },
  {
   "cell_type": "code",
   "execution_count": null,
   "id": "87342dec",
   "metadata": {},
   "outputs": [],
   "source": [
    "import matplotlib.animation as animation\n",
    "\n",
    "def update_points(num):\n",
    "    '''\n",
    "    更新数据点\n",
    "    '''\n",
    "    point_ani.set_data(x[num], y[num])\n",
    "    return point_ani,\n",
    "\n",
    "\n",
    "def plot_path_ani(X):\n",
    "    x = [x.real for x in X]\n",
    "    y = [x.imag for x in X]\n",
    "\n",
    "    fig = plt.figure(tight_layout=True)\n",
    "    plt.plot(x, y)\n",
    "    point_ani, = plt.plot(x[0], y[0], \"ro\")\n",
    "    plt.grid(ls=\"--\")\n",
    "    # 开始制作动画\n",
    "    ani = animation.FuncAnimation(fig,\n",
    "                                  update_points,\n",
    "                                  np.arange(0, len(X)),\n",
    "                                  interval=200,\n",
    "                                  blit=True)\n",
    "    # ani.save('sin_test2.gif', writer='imagemagick', fps=10)\n",
    "    plt.show()"
   ]
  }
 ],
 "metadata": {
  "kernelspec": {
   "display_name": "Python 3 (ipykernel)",
   "language": "python",
   "name": "python3"
  },
  "language_info": {
   "codemirror_mode": {
    "name": "ipython",
    "version": 3
   },
   "file_extension": ".py",
   "mimetype": "text/x-python",
   "name": "python",
   "nbconvert_exporter": "python",
   "pygments_lexer": "ipython3",
   "version": "3.9.7"
  },
  "toc": {
   "base_numbering": 1,
   "nav_menu": {},
   "number_sections": true,
   "sideBar": true,
   "skip_h1_title": false,
   "title_cell": "Table of Contents",
   "title_sidebar": "Contents",
   "toc_cell": false,
   "toc_position": {},
   "toc_section_display": true,
   "toc_window_display": false
  }
 },
 "nbformat": 4,
 "nbformat_minor": 5
}
