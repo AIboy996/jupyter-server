{
 "cells": [
  {
   "cell_type": "markdown",
   "id": "d260be65",
   "metadata": {
    "toc": true
   },
   "source": [
    "<h1>Table of Contents<span class=\"tocSkip\"></span></h1>\n",
    "<div class=\"toc\"><ul class=\"toc-item\"><li><span><a href=\"#a、使用MC积分求比例系数(k=7.84654\" data-toc-modified-id=\"a、使用MC积分求比例系数(k=7.84654-1\">a、使用MC积分求比例系数(k=7.84654</a></span><ul class=\"toc-item\"><li><span><a href=\"#模拟Cauchy分布，近似计算L(mu)的期望，\" data-toc-modified-id=\"模拟Cauchy分布，近似计算L(mu)的期望，-1.1\">模拟Cauchy分布，近似计算L(mu)的期望，</a></span></li><li><span><a href=\"#模拟Norm分布，近似计算f(mu)的期望\" data-toc-modified-id=\"模拟Norm分布，近似计算f(mu)的期望-1.2\">模拟Norm分布，近似计算f(mu)的期望</a></span></li></ul></li><li><span><a href=\"#b、求$2\\leq\\mu\\leq8$的后验概率(=0.99605\" data-toc-modified-id=\"b、求$2\\leq\\mu\\leq8$的后验概率(=0.99605-2\">b、求$2\\leq\\mu\\leq8$的后验概率(=0.99605</a></span><ul class=\"toc-item\"><li><span><a href=\"#1、Riemann法则\" data-toc-modified-id=\"1、Riemann法则-2.1\">1、Riemann法则</a></span></li><li><span><a href=\"#2、梯形法则\" data-toc-modified-id=\"2、梯形法则-2.2\">2、梯形法则</a></span></li><li><span><a href=\"#3、Simpson法则\" data-toc-modified-id=\"3、Simpson法则-2.3\">3、Simpson法则</a></span></li></ul></li><li><span><a href=\"#c、求$\\mu\\geq3$的后验概率(=0.99086\" data-toc-modified-id=\"c、求$\\mu\\geq3$的后验概率(=0.99086-3\">c、求$\\mu\\geq3$的后验概率(=0.99086</a></span><ul class=\"toc-item\"><li><span><a href=\"#1、Riemann法则——排除奇点\" data-toc-modified-id=\"1、Riemann法则——排除奇点-3.1\">1、Riemann法则——排除奇点</a></span></li><li><span><a href=\"#2、Simpson法则——积分到1-\" data-toc-modified-id=\"2、Simpson法则——积分到1--3.2\">2、Simpson法则——积分到1-</a></span></li></ul></li><li><span><a href=\"#d、再变换\" data-toc-modified-id=\"d、再变换-4\">d、再变换</a></span></li></ul></div>"
   ]
  },
  {
   "cell_type": "code",
   "execution_count": 1,
   "id": "5d47d0fc",
   "metadata": {
    "ExecuteTime": {
     "end_time": "2021-12-09T10:33:35.832026Z",
     "start_time": "2021-12-09T10:33:35.018069Z"
    }
   },
   "outputs": [],
   "source": [
    "import numpy as np\n",
    "import pandas as pd\n",
    "import matplotlib.pyplot as plt\n",
    "# 统计包\n",
    "import scipy.stats as sci\n",
    "# 数值积分\n",
    "import scipy.integrate as integrate"
   ]
  },
  {
   "cell_type": "code",
   "execution_count": 2,
   "id": "97a880ff",
   "metadata": {
    "ExecuteTime": {
     "end_time": "2021-12-09T10:33:36.365600Z",
     "start_time": "2021-12-09T10:33:36.362406Z"
    }
   },
   "outputs": [],
   "source": [
    "# 数值积分要求的进度较高，所以设置全局保留八位有效数字\n",
    "pd.set_option('precision', 8)"
   ]
  },
  {
   "cell_type": "code",
   "execution_count": 3,
   "id": "02e48a30",
   "metadata": {
    "ExecuteTime": {
     "end_time": "2021-12-09T10:33:37.202514Z",
     "start_time": "2021-12-09T10:33:37.194518Z"
    },
    "scrolled": true
   },
   "outputs": [
    {
     "data": {
      "text/plain": [
       "5.387142857142857"
      ]
     },
     "execution_count": 3,
     "metadata": {},
     "output_type": "execute_result"
    }
   ],
   "source": [
    "# 样本均值\n",
    "x_bar = np.array([6.52,8.32,0.31,2.82,9.96,0.14,9.64]).mean()\n",
    "x_bar"
   ]
  },
  {
   "cell_type": "markdown",
   "id": "f2f79b76",
   "metadata": {},
   "source": [
    "# a、使用MC积分求比例系数(k=7.84654"
   ]
  },
  {
   "cell_type": "markdown",
   "id": "391deebd",
   "metadata": {},
   "source": [
    "后验$\\propto$先验$\\cdot$似然,于是\n",
    "$$\n",
    "1=\\int_Rf(\\mu\\mid\\bar{X})d\\mu=\\int_Rk\\cdot L(\\mu\\mid\\bar{X})f(\\mu)d\\mu\n",
    "$$"
   ]
  },
  {
   "cell_type": "markdown",
   "id": "69c7fc1d",
   "metadata": {},
   "source": [
    "于是\n",
    "$$\n",
    "\\frac{1}{k}=\\mathbf{E}_\\mu\\left\\{L(\\mu\\mid\\bar{X})\\right\\}\n",
    "$$\n",
    "w.r.t\\\n",
    "$\\mu \\sim Cauchy(5,2)$"
   ]
  },
  {
   "cell_type": "markdown",
   "id": "acb8113e",
   "metadata": {},
   "source": [
    "进而使用MC积分近似该期望:\n",
    "$$\n",
    "\\frac{1}{k}=\\frac{1}{M}\\sum_{i=1}^M L(\\mu_i\\mid\\bar{X})\n",
    "$$\n",
    "with\\\n",
    "$\\mu_i\\overset{i.i.d}{\\sim}Cauchy(5,2)$"
   ]
  },
  {
   "cell_type": "markdown",
   "id": "d68d16c4",
   "metadata": {},
   "source": [
    "\\begin{align*}\n",
    "&mc\\sim U(0,1)\\\\\n",
    "&then\\\\\n",
    "&X=\\mathbf{cauchy.ppf}(mc)\\sim Cauchy(5,2)\n",
    "\\end{align*}"
   ]
  },
  {
   "cell_type": "markdown",
   "id": "3fc40ad4",
   "metadata": {},
   "source": [
    "而数值上\n",
    "\\begin{align*}\n",
    "&L(\\mu\\mid\\bar{X})\\\\\n",
    "=&\\mathbf{norm.pdf}(\\mu=\\bar{X},\\sigma^2=\\frac{9}{7})\\\\\n",
    "=&\\frac{1}{2\\pi\\sigma^2}\\exp\\left\\{-\\frac{(\\bar{X}-\\mu)^2}{2\\sigma^2}\\right\\}\n",
    "\\end{align*}\n",
    "以下是编程内容："
   ]
  },
  {
   "cell_type": "code",
   "execution_count": 4,
   "id": "90d8cb2a",
   "metadata": {
    "ExecuteTime": {
     "end_time": "2021-12-09T10:33:41.278724Z",
     "start_time": "2021-12-09T10:33:41.192103Z"
    }
   },
   "outputs": [
    {
     "data": {
      "text/plain": [
       "7.8465377455602985"
      ]
     },
     "execution_count": 4,
     "metadata": {},
     "output_type": "execute_result"
    }
   ],
   "source": [
    "# 使用scipu求得k更精确的值\n",
    "fl = lambda x: sci.norm.pdf(x, loc=x_bar, scale=np.sqrt(9 / 7)) \\\n",
    "                * sci.cauchy.pdf(x, loc=5, scale=2)\n",
    "k_real = 1 / integrate.quad(fl, -np.inf, np.inf)[0]\n",
    "k_real"
   ]
  },
  {
   "cell_type": "code",
   "execution_count": 5,
   "id": "5183aced",
   "metadata": {
    "ExecuteTime": {
     "end_time": "2021-12-09T10:33:41.901248Z",
     "start_time": "2021-12-09T10:33:41.896699Z"
    }
   },
   "outputs": [],
   "source": [
    "del fl"
   ]
  },
  {
   "cell_type": "markdown",
   "id": "7f904be0",
   "metadata": {},
   "source": [
    "## 模拟Cauchy分布，近似计算L(mu)的期望，"
   ]
  },
  {
   "cell_type": "code",
   "execution_count": 6,
   "id": "6726f42e",
   "metadata": {
    "ExecuteTime": {
     "end_time": "2021-12-09T10:33:52.809648Z",
     "start_time": "2021-12-09T10:33:43.690282Z"
    }
   },
   "outputs": [],
   "source": [
    "mc_cauchy = pd.DataFrame(columns=['k'])\n",
    "# 做1000次模拟\n",
    "for i in range(1000):\n",
    "    mc = np.random.random(int(1e5))\n",
    "    x = sci.cauchy.ppf(mc,loc=5,scale=2)\n",
    "    mc_cauchy.loc[i,'k']=1/sci.norm.pdf(x,loc=x_bar,scale=np.sqrt(9/7)).mean()"
   ]
  },
  {
   "cell_type": "code",
   "execution_count": 7,
   "id": "b07694e4",
   "metadata": {
    "ExecuteTime": {
     "end_time": "2021-12-09T10:33:54.312870Z",
     "start_time": "2021-12-09T10:33:54.302181Z"
    }
   },
   "outputs": [
    {
     "data": {
      "text/plain": [
       "(k    0.00073164\n",
       " dtype: float64,\n",
       " k    7.84435905\n",
       " dtype: float64)"
      ]
     },
     "execution_count": 7,
     "metadata": {},
     "output_type": "execute_result"
    }
   ],
   "source": [
    "mc_cauchy.var(),mc_cauchy.mean()"
   ]
  },
  {
   "cell_type": "markdown",
   "id": "1e3cf463",
   "metadata": {},
   "source": [
    "## 模拟Norm分布，近似计算f(mu)的期望"
   ]
  },
  {
   "cell_type": "code",
   "execution_count": 8,
   "id": "fb639690",
   "metadata": {
    "ExecuteTime": {
     "end_time": "2021-12-09T10:34:06.126557Z",
     "start_time": "2021-12-09T10:33:57.563985Z"
    }
   },
   "outputs": [],
   "source": [
    "mc_norm = pd.DataFrame(columns=['k'])\n",
    "# 做1000次模拟\n",
    "for i in range(1000):\n",
    "    mc = np.random.random(int(1e5))\n",
    "    x = sci.norm.ppf(mc,loc=x_bar,scale=np.sqrt(9/7))\n",
    "    mc_norm.loc[i,'k']=1/sci.cauchy.pdf(x,loc=5,scale=2).mean()"
   ]
  },
  {
   "cell_type": "code",
   "execution_count": 9,
   "id": "50cb77e2",
   "metadata": {
    "ExecuteTime": {
     "end_time": "2021-12-09T10:34:07.582673Z",
     "start_time": "2021-12-09T10:34:07.574031Z"
    }
   },
   "outputs": [
    {
     "data": {
      "text/plain": [
       "(k    0.00003431\n",
       " dtype: float64,\n",
       " k    7.84620024\n",
       " dtype: float64)"
      ]
     },
     "execution_count": 9,
     "metadata": {},
     "output_type": "execute_result"
    }
   ],
   "source": [
    "mc_norm.var(),mc_norm.mean()"
   ]
  },
  {
   "cell_type": "markdown",
   "id": "47646510",
   "metadata": {},
   "source": [
    "单次模拟10万个数据的情况下，两种MC方法效果都不太好，但是第二种方法——也就是模拟Norm分布然后计算$f(\\mu)$的期望，所得估计值的方差更小，也收敛也更快"
   ]
  },
  {
   "cell_type": "markdown",
   "id": "900d4204",
   "metadata": {},
   "source": [
    "# b、求$2\\leq\\mu\\leq8$的后验概率(=0.99605"
   ]
  },
  {
   "cell_type": "markdown",
   "id": "ec92aa8e",
   "metadata": {},
   "source": [
    "也就是求积分:\n",
    "\\begin{align*}\n",
    "&\\int_2^8k\\cdot L(\\mu\\mid\\bar{X})f(\\mu)d\\mu\\\\\n",
    "\\equiv&\\int_2^8g(\\mu)d\\mu\n",
    "\\end{align*}"
   ]
  },
  {
   "cell_type": "code",
   "execution_count": 10,
   "id": "edc7624f",
   "metadata": {
    "ExecuteTime": {
     "end_time": "2021-12-09T10:34:30.098580Z",
     "start_time": "2021-12-09T10:34:30.095883Z"
    }
   },
   "outputs": [],
   "source": [
    "# 密度函数全部使用scipy的统计包中提供的函数\n",
    "g = lambda x: k_real * sci.norm.pdf(x, loc=x_bar, scale=np.sqrt(9 / 7)) \\\n",
    "                    * sci.cauchy.pdf(x, loc=5, scale=2)"
   ]
  },
  {
   "cell_type": "code",
   "execution_count": 11,
   "id": "a556eda3",
   "metadata": {
    "ExecuteTime": {
     "end_time": "2021-12-09T10:34:30.973020Z",
     "start_time": "2021-12-09T10:34:30.954820Z"
    }
   },
   "outputs": [
    {
     "data": {
      "text/plain": [
       "0.9960543788185674"
      ]
     },
     "execution_count": 11,
     "metadata": {},
     "output_type": "execute_result"
    }
   ],
   "source": [
    "# 使用scipy数值积分，求一个更为精确的解\n",
    "p1_real = integrate.quad(g,2,8)[0]\n",
    "p1_real"
   ]
  },
  {
   "cell_type": "code",
   "execution_count": 12,
   "id": "a4aba1c5",
   "metadata": {
    "ExecuteTime": {
     "end_time": "2021-12-09T10:34:32.209152Z",
     "start_time": "2021-12-09T10:34:31.972284Z"
    }
   },
   "outputs": [
    {
     "data": {
      "image/png": "[encoded data removed]",
      "text/plain": [
       "<Figure size 432x288 with 1 Axes>"
      ]
     },
     "metadata": {
      "needs_background": "light"
     },
     "output_type": "display_data"
    }
   ],
   "source": [
    "# g(x)是一个类似于正态的单峰分布\n",
    "x = np.linspace(1,9,100)\n",
    "plt.plot(x,g(x),label='$g(x)$')\n",
    "plt.legend()\n",
    "plt.show()"
   ]
  },
  {
   "cell_type": "markdown",
   "id": "b2f91f81",
   "metadata": {},
   "source": [
    "## 1、Riemann法则"
   ]
  },
  {
   "cell_type": "markdown",
   "id": "829a78bb",
   "metadata": {},
   "source": [
    "\\begin{align*}\n",
    "&\\int_2^8g(\\mu)d\\mu\\\\\n",
    "\\approx&h\\cdot\\sum_{i=0}^{n-1} g(2+ih)\n",
    "\\end{align*}\n",
    "其中\n",
    "$$h=\\frac{8-2}{n}$$"
   ]
  },
  {
   "cell_type": "code",
   "execution_count": 13,
   "id": "1e0ff2b2",
   "metadata": {
    "ExecuteTime": {
     "end_time": "2021-12-09T10:34:37.408632Z",
     "start_time": "2021-12-09T10:34:36.126003Z"
    }
   },
   "outputs": [
    {
     "name": "stdout",
     "output_type": "stream",
     "text": [
      "min_n=1661\n"
     ]
    }
   ],
   "source": [
    "Riemann = pd.DataFrame(columns=['integral'])\n",
    "for n in range(1, 2000):\n",
    "    x = np.linspace(2, 8, n + 1)[:-1]  #n个区间，n+1个端点，并且去掉最后一项\n",
    "    h = (8 - 2) / n\n",
    "    Riemann_int = sum(g(x)) * h\n",
    "    Riemann.loc[n, 'integral'] = Riemann_int\n",
    "    if abs(Riemann_int - 0.99605) <= 1e-5:\n",
    "        print(f'min_n={n}')\n",
    "        break"
   ]
  },
  {
   "cell_type": "code",
   "execution_count": 14,
   "id": "4138a5a5",
   "metadata": {
    "ExecuteTime": {
     "end_time": "2021-12-09T10:34:38.217784Z",
     "start_time": "2021-12-09T10:34:38.211018Z"
    }
   },
   "outputs": [
    {
     "data": {
      "text/html": [
       "<div>\n",
       "<style scoped>\n",
       "    .dataframe tbody tr th:only-of-type {\n",
       "        vertical-align: middle;\n",
       "    }\n",
       "\n",
       "    .dataframe tbody tr th {\n",
       "        vertical-align: top;\n",
       "    }\n",
       "\n",
       "    .dataframe thead th {\n",
       "        text-align: right;\n",
       "    }\n",
       "</style>\n",
       "<table border=\"1\" class=\"dataframe\">\n",
       "  <thead>\n",
       "    <tr style=\"text-align: right;\">\n",
       "      <th></th>\n",
       "      <th>integral</th>\n",
       "    </tr>\n",
       "  </thead>\n",
       "  <tbody>\n",
       "    <tr>\n",
       "      <th>1657</th>\n",
       "      <td>0.99603997</td>\n",
       "    </tr>\n",
       "    <tr>\n",
       "      <th>1658</th>\n",
       "      <td>0.99603997</td>\n",
       "    </tr>\n",
       "    <tr>\n",
       "      <th>1659</th>\n",
       "      <td>0.99603998</td>\n",
       "    </tr>\n",
       "    <tr>\n",
       "      <th>1660</th>\n",
       "      <td>0.99603999</td>\n",
       "    </tr>\n",
       "    <tr>\n",
       "      <th>1661</th>\n",
       "      <td>0.99604</td>\n",
       "    </tr>\n",
       "  </tbody>\n",
       "</table>\n",
       "</div>"
      ],
      "text/plain": [
       "        integral\n",
       "1657  0.99603997\n",
       "1658  0.99603997\n",
       "1659  0.99603998\n",
       "1660  0.99603999\n",
       "1661     0.99604"
      ]
     },
     "execution_count": 14,
     "metadata": {},
     "output_type": "execute_result"
    }
   ],
   "source": [
    "Riemann.tail()"
   ]
  },
  {
   "cell_type": "markdown",
   "id": "80243f50",
   "metadata": {},
   "source": [
    "## 2、梯形法则"
   ]
  },
  {
   "cell_type": "markdown",
   "id": "8b427d1f",
   "metadata": {},
   "source": [
    "\\begin{align*}\n",
    "&\\int_2^8g(\\mu)d\\mu\\\\\n",
    "\\approx&\\frac{h}{2}g(2)+h\\sum_{i=1}^{n-1} g(2+ih)+\\frac{h}{2}g(8)\n",
    "\\end{align*}\n",
    "其中\n",
    "$$h=\\frac{8-2}{n}$$"
   ]
  },
  {
   "cell_type": "code",
   "execution_count": 15,
   "id": "0d6b9a92",
   "metadata": {
    "ExecuteTime": {
     "end_time": "2021-12-09T10:34:40.532842Z",
     "start_time": "2021-12-09T10:34:40.491832Z"
    }
   },
   "outputs": [
    {
     "name": "stdout",
     "output_type": "stream",
     "text": [
      "min_n= 29\n"
     ]
    }
   ],
   "source": [
    "Trapezoidal = pd.DataFrame(columns=['integral'])\n",
    "a,b = 2,8\n",
    "for n in range(1, 2000):\n",
    "    x = np.linspace(a, b, n + 1)\n",
    "    x = x[1:-1]  # 去掉首尾\n",
    "    h = (b - a) / n\n",
    "    Trapezoidal_int = (sum(g(x)) + g(a) / 2 + g(b) / 2) * h\n",
    "    Trapezoidal.loc[n, 'integral'] = Trapezoidal_int\n",
    "    if abs(Trapezoidal_int - 0.99605) <= 1e-4:\n",
    "        # 控制精度\n",
    "        print('min_n=',n)\n",
    "        break"
   ]
  },
  {
   "cell_type": "code",
   "execution_count": 16,
   "id": "977428ac",
   "metadata": {
    "ExecuteTime": {
     "end_time": "2021-12-09T10:34:42.208201Z",
     "start_time": "2021-12-09T10:34:42.202884Z"
    }
   },
   "outputs": [
    {
     "data": {
      "text/html": [
       "<div>\n",
       "<style scoped>\n",
       "    .dataframe tbody tr th:only-of-type {\n",
       "        vertical-align: middle;\n",
       "    }\n",
       "\n",
       "    .dataframe tbody tr th {\n",
       "        vertical-align: top;\n",
       "    }\n",
       "\n",
       "    .dataframe thead th {\n",
       "        text-align: right;\n",
       "    }\n",
       "</style>\n",
       "<table border=\"1\" class=\"dataframe\">\n",
       "  <thead>\n",
       "    <tr style=\"text-align: right;\">\n",
       "      <th></th>\n",
       "      <th>integral</th>\n",
       "    </tr>\n",
       "  </thead>\n",
       "  <tbody>\n",
       "    <tr>\n",
       "      <th>25</th>\n",
       "      <td>0.99591803</td>\n",
       "    </tr>\n",
       "    <tr>\n",
       "      <th>26</th>\n",
       "      <td>0.99592827</td>\n",
       "    </tr>\n",
       "    <tr>\n",
       "      <th>27</th>\n",
       "      <td>0.9959374</td>\n",
       "    </tr>\n",
       "    <tr>\n",
       "      <th>28</th>\n",
       "      <td>0.99594558</td>\n",
       "    </tr>\n",
       "    <tr>\n",
       "      <th>29</th>\n",
       "      <td>0.99595293</td>\n",
       "    </tr>\n",
       "  </tbody>\n",
       "</table>\n",
       "</div>"
      ],
      "text/plain": [
       "      integral\n",
       "25  0.99591803\n",
       "26  0.99592827\n",
       "27   0.9959374\n",
       "28  0.99594558\n",
       "29  0.99595293"
      ]
     },
     "execution_count": 16,
     "metadata": {},
     "output_type": "execute_result"
    }
   ],
   "source": [
    "Trapezoidal.tail()"
   ]
  },
  {
   "cell_type": "markdown",
   "id": "d140b840",
   "metadata": {},
   "source": [
    "## 3、Simpson法则"
   ]
  },
  {
   "cell_type": "markdown",
   "id": "8b7d3eac",
   "metadata": {},
   "source": [
    "\\begin{align*}\n",
    "&\\int_2^8g(\\mu)d\\mu\\\\\n",
    "\\approx&\\frac{h}{3}\\sum_{i=1}^{n/2}g(x_{2i-2})+4g(x_{2i-1})+g(x_{2i})\n",
    "\\end{align*}"
   ]
  },
  {
   "cell_type": "code",
   "execution_count": 17,
   "id": "b522cd2a",
   "metadata": {
    "ExecuteTime": {
     "end_time": "2021-12-09T10:34:47.761336Z",
     "start_time": "2021-12-09T10:34:47.744778Z"
    }
   },
   "outputs": [
    {
     "name": "stdout",
     "output_type": "stream",
     "text": [
      "min_n=18\n"
     ]
    }
   ],
   "source": [
    "Simpson = pd.DataFrame(columns=['integral'])\n",
    "a,b = 2,8\n",
    "for n in range(2, 2000, 2):# 偶数个区间\n",
    "    x = np.linspace(a, b, n + 1)\n",
    "    h = (b - a) / n\n",
    "    Simpson_int = h / 3 * sum(g(x[2::2]) + 4 * g(x[1::2]) + g(x[:-2:2]))\n",
    "    Simpson.loc[n, 'integral'] = Simpson_int\n",
    "    if abs(Simpson_int - 0.99605) <= 1e-5:\n",
    "        # 控制精度\n",
    "        print(f'min_n={n}')\n",
    "        break"
   ]
  },
  {
   "cell_type": "code",
   "execution_count": 18,
   "id": "fc0ef00e",
   "metadata": {
    "ExecuteTime": {
     "end_time": "2021-12-09T10:34:48.444694Z",
     "start_time": "2021-12-09T10:34:48.436100Z"
    },
    "scrolled": true
   },
   "outputs": [
    {
     "data": {
      "text/html": [
       "<div>\n",
       "<style scoped>\n",
       "    .dataframe tbody tr th:only-of-type {\n",
       "        vertical-align: middle;\n",
       "    }\n",
       "\n",
       "    .dataframe tbody tr th {\n",
       "        vertical-align: top;\n",
       "    }\n",
       "\n",
       "    .dataframe thead th {\n",
       "        text-align: right;\n",
       "    }\n",
       "</style>\n",
       "<table border=\"1\" class=\"dataframe\">\n",
       "  <thead>\n",
       "    <tr style=\"text-align: right;\">\n",
       "      <th></th>\n",
       "      <th>integral</th>\n",
       "    </tr>\n",
       "  </thead>\n",
       "  <tbody>\n",
       "    <tr>\n",
       "      <th>10</th>\n",
       "      <td>0.99615831</td>\n",
       "    </tr>\n",
       "    <tr>\n",
       "      <th>12</th>\n",
       "      <td>0.99598709</td>\n",
       "    </tr>\n",
       "    <tr>\n",
       "      <th>14</th>\n",
       "      <td>0.99603337</td>\n",
       "    </tr>\n",
       "    <tr>\n",
       "      <th>16</th>\n",
       "      <td>0.99603987</td>\n",
       "    </tr>\n",
       "    <tr>\n",
       "      <th>18</th>\n",
       "      <td>0.99604554</td>\n",
       "    </tr>\n",
       "  </tbody>\n",
       "</table>\n",
       "</div>"
      ],
      "text/plain": [
       "      integral\n",
       "10  0.99615831\n",
       "12  0.99598709\n",
       "14  0.99603337\n",
       "16  0.99603987\n",
       "18  0.99604554"
      ]
     },
     "execution_count": 18,
     "metadata": {},
     "output_type": "execute_result"
    }
   ],
   "source": [
    "Simpson.tail()"
   ]
  },
  {
   "cell_type": "markdown",
   "id": "8e9b162a",
   "metadata": {},
   "source": [
    "# c、求$\\mu\\geq3$的后验概率(=0.99086"
   ]
  },
  {
   "cell_type": "markdown",
   "id": "41c761fe",
   "metadata": {},
   "source": [
    "变换$$u = \\frac{\\exp(\\mu)}{1+\\exp(\\mu)}$$\n",
    "则$$\\mu = -\\log(\\frac{1}{u}-1)$$\n",
    "积分变为\n",
    "\\begin{align*}\n",
    "&\\int_3^{\\infty}g(\\mu)d\\mu\\\\\n",
    "=&\\int_{\\frac{e^3}{e^3+1}}^{1}g(-\\log(\\frac{1}{u}-1))\\frac{du}{u-u^2}\n",
    "\\end{align*}"
   ]
  },
  {
   "cell_type": "code",
   "execution_count": 19,
   "id": "65529390",
   "metadata": {
    "ExecuteTime": {
     "end_time": "2021-12-09T10:34:50.952955Z",
     "start_time": "2021-12-09T10:34:50.905080Z"
    }
   },
   "outputs": [
    {
     "data": {
      "text/plain": [
       "0.9908591919102758"
      ]
     },
     "execution_count": 19,
     "metadata": {},
     "output_type": "execute_result"
    }
   ],
   "source": [
    "# 使用scipy数值积分，求一个更为精确的解\n",
    "p2_real = integrate.quad(g,3,np.inf)[0]\n",
    "p2_real"
   ]
  },
  {
   "cell_type": "code",
   "execution_count": 20,
   "id": "7abdf40b",
   "metadata": {
    "ExecuteTime": {
     "end_time": "2021-12-09T10:34:53.533368Z",
     "start_time": "2021-12-09T10:34:53.530874Z"
    }
   },
   "outputs": [],
   "source": [
    "gu = lambda u:g(-np.log(1/u-1))/(u-u**2)"
   ]
  },
  {
   "cell_type": "markdown",
   "id": "1fb8a78a",
   "metadata": {},
   "source": [
    "## 1、Riemann法则——排除奇点"
   ]
  },
  {
   "cell_type": "code",
   "execution_count": 21,
   "id": "46d3a03b",
   "metadata": {
    "ExecuteTime": {
     "end_time": "2021-12-09T10:34:54.904456Z",
     "start_time": "2021-12-09T10:34:54.808870Z"
    }
   },
   "outputs": [
    {
     "name": "stdout",
     "output_type": "stream",
     "text": [
      "min_n=95\n"
     ]
    }
   ],
   "source": [
    "Riemann = pd.DataFrame(columns=['integral'])\n",
    "a,b = 1/(np.exp(-3)+1),1-1e-10\n",
    "for n in range(1, 2000):\n",
    "    x = np.linspace(a, b, n + 1)[:-1]  #n个区间，n+1个端点，并且去掉最后一项\n",
    "    h = (b - a) / n\n",
    "    Riemann_int = sum(gu(x)) * h\n",
    "    Riemann.loc[n, 'integral'] = Riemann_int\n",
    "    if abs(Riemann_int - 0.99086) <= 1e-5:\n",
    "        print(f'min_n={n}')\n",
    "        break"
   ]
  },
  {
   "cell_type": "code",
   "execution_count": 22,
   "id": "68e73ad1",
   "metadata": {
    "ExecuteTime": {
     "end_time": "2021-12-09T10:34:56.619022Z",
     "start_time": "2021-12-09T10:34:56.608730Z"
    }
   },
   "outputs": [
    {
     "data": {
      "text/html": [
       "<div>\n",
       "<style scoped>\n",
       "    .dataframe tbody tr th:only-of-type {\n",
       "        vertical-align: middle;\n",
       "    }\n",
       "\n",
       "    .dataframe tbody tr th {\n",
       "        vertical-align: top;\n",
       "    }\n",
       "\n",
       "    .dataframe thead th {\n",
       "        text-align: right;\n",
       "    }\n",
       "</style>\n",
       "<table border=\"1\" class=\"dataframe\">\n",
       "  <thead>\n",
       "    <tr style=\"text-align: right;\">\n",
       "      <th></th>\n",
       "      <th>integral</th>\n",
       "    </tr>\n",
       "  </thead>\n",
       "  <tbody>\n",
       "    <tr>\n",
       "      <th>91</th>\n",
       "      <td>0.99079931</td>\n",
       "    </tr>\n",
       "    <tr>\n",
       "      <th>92</th>\n",
       "      <td>0.9908156</td>\n",
       "    </tr>\n",
       "    <tr>\n",
       "      <th>93</th>\n",
       "      <td>0.99083086</td>\n",
       "    </tr>\n",
       "    <tr>\n",
       "      <th>94</th>\n",
       "      <td>0.99084517</td>\n",
       "    </tr>\n",
       "    <tr>\n",
       "      <th>95</th>\n",
       "      <td>0.99085857</td>\n",
       "    </tr>\n",
       "  </tbody>\n",
       "</table>\n",
       "</div>"
      ],
      "text/plain": [
       "      integral\n",
       "91  0.99079931\n",
       "92   0.9908156\n",
       "93  0.99083086\n",
       "94  0.99084517\n",
       "95  0.99085857"
      ]
     },
     "execution_count": 22,
     "metadata": {},
     "output_type": "execute_result"
    }
   ],
   "source": [
    "Riemann.tail()"
   ]
  },
  {
   "cell_type": "markdown",
   "id": "0a15f477",
   "metadata": {},
   "source": [
    "## 2、Simpson法则——积分到1-"
   ]
  },
  {
   "cell_type": "markdown",
   "id": "8c636b08",
   "metadata": {},
   "source": [
    "可以验证$$\\underset{u\\to1^-}{\\lim}\\frac{g(-\\log(\\frac{1}{u}-1))}{u-u^2}=0$$"
   ]
  },
  {
   "cell_type": "markdown",
   "id": "c47a9aa3",
   "metadata": {},
   "source": [
    "进而可以计算$$\\int_{\\frac{e^3}{e^3+1}}^{1^-}g(-\\log(\\frac{1}{u}-1))\\frac{du}{u-u^2}$$"
   ]
  },
  {
   "cell_type": "code",
   "execution_count": 23,
   "id": "d190f107",
   "metadata": {
    "ExecuteTime": {
     "end_time": "2021-12-09T10:34:58.689558Z",
     "start_time": "2021-12-09T10:34:58.544312Z"
    }
   },
   "outputs": [
    {
     "name": "stdout",
     "output_type": "stream",
     "text": [
      "min_n=280\n"
     ]
    }
   ],
   "source": [
    "Simpson = pd.DataFrame(columns=['integral'])\n",
    "a,b = 1/(np.exp(-3)+1),1-1e-10\n",
    "for n in range(2, 2000, 2):\n",
    "    x = np.linspace(a, b, n + 1)\n",
    "    h = (b - a) / n\n",
    "    Simpson_int = h / 3 * sum(gu(x[2::2]) + 4 * gu(x[1::2]) + gu(x[:-2:2]))\n",
    "    Simpson.loc[n, 'integral'] = Simpson_int\n",
    "    if abs(Simpson_int - 0.99086) <= 1e-5:\n",
    "        print(f'min_n={n}')\n",
    "        break "
   ]
  },
  {
   "cell_type": "code",
   "execution_count": 24,
   "id": "5b7bf774",
   "metadata": {
    "ExecuteTime": {
     "end_time": "2021-12-09T10:34:59.376535Z",
     "start_time": "2021-12-09T10:34:59.368530Z"
    }
   },
   "outputs": [
    {
     "data": {
      "text/html": [
       "<div>\n",
       "<style scoped>\n",
       "    .dataframe tbody tr th:only-of-type {\n",
       "        vertical-align: middle;\n",
       "    }\n",
       "\n",
       "    .dataframe tbody tr th {\n",
       "        vertical-align: top;\n",
       "    }\n",
       "\n",
       "    .dataframe thead th {\n",
       "        text-align: right;\n",
       "    }\n",
       "</style>\n",
       "<table border=\"1\" class=\"dataframe\">\n",
       "  <thead>\n",
       "    <tr style=\"text-align: right;\">\n",
       "      <th></th>\n",
       "      <th>integral</th>\n",
       "    </tr>\n",
       "  </thead>\n",
       "  <tbody>\n",
       "    <tr>\n",
       "      <th>272</th>\n",
       "      <td>0.99087328</td>\n",
       "    </tr>\n",
       "    <tr>\n",
       "      <th>274</th>\n",
       "      <td>0.99087229</td>\n",
       "    </tr>\n",
       "    <tr>\n",
       "      <th>276</th>\n",
       "      <td>0.99087134</td>\n",
       "    </tr>\n",
       "    <tr>\n",
       "      <th>278</th>\n",
       "      <td>0.99087043</td>\n",
       "    </tr>\n",
       "    <tr>\n",
       "      <th>280</th>\n",
       "      <td>0.99086956</td>\n",
       "    </tr>\n",
       "  </tbody>\n",
       "</table>\n",
       "</div>"
      ],
      "text/plain": [
       "       integral\n",
       "272  0.99087328\n",
       "274  0.99087229\n",
       "276  0.99087134\n",
       "278  0.99087043\n",
       "280  0.99086956"
      ]
     },
     "execution_count": 24,
     "metadata": {},
     "output_type": "execute_result"
    }
   ],
   "source": [
    "Simpson.tail()"
   ]
  },
  {
   "cell_type": "markdown",
   "id": "48b2e3ab",
   "metadata": {},
   "source": [
    "# d、再变换"
   ]
  },
  {
   "cell_type": "markdown",
   "id": "beaa01af",
   "metadata": {},
   "source": [
    "变换$$u = \\frac{1}{\\mu}$$\n",
    "则$$\\mu = \\frac{1}{u}$$\n",
    "积分变为\n",
    "\\begin{align*}\n",
    "&\\int_3^{\\infty}g(\\mu)d\\mu\\\\\n",
    "=&\\int_{1/3}^0\\frac{g(1/u)}{-u^2}du\n",
    "\\end{align*}"
   ]
  },
  {
   "cell_type": "code",
   "execution_count": 25,
   "id": "aad8d1e4",
   "metadata": {
    "ExecuteTime": {
     "end_time": "2021-12-09T10:35:02.129320Z",
     "start_time": "2021-12-09T10:35:02.124532Z"
    }
   },
   "outputs": [],
   "source": [
    "gu = lambda u:g(1/u)/(-u**2)"
   ]
  },
  {
   "cell_type": "code",
   "execution_count": 26,
   "id": "454d961b",
   "metadata": {
    "ExecuteTime": {
     "end_time": "2021-12-09T10:35:02.861901Z",
     "start_time": "2021-12-09T10:35:02.835283Z"
    }
   },
   "outputs": [
    {
     "name": "stdout",
     "output_type": "stream",
     "text": [
      "min_n=28\n"
     ]
    }
   ],
   "source": [
    "Simpson = pd.DataFrame(columns=['integral'])\n",
    "a,b = 1/3,0+1e-10\n",
    "for n in range(2, 2000, 2):\n",
    "    x = np.linspace(a, b, n + 1)\n",
    "    h = (b - a) / n\n",
    "    Simpson_int = h / 3 * sum(gu(x[2::2]) + 4 * gu(x[1::2]) + gu(x[:-2:2]))\n",
    "    Simpson.loc[n, 'integral'] = Simpson_int\n",
    "    if abs(Simpson_int - 0.99086) <= 1e-5:\n",
    "        print(f'min_n={n}')\n",
    "        break "
   ]
  },
  {
   "cell_type": "code",
   "execution_count": 27,
   "id": "294224eb",
   "metadata": {
    "ExecuteTime": {
     "end_time": "2021-12-09T10:35:03.798532Z",
     "start_time": "2021-12-09T10:35:03.790944Z"
    }
   },
   "outputs": [
    {
     "data": {
      "text/plain": [
       "0.9908591919102758"
      ]
     },
     "execution_count": 27,
     "metadata": {},
     "output_type": "execute_result"
    }
   ],
   "source": [
    "p2_real"
   ]
  },
  {
   "cell_type": "code",
   "execution_count": 28,
   "id": "23590e0f",
   "metadata": {
    "ExecuteTime": {
     "end_time": "2021-12-09T10:35:04.732455Z",
     "start_time": "2021-12-09T10:35:04.723312Z"
    }
   },
   "outputs": [
    {
     "data": {
      "text/html": [
       "<div>\n",
       "<style scoped>\n",
       "    .dataframe tbody tr th:only-of-type {\n",
       "        vertical-align: middle;\n",
       "    }\n",
       "\n",
       "    .dataframe tbody tr th {\n",
       "        vertical-align: top;\n",
       "    }\n",
       "\n",
       "    .dataframe thead th {\n",
       "        text-align: right;\n",
       "    }\n",
       "</style>\n",
       "<table border=\"1\" class=\"dataframe\">\n",
       "  <thead>\n",
       "    <tr style=\"text-align: right;\">\n",
       "      <th></th>\n",
       "      <th>integral</th>\n",
       "    </tr>\n",
       "  </thead>\n",
       "  <tbody>\n",
       "    <tr>\n",
       "      <th>20</th>\n",
       "      <td>0.99100378</td>\n",
       "    </tr>\n",
       "    <tr>\n",
       "      <th>22</th>\n",
       "      <td>0.99082847</td>\n",
       "    </tr>\n",
       "    <tr>\n",
       "      <th>24</th>\n",
       "      <td>0.9908423</td>\n",
       "    </tr>\n",
       "    <tr>\n",
       "      <th>26</th>\n",
       "      <td>0.99087056</td>\n",
       "    </tr>\n",
       "    <tr>\n",
       "      <th>28</th>\n",
       "      <td>0.99085677</td>\n",
       "    </tr>\n",
       "  </tbody>\n",
       "</table>\n",
       "</div>"
      ],
      "text/plain": [
       "      integral\n",
       "20  0.99100378\n",
       "22  0.99082847\n",
       "24   0.9908423\n",
       "26  0.99087056\n",
       "28  0.99085677"
      ]
     },
     "execution_count": 28,
     "metadata": {},
     "output_type": "execute_result"
    }
   ],
   "source": [
    "Simpson.tail()# 和p2_real比较可以发现这确实是一个更好的估计"
   ]
  }
 ],
 "metadata": {
  "kernelspec": {
   "display_name": "Python 3 (ipykernel)",
   "language": "python",
   "name": "python3"
  },
  "language_info": {
   "codemirror_mode": {
    "name": "ipython",
    "version": 3
   },
   "file_extension": ".py",
   "mimetype": "text/x-python",
   "name": "python",
   "nbconvert_exporter": "python",
   "pygments_lexer": "ipython3",
   "version": "3.9.7"
  },
  "toc": {
   "base_numbering": "1",
   "nav_menu": {},
   "number_sections": false,
   "sideBar": true,
   "skip_h1_title": false,
   "title_cell": "Table of Contents",
   "title_sidebar": "Contents",
   "toc_cell": true,
   "toc_position": {
    "height": "calc(100% - 180px)",
    "left": "10px",
    "top": "150px",
    "width": "347.943px"
   },
   "toc_section_display": true,
   "toc_window_display": false
  }
 },
 "nbformat": 4,
 "nbformat_minor": 5
}
