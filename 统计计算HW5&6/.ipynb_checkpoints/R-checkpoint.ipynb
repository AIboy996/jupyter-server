{
 "cells": [
  {
   "cell_type": "code",
   "execution_count": 1,
   "id": "91d141a8",
   "metadata": {
    "ExecuteTime": {
     "end_time": "2021-12-09T08:40:35.332055Z",
     "start_time": "2021-12-09T08:40:33.456Z"
    }
   },
   "outputs": [
    {
     "data": {
      "text/html": [
       "7.84634030026694"
      ],
      "text/latex": [
       "7.84634030026694"
      ],
      "text/markdown": [
       "7.84634030026694"
      ],
      "text/plain": [
       "[1] 7.84634"
      ]
     },
     "metadata": {},
     "output_type": "display_data"
    }
   ],
   "source": [
    "# ppf of cauchy\n",
    "x = qcauchy(runif(10000000),loc=5,scale=2)\n",
    "1/mean(dnorm(x,mean=5.387142857142857,sd=sqrt(9/7)))"
   ]
  },
  {
   "cell_type": "code",
   "execution_count": 2,
   "id": "86e672a4",
   "metadata": {
    "ExecuteTime": {
     "end_time": "2021-12-09T08:40:39.140726Z",
     "start_time": "2021-12-09T08:40:37.853Z"
    }
   },
   "outputs": [
    {
     "data": {
      "text/html": [
       "7.84628225869363"
      ],
      "text/latex": [
       "7.84628225869363"
      ],
      "text/markdown": [
       "7.84628225869363"
      ],
      "text/plain": [
       "[1] 7.846282"
      ]
     },
     "metadata": {},
     "output_type": "display_data"
    }
   ],
   "source": [
    "# ppf of norm\n",
    "x = qnorm(runif(10000000),mean=5.387142857142857,sd=sqrt(9/7))\n",
    "1/mean(dcauchy(x,loc=5,scale=2))"
   ]
  }
 ],
 "metadata": {
  "kernelspec": {
   "display_name": "R",
   "language": "R",
   "name": "ir"
  },
  "language_info": {
   "codemirror_mode": "r",
   "file_extension": ".r",
   "mimetype": "text/x-r-source",
   "name": "R",
   "pygments_lexer": "r",
   "version": "3.6.1"
  },
  "toc": {
   "base_numbering": 1,
   "nav_menu": {},
   "number_sections": true,
   "sideBar": true,
   "skip_h1_title": false,
   "title_cell": "Table of Contents",
   "title_sidebar": "Contents",
   "toc_cell": false,
   "toc_position": {},
   "toc_section_display": true,
   "toc_window_display": false
  }
 },
 "nbformat": 4,
 "nbformat_minor": 5
}
