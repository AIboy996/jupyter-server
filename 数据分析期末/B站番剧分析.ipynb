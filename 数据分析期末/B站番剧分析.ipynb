{
 "cells": [
  {
   "cell_type": "markdown",
   "id": "4f07f40c",
   "metadata": {
    "toc": true
   },
   "source": [
    "<h1>Table of Contents<span class=\"tocSkip\"></span></h1>\n",
    "<div class=\"toc\"><ul class=\"toc-item\"><li><span><a href=\"#项目概述\" data-toc-modified-id=\"项目概述-1\"><span class=\"toc-item-num\">1&nbsp;&nbsp;</span>项目概述</a></span></li><li><span><a href=\"#数据抓取\" data-toc-modified-id=\"数据抓取-2\"><span class=\"toc-item-num\">2&nbsp;&nbsp;</span>数据抓取</a></span><ul class=\"toc-item\"><li><span><a href=\"#使用到的库\" data-toc-modified-id=\"使用到的库-2.1\"><span class=\"toc-item-num\">2.1&nbsp;&nbsp;</span>使用到的库</a></span></li><li><span><a href=\"#下载网页\" data-toc-modified-id=\"下载网页-2.2\"><span class=\"toc-item-num\">2.2&nbsp;&nbsp;</span>下载网页</a></span></li><li><span><a href=\"#处理网页信息\" data-toc-modified-id=\"处理网页信息-2.3\"><span class=\"toc-item-num\">2.3&nbsp;&nbsp;</span>处理网页信息</a></span><ul class=\"toc-item\"><li><span><a href=\"#处理数字\" data-toc-modified-id=\"处理数字-2.3.1\"><span class=\"toc-item-num\">2.3.1&nbsp;&nbsp;</span>处理数字</a></span></li><li><span><a href=\"#处理日期\" data-toc-modified-id=\"处理日期-2.3.2\"><span class=\"toc-item-num\">2.3.2&nbsp;&nbsp;</span>处理日期</a></span></li><li><span><a href=\"#估算番剧长度\" data-toc-modified-id=\"估算番剧长度-2.3.3\"><span class=\"toc-item-num\">2.3.3&nbsp;&nbsp;</span>估算番剧长度</a></span></li></ul></li><li><span><a href=\"#汇总信息\" data-toc-modified-id=\"汇总信息-2.4\"><span class=\"toc-item-num\">2.4&nbsp;&nbsp;</span>汇总信息</a></span><ul class=\"toc-item\"><li><span><a href=\"#获取合法的mdid\" data-toc-modified-id=\"获取合法的mdid-2.4.1\"><span class=\"toc-item-num\">2.4.1&nbsp;&nbsp;</span>获取合法的mdid</a></span></li><li><span><a href=\"#整合数据\" data-toc-modified-id=\"整合数据-2.4.2\"><span class=\"toc-item-num\">2.4.2&nbsp;&nbsp;</span>整合数据</a></span></li></ul></li><li><span><a href=\"#代码运行\" data-toc-modified-id=\"代码运行-2.5\"><span class=\"toc-item-num\">2.5&nbsp;&nbsp;</span>代码运行</a></span></li></ul></li><li><span><a href=\"#一元线性回归\" data-toc-modified-id=\"一元线性回归-3\"><span class=\"toc-item-num\">3&nbsp;&nbsp;</span>一元线性回归</a></span><ul class=\"toc-item\"><li><span><a href=\"#重置\" data-toc-modified-id=\"重置-3.1\"><span class=\"toc-item-num\">3.1&nbsp;&nbsp;</span>重置</a></span></li><li><span><a href=\"#用到的库\" data-toc-modified-id=\"用到的库-3.2\"><span class=\"toc-item-num\">3.2&nbsp;&nbsp;</span>用到的库</a></span></li><li><span><a href=\"#相关系数可视化\" data-toc-modified-id=\"相关系数可视化-3.3\"><span class=\"toc-item-num\">3.3&nbsp;&nbsp;</span>相关系数可视化</a></span></li><li><span><a href=\"#建立线性回归模型\" data-toc-modified-id=\"建立线性回归模型-3.4\"><span class=\"toc-item-num\">3.4&nbsp;&nbsp;</span>建立线性回归模型</a></span><ul class=\"toc-item\"><li><span><a href=\"#选取变量\" data-toc-modified-id=\"选取变量-3.4.1\"><span class=\"toc-item-num\">3.4.1&nbsp;&nbsp;</span>选取变量</a></span></li><li><span><a href=\"#建立模型并且求解模型\" data-toc-modified-id=\"建立模型并且求解模型-3.4.2\"><span class=\"toc-item-num\">3.4.2&nbsp;&nbsp;</span>建立模型并且求解模型</a></span></li><li><span><a href=\"#模型拟合可视化\" data-toc-modified-id=\"模型拟合可视化-3.4.3\"><span class=\"toc-item-num\">3.4.3&nbsp;&nbsp;</span>模型拟合可视化</a></span></li></ul></li></ul></li><li><span><a href=\"#各个类型番剧的数量可视化\" data-toc-modified-id=\"各个类型番剧的数量可视化-4\"><span class=\"toc-item-num\">4&nbsp;&nbsp;</span>各个类型番剧的数量可视化</a></span></li></ul></div>"
   ]
  },
  {
   "cell_type": "markdown",
   "id": "089d961d",
   "metadata": {},
   "source": [
    "# 项目概述"
   ]
  },
  {
   "cell_type": "markdown",
   "id": "eb2881d8",
   "metadata": {},
   "source": [
    "> bilibili，全称为哔哩哔哩弹幕网，亦称哔哩哔哩、bilibili弹幕网，或简称为B站，是总部位于中国大陆上海的一个以ACG相关内容起家的弹幕视频分享网站。\\\n",
    "作为数据分析课程的期末论文，本项目打算从0开始收集B站的番剧数据，包括`播放量`、`追番人数`、`弹幕总数`、`评分`、`评分人数`等等一系列变量。\\\n",
    "而后进行数据的分析与可视化，数据分析部分主要是建立回归模型寻找播放量与其他变量之间的关系，可视化部分主要是对番剧类型进行研究。"
   ]
  },
  {
   "cell_type": "code",
   "execution_count": 63,
   "id": "b249fcc9",
   "metadata": {
    "ExecuteTime": {
     "end_time": "2021-12-22T10:50:26.858623Z",
     "start_time": "2021-12-22T10:50:26.709346Z"
    }
   },
   "outputs": [
    {
     "name": "stdout",
     "output_type": "stream",
     "text": [
      "\u001b[01;34m.\u001b[0m\r\n",
      "├── B站番剧分析.ipynb\r\n",
      "├── \u001b[01;34mdata\u001b[0m\r\n",
      "│   ├── BLBLdata.xlsx\r\n",
      "│   └── mdidlist.txt\r\n",
      "└── \u001b[01;34mfigure\u001b[0m\r\n",
      "    └── \u001b[01;35mcorr.jpg\u001b[0m\r\n",
      "\r\n",
      "2 directories, 4 files\r\n"
     ]
    }
   ],
   "source": [
    "!tree"
   ]
  },
  {
   "cell_type": "markdown",
   "id": "3b6393bc",
   "metadata": {},
   "source": [
    "**这里的番剧不仅仅包含动画内容、也包含电影、剧集等，只要包含在B站media之中的内容都进行统计分析**"
   ]
  },
  {
   "cell_type": "markdown",
   "id": "3942cb9c",
   "metadata": {},
   "source": [
    "# 数据抓取"
   ]
  },
  {
   "cell_type": "markdown",
   "id": "9b1b022a",
   "metadata": {},
   "source": [
    "## 使用到的库"
   ]
  },
  {
   "cell_type": "code",
   "execution_count": 1,
   "id": "dd221e53",
   "metadata": {
    "ExecuteTime": {
     "end_time": "2021-12-22T10:38:35.569045Z",
     "start_time": "2021-12-22T10:38:35.027661Z"
    }
   },
   "outputs": [],
   "source": [
    "import re\n",
    "import time\n",
    "from datetime import datetime\n",
    "\n",
    "import pandas as pd\n",
    "\n",
    "import requests\n",
    "import parsel"
   ]
  },
  {
   "cell_type": "markdown",
   "id": "deb5ae0e",
   "metadata": {},
   "source": [
    "## 下载网页"
   ]
  },
  {
   "cell_type": "markdown",
   "id": "112eb6d1",
   "metadata": {},
   "source": [
    "已知番剧的media id时，使用requests库下载网页（本项目涉及的全是网页的静态内容），注意编码格式为utf-8"
   ]
  },
  {
   "cell_type": "code",
   "execution_count": 2,
   "id": "4bd294c4",
   "metadata": {
    "ExecuteTime": {
     "end_time": "2021-12-22T10:38:36.487849Z",
     "start_time": "2021-12-22T10:38:36.484671Z"
    }
   },
   "outputs": [],
   "source": [
    "def gethtml(mdid):\n",
    "    '''\n",
    "    获取哔哩哔哩番剧详情页面的html文本\n",
    "    input  mdid【int】\n",
    "    output 对应番剧的详情页面【str】\n",
    "    '''\n",
    "\n",
    "    url = f'https://www.bilibili.com/bangumi/media/md{mdid}'\n",
    "    response = requests.get(url)\n",
    "    response.encoding = 'utf8'\n",
    "    html = response.text\n",
    "    # B站域名下非法的网址会跳转到错误页面，包含以下字符串\n",
    "    if 'Σ(oﾟдﾟoﾉ) 无法找到该页面~' in html:\n",
    "        html = 'invalid'\n",
    "    return html"
   ]
  },
  {
   "cell_type": "markdown",
   "id": "c228b292",
   "metadata": {},
   "source": [
    "## 处理网页信息"
   ]
  },
  {
   "cell_type": "markdown",
   "id": "fcc6c264",
   "metadata": {},
   "source": [
    "### 处理数字"
   ]
  },
  {
   "cell_type": "markdown",
   "id": "9cd6741a",
   "metadata": {},
   "source": [
    "B站的播放量、追番数以及弹幕数经常以万或者亿结尾，写一个函数转换一下"
   ]
  },
  {
   "cell_type": "code",
   "execution_count": 3,
   "id": "77567ebe",
   "metadata": {
    "ExecuteTime": {
     "end_time": "2021-12-22T10:38:37.773051Z",
     "start_time": "2021-12-22T10:38:37.769709Z"
    }
   },
   "outputs": [],
   "source": [
    "def eval_playdata(s):\n",
    "    '''\n",
    "    把playdata中的xxx万、亿转换为数字\n",
    "    input  s【str】\n",
    "    output 对应数字表达的整数值【int】\n",
    "    '''\n",
    "\n",
    "    d = {'万': 1e4, '亿': 1e8}\n",
    "    try:\n",
    "        #没有汉字，纯数字\n",
    "        ans = eval(s)\n",
    "    except SyntaxError:\n",
    "        # 判断末尾是不是万或者亿，否则报错\n",
    "        if s[-1] in d:\n",
    "            ans = int(eval(s[:-1]) * d[s[-1]])\n",
    "        else:\n",
    "            ans = 'NA'\n",
    "    return ans"
   ]
  },
  {
   "cell_type": "markdown",
   "id": "f94fbf30",
   "metadata": {},
   "source": [
    "### 处理日期"
   ]
  },
  {
   "cell_type": "markdown",
   "id": "62da4a5e",
   "metadata": {},
   "source": [
    "由于B站对开播时间的描述不尽相同，故而特别处理一下\\\n",
    "大致有一下几种情况：\n",
    "- %Y年%m月%d日开播【例如[md7](https://www.bilibili.com/bangumi/media/md7)】\n",
    "- %Y年%m月开播【例如[md9892](https://www.bilibili.com/bangumi/media/md9892)】\n",
    "- %Y年开播【例如[md9352](https://www.bilibili.com/bangumi/media/md9352)】\n",
    "- %Y年%m月%d日上映【例如[md10086](https://www.bilibili.com/bangumi/media/md10086)】\n",
    "- %Y开播【例如[md27372](https://www.bilibili.com/bangumi/media/md27372)】\n",
    "\n",
    "对于不满足以上规范的时间，不做错误处理，直接排除掉这些数据"
   ]
  },
  {
   "cell_type": "code",
   "execution_count": 4,
   "id": "a2ad827e",
   "metadata": {
    "ExecuteTime": {
     "end_time": "2021-12-22T10:38:38.671553Z",
     "start_time": "2021-12-22T10:38:38.668316Z"
    }
   },
   "outputs": [],
   "source": [
    "def eval_broadcast_date(s):\n",
    "    '''\n",
    "    把播放日期格式化为datetime格式\n",
    "    input  s【str】\n",
    "    output 日期表达的datetime【datetime】\n",
    "    '''\n",
    "    \n",
    "    if '日' in s:\n",
    "        ans = datetime.strptime(s[:-2], '%Y年%m月%d日')\n",
    "    elif '月' in s:\n",
    "        ans = datetime.strptime(s[:-2], '%Y年%m月')\n",
    "    elif '年' in s:\n",
    "        ans = datetime.strptime(s[:-2], '%Y年')\n",
    "    else:\n",
    "        ans = datetime.strptime(s[:-2], '%Y')\n",
    "    \n",
    "    return ans"
   ]
  },
  {
   "cell_type": "markdown",
   "id": "08bd9101",
   "metadata": {},
   "source": [
    "### 估算番剧长度"
   ]
  },
  {
   "cell_type": "markdown",
   "id": "2a01a346",
   "metadata": {},
   "source": [
    "如果番剧还在连载，就返回NA"
   ]
  },
  {
   "cell_type": "code",
   "execution_count": 5,
   "id": "a2313f3b",
   "metadata": {
    "ExecuteTime": {
     "end_time": "2021-12-22T10:38:39.676504Z",
     "start_time": "2021-12-22T10:38:39.671716Z"
    }
   },
   "outputs": [],
   "source": [
    "def eval_length(over):\n",
    "    '''\n",
    "    估算番剧的长度\n",
    "    input  over【str】,例如'已完结，全3集'或者'123分钟'\n",
    "    output 番剧总长度，单位为分钟【int】\n",
    "    '''\n",
    "    # 去除掉空格\n",
    "    over = over.replace(' ','')\n",
    "    ### 连载中\n",
    "    if '更新' in over:\n",
    "        return 'NA'\n",
    "    ### 已完结\n",
    "    # 电影\n",
    "    elif over[-2:]=='分钟':\n",
    "        length = int(over[:-2])\n",
    "    # 动画\n",
    "    elif over[-1]=='话':\n",
    "        # 按照每一话25分钟估算\n",
    "        length = int(over[5:-1])*25\n",
    "    # 剧集\n",
    "    elif over[-1]=='集':\n",
    "        # 按照每一集45分钟估算\n",
    "        length = int(over[5:-1])*45\n",
    "    else:\n",
    "        length = 'NA'\n",
    "    return length"
   ]
  },
  {
   "cell_type": "markdown",
   "id": "902e670b",
   "metadata": {},
   "source": [
    "## 汇总信息"
   ]
  },
  {
   "cell_type": "markdown",
   "id": "8e4241f5",
   "metadata": {},
   "source": [
    "这里主要使用re库配合正则表达式，以及parsel库的css选择器，对网页的元素进行筛选"
   ]
  },
  {
   "cell_type": "code",
   "execution_count": 6,
   "id": "79d017a7",
   "metadata": {
    "ExecuteTime": {
     "end_time": "2021-12-22T10:38:40.600966Z",
     "start_time": "2021-12-22T10:38:40.592051Z"
    }
   },
   "outputs": [],
   "source": [
    "def getinfo(html):\n",
    "    '''\n",
    "    获取番剧的详细信息\n",
    "    input html【str】\n",
    "    output 提取到的番剧信息【dict】\n",
    "    '''\n",
    "\n",
    "    assert html != 'invalid'\n",
    "    selector = parsel.Selector(html)\n",
    "    # 标题\n",
    "    title = selector.css('.media-info-title-t::text').get()\n",
    "    # 评分\n",
    "    score = selector.css('.media-info-score-content::text').get()\n",
    "    # 评分人数\n",
    "    review_times = selector.css('.media-info-review-times::text').get()\n",
    "    # tags\n",
    "    tags = selector.css('.media-tag::text').getall()\n",
    "    # 播放数据\n",
    "    media_info_label = selector.css('.media-info-label::text').getall()\n",
    "    media_info_play_data = selector.css('em::text').getall()\n",
    "    play_data = dict(zip(media_info_label, media_info_play_data))\n",
    "    # 是否为系列\n",
    "    series = True if '系列' in media_info_label[1] else False\n",
    "    # 播放量、追番数、弹幕数\n",
    "    play_times, followers, bullet_screen = selector.css('em::text').getall()\n",
    "    # 开播时间(是否完结)\n",
    "    ## 这两个时间，用CSS选择器无法正常获取，只能用正则表达式\n",
    "    pattern1 = '<div class=\"media-info-time\"><span>.*</span> <span>.*</span></div>'\n",
    "    prefix_len = len('<div class=\"media-info-time\"><span>')\n",
    "    suffix_len = len('</span></div>')\n",
    "    play_season_str = re.search(pattern1, html)[0]\n",
    "    broadcast_date, _, over = play_season_str.partition('</span> <span>')\n",
    "    broadcast_date, over = broadcast_date[prefix_len:], over[:-suffix_len]\n",
    "    # 是否为电影or剧场版，标注分钟的一般是电影或者剧场版动画\n",
    "    film = True if '分钟' in over else False\n",
    "    # 番剧长度\n",
    "    length = eval_length(over)\n",
    "    # 是否为大会员专享\n",
    "    pattern2 = '<div class=\"btn-pay-wrapper vip-only\">'\n",
    "    vip_only = True if re.search(pattern2, html) else False\n",
    "    # 整理到一个字典里,这个时候尽量把更多的信息保留下来，所以会有很多后缀为str的变量\n",
    "    # 后续可以再把这些变量删掉\n",
    "    info = dict(\n",
    "        title=title,\n",
    "        # 可能没有评分\n",
    "        score=eval(score) if score else 'NA',\n",
    "        review_times=int(review_times[:-2]) if review_times else 'NA',\n",
    "        # tags用逗号连接\n",
    "        tags=','.join(tags),\n",
    "        # play_data=str(play_data),\n",
    "        series=series,\n",
    "        film=film,\n",
    "        # xxx万、亿转换为数字\n",
    "        play_times=eval_playdata(play_times),\n",
    "        followers=eval_playdata(followers),\n",
    "        bullet_screen=eval_playdata(bullet_screen),\n",
    "        # 字符串时间\n",
    "        broadcast_date_str=broadcast_date,\n",
    "        # 转换为时间类型\n",
    "        broadcast_date=eval_broadcast_date(broadcast_date),\n",
    "        over_str=over,\n",
    "        over=True if over[:3] == '已完结' else False,\n",
    "        length=length,\n",
    "        vip_only=vip_only)\n",
    "    return info"
   ]
  },
  {
   "cell_type": "code",
   "execution_count": 7,
   "id": "bfc3791c",
   "metadata": {
    "ExecuteTime": {
     "end_time": "2021-12-22T10:38:42.060475Z",
     "start_time": "2021-12-22T10:38:41.931840Z"
    }
   },
   "outputs": [
    {
     "data": {
      "text/plain": [
       "{'title': '旷野青春',\n",
       " 'score': 9.2,\n",
       " 'review_times': 133,\n",
       " 'tags': '人文,自然',\n",
       " 'series': False,\n",
       " 'film': False,\n",
       " 'play_times': 764000,\n",
       " 'followers': 20000,\n",
       " 'bullet_screen': 2760,\n",
       " 'broadcast_date_str': '2019年12月23日开播',\n",
       " 'broadcast_date': datetime.datetime(2019, 12, 23, 0, 0),\n",
       " 'over_str': '连载中, 每周一、周五更新1集',\n",
       " 'over': False,\n",
       " 'length': 'NA',\n",
       " 'vip_only': False}"
      ]
     },
     "execution_count": 7,
     "metadata": {},
     "output_type": "execute_result"
    }
   ],
   "source": [
    "# 运行示例\n",
    "getinfo(gethtml(28226002))"
   ]
  },
  {
   "cell_type": "markdown",
   "id": "ec0f387c",
   "metadata": {},
   "source": [
    "### 获取合法的mdid"
   ]
  },
  {
   "cell_type": "markdown",
   "id": "ff4a40c7",
   "metadata": {},
   "source": [
    "由于B站的media id是顺序编号的，故而我们这里尝试从0开始往后一次遍历，每次调用函数都会在以及遍历的基础上再向前寻找n个。（B站目前的编号大概已经到了2千万，所以数据量很大，本项目只获取了1万4千余条数据）"
   ]
  },
  {
   "cell_type": "code",
   "execution_count": 8,
   "id": "4a2dc793",
   "metadata": {
    "ExecuteTime": {
     "end_time": "2021-12-22T10:38:44.832550Z",
     "start_time": "2021-12-22T10:38:44.826586Z"
    }
   },
   "outputs": [],
   "source": [
    "def moremdid(n):\n",
    "    '''\n",
    "    读取本地的mdidlist.txt文件中的mdid，接着探索更多可能的mdid\n",
    "    input  n【int】\n",
    "    output 所有已知合法的mdid【list】\n",
    "    '''\n",
    "\n",
    "    # 读取文件中的mdidlist\n",
    "    with open('./data/mdidlist.txt', mode='r') as f:\n",
    "        mdid = list(map(lambda x: eval(x[:-1]), f.readlines()))\n",
    "        f.close()\n",
    "    start = mdid[-1] + 1\n",
    "    for i in range(start, start + n):\n",
    "        # 如果页面不存在，返回404是逻辑上的FLase\n",
    "        if requests.get(f'https://www.bilibili.com/bangumi/media/md{i}'):\n",
    "            mdid.append(i)\n",
    "    # 覆盖写，更新源文件中的mdidlist\n",
    "    with open('./data/mdidlist.txt', mode='w') as f:\n",
    "        f.writelines(map(lambda x: str(x) + '\\n', mdid))\n",
    "        f.close()\n",
    "    print(f'completed, length of mdid now is {len(mdid)}')\n",
    "    return mdid"
   ]
  },
  {
   "cell_type": "markdown",
   "id": "27c9e996",
   "metadata": {},
   "source": [
    "### 整合数据"
   ]
  },
  {
   "cell_type": "markdown",
   "id": "335ce73b",
   "metadata": {},
   "source": [
    "使用pandas把上面整理好的数据汇总到一起"
   ]
  },
  {
   "cell_type": "code",
   "execution_count": 9,
   "id": "04556675",
   "metadata": {
    "ExecuteTime": {
     "end_time": "2021-12-22T10:38:45.985141Z",
     "start_time": "2021-12-22T10:38:45.981439Z"
    }
   },
   "outputs": [],
   "source": [
    "def generate_df(mdid):\n",
    "    '''\n",
    "    获取mdid中所有番剧的信息，放到一个df中\n",
    "    input mdid【list】\n",
    "    output 汇总的所有番剧信息【pandas.DataFrame】\n",
    "    '''\n",
    "    l = []\n",
    "    for i in mdid:\n",
    "        # 不要过快访问\n",
    "        time.sleep(0.1)\n",
    "        # 用try语句捕获错误，尽量让程序一运行发现更多的错误\n",
    "        try:\n",
    "            html = gethtml(i)\n",
    "            info = getinfo(html)\n",
    "            info['mdid'] = i\n",
    "            l.append(info)\n",
    "        except Exception as e:\n",
    "            # 不过exception不是很多就放弃那些报错的数据\n",
    "            print(repr(e))\n",
    "            print(f'{i} failed!')\n",
    "    return pd.DataFrame(l)"
   ]
  },
  {
   "cell_type": "markdown",
   "id": "5bed76a7",
   "metadata": {},
   "source": [
    "## 代码运行"
   ]
  },
  {
   "cell_type": "code",
   "execution_count": 10,
   "id": "1c6dfc10",
   "metadata": {
    "ExecuteTime": {
     "end_time": "2021-12-22T10:38:47.107704Z",
     "start_time": "2021-12-22T10:38:47.027466Z"
    }
   },
   "outputs": [
    {
     "name": "stdout",
     "output_type": "stream",
     "text": [
      "completed, length of mdid now is 14685\n"
     ]
    }
   ],
   "source": [
    "# 读取本地的mdlist文件\n",
    "mdid = moremdid(0)"
   ]
  },
  {
   "cell_type": "code",
   "execution_count": 11,
   "id": "21a83c10",
   "metadata": {
    "ExecuteTime": {
     "end_time": "2021-12-22T10:38:53.474743Z",
     "start_time": "2021-12-22T10:38:53.060648Z"
    },
    "scrolled": true
   },
   "outputs": [],
   "source": [
    "# 获取mdid中包含的所有番剧信息，汇总到一个df中，这里就获取两个作为例子\n",
    "df = generate_df(mdid[:2])"
   ]
  },
  {
   "cell_type": "code",
   "execution_count": 12,
   "id": "f6940d17",
   "metadata": {
    "ExecuteTime": {
     "end_time": "2021-12-22T10:38:54.914484Z",
     "start_time": "2021-12-22T10:38:54.898671Z"
    }
   },
   "outputs": [
    {
     "data": {
      "text/html": [
       "<div>\n",
       "<style scoped>\n",
       "    .dataframe tbody tr th:only-of-type {\n",
       "        vertical-align: middle;\n",
       "    }\n",
       "\n",
       "    .dataframe tbody tr th {\n",
       "        vertical-align: top;\n",
       "    }\n",
       "\n",
       "    .dataframe thead th {\n",
       "        text-align: right;\n",
       "    }\n",
       "</style>\n",
       "<table border=\"1\" class=\"dataframe\">\n",
       "  <thead>\n",
       "    <tr style=\"text-align: right;\">\n",
       "      <th></th>\n",
       "      <th>title</th>\n",
       "      <th>score</th>\n",
       "      <th>review_times</th>\n",
       "      <th>tags</th>\n",
       "      <th>series</th>\n",
       "      <th>film</th>\n",
       "      <th>play_times</th>\n",
       "      <th>followers</th>\n",
       "      <th>bullet_screen</th>\n",
       "      <th>broadcast_date_str</th>\n",
       "      <th>broadcast_date</th>\n",
       "      <th>over_str</th>\n",
       "      <th>over</th>\n",
       "      <th>length</th>\n",
       "      <th>vip_only</th>\n",
       "      <th>mdid</th>\n",
       "    </tr>\n",
       "  </thead>\n",
       "  <tbody>\n",
       "    <tr>\n",
       "      <th>0</th>\n",
       "      <td>漫研部</td>\n",
       "      <td>8.7</td>\n",
       "      <td>224</td>\n",
       "      <td>搞笑,泡面,日常,校园</td>\n",
       "      <td>True</td>\n",
       "      <td>False</td>\n",
       "      <td>1080000</td>\n",
       "      <td>92000</td>\n",
       "      <td>5283</td>\n",
       "      <td>2013年1月3日开播</td>\n",
       "      <td>2013-01-03</td>\n",
       "      <td>已完结, 全13话</td>\n",
       "      <td>True</td>\n",
       "      <td>325</td>\n",
       "      <td>False</td>\n",
       "      <td>7</td>\n",
       "    </tr>\n",
       "    <tr>\n",
       "      <th>1</th>\n",
       "      <td>漫研部~妄想突变~</td>\n",
       "      <td>8.1</td>\n",
       "      <td>156</td>\n",
       "      <td>搞笑,泡面,校园,日常</td>\n",
       "      <td>True</td>\n",
       "      <td>False</td>\n",
       "      <td>624000</td>\n",
       "      <td>92000</td>\n",
       "      <td>2910</td>\n",
       "      <td>2014年7月8日开播</td>\n",
       "      <td>2014-07-08</td>\n",
       "      <td>已完结, 全12话</td>\n",
       "      <td>True</td>\n",
       "      <td>300</td>\n",
       "      <td>False</td>\n",
       "      <td>8</td>\n",
       "    </tr>\n",
       "  </tbody>\n",
       "</table>\n",
       "</div>"
      ],
      "text/plain": [
       "       title  score  review_times         tags  series   film  play_times  \\\n",
       "0        漫研部    8.7           224  搞笑,泡面,日常,校园    True  False     1080000   \n",
       "1  漫研部~妄想突变~    8.1           156  搞笑,泡面,校园,日常    True  False      624000   \n",
       "\n",
       "   followers  bullet_screen broadcast_date_str broadcast_date   over_str  \\\n",
       "0      92000           5283        2013年1月3日开播     2013-01-03  已完结, 全13话   \n",
       "1      92000           2910        2014年7月8日开播     2014-07-08  已完结, 全12话   \n",
       "\n",
       "   over  length  vip_only  mdid  \n",
       "0  True     325     False     7  \n",
       "1  True     300     False     8  "
      ]
     },
     "execution_count": 12,
     "metadata": {},
     "output_type": "execute_result"
    }
   ],
   "source": [
    "df"
   ]
  },
  {
   "cell_type": "code",
   "execution_count": 13,
   "id": "bc8af58d",
   "metadata": {
    "ExecuteTime": {
     "end_time": "2021-12-22T10:39:03.037182Z",
     "start_time": "2021-12-22T10:39:03.032894Z"
    }
   },
   "outputs": [],
   "source": [
    "# 保存文件，以备后续处理\n",
    "df.to_excel('./data/BLBLdata.xlsx', index=False, encoding='utf-8')"
   ]
  },
  {
   "cell_type": "markdown",
   "id": "dbf81919",
   "metadata": {},
   "source": [
    "# 一元线性回归"
   ]
  },
  {
   "cell_type": "markdown",
   "id": "71c87457",
   "metadata": {},
   "source": [
    "## 重置"
   ]
  },
  {
   "cell_type": "code",
   "execution_count": 14,
   "id": "52966ce4",
   "metadata": {
    "ExecuteTime": {
     "end_time": "2021-12-22T10:39:55.224538Z",
     "start_time": "2021-12-22T10:39:53.805681Z"
    }
   },
   "outputs": [
    {
     "name": "stdout",
     "output_type": "stream",
     "text": [
      "Once deleted, variables cannot be recovered. Proceed (y/[n])? y\n"
     ]
    }
   ],
   "source": [
    "# 重置\n",
    "%reset"
   ]
  },
  {
   "cell_type": "markdown",
   "id": "52500742",
   "metadata": {},
   "source": [
    "## 用到的库"
   ]
  },
  {
   "cell_type": "code",
   "execution_count": 1,
   "id": "0d3a27f3",
   "metadata": {
    "ExecuteTime": {
     "end_time": "2021-12-22T12:23:19.464830Z",
     "start_time": "2021-12-22T12:23:18.494787Z"
    }
   },
   "outputs": [],
   "source": [
    "import pandas as pd\n",
    "import numpy as np\n",
    "import statsmodels.api as sm\n",
    "from patsy import dmatrices\n",
    "import matplotlib.pyplot as plt\n",
    "import seaborn as sns"
   ]
  },
  {
   "cell_type": "code",
   "execution_count": 2,
   "id": "2ebce1da",
   "metadata": {
    "ExecuteTime": {
     "end_time": "2021-12-22T12:23:22.355473Z",
     "start_time": "2021-12-22T12:23:19.490086Z"
    }
   },
   "outputs": [
    {
     "data": {
      "text/plain": [
       "(14267, 16)"
      ]
     },
     "execution_count": 2,
     "metadata": {},
     "output_type": "execute_result"
    }
   ],
   "source": [
    "# 读取数据\n",
    "df = pd.read_excel('./data/BLBLdata.xlsx')\n",
    "df.shape"
   ]
  },
  {
   "cell_type": "code",
   "execution_count": 17,
   "id": "7541229f",
   "metadata": {
    "ExecuteTime": {
     "end_time": "2021-12-22T10:40:01.505963Z",
     "start_time": "2021-12-22T10:40:01.501336Z"
    }
   },
   "outputs": [
    {
     "data": {
      "text/plain": [
       "title                                 漫研部\n",
       "score                                 8.7\n",
       "review_times                        224.0\n",
       "tags                          搞笑,泡面,日常,校园\n",
       "series                               True\n",
       "film                                False\n",
       "play_times                      1079000.0\n",
       "followers                         92000.0\n",
       "bullet_screen                      5283.0\n",
       "broadcast_date_str            2013年1月3日开播\n",
       "broadcast_date        2013-01-03 00:00:00\n",
       "over_str                        已完结, 全13话\n",
       "over                                 True\n",
       "length                              325.0\n",
       "vip_only                            False\n",
       "mdid                                    7\n",
       "Name: 0, dtype: object"
      ]
     },
     "execution_count": 17,
     "metadata": {},
     "output_type": "execute_result"
    }
   ],
   "source": [
    "df.loc[0]"
   ]
  },
  {
   "cell_type": "code",
   "execution_count": 72,
   "id": "04b151bf",
   "metadata": {
    "ExecuteTime": {
     "end_time": "2021-12-22T10:55:32.790942Z",
     "start_time": "2021-12-22T10:55:32.786127Z"
    }
   },
   "outputs": [
    {
     "data": {
      "text/plain": [
       "(14267, 6)"
      ]
     },
     "execution_count": 72,
     "metadata": {},
     "output_type": "execute_result"
    }
   ],
   "source": [
    "# 回归可能用到的数据\n",
    "variables = ['series','play_times','followers','bullet_screen','over','vip_only']\n",
    "df_ols = df.loc[ : , variables]\n",
    "df_ols.shape"
   ]
  },
  {
   "cell_type": "code",
   "execution_count": 73,
   "id": "11f97181",
   "metadata": {
    "ExecuteTime": {
     "end_time": "2021-12-22T10:55:33.163765Z",
     "start_time": "2021-12-22T10:55:33.158014Z"
    }
   },
   "outputs": [
    {
     "data": {
      "text/plain": [
       "(13246, 6)"
      ]
     },
     "execution_count": 73,
     "metadata": {},
     "output_type": "execute_result"
    }
   ],
   "source": [
    "# 含有的数据缺失值舍去\n",
    "df_ols.dropna(inplace=True)\n",
    "df_ols.shape"
   ]
  },
  {
   "cell_type": "code",
   "execution_count": 74,
   "id": "47d5e008",
   "metadata": {
    "ExecuteTime": {
     "end_time": "2021-12-22T10:55:33.571803Z",
     "start_time": "2021-12-22T10:55:33.561429Z"
    }
   },
   "outputs": [
    {
     "data": {
      "text/html": [
       "<div>\n",
       "<style scoped>\n",
       "    .dataframe tbody tr th:only-of-type {\n",
       "        vertical-align: middle;\n",
       "    }\n",
       "\n",
       "    .dataframe tbody tr th {\n",
       "        vertical-align: top;\n",
       "    }\n",
       "\n",
       "    .dataframe thead th {\n",
       "        text-align: right;\n",
       "    }\n",
       "</style>\n",
       "<table border=\"1\" class=\"dataframe\">\n",
       "  <thead>\n",
       "    <tr style=\"text-align: right;\">\n",
       "      <th></th>\n",
       "      <th>series</th>\n",
       "      <th>play_times</th>\n",
       "      <th>followers</th>\n",
       "      <th>bullet_screen</th>\n",
       "      <th>over</th>\n",
       "      <th>vip_only</th>\n",
       "    </tr>\n",
       "  </thead>\n",
       "  <tbody>\n",
       "    <tr>\n",
       "      <th>0</th>\n",
       "      <td>True</td>\n",
       "      <td>1079000.0</td>\n",
       "      <td>92000.0</td>\n",
       "      <td>5283.0</td>\n",
       "      <td>True</td>\n",
       "      <td>False</td>\n",
       "    </tr>\n",
       "    <tr>\n",
       "      <th>1</th>\n",
       "      <td>True</td>\n",
       "      <td>624000.0</td>\n",
       "      <td>92000.0</td>\n",
       "      <td>2910.0</td>\n",
       "      <td>True</td>\n",
       "      <td>False</td>\n",
       "    </tr>\n",
       "    <tr>\n",
       "      <th>2</th>\n",
       "      <td>False</td>\n",
       "      <td>288000.0</td>\n",
       "      <td>43000.0</td>\n",
       "      <td>16000.0</td>\n",
       "      <td>True</td>\n",
       "      <td>False</td>\n",
       "    </tr>\n",
       "    <tr>\n",
       "      <th>3</th>\n",
       "      <td>True</td>\n",
       "      <td>1693000.0</td>\n",
       "      <td>194000.0</td>\n",
       "      <td>7656.0</td>\n",
       "      <td>True</td>\n",
       "      <td>False</td>\n",
       "    </tr>\n",
       "    <tr>\n",
       "      <th>4</th>\n",
       "      <td>True</td>\n",
       "      <td>1684000.0</td>\n",
       "      <td>194000.0</td>\n",
       "      <td>5774.0</td>\n",
       "      <td>True</td>\n",
       "      <td>False</td>\n",
       "    </tr>\n",
       "  </tbody>\n",
       "</table>\n",
       "</div>"
      ],
      "text/plain": [
       "   series  play_times  followers  bullet_screen  over  vip_only\n",
       "0    True   1079000.0    92000.0         5283.0  True     False\n",
       "1    True    624000.0    92000.0         2910.0  True     False\n",
       "2   False    288000.0    43000.0        16000.0  True     False\n",
       "3    True   1693000.0   194000.0         7656.0  True     False\n",
       "4    True   1684000.0   194000.0         5774.0  True     False"
      ]
     },
     "execution_count": 74,
     "metadata": {},
     "output_type": "execute_result"
    }
   ],
   "source": [
    "df_ols.head()"
   ]
  },
  {
   "cell_type": "markdown",
   "id": "32d602d5",
   "metadata": {},
   "source": [
    "## 相关系数可视化"
   ]
  },
  {
   "cell_type": "code",
   "execution_count": 75,
   "id": "3be06920",
   "metadata": {
    "ExecuteTime": {
     "end_time": "2021-12-22T10:55:34.928427Z",
     "start_time": "2021-12-22T10:55:34.376537Z"
    }
   },
   "outputs": [
    {
     "data": {
      "image/png": "[encoded data removed]",
      "text/plain": [
       "<Figure size 432x432 with 2 Axes>"
      ]
     },
     "metadata": {
      "needs_background": "light"
     },
     "output_type": "display_data"
    }
   ],
   "source": [
    "cor_mat = df_ols.corr()\n",
    "dim = cor_mat.shape[0]\n",
    "names = cor_mat.columns\n",
    "for i in range(dim):\n",
    "    for j in range(dim):\n",
    "        if i < j:\n",
    "            x = names[i]\n",
    "            y = names[j]\n",
    "            cor_mat.loc[x, y] = np.nan\n",
    "plt.subplots(figsize=(dim, dim))\n",
    "sns.heatmap(cor_mat, annot=True, vmax=1, square=False, cmap=\"Blues\", cbar=True,\n",
    "            annot_kws={\"size\": 12})\n",
    "plt.yticks(size=12, rotation=0)\n",
    "plt.xticks(size=12, rotation=30)\n",
    "plt.title('Correlation coefficient',size=13)\n",
    "plt.savefig(f'./figure/corr.jpg', dpi=200, bbox_inches='tight')"
   ]
  },
  {
   "cell_type": "markdown",
   "id": "5a20a736",
   "metadata": {},
   "source": [
    "## 建立线性回归模型"
   ]
  },
  {
   "cell_type": "markdown",
   "id": "7188e8f5",
   "metadata": {},
   "source": [
    "### 选取变量"
   ]
  },
  {
   "cell_type": "code",
   "execution_count": 134,
   "id": "bb5c03d6",
   "metadata": {
    "ExecuteTime": {
     "end_time": "2021-12-22T11:10:02.963490Z",
     "start_time": "2021-12-22T11:10:02.953615Z"
    }
   },
   "outputs": [],
   "source": [
    "# 观察相关系数，选取和响应变量相关系数最大的追番人数建立回归模型\n",
    "y, X = dmatrices(\n",
    "    formula_like = 'play_times ~  followers',\n",
    "    data=df_ols,\n",
    "    return_type='dataframe')"
   ]
  },
  {
   "cell_type": "markdown",
   "id": "6a4aa254",
   "metadata": {},
   "source": [
    "### 建立模型并且求解模型"
   ]
  },
  {
   "cell_type": "code",
   "execution_count": 135,
   "id": "60023381",
   "metadata": {
    "ExecuteTime": {
     "end_time": "2021-12-22T11:10:03.813796Z",
     "start_time": "2021-12-22T11:10:03.794735Z"
    }
   },
   "outputs": [
    {
     "data": {
      "text/html": [
       "<table class=\"simpletable\">\n",
       "<caption>OLS Regression Results</caption>\n",
       "<tr>\n",
       "  <th>Dep. Variable:</th>       <td>play_times</td>    <th>  R-squared:         </th>  <td>   0.331</td>  \n",
       "</tr>\n",
       "<tr>\n",
       "  <th>Model:</th>                   <td>OLS</td>       <th>  Adj. R-squared:    </th>  <td>   0.331</td>  \n",
       "</tr>\n",
       "<tr>\n",
       "  <th>Method:</th>             <td>Least Squares</td>  <th>  F-statistic:       </th>  <td>   6545.</td>  \n",
       "</tr>\n",
       "<tr>\n",
       "  <th>Date:</th>             <td>Wed, 22 Dec 2021</td> <th>  Prob (F-statistic):</th>   <td>  0.00</td>   \n",
       "</tr>\n",
       "<tr>\n",
       "  <th>Time:</th>                 <td>19:10:03</td>     <th>  Log-Likelihood:    </th> <td>-2.4226e+05</td>\n",
       "</tr>\n",
       "<tr>\n",
       "  <th>No. Observations:</th>      <td> 13246</td>      <th>  AIC:               </th>  <td>4.845e+05</td> \n",
       "</tr>\n",
       "<tr>\n",
       "  <th>Df Residuals:</th>          <td> 13244</td>      <th>  BIC:               </th>  <td>4.845e+05</td> \n",
       "</tr>\n",
       "<tr>\n",
       "  <th>Df Model:</th>              <td>     1</td>      <th>                     </th>      <td> </td>     \n",
       "</tr>\n",
       "<tr>\n",
       "  <th>Covariance Type:</th>      <td>nonrobust</td>    <th>                     </th>      <td> </td>     \n",
       "</tr>\n",
       "</table>\n",
       "<table class=\"simpletable\">\n",
       "<tr>\n",
       "      <td></td>         <th>coef</th>     <th>std err</th>      <th>t</th>      <th>P>|t|</th>  <th>[0.025</th>    <th>0.975]</th>  \n",
       "</tr>\n",
       "<tr>\n",
       "  <th>Intercept</th> <td> 3.797e+05</td> <td> 1.93e+05</td> <td>    1.967</td> <td> 0.049</td> <td> 1355.919</td> <td> 7.58e+05</td>\n",
       "</tr>\n",
       "<tr>\n",
       "  <th>followers</th> <td>   15.6317</td> <td>    0.193</td> <td>   80.901</td> <td> 0.000</td> <td>   15.253</td> <td>   16.010</td>\n",
       "</tr>\n",
       "</table>\n",
       "<table class=\"simpletable\">\n",
       "<tr>\n",
       "  <th>Omnibus:</th>       <td>25139.256</td> <th>  Durbin-Watson:     </th>   <td>   1.842</td>  \n",
       "</tr>\n",
       "<tr>\n",
       "  <th>Prob(Omnibus):</th>  <td> 0.000</td>   <th>  Jarque-Bera (JB):  </th> <td>86853401.343</td>\n",
       "</tr>\n",
       "<tr>\n",
       "  <th>Skew:</th>           <td>14.372</td>   <th>  Prob(JB):          </th>   <td>    0.00</td>  \n",
       "</tr>\n",
       "<tr>\n",
       "  <th>Kurtosis:</th>       <td>398.652</td>  <th>  Cond. No.          </th>   <td>1.05e+06</td>  \n",
       "</tr>\n",
       "</table><br/><br/>Notes:<br/>[1] Standard Errors assume that the covariance matrix of the errors is correctly specified.<br/>[2] The condition number is large, 1.05e+06. This might indicate that there are<br/>strong multicollinearity or other numerical problems."
      ],
      "text/plain": [
       "<class 'statsmodels.iolib.summary.Summary'>\n",
       "\"\"\"\n",
       "                            OLS Regression Results                            \n",
       "==============================================================================\n",
       "Dep. Variable:             play_times   R-squared:                       0.331\n",
       "Model:                            OLS   Adj. R-squared:                  0.331\n",
       "Method:                 Least Squares   F-statistic:                     6545.\n",
       "Date:                Wed, 22 Dec 2021   Prob (F-statistic):               0.00\n",
       "Time:                        19:10:03   Log-Likelihood:            -2.4226e+05\n",
       "No. Observations:               13246   AIC:                         4.845e+05\n",
       "Df Residuals:                   13244   BIC:                         4.845e+05\n",
       "Df Model:                           1                                         \n",
       "Covariance Type:            nonrobust                                         \n",
       "==============================================================================\n",
       "                 coef    std err          t      P>|t|      [0.025      0.975]\n",
       "------------------------------------------------------------------------------\n",
       "Intercept   3.797e+05   1.93e+05      1.967      0.049    1355.919    7.58e+05\n",
       "followers     15.6317      0.193     80.901      0.000      15.253      16.010\n",
       "==============================================================================\n",
       "Omnibus:                    25139.256   Durbin-Watson:                   1.842\n",
       "Prob(Omnibus):                  0.000   Jarque-Bera (JB):         86853401.343\n",
       "Skew:                          14.372   Prob(JB):                         0.00\n",
       "Kurtosis:                     398.652   Cond. No.                     1.05e+06\n",
       "==============================================================================\n",
       "\n",
       "Notes:\n",
       "[1] Standard Errors assume that the covariance matrix of the errors is correctly specified.\n",
       "[2] The condition number is large, 1.05e+06. This might indicate that there are\n",
       "strong multicollinearity or other numerical problems.\n",
       "\"\"\""
      ]
     },
     "execution_count": 135,
     "metadata": {},
     "output_type": "execute_result"
    }
   ],
   "source": [
    "model = sm.OLS(y,X).fit()\n",
    "model.summary()"
   ]
  },
  {
   "cell_type": "markdown",
   "id": "ce778125",
   "metadata": {},
   "source": [
    "### 模型拟合可视化"
   ]
  },
  {
   "cell_type": "code",
   "execution_count": 136,
   "id": "dde6a290",
   "metadata": {
    "ExecuteTime": {
     "end_time": "2021-12-22T11:10:06.420345Z",
     "start_time": "2021-12-22T11:10:05.456995Z"
    }
   },
   "outputs": [
    {
     "data": {
      "image/png": "[encoded data removed]",
      "text/plain": [
       "<Figure size 1080x360 with 1 Axes>"
      ]
     },
     "metadata": {
      "needs_background": "light"
     },
     "output_type": "display_data"
    }
   ],
   "source": [
    "fig = plt.figure(figsize=(15, 5))\n",
    "plt.scatter(df_ols.followers, model.fittedvalues, c='blue', label='fitted')\n",
    "plt.scatter(df_ols.followers, df_ols.play_times, c='k', label='raw data')\n",
    "plt.xlabel('followers',size=12)\n",
    "plt.ylabel('play times',size=12)\n",
    "plt.title('fitted OLS model')\n",
    "plt.legend()\n",
    "plt.savefig(f'./figure/fitted_OLS_model.jpg', dpi=200, bbox_inches='tight')"
   ]
  },
  {
   "cell_type": "markdown",
   "id": "a4a84253",
   "metadata": {},
   "source": [
    "实际上回归效果不太好，但是一元线性回归局限于此，更加复杂的模型这里不做过多的探讨"
   ]
  },
  {
   "cell_type": "markdown",
   "id": "ed433451",
   "metadata": {},
   "source": [
    "# 各个类型番剧的数量可视化"
   ]
  },
  {
   "cell_type": "code",
   "execution_count": 3,
   "id": "f2d795b7",
   "metadata": {
    "ExecuteTime": {
     "end_time": "2021-12-22T12:23:23.321867Z",
     "start_time": "2021-12-22T12:23:23.316982Z"
    }
   },
   "outputs": [],
   "source": [
    "from collections import Counter"
   ]
  },
  {
   "cell_type": "code",
   "execution_count": 4,
   "id": "a2e52281",
   "metadata": {
    "ExecuteTime": {
     "end_time": "2021-12-22T12:23:23.524387Z",
     "start_time": "2021-12-22T12:23:23.519723Z"
    },
    "scrolled": true
   },
   "outputs": [
    {
     "data": {
      "text/plain": [
       "0    搞笑,泡面,日常,校园\n",
       "Name: tags, dtype: object"
      ]
     },
     "execution_count": 4,
     "metadata": {},
     "output_type": "execute_result"
    }
   ],
   "source": [
    "# 数据中的tag大多以字符存在，逗号隔开\n",
    "df.head(1)['tags']"
   ]
  },
  {
   "cell_type": "code",
   "execution_count": 5,
   "id": "86ee5107",
   "metadata": {
    "ExecuteTime": {
     "end_time": "2021-12-22T12:23:23.914022Z",
     "start_time": "2021-12-22T12:23:23.901093Z"
    },
    "scrolled": true
   },
   "outputs": [
    {
     "name": "stdout",
     "output_type": "stream",
     "text": [
      "93 \n",
      " 犯罪 少女 特摄 选秀 军旅 人文 职场 玄幻 演唱会 旅行 神话 罪案 古装 社会 原创 宇宙 音乐 动物 惊悚 漫画改 古风 农村 治愈 搞笑 励志 战斗 运动 动作 历史 游戏改 校园 奇幻 催泪 少儿 纪实 爱情 推理 魔法 传记 亲子 神魔 访谈 机战 武侠 偶像 架空 年代 小说改 布袋戏 萌系 恐怖 恋爱 军事 社团 喜剧 探险 情感 神秘 科幻 战争 科技 时泪 经典 悬疑 动态漫 萝莉 热血 动画 泡面 萌宠 日常 晚会 真人秀 刑侦 剧情 冒险 智斗 医疗 青春 旅游 乙女 声控 穿越 灾难 谍战 自然 歌舞 养成 都市 家庭 文化 美食 脱口秀\n"
     ]
    }
   ],
   "source": [
    "# 这一行代码是对全部的tags进行合并、去重\n",
    "tags_set = set(','.join(list(set(df.tags))[1:]).split(','))\n",
    "print(len(tags_set), '\\n', *tags_set)"
   ]
  },
  {
   "cell_type": "code",
   "execution_count": 6,
   "id": "ebd66989",
   "metadata": {
    "ExecuteTime": {
     "end_time": "2021-12-22T12:23:24.244627Z",
     "start_time": "2021-12-22T12:23:24.125513Z"
    }
   },
   "outputs": [],
   "source": [
    "tags_l = []\n",
    "for i in df.index:\n",
    "    # 获取tag的字符串\n",
    "    tag = df.loc[i, 'tags']\n",
    "    if pd.isna(tag):\n",
    "        continue\n",
    "    # 分割为列表，添加到tags_l后面\n",
    "    tags_l += tag.split(',')\n",
    "# 计数\n",
    "tag_count = Counter(tags_l)"
   ]
  },
  {
   "cell_type": "code",
   "execution_count": 7,
   "id": "48feb877",
   "metadata": {
    "ExecuteTime": {
     "end_time": "2021-12-22T12:23:24.362286Z",
     "start_time": "2021-12-22T12:23:24.358462Z"
    },
    "scrolled": true
   },
   "outputs": [],
   "source": [
    "sorted_key = sorted(tag_count, reverse=True,key=lambda x:tag_count.get(x))[:30]\n",
    "sorted_values = [tag_count.get(key) for key in sorted_key][:30]"
   ]
  },
  {
   "cell_type": "code",
   "execution_count": 8,
   "id": "b34180da",
   "metadata": {
    "ExecuteTime": {
     "end_time": "2021-12-22T12:23:24.706978Z",
     "start_time": "2021-12-22T12:23:24.546036Z"
    }
   },
   "outputs": [
    {
     "name": "stdout",
     "output_type": "stream",
     "text": [
      "/usr/share/fonts/dejavu/DejaVuSansMono-BoldOblique.ttf: DejaVu Sans Mono:style=Bold Oblique\r\n",
      "/usr/share/fonts/dejavu/DejaVuSansMono.ttf: DejaVu Sans Mono:style=Book\r\n",
      "/usr/share/fonts/dejavu/DejaVuSansMono-Bold.ttf: DejaVu Sans Mono:style=Bold\r\n",
      "/usr/share/fonts/abattis-cantarell/Cantarell-Bold.otf: Cantarell:style=Bold\r\n",
      "/usr/share/fonts/chinese/SimHei.ttf: SimHei,黑体:style=Regular,Normal,obyčejné,Standard,Κανονικά,Normaali,Normál,Normale,Standaard,Normalny,Обычный,Normálne,Navadno,Arrunta\r\n",
      "/usr/share/fonts/abattis-cantarell/Cantarell-Regular.otf: Cantarell:style=Regular\r\n",
      "/usr/share/fonts/dejavu/DejaVuSansMono-Oblique.ttf: DejaVu Sans Mono:style=Oblique\r\n",
      "/usr/share/fonts/abattis-cantarell/Cantarell-Oblique.otf: Cantarell:style=Oblique\r\n",
      "/usr/share/fonts/abattis-cantarell/Cantarell-BoldOblique.otf: Cantarell:style=BoldOblique\r\n",
      "/usr/share/fonts/chinese/MSYaHei.ttf: Microsoft YaHei,微软雅黑:style=Regular,Normal,obyčejné,Standard,Κανονικά,Normaali,Normál,Normale,Standaard,Normalny,Обычный,Normálne,Navadno,Arrunta\r\n"
     ]
    }
   ],
   "source": [
    "!fc-list"
   ]
  },
  {
   "cell_type": "code",
   "execution_count": 11,
   "id": "91dd4d60",
   "metadata": {
    "ExecuteTime": {
     "end_time": "2021-12-22T12:24:31.474499Z",
     "start_time": "2021-12-22T12:24:29.874562Z"
    },
    "scrolled": false
   },
   "outputs": [
    {
     "name": "stderr",
     "output_type": "stream",
     "text": [
      "/root/anaconda3/lib/python3.9/site-packages/matplotlib/backends/backend_agg.py:240: RuntimeWarning: Glyph 25105 missing from current font.\n",
      "  font.set_text(s, 0.0, flags=flags)\n",
      "/root/anaconda3/lib/python3.9/site-packages/matplotlib/backends/backend_agg.py:203: RuntimeWarning: Glyph 25105 missing from current font.\n",
      "  font.set_text(s, 0, flags=flags)\n"
     ]
    },
    {
     "data": {
      "image/png": "[encoded data removed]",
      "text/plain": [
       "<Figure size 720x720 with 1 Axes>"
      ]
     },
     "metadata": {
      "needs_background": "light"
     },
     "output_type": "display_data"
    }
   ],
   "source": [
    "plt.rcParams['font.sans-serif']=['Microsoft YaHei'] \n",
    "fig = plt.figure(figsize=(10, 10))\n",
    "ax = plt.subplot(111, projection='polar')\n",
    "\n",
    "ax.set_theta_direction(-1)\n",
    "ax.set_theta_zero_location('W')\n",
    "n = len(sorted_key)\n",
    "angle = np.linspace(0, 2 * np.pi * (1 - 1 / n), n)\n",
    "colors = np.random.random((n, 3))\n",
    "for i, theta in enumerate(angle):\n",
    "    ax.bar(theta,\n",
    "           sorted_values[i],\n",
    "           color=colors[i],\n",
    "           width=.3,\n",
    "           label=sorted_key[i])\n",
    "    ax.text(theta - 0.1,\n",
    "            sorted_values[i] + 100,\n",
    "            'sorted_key[i]我',\n",
    "            rotation=90 - theta,\n",
    "#             font='SimHei',\n",
    "           )\n",
    "plt.axis('off')\n",
    "plt.show()"
   ]
  },
  {
   "cell_type": "code",
   "execution_count": 259,
   "id": "fc5af59d",
   "metadata": {
    "ExecuteTime": {
     "end_time": "2021-12-22T12:00:34.025276Z",
     "start_time": "2021-12-22T12:00:34.020723Z"
    }
   },
   "outputs": [],
   "source": [
    "?plt.legend"
   ]
  },
  {
   "cell_type": "code",
   "execution_count": 251,
   "id": "0e1a1a00",
   "metadata": {
    "ExecuteTime": {
     "end_time": "2021-12-22T11:58:26.488418Z",
     "start_time": "2021-12-22T11:58:26.483910Z"
    }
   },
   "outputs": [],
   "source": [
    "ax.bar?"
   ]
  },
  {
   "cell_type": "code",
   "execution_count": null,
   "id": "be05ae2e",
   "metadata": {},
   "outputs": [],
   "source": []
  },
  {
   "cell_type": "code",
   "execution_count": null,
   "id": "8387db82",
   "metadata": {},
   "outputs": [],
   "source": []
  },
  {
   "cell_type": "code",
   "execution_count": 234,
   "id": "eca6331b",
   "metadata": {
    "ExecuteTime": {
     "end_time": "2021-12-22T11:46:37.707288Z",
     "start_time": "2021-12-22T11:46:36.901336Z"
    }
   },
   "outputs": [
    {
     "name": "stderr",
     "output_type": "stream",
     "text": [
      "/root/anaconda3/lib/python3.9/site-packages/matplotlib/backends/backend_agg.py:240: RuntimeWarning: Glyph 21095 missing from current font.\n",
      "  font.set_text(s, 0.0, flags=flags)\n",
      "/root/anaconda3/lib/python3.9/site-packages/matplotlib/backends/backend_agg.py:240: RuntimeWarning: Glyph 24773 missing from current font.\n",
      "  font.set_text(s, 0.0, flags=flags)\n",
      "/root/anaconda3/lib/python3.9/site-packages/matplotlib/backends/backend_agg.py:240: RuntimeWarning: Glyph 22855 missing from current font.\n",
      "  font.set_text(s, 0.0, flags=flags)\n",
      "/root/anaconda3/lib/python3.9/site-packages/matplotlib/backends/backend_agg.py:240: RuntimeWarning: Glyph 24187 missing from current font.\n",
      "  font.set_text(s, 0.0, flags=flags)\n",
      "/root/anaconda3/lib/python3.9/site-packages/matplotlib/backends/backend_agg.py:240: RuntimeWarning: Glyph 20154 missing from current font.\n",
      "  font.set_text(s, 0.0, flags=flags)\n",
      "/root/anaconda3/lib/python3.9/site-packages/matplotlib/backends/backend_agg.py:240: RuntimeWarning: Glyph 25991 missing from current font.\n",
      "  font.set_text(s, 0.0, flags=flags)\n",
      "/root/anaconda3/lib/python3.9/site-packages/matplotlib/backends/backend_agg.py:240: RuntimeWarning: Glyph 25630 missing from current font.\n",
      "  font.set_text(s, 0.0, flags=flags)\n",
      "/root/anaconda3/lib/python3.9/site-packages/matplotlib/backends/backend_agg.py:240: RuntimeWarning: Glyph 31505 missing from current font.\n",
      "  font.set_text(s, 0.0, flags=flags)\n",
      "/root/anaconda3/lib/python3.9/site-packages/matplotlib/backends/backend_agg.py:240: RuntimeWarning: Glyph 31038 missing from current font.\n",
      "  font.set_text(s, 0.0, flags=flags)\n",
      "/root/anaconda3/lib/python3.9/site-packages/matplotlib/backends/backend_agg.py:240: RuntimeWarning: Glyph 20250 missing from current font.\n",
      "  font.set_text(s, 0.0, flags=flags)\n",
      "/root/anaconda3/lib/python3.9/site-packages/matplotlib/backends/backend_agg.py:240: RuntimeWarning: Glyph 28909 missing from current font.\n",
      "  font.set_text(s, 0.0, flags=flags)\n",
      "/root/anaconda3/lib/python3.9/site-packages/matplotlib/backends/backend_agg.py:240: RuntimeWarning: Glyph 34880 missing from current font.\n",
      "  font.set_text(s, 0.0, flags=flags)\n",
      "/root/anaconda3/lib/python3.9/site-packages/matplotlib/backends/backend_agg.py:240: RuntimeWarning: Glyph 25112 missing from current font.\n",
      "  font.set_text(s, 0.0, flags=flags)\n",
      "/root/anaconda3/lib/python3.9/site-packages/matplotlib/backends/backend_agg.py:240: RuntimeWarning: Glyph 26007 missing from current font.\n",
      "  font.set_text(s, 0.0, flags=flags)\n",
      "/root/anaconda3/lib/python3.9/site-packages/matplotlib/backends/backend_agg.py:240: RuntimeWarning: Glyph 26085 missing from current font.\n",
      "  font.set_text(s, 0.0, flags=flags)\n",
      "/root/anaconda3/lib/python3.9/site-packages/matplotlib/backends/backend_agg.py:240: RuntimeWarning: Glyph 24120 missing from current font.\n",
      "  font.set_text(s, 0.0, flags=flags)\n",
      "/root/anaconda3/lib/python3.9/site-packages/matplotlib/backends/backend_agg.py:240: RuntimeWarning: Glyph 28459 missing from current font.\n",
      "  font.set_text(s, 0.0, flags=flags)\n",
      "/root/anaconda3/lib/python3.9/site-packages/matplotlib/backends/backend_agg.py:240: RuntimeWarning: Glyph 30011 missing from current font.\n",
      "  font.set_text(s, 0.0, flags=flags)\n",
      "/root/anaconda3/lib/python3.9/site-packages/matplotlib/backends/backend_agg.py:240: RuntimeWarning: Glyph 25913 missing from current font.\n",
      "  font.set_text(s, 0.0, flags=flags)\n",
      "/root/anaconda3/lib/python3.9/site-packages/matplotlib/backends/backend_agg.py:240: RuntimeWarning: Glyph 31185 missing from current font.\n",
      "  font.set_text(s, 0.0, flags=flags)\n",
      "/root/anaconda3/lib/python3.9/site-packages/matplotlib/backends/backend_agg.py:240: RuntimeWarning: Glyph 21382 missing from current font.\n",
      "  font.set_text(s, 0.0, flags=flags)\n",
      "/root/anaconda3/lib/python3.9/site-packages/matplotlib/backends/backend_agg.py:240: RuntimeWarning: Glyph 21490 missing from current font.\n",
      "  font.set_text(s, 0.0, flags=flags)\n",
      "/root/anaconda3/lib/python3.9/site-packages/matplotlib/backends/backend_agg.py:240: RuntimeWarning: Glyph 21916 missing from current font.\n",
      "  font.set_text(s, 0.0, flags=flags)\n",
      "/root/anaconda3/lib/python3.9/site-packages/matplotlib/backends/backend_agg.py:240: RuntimeWarning: Glyph 21160 missing from current font.\n",
      "  font.set_text(s, 0.0, flags=flags)\n",
      "/root/anaconda3/lib/python3.9/site-packages/matplotlib/backends/backend_agg.py:240: RuntimeWarning: Glyph 20316 missing from current font.\n",
      "  font.set_text(s, 0.0, flags=flags)\n",
      "/root/anaconda3/lib/python3.9/site-packages/matplotlib/backends/backend_agg.py:240: RuntimeWarning: Glyph 24863 missing from current font.\n",
      "  font.set_text(s, 0.0, flags=flags)\n",
      "/root/anaconda3/lib/python3.9/site-packages/matplotlib/backends/backend_agg.py:240: RuntimeWarning: Glyph 21407 missing from current font.\n",
      "  font.set_text(s, 0.0, flags=flags)\n",
      "/root/anaconda3/lib/python3.9/site-packages/matplotlib/backends/backend_agg.py:240: RuntimeWarning: Glyph 21019 missing from current font.\n",
      "  font.set_text(s, 0.0, flags=flags)\n",
      "/root/anaconda3/lib/python3.9/site-packages/matplotlib/backends/backend_agg.py:240: RuntimeWarning: Glyph 33258 missing from current font.\n",
      "  font.set_text(s, 0.0, flags=flags)\n",
      "/root/anaconda3/lib/python3.9/site-packages/matplotlib/backends/backend_agg.py:240: RuntimeWarning: Glyph 28982 missing from current font.\n",
      "  font.set_text(s, 0.0, flags=flags)\n",
      "/root/anaconda3/lib/python3.9/site-packages/matplotlib/backends/backend_agg.py:240: RuntimeWarning: Glyph 26657 missing from current font.\n",
      "  font.set_text(s, 0.0, flags=flags)\n",
      "/root/anaconda3/lib/python3.9/site-packages/matplotlib/backends/backend_agg.py:240: RuntimeWarning: Glyph 22253 missing from current font.\n",
      "  font.set_text(s, 0.0, flags=flags)\n",
      "/root/anaconda3/lib/python3.9/site-packages/matplotlib/backends/backend_agg.py:240: RuntimeWarning: Glyph 29233 missing from current font.\n",
      "  font.set_text(s, 0.0, flags=flags)\n",
      "/root/anaconda3/lib/python3.9/site-packages/matplotlib/backends/backend_agg.py:240: RuntimeWarning: Glyph 20882 missing from current font.\n",
      "  font.set_text(s, 0.0, flags=flags)\n",
      "/root/anaconda3/lib/python3.9/site-packages/matplotlib/backends/backend_agg.py:240: RuntimeWarning: Glyph 38505 missing from current font.\n",
      "  font.set_text(s, 0.0, flags=flags)\n",
      "/root/anaconda3/lib/python3.9/site-packages/matplotlib/backends/backend_agg.py:240: RuntimeWarning: Glyph 23567 missing from current font.\n",
      "  font.set_text(s, 0.0, flags=flags)\n",
      "/root/anaconda3/lib/python3.9/site-packages/matplotlib/backends/backend_agg.py:240: RuntimeWarning: Glyph 35828 missing from current font.\n",
      "  font.set_text(s, 0.0, flags=flags)\n",
      "/root/anaconda3/lib/python3.9/site-packages/matplotlib/backends/backend_agg.py:240: RuntimeWarning: Glyph 25216 missing from current font.\n",
      "  font.set_text(s, 0.0, flags=flags)\n",
      "/root/anaconda3/lib/python3.9/site-packages/matplotlib/backends/backend_agg.py:240: RuntimeWarning: Glyph 20105 missing from current font.\n",
      "  font.set_text(s, 0.0, flags=flags)\n",
      "/root/anaconda3/lib/python3.9/site-packages/matplotlib/backends/backend_agg.py:240: RuntimeWarning: Glyph 27835 missing from current font.\n",
      "  font.set_text(s, 0.0, flags=flags)\n",
      "/root/anaconda3/lib/python3.9/site-packages/matplotlib/backends/backend_agg.py:240: RuntimeWarning: Glyph 24840 missing from current font.\n",
      "  font.set_text(s, 0.0, flags=flags)\n",
      "/root/anaconda3/lib/python3.9/site-packages/matplotlib/backends/backend_agg.py:240: RuntimeWarning: Glyph 33804 missing from current font.\n",
      "  font.set_text(s, 0.0, flags=flags)\n",
      "/root/anaconda3/lib/python3.9/site-packages/matplotlib/backends/backend_agg.py:240: RuntimeWarning: Glyph 31995 missing from current font.\n",
      "  font.set_text(s, 0.0, flags=flags)\n",
      "/root/anaconda3/lib/python3.9/site-packages/matplotlib/backends/backend_agg.py:240: RuntimeWarning: Glyph 24748 missing from current font.\n",
      "  font.set_text(s, 0.0, flags=flags)\n",
      "/root/anaconda3/lib/python3.9/site-packages/matplotlib/backends/backend_agg.py:240: RuntimeWarning: Glyph 30097 missing from current font.\n",
      "  font.set_text(s, 0.0, flags=flags)\n",
      "/root/anaconda3/lib/python3.9/site-packages/matplotlib/backends/backend_agg.py:240: RuntimeWarning: Glyph 23478 missing from current font.\n",
      "  font.set_text(s, 0.0, flags=flags)\n",
      "/root/anaconda3/lib/python3.9/site-packages/matplotlib/backends/backend_agg.py:240: RuntimeWarning: Glyph 24237 missing from current font.\n",
      "  font.set_text(s, 0.0, flags=flags)\n",
      "/root/anaconda3/lib/python3.9/site-packages/matplotlib/backends/backend_agg.py:240: RuntimeWarning: Glyph 29289 missing from current font.\n",
      "  font.set_text(s, 0.0, flags=flags)\n",
      "/root/anaconda3/lib/python3.9/site-packages/matplotlib/backends/backend_agg.py:240: RuntimeWarning: Glyph 24778 missing from current font.\n",
      "  font.set_text(s, 0.0, flags=flags)\n",
      "/root/anaconda3/lib/python3.9/site-packages/matplotlib/backends/backend_agg.py:240: RuntimeWarning: Glyph 24730 missing from current font.\n",
      "  font.set_text(s, 0.0, flags=flags)\n",
      "/root/anaconda3/lib/python3.9/site-packages/matplotlib/backends/backend_agg.py:240: RuntimeWarning: Glyph 24651 missing from current font.\n",
      "  font.set_text(s, 0.0, flags=flags)\n",
      "/root/anaconda3/lib/python3.9/site-packages/matplotlib/backends/backend_agg.py:240: RuntimeWarning: Glyph 29359 missing from current font.\n",
      "  font.set_text(s, 0.0, flags=flags)\n",
      "/root/anaconda3/lib/python3.9/site-packages/matplotlib/backends/backend_agg.py:240: RuntimeWarning: Glyph 32618 missing from current font.\n",
      "  font.set_text(s, 0.0, flags=flags)\n",
      "/root/anaconda3/lib/python3.9/site-packages/matplotlib/backends/backend_agg.py:240: RuntimeWarning: Glyph 23569 missing from current font.\n",
      "  font.set_text(s, 0.0, flags=flags)\n",
      "/root/anaconda3/lib/python3.9/site-packages/matplotlib/backends/backend_agg.py:240: RuntimeWarning: Glyph 20799 missing from current font.\n",
      "  font.set_text(s, 0.0, flags=flags)\n",
      "/root/anaconda3/lib/python3.9/site-packages/matplotlib/backends/backend_agg.py:240: RuntimeWarning: Glyph 21476 missing from current font.\n",
      "  font.set_text(s, 0.0, flags=flags)\n",
      "/root/anaconda3/lib/python3.9/site-packages/matplotlib/backends/backend_agg.py:240: RuntimeWarning: Glyph 35013 missing from current font.\n",
      "  font.set_text(s, 0.0, flags=flags)\n",
      "/root/anaconda3/lib/python3.9/site-packages/matplotlib/backends/backend_agg.py:240: RuntimeWarning: Glyph 22899 missing from current font.\n",
      "  font.set_text(s, 0.0, flags=flags)\n",
      "/root/anaconda3/lib/python3.9/site-packages/matplotlib/backends/backend_agg.py:240: RuntimeWarning: Glyph 27873 missing from current font.\n",
      "  font.set_text(s, 0.0, flags=flags)\n",
      "/root/anaconda3/lib/python3.9/site-packages/matplotlib/backends/backend_agg.py:240: RuntimeWarning: Glyph 38754 missing from current font.\n",
      "  font.set_text(s, 0.0, flags=flags)\n",
      "/root/anaconda3/lib/python3.9/site-packages/matplotlib/backends/backend_agg.py:240: RuntimeWarning: Glyph 37117 missing from current font.\n",
      "  font.set_text(s, 0.0, flags=flags)\n",
      "/root/anaconda3/lib/python3.9/site-packages/matplotlib/backends/backend_agg.py:240: RuntimeWarning: Glyph 24066 missing from current font.\n",
      "  font.set_text(s, 0.0, flags=flags)\n",
      "/root/anaconda3/lib/python3.9/site-packages/matplotlib/backends/backend_agg.py:240: RuntimeWarning: Glyph 36816 missing from current font.\n",
      "  font.set_text(s, 0.0, flags=flags)\n",
      "/root/anaconda3/lib/python3.9/site-packages/matplotlib/backends/backend_agg.py:240: RuntimeWarning: Glyph 26550 missing from current font.\n",
      "  font.set_text(s, 0.0, flags=flags)\n",
      "/root/anaconda3/lib/python3.9/site-packages/matplotlib/backends/backend_agg.py:240: RuntimeWarning: Glyph 31354 missing from current font.\n",
      "  font.set_text(s, 0.0, flags=flags)\n",
      "/root/anaconda3/lib/python3.9/site-packages/matplotlib/backends/backend_agg.py:240: RuntimeWarning: Glyph 21169 missing from current font.\n",
      "  font.set_text(s, 0.0, flags=flags)\n",
      "/root/anaconda3/lib/python3.9/site-packages/matplotlib/backends/backend_agg.py:240: RuntimeWarning: Glyph 24535 missing from current font.\n",
      "  font.set_text(s, 0.0, flags=flags)\n",
      "/root/anaconda3/lib/python3.9/site-packages/matplotlib/backends/backend_agg.py:240: RuntimeWarning: Glyph 28216 missing from current font.\n",
      "  font.set_text(s, 0.0, flags=flags)\n",
      "/root/anaconda3/lib/python3.9/site-packages/matplotlib/backends/backend_agg.py:240: RuntimeWarning: Glyph 25103 missing from current font.\n",
      "  font.set_text(s, 0.0, flags=flags)\n",
      "/root/anaconda3/lib/python3.9/site-packages/matplotlib/backends/backend_agg.py:240: RuntimeWarning: Glyph 32654 missing from current font.\n",
      "  font.set_text(s, 0.0, flags=flags)\n",
      "/root/anaconda3/lib/python3.9/site-packages/matplotlib/backends/backend_agg.py:240: RuntimeWarning: Glyph 39135 missing from current font.\n",
      "  font.set_text(s, 0.0, flags=flags)\n",
      "/root/anaconda3/lib/python3.9/site-packages/matplotlib/backends/backend_agg.py:240: RuntimeWarning: Glyph 21009 missing from current font.\n",
      "  font.set_text(s, 0.0, flags=flags)\n",
      "/root/anaconda3/lib/python3.9/site-packages/matplotlib/backends/backend_agg.py:240: RuntimeWarning: Glyph 20390 missing from current font.\n",
      "  font.set_text(s, 0.0, flags=flags)\n",
      "/root/anaconda3/lib/python3.9/site-packages/matplotlib/backends/backend_agg.py:240: RuntimeWarning: Glyph 25506 missing from current font.\n",
      "  font.set_text(s, 0.0, flags=flags)\n",
      "/root/anaconda3/lib/python3.9/site-packages/matplotlib/backends/backend_agg.py:240: RuntimeWarning: Glyph 26426 missing from current font.\n",
      "  font.set_text(s, 0.0, flags=flags)\n",
      "/root/anaconda3/lib/python3.9/site-packages/matplotlib/backends/backend_agg.py:240: RuntimeWarning: Glyph 26053 missing from current font.\n",
      "  font.set_text(s, 0.0, flags=flags)\n",
      "/root/anaconda3/lib/python3.9/site-packages/matplotlib/backends/backend_agg.py:240: RuntimeWarning: Glyph 34892 missing from current font.\n",
      "  font.set_text(s, 0.0, flags=flags)\n",
      "/root/anaconda3/lib/python3.9/site-packages/matplotlib/backends/backend_agg.py:240: RuntimeWarning: Glyph 38899 missing from current font.\n",
      "  font.set_text(s, 0.0, flags=flags)\n",
      "/root/anaconda3/lib/python3.9/site-packages/matplotlib/backends/backend_agg.py:240: RuntimeWarning: Glyph 20048 missing from current font.\n",
      "  font.set_text(s, 0.0, flags=flags)\n",
      "/root/anaconda3/lib/python3.9/site-packages/matplotlib/backends/backend_agg.py:240: RuntimeWarning: Glyph 31359 missing from current font.\n",
      "  font.set_text(s, 0.0, flags=flags)\n",
      "/root/anaconda3/lib/python3.9/site-packages/matplotlib/backends/backend_agg.py:240: RuntimeWarning: Glyph 36234 missing from current font.\n",
      "  font.set_text(s, 0.0, flags=flags)\n",
      "/root/anaconda3/lib/python3.9/site-packages/matplotlib/backends/backend_agg.py:240: RuntimeWarning: Glyph 24180 missing from current font.\n",
      "  font.set_text(s, 0.0, flags=flags)\n",
      "/root/anaconda3/lib/python3.9/site-packages/matplotlib/backends/backend_agg.py:240: RuntimeWarning: Glyph 20195 missing from current font.\n",
      "  font.set_text(s, 0.0, flags=flags)\n",
      "/root/anaconda3/lib/python3.9/site-packages/matplotlib/backends/backend_agg.py:240: RuntimeWarning: Glyph 39764 missing from current font.\n",
      "  font.set_text(s, 0.0, flags=flags)\n",
      "/root/anaconda3/lib/python3.9/site-packages/matplotlib/backends/backend_agg.py:240: RuntimeWarning: Glyph 27861 missing from current font.\n",
      "  font.set_text(s, 0.0, flags=flags)\n",
      "/root/anaconda3/lib/python3.9/site-packages/matplotlib/backends/backend_agg.py:240: RuntimeWarning: Glyph 26102 missing from current font.\n",
      "  font.set_text(s, 0.0, flags=flags)\n",
      "/root/anaconda3/lib/python3.9/site-packages/matplotlib/backends/backend_agg.py:240: RuntimeWarning: Glyph 27882 missing from current font.\n",
      "  font.set_text(s, 0.0, flags=flags)\n",
      "/root/anaconda3/lib/python3.9/site-packages/matplotlib/backends/backend_agg.py:240: RuntimeWarning: Glyph 24656 missing from current font.\n",
      "  font.set_text(s, 0.0, flags=flags)\n",
      "/root/anaconda3/lib/python3.9/site-packages/matplotlib/backends/backend_agg.py:240: RuntimeWarning: Glyph 24598 missing from current font.\n",
      "  font.set_text(s, 0.0, flags=flags)\n",
      "/root/anaconda3/lib/python3.9/site-packages/matplotlib/backends/backend_agg.py:240: RuntimeWarning: Glyph 20598 missing from current font.\n",
      "  font.set_text(s, 0.0, flags=flags)\n",
      "/root/anaconda3/lib/python3.9/site-packages/matplotlib/backends/backend_agg.py:240: RuntimeWarning: Glyph 20687 missing from current font.\n",
      "  font.set_text(s, 0.0, flags=flags)\n",
      "/root/anaconda3/lib/python3.9/site-packages/matplotlib/backends/backend_agg.py:240: RuntimeWarning: Glyph 22768 missing from current font.\n",
      "  font.set_text(s, 0.0, flags=flags)\n",
      "/root/anaconda3/lib/python3.9/site-packages/matplotlib/backends/backend_agg.py:240: RuntimeWarning: Glyph 25511 missing from current font.\n",
      "  font.set_text(s, 0.0, flags=flags)\n",
      "/root/anaconda3/lib/python3.9/site-packages/matplotlib/backends/backend_agg.py:240: RuntimeWarning: Glyph 20256 missing from current font.\n",
      "  font.set_text(s, 0.0, flags=flags)\n",
      "/root/anaconda3/lib/python3.9/site-packages/matplotlib/backends/backend_agg.py:240: RuntimeWarning: Glyph 35760 missing from current font.\n",
      "  font.set_text(s, 0.0, flags=flags)\n",
      "/root/anaconda3/lib/python3.9/site-packages/matplotlib/backends/backend_agg.py:240: RuntimeWarning: Glyph 25512 missing from current font.\n",
      "  font.set_text(s, 0.0, flags=flags)\n",
      "/root/anaconda3/lib/python3.9/site-packages/matplotlib/backends/backend_agg.py:240: RuntimeWarning: Glyph 29702 missing from current font.\n",
      "  font.set_text(s, 0.0, flags=flags)\n",
      "/root/anaconda3/lib/python3.9/site-packages/matplotlib/backends/backend_agg.py:240: RuntimeWarning: Glyph 26234 missing from current font.\n",
      "  font.set_text(s, 0.0, flags=flags)\n",
      "/root/anaconda3/lib/python3.9/site-packages/matplotlib/backends/backend_agg.py:240: RuntimeWarning: Glyph 23431 missing from current font.\n",
      "  font.set_text(s, 0.0, flags=flags)\n",
      "/root/anaconda3/lib/python3.9/site-packages/matplotlib/backends/backend_agg.py:240: RuntimeWarning: Glyph 23449 missing from current font.\n",
      "  font.set_text(s, 0.0, flags=flags)\n",
      "/root/anaconda3/lib/python3.9/site-packages/matplotlib/backends/backend_agg.py:240: RuntimeWarning: Glyph 22242 missing from current font.\n",
      "  font.set_text(s, 0.0, flags=flags)\n",
      "/root/anaconda3/lib/python3.9/site-packages/matplotlib/backends/backend_agg.py:240: RuntimeWarning: Glyph 20891 missing from current font.\n",
      "  font.set_text(s, 0.0, flags=flags)\n",
      "/root/anaconda3/lib/python3.9/site-packages/matplotlib/backends/backend_agg.py:240: RuntimeWarning: Glyph 20107 missing from current font.\n",
      "  font.set_text(s, 0.0, flags=flags)\n",
      "/root/anaconda3/lib/python3.9/site-packages/matplotlib/backends/backend_agg.py:240: RuntimeWarning: Glyph 30495 missing from current font.\n",
      "  font.set_text(s, 0.0, flags=flags)\n",
      "/root/anaconda3/lib/python3.9/site-packages/matplotlib/backends/backend_agg.py:240: RuntimeWarning: Glyph 31168 missing from current font.\n",
      "  font.set_text(s, 0.0, flags=flags)\n",
      "/root/anaconda3/lib/python3.9/site-packages/matplotlib/backends/backend_agg.py:240: RuntimeWarning: Glyph 21307 missing from current font.\n",
      "  font.set_text(s, 0.0, flags=flags)\n",
      "/root/anaconda3/lib/python3.9/site-packages/matplotlib/backends/backend_agg.py:240: RuntimeWarning: Glyph 30103 missing from current font.\n",
      "  font.set_text(s, 0.0, flags=flags)\n",
      "/root/anaconda3/lib/python3.9/site-packages/matplotlib/backends/backend_agg.py:240: RuntimeWarning: Glyph 20652 missing from current font.\n",
      "  font.set_text(s, 0.0, flags=flags)\n",
      "/root/anaconda3/lib/python3.9/site-packages/matplotlib/backends/backend_agg.py:240: RuntimeWarning: Glyph 24577 missing from current font.\n",
      "  font.set_text(s, 0.0, flags=flags)\n",
      "/root/anaconda3/lib/python3.9/site-packages/matplotlib/backends/backend_agg.py:240: RuntimeWarning: Glyph 38738 missing from current font.\n",
      "  font.set_text(s, 0.0, flags=flags)\n",
      "/root/anaconda3/lib/python3.9/site-packages/matplotlib/backends/backend_agg.py:240: RuntimeWarning: Glyph 26149 missing from current font.\n",
      "  font.set_text(s, 0.0, flags=flags)\n",
      "/root/anaconda3/lib/python3.9/site-packages/matplotlib/backends/backend_agg.py:240: RuntimeWarning: Glyph 20057 missing from current font.\n",
      "  font.set_text(s, 0.0, flags=flags)\n",
      "/root/anaconda3/lib/python3.9/site-packages/matplotlib/backends/backend_agg.py:240: RuntimeWarning: Glyph 26696 missing from current font.\n",
      "  font.set_text(s, 0.0, flags=flags)\n",
      "/root/anaconda3/lib/python3.9/site-packages/matplotlib/backends/backend_agg.py:240: RuntimeWarning: Glyph 28798 missing from current font.\n",
      "  font.set_text(s, 0.0, flags=flags)\n",
      "/root/anaconda3/lib/python3.9/site-packages/matplotlib/backends/backend_agg.py:240: RuntimeWarning: Glyph 38590 missing from current font.\n",
      "  font.set_text(s, 0.0, flags=flags)\n",
      "/root/anaconda3/lib/python3.9/site-packages/matplotlib/backends/backend_agg.py:240: RuntimeWarning: Glyph 24067 missing from current font.\n",
      "  font.set_text(s, 0.0, flags=flags)\n",
      "/root/anaconda3/lib/python3.9/site-packages/matplotlib/backends/backend_agg.py:240: RuntimeWarning: Glyph 34955 missing from current font.\n",
      "  font.set_text(s, 0.0, flags=flags)\n",
      "/root/anaconda3/lib/python3.9/site-packages/matplotlib/backends/backend_agg.py:240: RuntimeWarning: Glyph 32844 missing from current font.\n",
      "  font.set_text(s, 0.0, flags=flags)\n",
      "/root/anaconda3/lib/python3.9/site-packages/matplotlib/backends/backend_agg.py:240: RuntimeWarning: Glyph 22330 missing from current font.\n",
      "  font.set_text(s, 0.0, flags=flags)\n",
      "/root/anaconda3/lib/python3.9/site-packages/matplotlib/backends/backend_agg.py:240: RuntimeWarning: Glyph 20892 missing from current font.\n",
      "  font.set_text(s, 0.0, flags=flags)\n",
      "/root/anaconda3/lib/python3.9/site-packages/matplotlib/backends/backend_agg.py:240: RuntimeWarning: Glyph 26449 missing from current font.\n",
      "  font.set_text(s, 0.0, flags=flags)\n",
      "/root/anaconda3/lib/python3.9/site-packages/matplotlib/backends/backend_agg.py:240: RuntimeWarning: Glyph 23456 missing from current font.\n",
      "  font.set_text(s, 0.0, flags=flags)\n",
      "/root/anaconda3/lib/python3.9/site-packages/matplotlib/backends/backend_agg.py:240: RuntimeWarning: Glyph 31070 missing from current font.\n",
      "  font.set_text(s, 0.0, flags=flags)\n",
      "/root/anaconda3/lib/python3.9/site-packages/matplotlib/backends/backend_agg.py:240: RuntimeWarning: Glyph 27494 missing from current font.\n",
      "  font.set_text(s, 0.0, flags=flags)\n",
      "/root/anaconda3/lib/python3.9/site-packages/matplotlib/backends/backend_agg.py:240: RuntimeWarning: Glyph 20384 missing from current font.\n",
      "  font.set_text(s, 0.0, flags=flags)\n",
      "/root/anaconda3/lib/python3.9/site-packages/matplotlib/backends/backend_agg.py:240: RuntimeWarning: Glyph 35853 missing from current font.\n",
      "  font.set_text(s, 0.0, flags=flags)\n",
      "/root/anaconda3/lib/python3.9/site-packages/matplotlib/backends/backend_agg.py:240: RuntimeWarning: Glyph 27468 missing from current font.\n",
      "  font.set_text(s, 0.0, flags=flags)\n",
      "/root/anaconda3/lib/python3.9/site-packages/matplotlib/backends/backend_agg.py:240: RuntimeWarning: Glyph 33310 missing from current font.\n",
      "  font.set_text(s, 0.0, flags=flags)\n",
      "/root/anaconda3/lib/python3.9/site-packages/matplotlib/backends/backend_agg.py:240: RuntimeWarning: Glyph 31192 missing from current font.\n",
      "  font.set_text(s, 0.0, flags=flags)\n",
      "/root/anaconda3/lib/python3.9/site-packages/matplotlib/backends/backend_agg.py:240: RuntimeWarning: Glyph 29572 missing from current font.\n",
      "  font.set_text(s, 0.0, flags=flags)\n",
      "/root/anaconda3/lib/python3.9/site-packages/matplotlib/backends/backend_agg.py:240: RuntimeWarning: Glyph 32426 missing from current font.\n",
      "  font.set_text(s, 0.0, flags=flags)\n",
      "/root/anaconda3/lib/python3.9/site-packages/matplotlib/backends/backend_agg.py:240: RuntimeWarning: Glyph 23454 missing from current font.\n",
      "  font.set_text(s, 0.0, flags=flags)\n",
      "/root/anaconda3/lib/python3.9/site-packages/matplotlib/backends/backend_agg.py:240: RuntimeWarning: Glyph 26202 missing from current font.\n",
      "  font.set_text(s, 0.0, flags=flags)\n",
      "/root/anaconda3/lib/python3.9/site-packages/matplotlib/backends/backend_agg.py:240: RuntimeWarning: Glyph 39118 missing from current font.\n",
      "  font.set_text(s, 0.0, flags=flags)\n",
      "/root/anaconda3/lib/python3.9/site-packages/matplotlib/backends/backend_agg.py:240: RuntimeWarning: Glyph 29305 missing from current font.\n",
      "  font.set_text(s, 0.0, flags=flags)\n",
      "/root/anaconda3/lib/python3.9/site-packages/matplotlib/backends/backend_agg.py:240: RuntimeWarning: Glyph 25668 missing from current font.\n",
      "  font.set_text(s, 0.0, flags=flags)\n",
      "/root/anaconda3/lib/python3.9/site-packages/matplotlib/backends/backend_agg.py:240: RuntimeWarning: Glyph 32463 missing from current font.\n",
      "  font.set_text(s, 0.0, flags=flags)\n",
      "/root/anaconda3/lib/python3.9/site-packages/matplotlib/backends/backend_agg.py:240: RuntimeWarning: Glyph 20856 missing from current font.\n",
      "  font.set_text(s, 0.0, flags=flags)\n",
      "/root/anaconda3/lib/python3.9/site-packages/matplotlib/backends/backend_agg.py:240: RuntimeWarning: Glyph 21270 missing from current font.\n",
      "  font.set_text(s, 0.0, flags=flags)\n",
      "/root/anaconda3/lib/python3.9/site-packages/matplotlib/backends/backend_agg.py:240: RuntimeWarning: Glyph 28436 missing from current font.\n",
      "  font.set_text(s, 0.0, flags=flags)\n",
      "/root/anaconda3/lib/python3.9/site-packages/matplotlib/backends/backend_agg.py:240: RuntimeWarning: Glyph 21809 missing from current font.\n",
      "  font.set_text(s, 0.0, flags=flags)\n",
      "/root/anaconda3/lib/python3.9/site-packages/matplotlib/backends/backend_agg.py:240: RuntimeWarning: Glyph 33073 missing from current font.\n",
      "  font.set_text(s, 0.0, flags=flags)\n",
      "/root/anaconda3/lib/python3.9/site-packages/matplotlib/backends/backend_agg.py:240: RuntimeWarning: Glyph 21475 missing from current font.\n",
      "  font.set_text(s, 0.0, flags=flags)\n",
      "/root/anaconda3/lib/python3.9/site-packages/matplotlib/backends/backend_agg.py:240: RuntimeWarning: Glyph 35775 missing from current font.\n",
      "  font.set_text(s, 0.0, flags=flags)\n",
      "/root/anaconda3/lib/python3.9/site-packages/matplotlib/backends/backend_agg.py:240: RuntimeWarning: Glyph 35848 missing from current font.\n",
      "  font.set_text(s, 0.0, flags=flags)\n",
      "/root/anaconda3/lib/python3.9/site-packages/matplotlib/backends/backend_agg.py:240: RuntimeWarning: Glyph 35805 missing from current font.\n",
      "  font.set_text(s, 0.0, flags=flags)\n",
      "/root/anaconda3/lib/python3.9/site-packages/matplotlib/backends/backend_agg.py:240: RuntimeWarning: Glyph 33821 missing from current font.\n",
      "  font.set_text(s, 0.0, flags=flags)\n",
      "/root/anaconda3/lib/python3.9/site-packages/matplotlib/backends/backend_agg.py:240: RuntimeWarning: Glyph 33673 missing from current font.\n",
      "  font.set_text(s, 0.0, flags=flags)\n",
      "/root/anaconda3/lib/python3.9/site-packages/matplotlib/backends/backend_agg.py:240: RuntimeWarning: Glyph 36873 missing from current font.\n",
      "  font.set_text(s, 0.0, flags=flags)\n",
      "/root/anaconda3/lib/python3.9/site-packages/matplotlib/backends/backend_agg.py:240: RuntimeWarning: Glyph 20146 missing from current font.\n",
      "  font.set_text(s, 0.0, flags=flags)\n",
      "/root/anaconda3/lib/python3.9/site-packages/matplotlib/backends/backend_agg.py:240: RuntimeWarning: Glyph 23376 missing from current font.\n",
      "  font.set_text(s, 0.0, flags=flags)\n",
      "/root/anaconda3/lib/python3.9/site-packages/matplotlib/backends/backend_agg.py:240: RuntimeWarning: Glyph 20859 missing from current font.\n",
      "  font.set_text(s, 0.0, flags=flags)\n",
      "/root/anaconda3/lib/python3.9/site-packages/matplotlib/backends/backend_agg.py:240: RuntimeWarning: Glyph 25104 missing from current font.\n",
      "  font.set_text(s, 0.0, flags=flags)\n"
     ]
    },
    {
     "name": "stderr",
     "output_type": "stream",
     "text": [
      "/root/anaconda3/lib/python3.9/site-packages/matplotlib/backends/backend_agg.py:203: RuntimeWarning: Glyph 21095 missing from current font.\n",
      "  font.set_text(s, 0, flags=flags)\n",
      "/root/anaconda3/lib/python3.9/site-packages/matplotlib/backends/backend_agg.py:203: RuntimeWarning: Glyph 24773 missing from current font.\n",
      "  font.set_text(s, 0, flags=flags)\n",
      "/root/anaconda3/lib/python3.9/site-packages/matplotlib/backends/backend_agg.py:203: RuntimeWarning: Glyph 22855 missing from current font.\n",
      "  font.set_text(s, 0, flags=flags)\n",
      "/root/anaconda3/lib/python3.9/site-packages/matplotlib/backends/backend_agg.py:203: RuntimeWarning: Glyph 24187 missing from current font.\n",
      "  font.set_text(s, 0, flags=flags)\n",
      "/root/anaconda3/lib/python3.9/site-packages/matplotlib/backends/backend_agg.py:203: RuntimeWarning: Glyph 20154 missing from current font.\n",
      "  font.set_text(s, 0, flags=flags)\n",
      "/root/anaconda3/lib/python3.9/site-packages/matplotlib/backends/backend_agg.py:203: RuntimeWarning: Glyph 25991 missing from current font.\n",
      "  font.set_text(s, 0, flags=flags)\n",
      "/root/anaconda3/lib/python3.9/site-packages/matplotlib/backends/backend_agg.py:203: RuntimeWarning: Glyph 25630 missing from current font.\n",
      "  font.set_text(s, 0, flags=flags)\n",
      "/root/anaconda3/lib/python3.9/site-packages/matplotlib/backends/backend_agg.py:203: RuntimeWarning: Glyph 31505 missing from current font.\n",
      "  font.set_text(s, 0, flags=flags)\n",
      "/root/anaconda3/lib/python3.9/site-packages/matplotlib/backends/backend_agg.py:203: RuntimeWarning: Glyph 31038 missing from current font.\n",
      "  font.set_text(s, 0, flags=flags)\n",
      "/root/anaconda3/lib/python3.9/site-packages/matplotlib/backends/backend_agg.py:203: RuntimeWarning: Glyph 20250 missing from current font.\n",
      "  font.set_text(s, 0, flags=flags)\n",
      "/root/anaconda3/lib/python3.9/site-packages/matplotlib/backends/backend_agg.py:203: RuntimeWarning: Glyph 28909 missing from current font.\n",
      "  font.set_text(s, 0, flags=flags)\n",
      "/root/anaconda3/lib/python3.9/site-packages/matplotlib/backends/backend_agg.py:203: RuntimeWarning: Glyph 34880 missing from current font.\n",
      "  font.set_text(s, 0, flags=flags)\n",
      "/root/anaconda3/lib/python3.9/site-packages/matplotlib/backends/backend_agg.py:203: RuntimeWarning: Glyph 25112 missing from current font.\n",
      "  font.set_text(s, 0, flags=flags)\n",
      "/root/anaconda3/lib/python3.9/site-packages/matplotlib/backends/backend_agg.py:203: RuntimeWarning: Glyph 26007 missing from current font.\n",
      "  font.set_text(s, 0, flags=flags)\n",
      "/root/anaconda3/lib/python3.9/site-packages/matplotlib/backends/backend_agg.py:203: RuntimeWarning: Glyph 26085 missing from current font.\n",
      "  font.set_text(s, 0, flags=flags)\n",
      "/root/anaconda3/lib/python3.9/site-packages/matplotlib/backends/backend_agg.py:203: RuntimeWarning: Glyph 24120 missing from current font.\n",
      "  font.set_text(s, 0, flags=flags)\n",
      "/root/anaconda3/lib/python3.9/site-packages/matplotlib/backends/backend_agg.py:203: RuntimeWarning: Glyph 28459 missing from current font.\n",
      "  font.set_text(s, 0, flags=flags)\n",
      "/root/anaconda3/lib/python3.9/site-packages/matplotlib/backends/backend_agg.py:203: RuntimeWarning: Glyph 30011 missing from current font.\n",
      "  font.set_text(s, 0, flags=flags)\n",
      "/root/anaconda3/lib/python3.9/site-packages/matplotlib/backends/backend_agg.py:203: RuntimeWarning: Glyph 25913 missing from current font.\n",
      "  font.set_text(s, 0, flags=flags)\n",
      "/root/anaconda3/lib/python3.9/site-packages/matplotlib/backends/backend_agg.py:203: RuntimeWarning: Glyph 31185 missing from current font.\n",
      "  font.set_text(s, 0, flags=flags)\n",
      "/root/anaconda3/lib/python3.9/site-packages/matplotlib/backends/backend_agg.py:203: RuntimeWarning: Glyph 21382 missing from current font.\n",
      "  font.set_text(s, 0, flags=flags)\n",
      "/root/anaconda3/lib/python3.9/site-packages/matplotlib/backends/backend_agg.py:203: RuntimeWarning: Glyph 21490 missing from current font.\n",
      "  font.set_text(s, 0, flags=flags)\n",
      "/root/anaconda3/lib/python3.9/site-packages/matplotlib/backends/backend_agg.py:203: RuntimeWarning: Glyph 21916 missing from current font.\n",
      "  font.set_text(s, 0, flags=flags)\n",
      "/root/anaconda3/lib/python3.9/site-packages/matplotlib/backends/backend_agg.py:203: RuntimeWarning: Glyph 21160 missing from current font.\n",
      "  font.set_text(s, 0, flags=flags)\n",
      "/root/anaconda3/lib/python3.9/site-packages/matplotlib/backends/backend_agg.py:203: RuntimeWarning: Glyph 20316 missing from current font.\n",
      "  font.set_text(s, 0, flags=flags)\n",
      "/root/anaconda3/lib/python3.9/site-packages/matplotlib/backends/backend_agg.py:203: RuntimeWarning: Glyph 24863 missing from current font.\n",
      "  font.set_text(s, 0, flags=flags)\n",
      "/root/anaconda3/lib/python3.9/site-packages/matplotlib/backends/backend_agg.py:203: RuntimeWarning: Glyph 21407 missing from current font.\n",
      "  font.set_text(s, 0, flags=flags)\n",
      "/root/anaconda3/lib/python3.9/site-packages/matplotlib/backends/backend_agg.py:203: RuntimeWarning: Glyph 21019 missing from current font.\n",
      "  font.set_text(s, 0, flags=flags)\n",
      "/root/anaconda3/lib/python3.9/site-packages/matplotlib/backends/backend_agg.py:203: RuntimeWarning: Glyph 33258 missing from current font.\n",
      "  font.set_text(s, 0, flags=flags)\n",
      "/root/anaconda3/lib/python3.9/site-packages/matplotlib/backends/backend_agg.py:203: RuntimeWarning: Glyph 28982 missing from current font.\n",
      "  font.set_text(s, 0, flags=flags)\n",
      "/root/anaconda3/lib/python3.9/site-packages/matplotlib/backends/backend_agg.py:203: RuntimeWarning: Glyph 26657 missing from current font.\n",
      "  font.set_text(s, 0, flags=flags)\n",
      "/root/anaconda3/lib/python3.9/site-packages/matplotlib/backends/backend_agg.py:203: RuntimeWarning: Glyph 22253 missing from current font.\n",
      "  font.set_text(s, 0, flags=flags)\n",
      "/root/anaconda3/lib/python3.9/site-packages/matplotlib/backends/backend_agg.py:203: RuntimeWarning: Glyph 29233 missing from current font.\n",
      "  font.set_text(s, 0, flags=flags)\n",
      "/root/anaconda3/lib/python3.9/site-packages/matplotlib/backends/backend_agg.py:203: RuntimeWarning: Glyph 20882 missing from current font.\n",
      "  font.set_text(s, 0, flags=flags)\n",
      "/root/anaconda3/lib/python3.9/site-packages/matplotlib/backends/backend_agg.py:203: RuntimeWarning: Glyph 38505 missing from current font.\n",
      "  font.set_text(s, 0, flags=flags)\n",
      "/root/anaconda3/lib/python3.9/site-packages/matplotlib/backends/backend_agg.py:203: RuntimeWarning: Glyph 23567 missing from current font.\n",
      "  font.set_text(s, 0, flags=flags)\n",
      "/root/anaconda3/lib/python3.9/site-packages/matplotlib/backends/backend_agg.py:203: RuntimeWarning: Glyph 35828 missing from current font.\n",
      "  font.set_text(s, 0, flags=flags)\n",
      "/root/anaconda3/lib/python3.9/site-packages/matplotlib/backends/backend_agg.py:203: RuntimeWarning: Glyph 25216 missing from current font.\n",
      "  font.set_text(s, 0, flags=flags)\n",
      "/root/anaconda3/lib/python3.9/site-packages/matplotlib/backends/backend_agg.py:203: RuntimeWarning: Glyph 20105 missing from current font.\n",
      "  font.set_text(s, 0, flags=flags)\n",
      "/root/anaconda3/lib/python3.9/site-packages/matplotlib/backends/backend_agg.py:203: RuntimeWarning: Glyph 27835 missing from current font.\n",
      "  font.set_text(s, 0, flags=flags)\n",
      "/root/anaconda3/lib/python3.9/site-packages/matplotlib/backends/backend_agg.py:203: RuntimeWarning: Glyph 24840 missing from current font.\n",
      "  font.set_text(s, 0, flags=flags)\n",
      "/root/anaconda3/lib/python3.9/site-packages/matplotlib/backends/backend_agg.py:203: RuntimeWarning: Glyph 33804 missing from current font.\n",
      "  font.set_text(s, 0, flags=flags)\n",
      "/root/anaconda3/lib/python3.9/site-packages/matplotlib/backends/backend_agg.py:203: RuntimeWarning: Glyph 31995 missing from current font.\n",
      "  font.set_text(s, 0, flags=flags)\n",
      "/root/anaconda3/lib/python3.9/site-packages/matplotlib/backends/backend_agg.py:203: RuntimeWarning: Glyph 24748 missing from current font.\n",
      "  font.set_text(s, 0, flags=flags)\n",
      "/root/anaconda3/lib/python3.9/site-packages/matplotlib/backends/backend_agg.py:203: RuntimeWarning: Glyph 30097 missing from current font.\n",
      "  font.set_text(s, 0, flags=flags)\n",
      "/root/anaconda3/lib/python3.9/site-packages/matplotlib/backends/backend_agg.py:203: RuntimeWarning: Glyph 23478 missing from current font.\n",
      "  font.set_text(s, 0, flags=flags)\n",
      "/root/anaconda3/lib/python3.9/site-packages/matplotlib/backends/backend_agg.py:203: RuntimeWarning: Glyph 24237 missing from current font.\n",
      "  font.set_text(s, 0, flags=flags)\n",
      "/root/anaconda3/lib/python3.9/site-packages/matplotlib/backends/backend_agg.py:203: RuntimeWarning: Glyph 29289 missing from current font.\n",
      "  font.set_text(s, 0, flags=flags)\n",
      "/root/anaconda3/lib/python3.9/site-packages/matplotlib/backends/backend_agg.py:203: RuntimeWarning: Glyph 24778 missing from current font.\n",
      "  font.set_text(s, 0, flags=flags)\n",
      "/root/anaconda3/lib/python3.9/site-packages/matplotlib/backends/backend_agg.py:203: RuntimeWarning: Glyph 24730 missing from current font.\n",
      "  font.set_text(s, 0, flags=flags)\n",
      "/root/anaconda3/lib/python3.9/site-packages/matplotlib/backends/backend_agg.py:203: RuntimeWarning: Glyph 24651 missing from current font.\n",
      "  font.set_text(s, 0, flags=flags)\n",
      "/root/anaconda3/lib/python3.9/site-packages/matplotlib/backends/backend_agg.py:203: RuntimeWarning: Glyph 29359 missing from current font.\n",
      "  font.set_text(s, 0, flags=flags)\n",
      "/root/anaconda3/lib/python3.9/site-packages/matplotlib/backends/backend_agg.py:203: RuntimeWarning: Glyph 32618 missing from current font.\n",
      "  font.set_text(s, 0, flags=flags)\n",
      "/root/anaconda3/lib/python3.9/site-packages/matplotlib/backends/backend_agg.py:203: RuntimeWarning: Glyph 23569 missing from current font.\n",
      "  font.set_text(s, 0, flags=flags)\n",
      "/root/anaconda3/lib/python3.9/site-packages/matplotlib/backends/backend_agg.py:203: RuntimeWarning: Glyph 20799 missing from current font.\n",
      "  font.set_text(s, 0, flags=flags)\n",
      "/root/anaconda3/lib/python3.9/site-packages/matplotlib/backends/backend_agg.py:203: RuntimeWarning: Glyph 21476 missing from current font.\n",
      "  font.set_text(s, 0, flags=flags)\n",
      "/root/anaconda3/lib/python3.9/site-packages/matplotlib/backends/backend_agg.py:203: RuntimeWarning: Glyph 35013 missing from current font.\n",
      "  font.set_text(s, 0, flags=flags)\n",
      "/root/anaconda3/lib/python3.9/site-packages/matplotlib/backends/backend_agg.py:203: RuntimeWarning: Glyph 22899 missing from current font.\n",
      "  font.set_text(s, 0, flags=flags)\n",
      "/root/anaconda3/lib/python3.9/site-packages/matplotlib/backends/backend_agg.py:203: RuntimeWarning: Glyph 27873 missing from current font.\n",
      "  font.set_text(s, 0, flags=flags)\n",
      "/root/anaconda3/lib/python3.9/site-packages/matplotlib/backends/backend_agg.py:203: RuntimeWarning: Glyph 38754 missing from current font.\n",
      "  font.set_text(s, 0, flags=flags)\n",
      "/root/anaconda3/lib/python3.9/site-packages/matplotlib/backends/backend_agg.py:203: RuntimeWarning: Glyph 37117 missing from current font.\n",
      "  font.set_text(s, 0, flags=flags)\n",
      "/root/anaconda3/lib/python3.9/site-packages/matplotlib/backends/backend_agg.py:203: RuntimeWarning: Glyph 24066 missing from current font.\n",
      "  font.set_text(s, 0, flags=flags)\n",
      "/root/anaconda3/lib/python3.9/site-packages/matplotlib/backends/backend_agg.py:203: RuntimeWarning: Glyph 36816 missing from current font.\n",
      "  font.set_text(s, 0, flags=flags)\n",
      "/root/anaconda3/lib/python3.9/site-packages/matplotlib/backends/backend_agg.py:203: RuntimeWarning: Glyph 26550 missing from current font.\n",
      "  font.set_text(s, 0, flags=flags)\n",
      "/root/anaconda3/lib/python3.9/site-packages/matplotlib/backends/backend_agg.py:203: RuntimeWarning: Glyph 31354 missing from current font.\n",
      "  font.set_text(s, 0, flags=flags)\n",
      "/root/anaconda3/lib/python3.9/site-packages/matplotlib/backends/backend_agg.py:203: RuntimeWarning: Glyph 21169 missing from current font.\n",
      "  font.set_text(s, 0, flags=flags)\n",
      "/root/anaconda3/lib/python3.9/site-packages/matplotlib/backends/backend_agg.py:203: RuntimeWarning: Glyph 24535 missing from current font.\n",
      "  font.set_text(s, 0, flags=flags)\n",
      "/root/anaconda3/lib/python3.9/site-packages/matplotlib/backends/backend_agg.py:203: RuntimeWarning: Glyph 28216 missing from current font.\n",
      "  font.set_text(s, 0, flags=flags)\n",
      "/root/anaconda3/lib/python3.9/site-packages/matplotlib/backends/backend_agg.py:203: RuntimeWarning: Glyph 25103 missing from current font.\n",
      "  font.set_text(s, 0, flags=flags)\n",
      "/root/anaconda3/lib/python3.9/site-packages/matplotlib/backends/backend_agg.py:203: RuntimeWarning: Glyph 32654 missing from current font.\n",
      "  font.set_text(s, 0, flags=flags)\n",
      "/root/anaconda3/lib/python3.9/site-packages/matplotlib/backends/backend_agg.py:203: RuntimeWarning: Glyph 39135 missing from current font.\n",
      "  font.set_text(s, 0, flags=flags)\n",
      "/root/anaconda3/lib/python3.9/site-packages/matplotlib/backends/backend_agg.py:203: RuntimeWarning: Glyph 21009 missing from current font.\n",
      "  font.set_text(s, 0, flags=flags)\n",
      "/root/anaconda3/lib/python3.9/site-packages/matplotlib/backends/backend_agg.py:203: RuntimeWarning: Glyph 20390 missing from current font.\n",
      "  font.set_text(s, 0, flags=flags)\n",
      "/root/anaconda3/lib/python3.9/site-packages/matplotlib/backends/backend_agg.py:203: RuntimeWarning: Glyph 25506 missing from current font.\n",
      "  font.set_text(s, 0, flags=flags)\n",
      "/root/anaconda3/lib/python3.9/site-packages/matplotlib/backends/backend_agg.py:203: RuntimeWarning: Glyph 26426 missing from current font.\n",
      "  font.set_text(s, 0, flags=flags)\n",
      "/root/anaconda3/lib/python3.9/site-packages/matplotlib/backends/backend_agg.py:203: RuntimeWarning: Glyph 26053 missing from current font.\n",
      "  font.set_text(s, 0, flags=flags)\n",
      "/root/anaconda3/lib/python3.9/site-packages/matplotlib/backends/backend_agg.py:203: RuntimeWarning: Glyph 34892 missing from current font.\n",
      "  font.set_text(s, 0, flags=flags)\n",
      "/root/anaconda3/lib/python3.9/site-packages/matplotlib/backends/backend_agg.py:203: RuntimeWarning: Glyph 38899 missing from current font.\n",
      "  font.set_text(s, 0, flags=flags)\n",
      "/root/anaconda3/lib/python3.9/site-packages/matplotlib/backends/backend_agg.py:203: RuntimeWarning: Glyph 20048 missing from current font.\n",
      "  font.set_text(s, 0, flags=flags)\n",
      "/root/anaconda3/lib/python3.9/site-packages/matplotlib/backends/backend_agg.py:203: RuntimeWarning: Glyph 31359 missing from current font.\n",
      "  font.set_text(s, 0, flags=flags)\n",
      "/root/anaconda3/lib/python3.9/site-packages/matplotlib/backends/backend_agg.py:203: RuntimeWarning: Glyph 36234 missing from current font.\n",
      "  font.set_text(s, 0, flags=flags)\n",
      "/root/anaconda3/lib/python3.9/site-packages/matplotlib/backends/backend_agg.py:203: RuntimeWarning: Glyph 24180 missing from current font.\n",
      "  font.set_text(s, 0, flags=flags)\n",
      "/root/anaconda3/lib/python3.9/site-packages/matplotlib/backends/backend_agg.py:203: RuntimeWarning: Glyph 20195 missing from current font.\n",
      "  font.set_text(s, 0, flags=flags)\n",
      "/root/anaconda3/lib/python3.9/site-packages/matplotlib/backends/backend_agg.py:203: RuntimeWarning: Glyph 39764 missing from current font.\n",
      "  font.set_text(s, 0, flags=flags)\n",
      "/root/anaconda3/lib/python3.9/site-packages/matplotlib/backends/backend_agg.py:203: RuntimeWarning: Glyph 27861 missing from current font.\n",
      "  font.set_text(s, 0, flags=flags)\n",
      "/root/anaconda3/lib/python3.9/site-packages/matplotlib/backends/backend_agg.py:203: RuntimeWarning: Glyph 26102 missing from current font.\n",
      "  font.set_text(s, 0, flags=flags)\n",
      "/root/anaconda3/lib/python3.9/site-packages/matplotlib/backends/backend_agg.py:203: RuntimeWarning: Glyph 27882 missing from current font.\n",
      "  font.set_text(s, 0, flags=flags)\n",
      "/root/anaconda3/lib/python3.9/site-packages/matplotlib/backends/backend_agg.py:203: RuntimeWarning: Glyph 24656 missing from current font.\n",
      "  font.set_text(s, 0, flags=flags)\n",
      "/root/anaconda3/lib/python3.9/site-packages/matplotlib/backends/backend_agg.py:203: RuntimeWarning: Glyph 24598 missing from current font.\n",
      "  font.set_text(s, 0, flags=flags)\n",
      "/root/anaconda3/lib/python3.9/site-packages/matplotlib/backends/backend_agg.py:203: RuntimeWarning: Glyph 20598 missing from current font.\n",
      "  font.set_text(s, 0, flags=flags)\n",
      "/root/anaconda3/lib/python3.9/site-packages/matplotlib/backends/backend_agg.py:203: RuntimeWarning: Glyph 20687 missing from current font.\n",
      "  font.set_text(s, 0, flags=flags)\n",
      "/root/anaconda3/lib/python3.9/site-packages/matplotlib/backends/backend_agg.py:203: RuntimeWarning: Glyph 22768 missing from current font.\n",
      "  font.set_text(s, 0, flags=flags)\n",
      "/root/anaconda3/lib/python3.9/site-packages/matplotlib/backends/backend_agg.py:203: RuntimeWarning: Glyph 25511 missing from current font.\n",
      "  font.set_text(s, 0, flags=flags)\n",
      "/root/anaconda3/lib/python3.9/site-packages/matplotlib/backends/backend_agg.py:203: RuntimeWarning: Glyph 20256 missing from current font.\n",
      "  font.set_text(s, 0, flags=flags)\n",
      "/root/anaconda3/lib/python3.9/site-packages/matplotlib/backends/backend_agg.py:203: RuntimeWarning: Glyph 35760 missing from current font.\n",
      "  font.set_text(s, 0, flags=flags)\n",
      "/root/anaconda3/lib/python3.9/site-packages/matplotlib/backends/backend_agg.py:203: RuntimeWarning: Glyph 25512 missing from current font.\n",
      "  font.set_text(s, 0, flags=flags)\n",
      "/root/anaconda3/lib/python3.9/site-packages/matplotlib/backends/backend_agg.py:203: RuntimeWarning: Glyph 29702 missing from current font.\n",
      "  font.set_text(s, 0, flags=flags)\n",
      "/root/anaconda3/lib/python3.9/site-packages/matplotlib/backends/backend_agg.py:203: RuntimeWarning: Glyph 26234 missing from current font.\n",
      "  font.set_text(s, 0, flags=flags)\n",
      "/root/anaconda3/lib/python3.9/site-packages/matplotlib/backends/backend_agg.py:203: RuntimeWarning: Glyph 23431 missing from current font.\n",
      "  font.set_text(s, 0, flags=flags)\n",
      "/root/anaconda3/lib/python3.9/site-packages/matplotlib/backends/backend_agg.py:203: RuntimeWarning: Glyph 23449 missing from current font.\n",
      "  font.set_text(s, 0, flags=flags)\n",
      "/root/anaconda3/lib/python3.9/site-packages/matplotlib/backends/backend_agg.py:203: RuntimeWarning: Glyph 22242 missing from current font.\n",
      "  font.set_text(s, 0, flags=flags)\n",
      "/root/anaconda3/lib/python3.9/site-packages/matplotlib/backends/backend_agg.py:203: RuntimeWarning: Glyph 20891 missing from current font.\n",
      "  font.set_text(s, 0, flags=flags)\n",
      "/root/anaconda3/lib/python3.9/site-packages/matplotlib/backends/backend_agg.py:203: RuntimeWarning: Glyph 20107 missing from current font.\n",
      "  font.set_text(s, 0, flags=flags)\n",
      "/root/anaconda3/lib/python3.9/site-packages/matplotlib/backends/backend_agg.py:203: RuntimeWarning: Glyph 30495 missing from current font.\n",
      "  font.set_text(s, 0, flags=flags)\n",
      "/root/anaconda3/lib/python3.9/site-packages/matplotlib/backends/backend_agg.py:203: RuntimeWarning: Glyph 31168 missing from current font.\n",
      "  font.set_text(s, 0, flags=flags)\n",
      "/root/anaconda3/lib/python3.9/site-packages/matplotlib/backends/backend_agg.py:203: RuntimeWarning: Glyph 21307 missing from current font.\n",
      "  font.set_text(s, 0, flags=flags)\n",
      "/root/anaconda3/lib/python3.9/site-packages/matplotlib/backends/backend_agg.py:203: RuntimeWarning: Glyph 30103 missing from current font.\n",
      "  font.set_text(s, 0, flags=flags)\n",
      "/root/anaconda3/lib/python3.9/site-packages/matplotlib/backends/backend_agg.py:203: RuntimeWarning: Glyph 20652 missing from current font.\n",
      "  font.set_text(s, 0, flags=flags)\n",
      "/root/anaconda3/lib/python3.9/site-packages/matplotlib/backends/backend_agg.py:203: RuntimeWarning: Glyph 24577 missing from current font.\n",
      "  font.set_text(s, 0, flags=flags)\n",
      "/root/anaconda3/lib/python3.9/site-packages/matplotlib/backends/backend_agg.py:203: RuntimeWarning: Glyph 38738 missing from current font.\n",
      "  font.set_text(s, 0, flags=flags)\n",
      "/root/anaconda3/lib/python3.9/site-packages/matplotlib/backends/backend_agg.py:203: RuntimeWarning: Glyph 26149 missing from current font.\n",
      "  font.set_text(s, 0, flags=flags)\n",
      "/root/anaconda3/lib/python3.9/site-packages/matplotlib/backends/backend_agg.py:203: RuntimeWarning: Glyph 20057 missing from current font.\n",
      "  font.set_text(s, 0, flags=flags)\n",
      "/root/anaconda3/lib/python3.9/site-packages/matplotlib/backends/backend_agg.py:203: RuntimeWarning: Glyph 26696 missing from current font.\n",
      "  font.set_text(s, 0, flags=flags)\n",
      "/root/anaconda3/lib/python3.9/site-packages/matplotlib/backends/backend_agg.py:203: RuntimeWarning: Glyph 28798 missing from current font.\n",
      "  font.set_text(s, 0, flags=flags)\n",
      "/root/anaconda3/lib/python3.9/site-packages/matplotlib/backends/backend_agg.py:203: RuntimeWarning: Glyph 38590 missing from current font.\n",
      "  font.set_text(s, 0, flags=flags)\n",
      "/root/anaconda3/lib/python3.9/site-packages/matplotlib/backends/backend_agg.py:203: RuntimeWarning: Glyph 24067 missing from current font.\n",
      "  font.set_text(s, 0, flags=flags)\n",
      "/root/anaconda3/lib/python3.9/site-packages/matplotlib/backends/backend_agg.py:203: RuntimeWarning: Glyph 34955 missing from current font.\n",
      "  font.set_text(s, 0, flags=flags)\n",
      "/root/anaconda3/lib/python3.9/site-packages/matplotlib/backends/backend_agg.py:203: RuntimeWarning: Glyph 32844 missing from current font.\n",
      "  font.set_text(s, 0, flags=flags)\n",
      "/root/anaconda3/lib/python3.9/site-packages/matplotlib/backends/backend_agg.py:203: RuntimeWarning: Glyph 22330 missing from current font.\n",
      "  font.set_text(s, 0, flags=flags)\n",
      "/root/anaconda3/lib/python3.9/site-packages/matplotlib/backends/backend_agg.py:203: RuntimeWarning: Glyph 20892 missing from current font.\n",
      "  font.set_text(s, 0, flags=flags)\n",
      "/root/anaconda3/lib/python3.9/site-packages/matplotlib/backends/backend_agg.py:203: RuntimeWarning: Glyph 26449 missing from current font.\n",
      "  font.set_text(s, 0, flags=flags)\n",
      "/root/anaconda3/lib/python3.9/site-packages/matplotlib/backends/backend_agg.py:203: RuntimeWarning: Glyph 23456 missing from current font.\n",
      "  font.set_text(s, 0, flags=flags)\n",
      "/root/anaconda3/lib/python3.9/site-packages/matplotlib/backends/backend_agg.py:203: RuntimeWarning: Glyph 31070 missing from current font.\n",
      "  font.set_text(s, 0, flags=flags)\n",
      "/root/anaconda3/lib/python3.9/site-packages/matplotlib/backends/backend_agg.py:203: RuntimeWarning: Glyph 27494 missing from current font.\n",
      "  font.set_text(s, 0, flags=flags)\n",
      "/root/anaconda3/lib/python3.9/site-packages/matplotlib/backends/backend_agg.py:203: RuntimeWarning: Glyph 20384 missing from current font.\n",
      "  font.set_text(s, 0, flags=flags)\n",
      "/root/anaconda3/lib/python3.9/site-packages/matplotlib/backends/backend_agg.py:203: RuntimeWarning: Glyph 35853 missing from current font.\n",
      "  font.set_text(s, 0, flags=flags)\n",
      "/root/anaconda3/lib/python3.9/site-packages/matplotlib/backends/backend_agg.py:203: RuntimeWarning: Glyph 27468 missing from current font.\n",
      "  font.set_text(s, 0, flags=flags)\n",
      "/root/anaconda3/lib/python3.9/site-packages/matplotlib/backends/backend_agg.py:203: RuntimeWarning: Glyph 33310 missing from current font.\n",
      "  font.set_text(s, 0, flags=flags)\n",
      "/root/anaconda3/lib/python3.9/site-packages/matplotlib/backends/backend_agg.py:203: RuntimeWarning: Glyph 31192 missing from current font.\n",
      "  font.set_text(s, 0, flags=flags)\n",
      "/root/anaconda3/lib/python3.9/site-packages/matplotlib/backends/backend_agg.py:203: RuntimeWarning: Glyph 29572 missing from current font.\n",
      "  font.set_text(s, 0, flags=flags)\n",
      "/root/anaconda3/lib/python3.9/site-packages/matplotlib/backends/backend_agg.py:203: RuntimeWarning: Glyph 32426 missing from current font.\n",
      "  font.set_text(s, 0, flags=flags)\n",
      "/root/anaconda3/lib/python3.9/site-packages/matplotlib/backends/backend_agg.py:203: RuntimeWarning: Glyph 23454 missing from current font.\n",
      "  font.set_text(s, 0, flags=flags)\n",
      "/root/anaconda3/lib/python3.9/site-packages/matplotlib/backends/backend_agg.py:203: RuntimeWarning: Glyph 26202 missing from current font.\n",
      "  font.set_text(s, 0, flags=flags)\n",
      "/root/anaconda3/lib/python3.9/site-packages/matplotlib/backends/backend_agg.py:203: RuntimeWarning: Glyph 39118 missing from current font.\n",
      "  font.set_text(s, 0, flags=flags)\n",
      "/root/anaconda3/lib/python3.9/site-packages/matplotlib/backends/backend_agg.py:203: RuntimeWarning: Glyph 29305 missing from current font.\n",
      "  font.set_text(s, 0, flags=flags)\n",
      "/root/anaconda3/lib/python3.9/site-packages/matplotlib/backends/backend_agg.py:203: RuntimeWarning: Glyph 25668 missing from current font.\n",
      "  font.set_text(s, 0, flags=flags)\n",
      "/root/anaconda3/lib/python3.9/site-packages/matplotlib/backends/backend_agg.py:203: RuntimeWarning: Glyph 32463 missing from current font.\n",
      "  font.set_text(s, 0, flags=flags)\n",
      "/root/anaconda3/lib/python3.9/site-packages/matplotlib/backends/backend_agg.py:203: RuntimeWarning: Glyph 20856 missing from current font.\n",
      "  font.set_text(s, 0, flags=flags)\n",
      "/root/anaconda3/lib/python3.9/site-packages/matplotlib/backends/backend_agg.py:203: RuntimeWarning: Glyph 21270 missing from current font.\n",
      "  font.set_text(s, 0, flags=flags)\n",
      "/root/anaconda3/lib/python3.9/site-packages/matplotlib/backends/backend_agg.py:203: RuntimeWarning: Glyph 28436 missing from current font.\n",
      "  font.set_text(s, 0, flags=flags)\n",
      "/root/anaconda3/lib/python3.9/site-packages/matplotlib/backends/backend_agg.py:203: RuntimeWarning: Glyph 21809 missing from current font.\n",
      "  font.set_text(s, 0, flags=flags)\n",
      "/root/anaconda3/lib/python3.9/site-packages/matplotlib/backends/backend_agg.py:203: RuntimeWarning: Glyph 33073 missing from current font.\n",
      "  font.set_text(s, 0, flags=flags)\n",
      "/root/anaconda3/lib/python3.9/site-packages/matplotlib/backends/backend_agg.py:203: RuntimeWarning: Glyph 21475 missing from current font.\n",
      "  font.set_text(s, 0, flags=flags)\n",
      "/root/anaconda3/lib/python3.9/site-packages/matplotlib/backends/backend_agg.py:203: RuntimeWarning: Glyph 35775 missing from current font.\n",
      "  font.set_text(s, 0, flags=flags)\n",
      "/root/anaconda3/lib/python3.9/site-packages/matplotlib/backends/backend_agg.py:203: RuntimeWarning: Glyph 35848 missing from current font.\n",
      "  font.set_text(s, 0, flags=flags)\n",
      "/root/anaconda3/lib/python3.9/site-packages/matplotlib/backends/backend_agg.py:203: RuntimeWarning: Glyph 35805 missing from current font.\n",
      "  font.set_text(s, 0, flags=flags)\n",
      "/root/anaconda3/lib/python3.9/site-packages/matplotlib/backends/backend_agg.py:203: RuntimeWarning: Glyph 33821 missing from current font.\n",
      "  font.set_text(s, 0, flags=flags)\n",
      "/root/anaconda3/lib/python3.9/site-packages/matplotlib/backends/backend_agg.py:203: RuntimeWarning: Glyph 33673 missing from current font.\n",
      "  font.set_text(s, 0, flags=flags)\n",
      "/root/anaconda3/lib/python3.9/site-packages/matplotlib/backends/backend_agg.py:203: RuntimeWarning: Glyph 36873 missing from current font.\n",
      "  font.set_text(s, 0, flags=flags)\n",
      "/root/anaconda3/lib/python3.9/site-packages/matplotlib/backends/backend_agg.py:203: RuntimeWarning: Glyph 20146 missing from current font.\n",
      "  font.set_text(s, 0, flags=flags)\n",
      "/root/anaconda3/lib/python3.9/site-packages/matplotlib/backends/backend_agg.py:203: RuntimeWarning: Glyph 23376 missing from current font.\n",
      "  font.set_text(s, 0, flags=flags)\n",
      "/root/anaconda3/lib/python3.9/site-packages/matplotlib/backends/backend_agg.py:203: RuntimeWarning: Glyph 20859 missing from current font.\n",
      "  font.set_text(s, 0, flags=flags)\n",
      "/root/anaconda3/lib/python3.9/site-packages/matplotlib/backends/backend_agg.py:203: RuntimeWarning: Glyph 25104 missing from current font.\n",
      "  font.set_text(s, 0, flags=flags)\n"
     ]
    },
    {
     "data": {
      "image/png": "[encoded data removed]",
      "text/plain": [
       "<Figure size 1080x576 with 1 Axes>"
      ]
     },
     "metadata": {},
     "output_type": "display_data"
    }
   ],
   "source": [
    "plt.rcParams['font.sans-serif'] = ['SimHei']\n",
    "plt.figure(figsize=(15, 8))\n",
    "plt.pie(sorted_values,\n",
    "        labels=sorted_key,\n",
    "#         pctdistance=1,\n",
    "#         explode=[.1, 0, 0, 0, 0, 0],\n",
    "#         colors=['#004185', 'k', '#3398cd', 'r', '#5bafd4', '#f3a85b']\n",
    "       )\n",
    "# plt.legend(loc=1)\n",
    "# plt.savefig('./fig/OS的分布.jpg',dpi=200,bbox_inches = 'tight')\n",
    "plt.show()"
   ]
  },
  {
   "cell_type": "code",
   "execution_count": null,
   "id": "90f2e7cf",
   "metadata": {},
   "outputs": [],
   "source": []
  },
  {
   "cell_type": "code",
   "execution_count": 213,
   "id": "eae4397e",
   "metadata": {
    "ExecuteTime": {
     "end_time": "2021-12-22T11:39:12.816439Z",
     "start_time": "2021-12-22T11:39:12.545508Z"
    }
   },
   "outputs": [
    {
     "data": {
      "text/plain": [
       "<BarContainer object of 93 artists>"
      ]
     },
     "execution_count": 213,
     "metadata": {},
     "output_type": "execute_result"
    },
    {
     "data": {
      "image/png": "[encoded data removed]",
      "text/plain": [
       "<Figure size 432x288 with 1 Axes>"
      ]
     },
     "metadata": {
      "needs_background": "light"
     },
     "output_type": "display_data"
    }
   ],
   "source": [
    "plt.bar(range(93),tag_count.values())"
   ]
  },
  {
   "cell_type": "code",
   "execution_count": null,
   "id": "2de0db67",
   "metadata": {},
   "outputs": [],
   "source": [
    "df[cx].plot.box(showmeans=True,  # 显示均值\n",
    "                meanline=True,  # 显示均值为线\n",
    "                notch=True,  # 缺口显示中位数\n",
    "                medianprops=dict(linewidth=0),  # 中位数的宽度为0（不显示中位数\n",
    "                meanprops=dict(color='orange', linewidth=2),  # 均值颜色和宽度\n",
    "                patch_artist=True,  # 是否填充\n",
    "                boxprops={'color': 'k', 'facecolor': '#3398cd'},  # 填充色\n",
    "                figsize=(7, 5)  # 画布大小\n",
    "                )\n",
    "plt.title('CX1-3箱线图')\n",
    "plt.savefig('./fig/CX1-3箱线图.jpg',dpi=200,bbox_inches = 'tight')"
   ]
  }
 ],
 "metadata": {
  "kernelspec": {
   "display_name": "Python 3 (ipykernel)",
   "language": "python",
   "name": "python3"
  },
  "language_info": {
   "codemirror_mode": {
    "name": "ipython",
    "version": 3
   },
   "file_extension": ".py",
   "mimetype": "text/x-python",
   "name": "python",
   "nbconvert_exporter": "python",
   "pygments_lexer": "ipython3",
   "version": "3.9.7"
  },
  "toc": {
   "base_numbering": 1,
   "nav_menu": {},
   "number_sections": true,
   "sideBar": true,
   "skip_h1_title": false,
   "title_cell": "Table of Contents",
   "title_sidebar": "Contents",
   "toc_cell": true,
   "toc_position": {},
   "toc_section_display": true,
   "toc_window_display": false
  },
  "varInspector": {
   "cols": {
    "lenName": 16,
    "lenType": 16,
    "lenVar": 40
   },
   "kernels_config": {
    "python": {
     "delete_cmd_postfix": "",
     "delete_cmd_prefix": "del ",
     "library": "var_list.py",
     "varRefreshCmd": "print(var_dic_list())"
    },
    "r": {
     "delete_cmd_postfix": ") ",
     "delete_cmd_prefix": "rm(",
     "library": "var_list.r",
     "varRefreshCmd": "cat(var_dic_list()) "
    }
   },
   "types_to_exclude": [
    "module",
    "function",
    "builtin_function_or_method",
    "instance",
    "_Feature"
   ],
   "window_display": false
  }
 },
 "nbformat": 4,
 "nbformat_minor": 5
}
