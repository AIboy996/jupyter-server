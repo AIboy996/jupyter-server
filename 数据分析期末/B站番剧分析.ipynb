{
 "cells": [
  {
   "cell_type": "markdown",
   "id": "4f07f40c",
   "metadata": {
    "toc": true
   },
   "source": [
    "<h1>Table of Contents<span class=\"tocSkip\"></span></h1>\n",
    "<div class=\"toc\"><ul class=\"toc-item\"><li><span><a href=\"#项目概述\" data-toc-modified-id=\"项目概述-1\"><span class=\"toc-item-num\">1&nbsp;&nbsp;</span>项目概述</a></span></li><li><span><a href=\"#数据抓取\" data-toc-modified-id=\"数据抓取-2\"><span class=\"toc-item-num\">2&nbsp;&nbsp;</span>数据抓取</a></span><ul class=\"toc-item\"><li><span><a href=\"#使用到的库\" data-toc-modified-id=\"使用到的库-2.1\"><span class=\"toc-item-num\">2.1&nbsp;&nbsp;</span>使用到的库</a></span></li><li><span><a href=\"#下载网页\" data-toc-modified-id=\"下载网页-2.2\"><span class=\"toc-item-num\">2.2&nbsp;&nbsp;</span>下载网页</a></span></li><li><span><a href=\"#处理网页信息\" data-toc-modified-id=\"处理网页信息-2.3\"><span class=\"toc-item-num\">2.3&nbsp;&nbsp;</span>处理网页信息</a></span><ul class=\"toc-item\"><li><span><a href=\"#处理数字\" data-toc-modified-id=\"处理数字-2.3.1\"><span class=\"toc-item-num\">2.3.1&nbsp;&nbsp;</span>处理数字</a></span></li><li><span><a href=\"#处理日期\" data-toc-modified-id=\"处理日期-2.3.2\"><span class=\"toc-item-num\">2.3.2&nbsp;&nbsp;</span>处理日期</a></span></li><li><span><a href=\"#估算番剧长度\" data-toc-modified-id=\"估算番剧长度-2.3.3\"><span class=\"toc-item-num\">2.3.3&nbsp;&nbsp;</span>估算番剧长度</a></span></li></ul></li><li><span><a href=\"#汇总信息\" data-toc-modified-id=\"汇总信息-2.4\"><span class=\"toc-item-num\">2.4&nbsp;&nbsp;</span>汇总信息</a></span><ul class=\"toc-item\"><li><span><a href=\"#获取合法的mdid\" data-toc-modified-id=\"获取合法的mdid-2.4.1\"><span class=\"toc-item-num\">2.4.1&nbsp;&nbsp;</span>获取合法的mdid</a></span></li><li><span><a href=\"#整合数据\" data-toc-modified-id=\"整合数据-2.4.2\"><span class=\"toc-item-num\">2.4.2&nbsp;&nbsp;</span>整合数据</a></span></li></ul></li><li><span><a href=\"#代码运行\" data-toc-modified-id=\"代码运行-2.5\"><span class=\"toc-item-num\">2.5&nbsp;&nbsp;</span>代码运行</a></span></li></ul></li><li><span><a href=\"#回归分析\" data-toc-modified-id=\"回归分析-3\"><span class=\"toc-item-num\">3&nbsp;&nbsp;</span>回归分析</a></span></li><li><span><a href=\"#可视化\" data-toc-modified-id=\"可视化-4\"><span class=\"toc-item-num\">4&nbsp;&nbsp;</span>可视化</a></span></li></ul></div>"
   ]
  },
  {
   "cell_type": "markdown",
   "id": "089d961d",
   "metadata": {},
   "source": [
    "# 项目概述"
   ]
  },
  {
   "cell_type": "markdown",
   "id": "eb2881d8",
   "metadata": {},
   "source": [
    "> bilibili，全称为哔哩哔哩弹幕网，亦称哔哩哔哩、bilibili弹幕网，或简称为B站，是总部位于中国大陆上海的一个以ACG相关内容起家的弹幕视频分享网站。\\\n",
    "作为数据分析课程的期末论文，本项目打算从0开始收集B站的番剧数据，包括`播放量`、`追番人数`、`弹幕总数`、`评分`、`评分人数`等等一系列变量。\\\n",
    "而后进行数据的分析与可视化，数据分析部分主要是建立回归模型寻找播放量与其他变量之间的关系，可视化部分主要是对番剧的开播时间进行时间轴上的数量展示，观察什么时期的番剧比较多。"
   ]
  },
  {
   "cell_type": "markdown",
   "id": "3b6393bc",
   "metadata": {},
   "source": [
    "**这里的番剧不仅仅包含动画内容、也包含电影、剧集等，只要包含在B站media之中的内容都进行统计分析**"
   ]
  },
  {
   "cell_type": "markdown",
   "id": "3942cb9c",
   "metadata": {},
   "source": [
    "# 数据抓取"
   ]
  },
  {
   "cell_type": "markdown",
   "id": "9b1b022a",
   "metadata": {},
   "source": [
    "## 使用到的库"
   ]
  },
  {
   "cell_type": "code",
   "execution_count": 1,
   "id": "dd221e53",
   "metadata": {
    "ExecuteTime": {
     "end_time": "2021-12-21T07:28:16.157754Z",
     "start_time": "2021-12-21T07:28:15.591094Z"
    }
   },
   "outputs": [],
   "source": [
    "import re\n",
    "import time\n",
    "from datetime import datetime\n",
    "\n",
    "import pandas as pd\n",
    "\n",
    "import requests\n",
    "import parsel"
   ]
  },
  {
   "cell_type": "markdown",
   "id": "deb5ae0e",
   "metadata": {},
   "source": [
    "## 下载网页"
   ]
  },
  {
   "cell_type": "markdown",
   "id": "112eb6d1",
   "metadata": {},
   "source": [
    "已知番剧的media id时，使用requests库下载网页（本项目涉及的全是网页的静态内容），注意编码格式为utf-8"
   ]
  },
  {
   "cell_type": "code",
   "execution_count": 17,
   "id": "4bd294c4",
   "metadata": {
    "ExecuteTime": {
     "end_time": "2021-12-21T08:18:20.672218Z",
     "start_time": "2021-12-21T08:18:20.668318Z"
    }
   },
   "outputs": [],
   "source": [
    "def gethtml(mdid):\n",
    "    '''\n",
    "    获取哔哩哔哩番剧详情页面的html文本\n",
    "    input  mdid【int】\n",
    "    output 对应番剧的详情页面【str】\n",
    "    '''\n",
    "\n",
    "    url = f'https://www.bilibili.com/bangumi/media/md{mdid}'\n",
    "    response = requests.get(url)\n",
    "    response.encoding = 'utf8'\n",
    "    html = response.text\n",
    "    # B站域名下非法的网址会跳转到错误页面，包含以下字符串\n",
    "    if 'Σ(oﾟдﾟoﾉ) 无法找到该页面~' in html:\n",
    "        html = 'invalid'\n",
    "    return html"
   ]
  },
  {
   "cell_type": "markdown",
   "id": "c228b292",
   "metadata": {},
   "source": [
    "## 处理网页信息"
   ]
  },
  {
   "cell_type": "markdown",
   "id": "fcc6c264",
   "metadata": {},
   "source": [
    "### 处理数字"
   ]
  },
  {
   "cell_type": "markdown",
   "id": "9cd6741a",
   "metadata": {},
   "source": [
    "B站的播放量、追番数以及弹幕数经常以万或者亿结尾，写一个函数转换一下"
   ]
  },
  {
   "cell_type": "code",
   "execution_count": 18,
   "id": "77567ebe",
   "metadata": {
    "ExecuteTime": {
     "end_time": "2021-12-21T08:18:21.783934Z",
     "start_time": "2021-12-21T08:18:21.777831Z"
    }
   },
   "outputs": [],
   "source": [
    "def eval_playdata(s):\n",
    "    '''\n",
    "    把playdata中的xxx万、亿转换为数字\n",
    "    input  s【str】\n",
    "    output 对应数字表达的整数值【int】\n",
    "    '''\n",
    "\n",
    "    d = {'万': 1e4, '亿': 1e8}\n",
    "    try:\n",
    "        #没有汉字，纯数字\n",
    "        ans = eval(s)\n",
    "    except SyntaxError:\n",
    "        # 判断末尾是不是万或者亿，否则报错\n",
    "        if s[-1] in d:\n",
    "            ans = int(eval(s[:-1]) * d[s[-1]])\n",
    "        else:\n",
    "            ans = 'NA'\n",
    "    return ans"
   ]
  },
  {
   "cell_type": "markdown",
   "id": "f94fbf30",
   "metadata": {},
   "source": [
    "### 处理日期"
   ]
  },
  {
   "cell_type": "markdown",
   "id": "62da4a5e",
   "metadata": {},
   "source": [
    "由于B站对开播时间的描述不尽相同，故而特别处理一下\\\n",
    "大致有一下几种情况：\n",
    "- %Y年%m月%d日开播【例如[md7](https://www.bilibili.com/bangumi/media/md7)】\n",
    "- %Y年%m月开播【例如[md9892](https://www.bilibili.com/bangumi/media/md9892)】\n",
    "- %Y年开播【例如[md9352](https://www.bilibili.com/bangumi/media/md9352)】\n",
    "- %Y年%m月%d日上映【例如[md10086](https://www.bilibili.com/bangumi/media/md10086)】\n",
    "- %Y开播【例如[md27372](https://www.bilibili.com/bangumi/media/md27372)】\n",
    "\n",
    "对于不满足以上规范的时间，不做错误处理，直接排除掉这些数据"
   ]
  },
  {
   "cell_type": "code",
   "execution_count": 19,
   "id": "a2ad827e",
   "metadata": {
    "ExecuteTime": {
     "end_time": "2021-12-21T08:18:22.405953Z",
     "start_time": "2021-12-21T08:18:22.402157Z"
    }
   },
   "outputs": [],
   "source": [
    "def eval_broadcast_date(s):\n",
    "    '''\n",
    "    把播放日期格式化为datetime格式\n",
    "    input  s【str】\n",
    "    output 日期表达的datetime【datetime】\n",
    "    '''\n",
    "    \n",
    "    if '日' in s:\n",
    "        ans = datetime.strptime(s[:-2], '%Y年%m月%d日')\n",
    "    elif '月' in s:\n",
    "        ans = datetime.strptime(s[:-2], '%Y年%m月')\n",
    "    elif '年' in s:\n",
    "        ans = datetime.strptime(s[:-2], '%Y年')\n",
    "    else:\n",
    "        ans = datetime.strptime(s[:-2], '%Y')\n",
    "    \n",
    "    return ans"
   ]
  },
  {
   "cell_type": "markdown",
   "id": "08bd9101",
   "metadata": {},
   "source": [
    "### 估算番剧长度"
   ]
  },
  {
   "cell_type": "markdown",
   "id": "2a01a346",
   "metadata": {},
   "source": [
    "如果番剧还在连载，就返回NA"
   ]
  },
  {
   "cell_type": "code",
   "execution_count": 20,
   "id": "a2313f3b",
   "metadata": {
    "ExecuteTime": {
     "end_time": "2021-12-21T08:18:23.015338Z",
     "start_time": "2021-12-21T08:18:23.010108Z"
    }
   },
   "outputs": [],
   "source": [
    "def eval_length(over):\n",
    "    '''\n",
    "    估算番剧的长度\n",
    "    input  over【str】,例如'已完结，全3集'或者'123分钟'\n",
    "    output 番剧总长度，单位为分钟【int】\n",
    "    '''\n",
    "    # 去除掉空格\n",
    "    over = over.replace(' ','')\n",
    "    ### 连载中\n",
    "    if '更新' in over:\n",
    "        return 'NA'\n",
    "    ### 已完结\n",
    "    # 电影\n",
    "    elif over[-2:]=='分钟':\n",
    "        length = int(over[:-2])\n",
    "    # 动画\n",
    "    elif over[-1]=='话':\n",
    "        # 按照每一话25分钟估算\n",
    "        length = int(over[5:-1])*25\n",
    "    # 剧集\n",
    "    elif over[-1]=='集':\n",
    "        # 按照每一集45分钟估算\n",
    "        length = int(over[5:-1])*45\n",
    "    else:\n",
    "        length = 'NA'\n",
    "    return length"
   ]
  },
  {
   "cell_type": "markdown",
   "id": "902e670b",
   "metadata": {},
   "source": [
    "## 汇总信息"
   ]
  },
  {
   "cell_type": "markdown",
   "id": "8e4241f5",
   "metadata": {},
   "source": [
    "这里主要使用re库配合正则表达式，以及parsel库的css选择器，对网页的元素进行筛选"
   ]
  },
  {
   "cell_type": "code",
   "execution_count": 21,
   "id": "79d017a7",
   "metadata": {
    "ExecuteTime": {
     "end_time": "2021-12-21T08:18:23.830311Z",
     "start_time": "2021-12-21T08:18:23.818584Z"
    }
   },
   "outputs": [],
   "source": [
    "def getinfo(html):\n",
    "    '''\n",
    "    获取番剧的详细信息\n",
    "    input html【str】\n",
    "    output 提取到的番剧信息【dict】\n",
    "    '''\n",
    "\n",
    "    assert html != 'invalid'\n",
    "    selector = parsel.Selector(html)\n",
    "    # 标题\n",
    "    title = selector.css('.media-info-title-t::text').get()\n",
    "    # 评分\n",
    "    score = selector.css('.media-info-score-content::text').get()\n",
    "    # 评分人数\n",
    "    review_times = selector.css('.media-info-review-times::text').get()\n",
    "    # tags\n",
    "    tags = selector.css('.media-tag::text').getall()\n",
    "    # 播放数据\n",
    "    media_info_label = selector.css('.media-info-label::text').getall()\n",
    "    media_info_play_data = selector.css('em::text').getall()\n",
    "    play_data = dict(zip(media_info_label, media_info_play_data))\n",
    "    # 是否为系列\n",
    "    series = True if '系列' in media_info_label[1] else False\n",
    "    # 播放量、追番数、弹幕数\n",
    "    play_times, followers, bullet_screen = selector.css('em::text').getall()\n",
    "    # 开播时间(是否完结)\n",
    "    ## 这两个时间，用CSS选择器无法正常获取，只能用正则表达式\n",
    "    pattern1 = '<div class=\"media-info-time\"><span>.*</span> <span>.*</span></div>'\n",
    "    prefix_len = len('<div class=\"media-info-time\"><span>')\n",
    "    suffix_len = len('</span></div>')\n",
    "    play_season_str = re.search(pattern1, html)[0]\n",
    "    broadcast_date, _, over = play_season_str.partition('</span> <span>')\n",
    "    broadcast_date, over = broadcast_date[prefix_len:], over[:-suffix_len]\n",
    "    # 是否为电影or剧场版，标注分钟的一般是电影或者剧场版动画\n",
    "    film = True if '分钟' in over else False\n",
    "    # 番剧长度\n",
    "    length = eval_length(over)\n",
    "    # 是否为大会员专享\n",
    "    pattern2 = '<div class=\"btn-pay-wrapper vip-only\">'\n",
    "    vip_only = True if re.search(pattern2, html) else False\n",
    "    # 整理到一个字典里,这个时候尽量把更多的信息保留下来，所以会有很多后缀为str的变量\n",
    "    # 后续可以再把这些变量删掉\n",
    "    info = dict(\n",
    "        title=title,\n",
    "        # 可能没有评分\n",
    "        score=eval(score) if score else 'NA',\n",
    "        review_times=int(review_times[:-2]) if review_times else 'NA',\n",
    "        # tags用逗号连接\n",
    "        tags=','.join(tags),\n",
    "        # play_data=str(play_data),\n",
    "        series=series,\n",
    "        film=film,\n",
    "        # xxx万、亿转换为数字\n",
    "        play_times=eval_playdata(play_times),\n",
    "        followers=eval_playdata(followers),\n",
    "        bullet_screen=eval_playdata(bullet_screen),\n",
    "        # 字符串时间\n",
    "        broadcast_date_str=broadcast_date,\n",
    "        # 转换为时间类型\n",
    "        broadcast_date=eval_broadcast_date(broadcast_date),\n",
    "        over_str=over,\n",
    "        over=True if over[:3] == '已完结' else False,\n",
    "        length=length,\n",
    "        vip_only=vip_only)\n",
    "    return info"
   ]
  },
  {
   "cell_type": "code",
   "execution_count": 22,
   "id": "bfc3791c",
   "metadata": {
    "ExecuteTime": {
     "end_time": "2021-12-21T08:18:24.440169Z",
     "start_time": "2021-12-21T08:18:24.362796Z"
    }
   },
   "outputs": [
    {
     "data": {
      "text/plain": [
       "{'title': '旷野青春',\n",
       " 'score': 9.2,\n",
       " 'review_times': 133,\n",
       " 'tags': '人文,自然',\n",
       " 'series': False,\n",
       " 'film': False,\n",
       " 'play_times': 764000,\n",
       " 'followers': 20000,\n",
       " 'bullet_screen': 2760,\n",
       " 'broadcast_date_str': '2019年12月23日开播',\n",
       " 'broadcast_date': datetime.datetime(2019, 12, 23, 0, 0),\n",
       " 'over_str': '连载中, 每周一、周五更新1集',\n",
       " 'over': False,\n",
       " 'length': 'NA',\n",
       " 'vip_only': False}"
      ]
     },
     "execution_count": 22,
     "metadata": {},
     "output_type": "execute_result"
    }
   ],
   "source": [
    "# 运行示例\n",
    "getinfo(gethtml(28226002))"
   ]
  },
  {
   "cell_type": "markdown",
   "id": "ec0f387c",
   "metadata": {},
   "source": [
    "### 获取合法的mdid"
   ]
  },
  {
   "cell_type": "markdown",
   "id": "ff4a40c7",
   "metadata": {},
   "source": [
    "由于B站的media id是顺序编号的，故而我们这里尝试从0开始往后一次遍历，每次调用函数都会在以及遍历的基础上再向前寻找n个。（B站目前的编号大概已经到了2千万，所以数据量很大，本项目只获取了1万4千余条数据）"
   ]
  },
  {
   "cell_type": "code",
   "execution_count": 23,
   "id": "4a2dc793",
   "metadata": {
    "ExecuteTime": {
     "end_time": "2021-12-21T08:18:25.472222Z",
     "start_time": "2021-12-21T08:18:25.466965Z"
    }
   },
   "outputs": [],
   "source": [
    "def moremdid(n):\n",
    "    '''\n",
    "    读取本地的mdidlist.txt文件中的mdid，接着探索更多可能的mdid\n",
    "    input  n【int】\n",
    "    output 所有已知合法的mdid【list】\n",
    "    '''\n",
    "\n",
    "    # 读取文件中的mdidlist\n",
    "    with open('./data/mdidlist.txt', mode='r') as f:\n",
    "        mdid = list(map(lambda x: eval(x[:-1]), f.readlines()))\n",
    "        f.close()\n",
    "    start = mdid[-1] + 1\n",
    "    for i in range(start, start + n):\n",
    "        # 如果页面不存在，返回404是逻辑上的FLase\n",
    "        if requests.get(f'https://www.bilibili.com/bangumi/media/md{i}'):\n",
    "            mdid.append(i)\n",
    "    # 覆盖写，更新源文件中的mdidlist\n",
    "    with open('./data/mdidlist.txt', mode='w') as f:\n",
    "        f.writelines(map(lambda x: str(x) + '\\n', mdid))\n",
    "        f.close()\n",
    "    print(f'completed, length of mdid now is {len(mdid)}')\n",
    "    return mdid"
   ]
  },
  {
   "cell_type": "markdown",
   "id": "27c9e996",
   "metadata": {},
   "source": [
    "### 整合数据"
   ]
  },
  {
   "cell_type": "markdown",
   "id": "335ce73b",
   "metadata": {},
   "source": [
    "使用pandas把上面整理好的数据汇总到一起"
   ]
  },
  {
   "cell_type": "code",
   "execution_count": 24,
   "id": "04556675",
   "metadata": {
    "ExecuteTime": {
     "end_time": "2021-12-21T08:18:26.400429Z",
     "start_time": "2021-12-21T08:18:26.395878Z"
    }
   },
   "outputs": [],
   "source": [
    "def generate_df(mdid):\n",
    "    '''\n",
    "    获取mdid中所有番剧的信息，放到一个df中\n",
    "    input mdid【list】\n",
    "    output 汇总的所有番剧信息【pandas.DataFrame】\n",
    "    '''\n",
    "    l = []\n",
    "    for i in mdid:\n",
    "        # 不要过快访问\n",
    "        time.sleep(0.1)\n",
    "        # 用try语句捕获错误，尽量让程序一运行发现更多的错误\n",
    "        try:\n",
    "            html = gethtml(i)\n",
    "            info = getinfo(html)\n",
    "            info['mdid'] = i\n",
    "            l.append(info)\n",
    "        except Exception as e:\n",
    "            # 不过exception不是很多就放弃那些报错的数据\n",
    "            print(repr(e))\n",
    "            print(f'{i} failed!')\n",
    "    return pd.DataFrame(l)"
   ]
  },
  {
   "cell_type": "markdown",
   "id": "5bed76a7",
   "metadata": {},
   "source": [
    "## 代码运行"
   ]
  },
  {
   "cell_type": "code",
   "execution_count": 25,
   "id": "1c6dfc10",
   "metadata": {
    "ExecuteTime": {
     "end_time": "2021-12-21T08:18:27.197112Z",
     "start_time": "2021-12-21T08:18:27.122734Z"
    }
   },
   "outputs": [
    {
     "name": "stdout",
     "output_type": "stream",
     "text": [
      "completed, length of mdid now is 14685\n"
     ]
    }
   ],
   "source": [
    "# 读取本地的mdlist文件\n",
    "mdid = moremdid(0)"
   ]
  },
  {
   "cell_type": "code",
   "execution_count": null,
   "id": "21a83c10",
   "metadata": {
    "ExecuteTime": {
     "end_time": "2021-12-21T08:15:41.882203Z",
     "start_time": "2021-12-21T07:28:47.434638Z"
    },
    "scrolled": true
   },
   "outputs": [],
   "source": [
    "# 获取mdid中包含的所有番剧信息，汇总到一个df中\n",
    "df = generate_df(mdid)"
   ]
  },
  {
   "cell_type": "code",
   "execution_count": 26,
   "id": "bc8af58d",
   "metadata": {
    "ExecuteTime": {
     "end_time": "2021-12-21T08:18:34.849200Z",
     "start_time": "2021-12-21T08:18:31.798540Z"
    }
   },
   "outputs": [],
   "source": [
    "# 保存文件，以备后续处理\n",
    "df.to_excel('./data/BLBLdata.xlsx', index=False, encoding='utf-8')"
   ]
  },
  {
   "cell_type": "markdown",
   "id": "dbf81919",
   "metadata": {},
   "source": [
    "# 回归分析"
   ]
  },
  {
   "cell_type": "code",
   "execution_count": 29,
   "id": "52966ce4",
   "metadata": {},
   "outputs": [
    {
     "name": "stdout",
     "output_type": "stream",
     "text": [
      "Once deleted, variables cannot be recovered. Proceed (y/[n])? y\n"
     ]
    }
   ],
   "source": [
    "# 重置\n",
    "%reset"
   ]
  },
  {
   "cell_type": "code",
   "execution_count": 61,
   "id": "0d3a27f3",
   "metadata": {
    "ExecuteTime": {
     "end_time": "2021-12-21T08:23:53.778182Z",
     "start_time": "2021-12-21T08:23:53.775056Z"
    }
   },
   "outputs": [],
   "source": [
    "import pandas as pd\n",
    "import numpy as np\n",
    "import statsmodels.api as sm\n",
    "from patsy import dmatrices"
   ]
  },
  {
   "cell_type": "code",
   "execution_count": 29,
   "id": "2ebce1da",
   "metadata": {
    "ExecuteTime": {
     "end_time": "2021-12-21T08:18:47.114825Z",
     "start_time": "2021-12-21T08:18:43.626380Z"
    }
   },
   "outputs": [
    {
     "data": {
      "text/plain": [
       "(14267, 16)"
      ]
     },
     "execution_count": 29,
     "metadata": {},
     "output_type": "execute_result"
    }
   ],
   "source": [
    "# 读取数据\n",
    "df = pd.read_excel('./data/BLBLdata.xlsx')\n",
    "df.shape"
   ]
  },
  {
   "cell_type": "code",
   "execution_count": 33,
   "id": "7541229f",
   "metadata": {
    "ExecuteTime": {
     "end_time": "2021-12-21T08:19:13.966961Z",
     "start_time": "2021-12-21T08:19:13.958903Z"
    }
   },
   "outputs": [
    {
     "data": {
      "text/plain": [
       "title                                 漫研部\n",
       "score                                 8.7\n",
       "review_times                        224.0\n",
       "tags                          搞笑,泡面,日常,校园\n",
       "series                               True\n",
       "film                                False\n",
       "play_times                      1079000.0\n",
       "followers                         92000.0\n",
       "bullet_screen                      5283.0\n",
       "broadcast_date_str            2013年1月3日开播\n",
       "broadcast_date        2013-01-03 00:00:00\n",
       "over_str                        已完结, 全13话\n",
       "over                                 True\n",
       "length                              325.0\n",
       "vip_only                            False\n",
       "mdid                                    7\n",
       "Name: 0, dtype: object"
      ]
     },
     "execution_count": 33,
     "metadata": {},
     "output_type": "execute_result"
    }
   ],
   "source": [
    "df.loc[0]"
   ]
  },
  {
   "cell_type": "code",
   "execution_count": 64,
   "id": "04b151bf",
   "metadata": {
    "ExecuteTime": {
     "end_time": "2021-12-21T08:24:52.185276Z",
     "start_time": "2021-12-21T08:24:52.179302Z"
    }
   },
   "outputs": [
    {
     "data": {
      "text/plain": [
       "(14267, 7)"
      ]
     },
     "execution_count": 64,
     "metadata": {},
     "output_type": "execute_result"
    }
   ],
   "source": [
    "# 回归用到的数据\n",
    "variables = ['series','film','play_times','followers','bullet_screen','over','vip_only']\n",
    "df_ols = df.loc[ : , variables]\n",
    "df_ols.shape"
   ]
  },
  {
   "cell_type": "code",
   "execution_count": 65,
   "id": "11f97181",
   "metadata": {
    "ExecuteTime": {
     "end_time": "2021-12-21T08:24:54.772237Z",
     "start_time": "2021-12-21T08:24:54.763276Z"
    }
   },
   "outputs": [
    {
     "data": {
      "text/plain": [
       "(13246, 7)"
      ]
     },
     "execution_count": 65,
     "metadata": {},
     "output_type": "execute_result"
    }
   ],
   "source": [
    "# 含有的数据缺失值舍去\n",
    "df_ols.dropna(inplace=True)\n",
    "df_ols.shape"
   ]
  },
  {
   "cell_type": "code",
   "execution_count": 67,
   "id": "47d5e008",
   "metadata": {
    "ExecuteTime": {
     "end_time": "2021-12-21T08:24:57.956140Z",
     "start_time": "2021-12-21T08:24:57.942429Z"
    }
   },
   "outputs": [
    {
     "data": {
      "text/html": [
       "<div>\n",
       "<style scoped>\n",
       "    .dataframe tbody tr th:only-of-type {\n",
       "        vertical-align: middle;\n",
       "    }\n",
       "\n",
       "    .dataframe tbody tr th {\n",
       "        vertical-align: top;\n",
       "    }\n",
       "\n",
       "    .dataframe thead th {\n",
       "        text-align: right;\n",
       "    }\n",
       "</style>\n",
       "<table border=\"1\" class=\"dataframe\">\n",
       "  <thead>\n",
       "    <tr style=\"text-align: right;\">\n",
       "      <th></th>\n",
       "      <th>series</th>\n",
       "      <th>film</th>\n",
       "      <th>play_times</th>\n",
       "      <th>followers</th>\n",
       "      <th>bullet_screen</th>\n",
       "      <th>over</th>\n",
       "      <th>vip_only</th>\n",
       "    </tr>\n",
       "  </thead>\n",
       "  <tbody>\n",
       "    <tr>\n",
       "      <th>0</th>\n",
       "      <td>True</td>\n",
       "      <td>False</td>\n",
       "      <td>1079000.0</td>\n",
       "      <td>92000.0</td>\n",
       "      <td>5283.0</td>\n",
       "      <td>True</td>\n",
       "      <td>False</td>\n",
       "    </tr>\n",
       "    <tr>\n",
       "      <th>1</th>\n",
       "      <td>True</td>\n",
       "      <td>False</td>\n",
       "      <td>624000.0</td>\n",
       "      <td>92000.0</td>\n",
       "      <td>2910.0</td>\n",
       "      <td>True</td>\n",
       "      <td>False</td>\n",
       "    </tr>\n",
       "    <tr>\n",
       "      <th>2</th>\n",
       "      <td>False</td>\n",
       "      <td>False</td>\n",
       "      <td>288000.0</td>\n",
       "      <td>43000.0</td>\n",
       "      <td>16000.0</td>\n",
       "      <td>True</td>\n",
       "      <td>False</td>\n",
       "    </tr>\n",
       "    <tr>\n",
       "      <th>3</th>\n",
       "      <td>True</td>\n",
       "      <td>False</td>\n",
       "      <td>1693000.0</td>\n",
       "      <td>194000.0</td>\n",
       "      <td>7656.0</td>\n",
       "      <td>True</td>\n",
       "      <td>False</td>\n",
       "    </tr>\n",
       "    <tr>\n",
       "      <th>4</th>\n",
       "      <td>True</td>\n",
       "      <td>False</td>\n",
       "      <td>1684000.0</td>\n",
       "      <td>194000.0</td>\n",
       "      <td>5774.0</td>\n",
       "      <td>True</td>\n",
       "      <td>False</td>\n",
       "    </tr>\n",
       "  </tbody>\n",
       "</table>\n",
       "</div>"
      ],
      "text/plain": [
       "   series   film  play_times  followers  bullet_screen  over  vip_only\n",
       "0    True  False   1079000.0    92000.0         5283.0  True     False\n",
       "1    True  False    624000.0    92000.0         2910.0  True     False\n",
       "2   False  False    288000.0    43000.0        16000.0  True     False\n",
       "3    True  False   1693000.0   194000.0         7656.0  True     False\n",
       "4    True  False   1684000.0   194000.0         5774.0  True     False"
      ]
     },
     "execution_count": 67,
     "metadata": {},
     "output_type": "execute_result"
    }
   ],
   "source": [
    "df_ols.head()"
   ]
  },
  {
   "cell_type": "code",
   "execution_count": 91,
   "id": "4b2856ef",
   "metadata": {
    "ExecuteTime": {
     "end_time": "2021-12-21T08:54:10.943294Z",
     "start_time": "2021-12-21T08:54:10.923624Z"
    }
   },
   "outputs": [
    {
     "data": {
      "text/html": [
       "<div>\n",
       "<style scoped>\n",
       "    .dataframe tbody tr th:only-of-type {\n",
       "        vertical-align: middle;\n",
       "    }\n",
       "\n",
       "    .dataframe tbody tr th {\n",
       "        vertical-align: top;\n",
       "    }\n",
       "\n",
       "    .dataframe thead th {\n",
       "        text-align: right;\n",
       "    }\n",
       "</style>\n",
       "<table border=\"1\" class=\"dataframe\">\n",
       "  <thead>\n",
       "    <tr style=\"text-align: right;\">\n",
       "      <th></th>\n",
       "      <th>series</th>\n",
       "      <th>film</th>\n",
       "      <th>play_times</th>\n",
       "      <th>followers</th>\n",
       "      <th>bullet_screen</th>\n",
       "      <th>over</th>\n",
       "      <th>vip_only</th>\n",
       "    </tr>\n",
       "  </thead>\n",
       "  <tbody>\n",
       "    <tr>\n",
       "      <th>series</th>\n",
       "      <td>1.000000</td>\n",
       "      <td>-0.194220</td>\n",
       "      <td>0.145946</td>\n",
       "      <td>0.348945</td>\n",
       "      <td>0.038988</td>\n",
       "      <td>0.180284</td>\n",
       "      <td>0.117681</td>\n",
       "    </tr>\n",
       "    <tr>\n",
       "      <th>film</th>\n",
       "      <td>-0.194220</td>\n",
       "      <td>1.000000</td>\n",
       "      <td>-0.091739</td>\n",
       "      <td>-0.136331</td>\n",
       "      <td>-0.020466</td>\n",
       "      <td>-0.918725</td>\n",
       "      <td>0.320583</td>\n",
       "    </tr>\n",
       "    <tr>\n",
       "      <th>play_times</th>\n",
       "      <td>0.145946</td>\n",
       "      <td>-0.091739</td>\n",
       "      <td>1.000000</td>\n",
       "      <td>0.575098</td>\n",
       "      <td>0.263467</td>\n",
       "      <td>0.061395</td>\n",
       "      <td>0.116256</td>\n",
       "    </tr>\n",
       "    <tr>\n",
       "      <th>followers</th>\n",
       "      <td>0.348945</td>\n",
       "      <td>-0.136331</td>\n",
       "      <td>0.575098</td>\n",
       "      <td>1.000000</td>\n",
       "      <td>0.131580</td>\n",
       "      <td>0.125232</td>\n",
       "      <td>0.200782</td>\n",
       "    </tr>\n",
       "    <tr>\n",
       "      <th>bullet_screen</th>\n",
       "      <td>0.038988</td>\n",
       "      <td>-0.020466</td>\n",
       "      <td>0.263467</td>\n",
       "      <td>0.131580</td>\n",
       "      <td>1.000000</td>\n",
       "      <td>0.001394</td>\n",
       "      <td>0.028047</td>\n",
       "    </tr>\n",
       "    <tr>\n",
       "      <th>over</th>\n",
       "      <td>0.180284</td>\n",
       "      <td>-0.918725</td>\n",
       "      <td>0.061395</td>\n",
       "      <td>0.125232</td>\n",
       "      <td>0.001394</td>\n",
       "      <td>1.000000</td>\n",
       "      <td>-0.317504</td>\n",
       "    </tr>\n",
       "    <tr>\n",
       "      <th>vip_only</th>\n",
       "      <td>0.117681</td>\n",
       "      <td>0.320583</td>\n",
       "      <td>0.116256</td>\n",
       "      <td>0.200782</td>\n",
       "      <td>0.028047</td>\n",
       "      <td>-0.317504</td>\n",
       "      <td>1.000000</td>\n",
       "    </tr>\n",
       "  </tbody>\n",
       "</table>\n",
       "</div>"
      ],
      "text/plain": [
       "                 series      film  play_times  followers  bullet_screen  \\\n",
       "series         1.000000 -0.194220    0.145946   0.348945       0.038988   \n",
       "film          -0.194220  1.000000   -0.091739  -0.136331      -0.020466   \n",
       "play_times     0.145946 -0.091739    1.000000   0.575098       0.263467   \n",
       "followers      0.348945 -0.136331    0.575098   1.000000       0.131580   \n",
       "bullet_screen  0.038988 -0.020466    0.263467   0.131580       1.000000   \n",
       "over           0.180284 -0.918725    0.061395   0.125232       0.001394   \n",
       "vip_only       0.117681  0.320583    0.116256   0.200782       0.028047   \n",
       "\n",
       "                   over  vip_only  \n",
       "series         0.180284  0.117681  \n",
       "film          -0.918725  0.320583  \n",
       "play_times     0.061395  0.116256  \n",
       "followers      0.125232  0.200782  \n",
       "bullet_screen  0.001394  0.028047  \n",
       "over           1.000000 -0.317504  \n",
       "vip_only      -0.317504  1.000000  "
      ]
     },
     "execution_count": 91,
     "metadata": {},
     "output_type": "execute_result"
    }
   ],
   "source": [
    "df_ols.corr()"
   ]
  },
  {
   "cell_type": "code",
   "execution_count": 88,
   "id": "1a294a6f",
   "metadata": {
    "ExecuteTime": {
     "end_time": "2021-12-21T08:53:15.414104Z",
     "start_time": "2021-12-21T08:53:15.390695Z"
    }
   },
   "outputs": [
    {
     "data": {
      "text/html": [
       "<div>\n",
       "<style scoped>\n",
       "    .dataframe tbody tr th:only-of-type {\n",
       "        vertical-align: middle;\n",
       "    }\n",
       "\n",
       "    .dataframe tbody tr th {\n",
       "        vertical-align: top;\n",
       "    }\n",
       "\n",
       "    .dataframe thead th {\n",
       "        text-align: right;\n",
       "    }\n",
       "</style>\n",
       "<table border=\"1\" class=\"dataframe\">\n",
       "  <thead>\n",
       "    <tr style=\"text-align: right;\">\n",
       "      <th>over</th>\n",
       "      <th>False</th>\n",
       "      <th>True</th>\n",
       "    </tr>\n",
       "    <tr>\n",
       "      <th>film</th>\n",
       "      <th></th>\n",
       "      <th></th>\n",
       "    </tr>\n",
       "  </thead>\n",
       "  <tbody>\n",
       "    <tr>\n",
       "      <th>False</th>\n",
       "      <td>457</td>\n",
       "      <td>9245</td>\n",
       "    </tr>\n",
       "    <tr>\n",
       "      <th>True</th>\n",
       "      <td>3544</td>\n",
       "      <td>0</td>\n",
       "    </tr>\n",
       "  </tbody>\n",
       "</table>\n",
       "</div>"
      ],
      "text/plain": [
       "over   False  True\n",
       "film              \n",
       "False    457  9245\n",
       "True    3544     0"
      ]
     },
     "execution_count": 88,
     "metadata": {},
     "output_type": "execute_result"
    }
   ],
   "source": [
    "pd.crosstab(df_ols['film'],df_ols['over'])"
   ]
  },
  {
   "cell_type": "code",
   "execution_count": 104,
   "id": "bb5c03d6",
   "metadata": {
    "ExecuteTime": {
     "end_time": "2021-12-21T08:56:34.710982Z",
     "start_time": "2021-12-21T08:56:34.700083Z"
    }
   },
   "outputs": [],
   "source": [
    "y, X = dmatrices(\n",
    "    'play_times ~  film  + bullet_screen + over +vip_only',\n",
    "    data=df_ols,\n",
    "    return_type='dataframe')"
   ]
  },
  {
   "cell_type": "code",
   "execution_count": 105,
   "id": "60023381",
   "metadata": {
    "ExecuteTime": {
     "end_time": "2021-12-21T08:56:35.157335Z",
     "start_time": "2021-12-21T08:56:35.138991Z"
    }
   },
   "outputs": [
    {
     "data": {
      "text/html": [
       "<table class=\"simpletable\">\n",
       "<caption>OLS Regression Results</caption>\n",
       "<tr>\n",
       "  <th>Dep. Variable:</th>       <td>play_times</td>    <th>  R-squared:         </th>  <td>   0.099</td>  \n",
       "</tr>\n",
       "<tr>\n",
       "  <th>Model:</th>                   <td>OLS</td>       <th>  Adj. R-squared:    </th>  <td>   0.099</td>  \n",
       "</tr>\n",
       "<tr>\n",
       "  <th>Method:</th>             <td>Least Squares</td>  <th>  F-statistic:       </th>  <td>   364.3</td>  \n",
       "</tr>\n",
       "<tr>\n",
       "  <th>Date:</th>             <td>Tue, 21 Dec 2021</td> <th>  Prob (F-statistic):</th>  <td>4.33e-298</td> \n",
       "</tr>\n",
       "<tr>\n",
       "  <th>Time:</th>                 <td>16:56:35</td>     <th>  Log-Likelihood:    </th> <td>-2.4423e+05</td>\n",
       "</tr>\n",
       "<tr>\n",
       "  <th>No. Observations:</th>      <td> 13246</td>      <th>  AIC:               </th>  <td>4.885e+05</td> \n",
       "</tr>\n",
       "<tr>\n",
       "  <th>Df Residuals:</th>          <td> 13241</td>      <th>  BIC:               </th>  <td>4.885e+05</td> \n",
       "</tr>\n",
       "<tr>\n",
       "  <th>Df Model:</th>              <td>     4</td>      <th>                     </th>      <td> </td>     \n",
       "</tr>\n",
       "<tr>\n",
       "  <th>Covariance Type:</th>      <td>nonrobust</td>    <th>                     </th>      <td> </td>     \n",
       "</tr>\n",
       "</table>\n",
       "<table class=\"simpletable\">\n",
       "<tr>\n",
       "          <td></td>            <th>coef</th>     <th>std err</th>      <th>t</th>      <th>P>|t|</th>  <th>[0.025</th>    <th>0.975]</th>  \n",
       "</tr>\n",
       "<tr>\n",
       "  <th>Intercept</th>        <td> 9.642e+06</td> <td> 1.16e+06</td> <td>    8.279</td> <td> 0.000</td> <td> 7.36e+06</td> <td> 1.19e+07</td>\n",
       "</tr>\n",
       "<tr>\n",
       "  <th>film[T.True]</th>     <td>-1.306e+07</td> <td> 1.23e+06</td> <td>  -10.632</td> <td> 0.000</td> <td>-1.55e+07</td> <td>-1.07e+07</td>\n",
       "</tr>\n",
       "<tr>\n",
       "  <th>over[T.True]</th>     <td>-5.434e+06</td> <td> 1.18e+06</td> <td>   -4.594</td> <td> 0.000</td> <td>-7.75e+06</td> <td>-3.12e+06</td>\n",
       "</tr>\n",
       "<tr>\n",
       "  <th>vip_only[T.True]</th> <td> 8.726e+06</td> <td> 5.08e+05</td> <td>   17.190</td> <td> 0.000</td> <td> 7.73e+06</td> <td> 9.72e+06</td>\n",
       "</tr>\n",
       "<tr>\n",
       "  <th>bullet_screen</th>    <td>    2.4202</td> <td>    0.078</td> <td>   30.840</td> <td> 0.000</td> <td>    2.266</td> <td>    2.574</td>\n",
       "</tr>\n",
       "</table>\n",
       "<table class=\"simpletable\">\n",
       "<tr>\n",
       "  <th>Omnibus:</th>       <td>24910.180</td> <th>  Durbin-Watson:     </th>   <td>   1.817</td>  \n",
       "</tr>\n",
       "<tr>\n",
       "  <th>Prob(Omnibus):</th>  <td> 0.000</td>   <th>  Jarque-Bera (JB):  </th> <td>51716056.123</td>\n",
       "</tr>\n",
       "<tr>\n",
       "  <th>Skew:</th>           <td>14.337</td>   <th>  Prob(JB):          </th>   <td>    0.00</td>  \n",
       "</tr>\n",
       "<tr>\n",
       "  <th>Kurtosis:</th>       <td>307.763</td>  <th>  Cond. No.          </th>   <td>2.58e+07</td>  \n",
       "</tr>\n",
       "</table><br/><br/>Notes:<br/>[1] Standard Errors assume that the covariance matrix of the errors is correctly specified.<br/>[2] The condition number is large, 2.58e+07. This might indicate that there are<br/>strong multicollinearity or other numerical problems."
      ],
      "text/plain": [
       "<class 'statsmodels.iolib.summary.Summary'>\n",
       "\"\"\"\n",
       "                            OLS Regression Results                            \n",
       "==============================================================================\n",
       "Dep. Variable:             play_times   R-squared:                       0.099\n",
       "Model:                            OLS   Adj. R-squared:                  0.099\n",
       "Method:                 Least Squares   F-statistic:                     364.3\n",
       "Date:                Tue, 21 Dec 2021   Prob (F-statistic):          4.33e-298\n",
       "Time:                        16:56:35   Log-Likelihood:            -2.4423e+05\n",
       "No. Observations:               13246   AIC:                         4.885e+05\n",
       "Df Residuals:                   13241   BIC:                         4.885e+05\n",
       "Df Model:                           4                                         \n",
       "Covariance Type:            nonrobust                                         \n",
       "====================================================================================\n",
       "                       coef    std err          t      P>|t|      [0.025      0.975]\n",
       "------------------------------------------------------------------------------------\n",
       "Intercept         9.642e+06   1.16e+06      8.279      0.000    7.36e+06    1.19e+07\n",
       "film[T.True]     -1.306e+07   1.23e+06    -10.632      0.000   -1.55e+07   -1.07e+07\n",
       "over[T.True]     -5.434e+06   1.18e+06     -4.594      0.000   -7.75e+06   -3.12e+06\n",
       "vip_only[T.True]  8.726e+06   5.08e+05     17.190      0.000    7.73e+06    9.72e+06\n",
       "bullet_screen        2.4202      0.078     30.840      0.000       2.266       2.574\n",
       "==============================================================================\n",
       "Omnibus:                    24910.180   Durbin-Watson:                   1.817\n",
       "Prob(Omnibus):                  0.000   Jarque-Bera (JB):         51716056.123\n",
       "Skew:                          14.337   Prob(JB):                         0.00\n",
       "Kurtosis:                     307.763   Cond. No.                     2.58e+07\n",
       "==============================================================================\n",
       "\n",
       "Notes:\n",
       "[1] Standard Errors assume that the covariance matrix of the errors is correctly specified.\n",
       "[2] The condition number is large, 2.58e+07. This might indicate that there are\n",
       "strong multicollinearity or other numerical problems.\n",
       "\"\"\""
      ]
     },
     "execution_count": 105,
     "metadata": {},
     "output_type": "execute_result"
    }
   ],
   "source": [
    "model = sm.OLS(y,X).fit()\n",
    "model.summary()"
   ]
  },
  {
   "cell_type": "markdown",
   "id": "45cf4131",
   "metadata": {},
   "source": [
    "# 可视化"
   ]
  }
 ],
 "metadata": {
  "kernelspec": {
   "display_name": "Python 3 (ipykernel)",
   "language": "python",
   "name": "python3"
  },
  "language_info": {
   "codemirror_mode": {
    "name": "ipython",
    "version": 3
   },
   "file_extension": ".py",
   "mimetype": "text/x-python",
   "name": "python",
   "nbconvert_exporter": "python",
   "pygments_lexer": "ipython3",
   "version": "3.9.7"
  },
  "toc": {
   "base_numbering": 1,
   "nav_menu": {},
   "number_sections": true,
   "sideBar": true,
   "skip_h1_title": false,
   "title_cell": "Table of Contents",
   "title_sidebar": "Contents",
   "toc_cell": true,
   "toc_position": {},
   "toc_section_display": true,
   "toc_window_display": true
  },
  "varInspector": {
   "cols": {
    "lenName": 16,
    "lenType": 16,
    "lenVar": 40
   },
   "kernels_config": {
    "python": {
     "delete_cmd_postfix": "",
     "delete_cmd_prefix": "del ",
     "library": "var_list.py",
     "varRefreshCmd": "print(var_dic_list())"
    },
    "r": {
     "delete_cmd_postfix": ") ",
     "delete_cmd_prefix": "rm(",
     "library": "var_list.r",
     "varRefreshCmd": "cat(var_dic_list()) "
    }
   },
   "types_to_exclude": [
    "module",
    "function",
    "builtin_function_or_method",
    "instance",
    "_Feature"
   ],
   "window_display": false
  }
 },
 "nbformat": 4,
 "nbformat_minor": 5
}
