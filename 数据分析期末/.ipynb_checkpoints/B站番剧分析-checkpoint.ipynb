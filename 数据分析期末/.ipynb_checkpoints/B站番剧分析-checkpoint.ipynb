{
 "cells": [
  {
   "cell_type": "markdown",
   "id": "4f07f40c",
   "metadata": {
    "toc": true
   },
   "source": [
    "<h1>Table of Contents<span class=\"tocSkip\"></span></h1>\n",
    "<div class=\"toc\"><ul class=\"toc-item\"><li><span><a href=\"#项目概述\" data-toc-modified-id=\"项目概述-1\"><span class=\"toc-item-num\">1&nbsp;&nbsp;</span>项目概述</a></span></li><li><span><a href=\"#数据抓取\" data-toc-modified-id=\"数据抓取-2\"><span class=\"toc-item-num\">2&nbsp;&nbsp;</span>数据抓取</a></span><ul class=\"toc-item\"><li><span><a href=\"#下载网页\" data-toc-modified-id=\"下载网页-2.1\"><span class=\"toc-item-num\">2.1&nbsp;&nbsp;</span>下载网页</a></span></li><li><span><a href=\"#获取番剧信息\" data-toc-modified-id=\"获取番剧信息-2.2\"><span class=\"toc-item-num\">2.2&nbsp;&nbsp;</span>获取番剧信息</a></span><ul class=\"toc-item\"><li><span><a href=\"#处理数字\" data-toc-modified-id=\"处理数字-2.2.1\"><span class=\"toc-item-num\">2.2.1&nbsp;&nbsp;</span>处理数字</a></span></li><li><span><a href=\"#处理日期\" data-toc-modified-id=\"处理日期-2.2.2\"><span class=\"toc-item-num\">2.2.2&nbsp;&nbsp;</span>处理日期</a></span></li><li><span><a href=\"#估算番剧长度\" data-toc-modified-id=\"估算番剧长度-2.2.3\"><span class=\"toc-item-num\">2.2.3&nbsp;&nbsp;</span>估算番剧长度</a></span></li><li><span><a href=\"#提取信息\" data-toc-modified-id=\"提取信息-2.2.4\"><span class=\"toc-item-num\">2.2.4&nbsp;&nbsp;</span>提取信息</a></span></li></ul></li><li><span><a href=\"#获取合法的mdid\" data-toc-modified-id=\"获取合法的mdid-2.3\"><span class=\"toc-item-num\">2.3&nbsp;&nbsp;</span>获取合法的mdid</a></span><ul class=\"toc-item\"><li><span><a href=\"#汇总数据\" data-toc-modified-id=\"汇总数据-2.3.1\"><span class=\"toc-item-num\">2.3.1&nbsp;&nbsp;</span>汇总数据</a></span></li></ul></li><li><span><a href=\"#收集数据\" data-toc-modified-id=\"收集数据-2.4\"><span class=\"toc-item-num\">2.4&nbsp;&nbsp;</span>收集数据</a></span></li></ul></li><li><span><a href=\"#回归分析\" data-toc-modified-id=\"回归分析-3\"><span class=\"toc-item-num\">3&nbsp;&nbsp;</span>回归分析</a></span></li><li><span><a href=\"#可视化\" data-toc-modified-id=\"可视化-4\"><span class=\"toc-item-num\">4&nbsp;&nbsp;</span>可视化</a></span></li></ul></div>"
   ]
  },
  {
   "cell_type": "markdown",
   "id": "089d961d",
   "metadata": {},
   "source": [
    "# 项目概述"
   ]
  },
  {
   "cell_type": "markdown",
   "id": "3b6393bc",
   "metadata": {},
   "source": [
    "**这里的番剧不仅仅包含动画内容、也包含电影等，只要包含在B站media之中的内容都进行统计分析**"
   ]
  },
  {
   "cell_type": "markdown",
   "id": "eb2881d8",
   "metadata": {},
   "source": [
    "> bilibili，全称为哔哩哔哩弹幕网，亦称哔哩哔哩、bilibili弹幕网，或简称为B站，是总部位于中国大陆上海的一个以ACG相关内容起家的弹幕视频分享网站。\\\n",
    "作为数据分析课程的期末论文，本项目打算从0开始收集B站的番剧数据，包括`播放量`、`追番人数`、`弹幕总数`、`评分`、`评分人数`等等一系列变量。\\\n",
    "而后进行数据的分析与可视化，数据分析部分主要是建立回归模型寻找播放量与其他变量之间的关系，可视化部分主要是对番剧的开播时间进行时间轴上的数量展示，观察什么时期的番剧比较多。"
   ]
  },
  {
   "cell_type": "code",
   "execution_count": 3,
   "id": "dd221e53",
   "metadata": {
    "ExecuteTime": {
     "end_time": "2021-12-20T07:45:30.881708Z",
     "start_time": "2021-12-20T07:45:30.867745Z"
    }
   },
   "outputs": [],
   "source": [
    "import requests\n",
    "import parsel\n",
    "import re\n",
    "from datetime import datetime\n",
    "import pandas as pd\n",
    "import time"
   ]
  },
  {
   "cell_type": "markdown",
   "id": "3942cb9c",
   "metadata": {},
   "source": [
    "# 数据抓取"
   ]
  },
  {
   "cell_type": "markdown",
   "id": "deb5ae0e",
   "metadata": {},
   "source": [
    "## 下载网页"
   ]
  },
  {
   "cell_type": "markdown",
   "id": "112eb6d1",
   "metadata": {},
   "source": [
    "已知番剧的media id时，使用requests库下载网页（本项目涉及的全是网页的静态内容），注意编码格式为utf-8"
   ]
  },
  {
   "cell_type": "code",
   "execution_count": 8,
   "id": "4bd294c4",
   "metadata": {
    "ExecuteTime": {
     "end_time": "2021-12-20T07:45:32.258976Z",
     "start_time": "2021-12-20T07:45:32.240995Z"
    }
   },
   "outputs": [],
   "source": [
    "def gethtml(mdid):\n",
    "    '''\n",
    "    获取哔哩哔哩番剧详情页面的html文本\n",
    "    input mdid【int】\n",
    "    output 对应番剧的详情页面【str】\n",
    "    '''\n",
    "\n",
    "    url = f'https://www.bilibili.com/bangumi/media/md{mdid}'\n",
    "    response = requests.get(url)\n",
    "    response.encoding = 'utf8'\n",
    "    html = response.text\n",
    "    # B站域名下非法的网址会跳转到错误页面，包含以下字符串\n",
    "    if 'Σ(oﾟдﾟoﾉ) 无法找到该页面~' in html:\n",
    "        html = 'invalid'\n",
    "    return html"
   ]
  },
  {
   "cell_type": "markdown",
   "id": "c228b292",
   "metadata": {},
   "source": [
    "## 获取番剧信息"
   ]
  },
  {
   "cell_type": "markdown",
   "id": "fcc6c264",
   "metadata": {},
   "source": [
    "### 处理数字"
   ]
  },
  {
   "cell_type": "markdown",
   "id": "9cd6741a",
   "metadata": {},
   "source": [
    "B站的播放量、追番数以及弹幕数经常以万或者亿结尾，写一个函数转换一下"
   ]
  },
  {
   "cell_type": "code",
   "execution_count": 9,
   "id": "77567ebe",
   "metadata": {
    "ExecuteTime": {
     "end_time": "2021-12-20T07:45:33.417523Z",
     "start_time": "2021-12-20T07:45:33.408516Z"
    }
   },
   "outputs": [],
   "source": [
    "def eval_playdata(s):\n",
    "    '''\n",
    "    把playdata中的xxx万、亿转换为数字\n",
    "    input s【str】\n",
    "    output 对应数字表达的整数值【int】\n",
    "    '''\n",
    "\n",
    "    d = {'万': 1e4, '亿': 1e8}\n",
    "    try:\n",
    "        #没有汉字，纯数字\n",
    "        ans = eval(s)\n",
    "    except SyntaxError:\n",
    "        # 判断末尾是不是万或者亿，否则报错\n",
    "        if s[-1] in d:\n",
    "            ans = int(eval(s[:-1]) * d[s[-1]])\n",
    "        else:\n",
    "            ans = s\n",
    "    return ans"
   ]
  },
  {
   "cell_type": "markdown",
   "id": "f94fbf30",
   "metadata": {},
   "source": [
    "### 处理日期"
   ]
  },
  {
   "cell_type": "markdown",
   "id": "62da4a5e",
   "metadata": {},
   "source": [
    "由于B站对开播时间的描述不尽相同，故而特别处理一下\\\n",
    "大致有一下几种情况：\n",
    "- %Y年%m月%d日开播【例如[md7](https://www.bilibili.com/bangumi/media/md7)】\n",
    "- %Y年%m月开播【例如[md9892](https://www.bilibili.com/bangumi/media/md9892)】\n",
    "- %Y年开播【例如[md9352](https://www.bilibili.com/bangumi/media/md9352)】\n",
    "- %Y年%m月%d日上映【例如[md10086](https://www.bilibili.com/bangumi/media/md10086)】\n",
    "- %Y开播【例如[md27372](https://www.bilibili.com/bangumi/media/md27372)】"
   ]
  },
  {
   "cell_type": "code",
   "execution_count": 10,
   "id": "a2ad827e",
   "metadata": {
    "ExecuteTime": {
     "end_time": "2021-12-20T07:45:34.527007Z",
     "start_time": "2021-12-20T07:45:34.521024Z"
    }
   },
   "outputs": [],
   "source": [
    "def eval_broadcast_date(s):\n",
    "    '''\n",
    "    把播放日期格式化为datetime格式\n",
    "    input s【str】\n",
    "    output 日期表达的datetime【datetime】\n",
    "    '''\n",
    "    \n",
    "    if '日' in s:\n",
    "        ans = datetime.strptime(s[:-2], '%Y年%m月%d日')\n",
    "    elif '月' in s:\n",
    "        ans = datetime.strptime(s[:-2], '%Y年%m月')\n",
    "    elif '年' in s:\n",
    "        ans = datetime.strptime(s[:-2], '%Y年')\n",
    "    else:\n",
    "        ans = datetime.strptime(s[:-2], '%Y')\n",
    "    \n",
    "    return ans"
   ]
  },
  {
   "cell_type": "markdown",
   "id": "08bd9101",
   "metadata": {},
   "source": [
    "### 估算番剧长度"
   ]
  },
  {
   "cell_type": "code",
   "execution_count": 11,
   "id": "a2313f3b",
   "metadata": {
    "ExecuteTime": {
     "end_time": "2021-12-20T07:45:35.243831Z",
     "start_time": "2021-12-20T07:45:35.224850Z"
    }
   },
   "outputs": [],
   "source": [
    "def eval_length(over):\n",
    "    '''\n",
    "    估算番剧的长度\n",
    "    input over【str】,例如'已完结，全3集'或者'123分钟'\n",
    "    output 番剧长度单位为分钟【int】\n",
    "    '''\n",
    "    # 去除掉空格\n",
    "    over = over.replace(' ','')\n",
    "    if over[-2:]=='分钟':\n",
    "        length = int(over[:-2])\n",
    "    elif over[-1]=='话':\n",
    "        # 按照每一话25分钟估算\n",
    "        length = int(over[5:-1])*25\n",
    "    elif over[-1]=='集':\n",
    "        # 按照每一集45分钟估算\n",
    "        length = int(over[5:-1])*45\n",
    "    else:\n",
    "        length = 'NA'\n",
    "    return length"
   ]
  },
  {
   "cell_type": "markdown",
   "id": "902e670b",
   "metadata": {},
   "source": [
    "### 提取信息"
   ]
  },
  {
   "cell_type": "markdown",
   "id": "8e4241f5",
   "metadata": {},
   "source": [
    "这里主要使用re库配合正则表达式，以及parsel库的css选择器，对网页的元素进行筛选"
   ]
  },
  {
   "cell_type": "code",
   "execution_count": 12,
   "id": "79d017a7",
   "metadata": {
    "ExecuteTime": {
     "end_time": "2021-12-20T07:45:36.227412Z",
     "start_time": "2021-12-20T07:45:36.209461Z"
    }
   },
   "outputs": [],
   "source": [
    "def getinfo(html):\n",
    "    '''\n",
    "    获取番剧的详细信息\n",
    "    input html【str】\n",
    "    output 提取到的番剧信息【dict】\n",
    "    '''\n",
    "\n",
    "    assert html != 'invalid'\n",
    "    selector = parsel.Selector(html)\n",
    "    # 标题\n",
    "    title = selector.css('.media-info-title-t::text').get()\n",
    "    # 评分\n",
    "    score = selector.css('.media-info-score-content::text').get()\n",
    "    # 评分人数\n",
    "    review_times = selector.css('.media-info-review-times::text').get()\n",
    "    # tags\n",
    "    tags = selector.css('.media-tag::text').getall()\n",
    "    # 播放数据\n",
    "    media_info_label = selector.css('.media-info-label::text').getall()\n",
    "    media_info_play_data = selector.css('em::text').getall()\n",
    "    play_data = dict(zip(media_info_label, media_info_play_data))\n",
    "    # 是否为系列\n",
    "    series = True if '系列' in media_info_label[1] else False\n",
    "    # 播放量、追番数、弹幕数\n",
    "    play_times, followers, bullet_screen = selector.css('em::text').getall()\n",
    "    # 开播时间(是否完结)\n",
    "    pattern1 = '<div class=\"media-info-time\"><span>.*</span> <span>.*</span></div>'\n",
    "    prefix_len = len('<div class=\"media-info-time\"><span>')\n",
    "    suffix_len = len('</span></div>')\n",
    "    play_season_str = re.search(pattern1, html)[0]\n",
    "    broadcast_date, _, over = play_season_str.partition('</span> <span>')\n",
    "    broadcast_date, over = broadcast_date[prefix_len:], over[:-suffix_len]\n",
    "    # 是否为电影or剧场版\n",
    "    film = True if '分钟' in over else False\n",
    "    # 番剧长度\n",
    "    length = eval_length(over)\n",
    "    # 是否为大会员专享\n",
    "    pattern2 = '<div class=\"btn-pay-wrapper vip-only\">'\n",
    "    vip_only = True if re.search(pattern2, html) else False\n",
    "    # 整理到一个字典里,这个时候尽量把更多的信息保留下来，所以会有很多后缀为str的变量\n",
    "    # 后续可以再把这些变量删掉\n",
    "    info = dict(\n",
    "        title=title,\n",
    "        # 可能没有评分\n",
    "        score=eval(score) if score else 'NA',\n",
    "        review_times=int(review_times[:-2]) if review_times else 'NA',\n",
    "        # tags用逗号连接\n",
    "        tags=','.join(tags),\n",
    "        play_data=str(play_data),\n",
    "        series=series,\n",
    "        film=film,\n",
    "        # xxx万、亿转换为数字\n",
    "        play_times=eval_playdata(play_times),\n",
    "        followers=eval_playdata(followers),\n",
    "        bullet_screen=eval_playdata(bullet_screen),\n",
    "        # 字符串时间\n",
    "        broadcast_date_str=broadcast_date,\n",
    "        # 转换为时间类型\n",
    "        broadcast_date=eval_broadcast_date(broadcast_date),\n",
    "        over_str=over,\n",
    "        over=True if over[:3] == '已完结' else False,\n",
    "        length=length,\n",
    "        vip_only=vip_only)\n",
    "    return info"
   ]
  },
  {
   "cell_type": "code",
   "execution_count": 13,
   "id": "bfc3791c",
   "metadata": {
    "ExecuteTime": {
     "end_time": "2021-12-20T07:45:36.743084Z",
     "start_time": "2021-12-20T07:45:36.698593Z"
    }
   },
   "outputs": [
    {
     "data": {
      "text/plain": [
       "{'title': '凡人修仙传',\n",
       " 'score': 9.6,\n",
       " 'review_times': 146239,\n",
       " 'tags': '小说改,古风,励志,战斗',\n",
       " 'play_data': \"{'总播放': '3.6亿', '追番人数': '424万', '弹幕总数': '237.8万'}\",\n",
       " 'series': False,\n",
       " 'film': False,\n",
       " 'play_times': 360000000,\n",
       " 'followers': 4240000,\n",
       " 'bullet_screen': 2378000,\n",
       " 'broadcast_date_str': '2020年7月25日开播',\n",
       " 'broadcast_date': datetime.datetime(2020, 7, 25, 0, 0),\n",
       " 'over_str': '连载中, 每周日 11:00更新',\n",
       " 'over': False,\n",
       " 'length': 'NA',\n",
       " 'vip_only': True}"
      ]
     },
     "execution_count": 13,
     "metadata": {},
     "output_type": "execute_result"
    }
   ],
   "source": [
    "getinfo(gethtml(28223043))"
   ]
  },
  {
   "cell_type": "markdown",
   "id": "ec0f387c",
   "metadata": {},
   "source": [
    "## 获取合法的mdid"
   ]
  },
  {
   "cell_type": "markdown",
   "id": "ff4a40c7",
   "metadata": {},
   "source": [
    "由于B站的media id是顺序编号的，故而我们这里尝试从0开始往后一次遍历，每次调用函数都会在以及遍历的基础上再向前寻找n个。（B站目前的编号大概已经到了2千万，所以数据量很大，本项目只是选取编号在0-10w的番剧）"
   ]
  },
  {
   "cell_type": "code",
   "execution_count": 14,
   "id": "4a2dc793",
   "metadata": {
    "ExecuteTime": {
     "end_time": "2021-12-20T07:45:38.175948Z",
     "start_time": "2021-12-20T07:45:38.161961Z"
    }
   },
   "outputs": [],
   "source": [
    "def moremdid(n):\n",
    "    '''\n",
    "    读取本地的mdidlist.txt文件中的mdid，接着探索更多可能的mdid\n",
    "    input n【int】\n",
    "    output 所有已知合法的mdid【list】\n",
    "    '''\n",
    "\n",
    "    # 读取文件中的mdidlist\n",
    "    with open('mdidlist.txt', mode='r') as f:\n",
    "        mdid = list(map(lambda x: eval(x[:-1]), f.readlines()))\n",
    "        f.close()\n",
    "    start = mdid[-1] + 1\n",
    "    for i in range(start, start + n):\n",
    "        if requests.get(f'https://www.bilibili.com/bangumi/media/md{i}'):\n",
    "            mdid.append(i)\n",
    "    # 覆盖写，更新源文件中的mdidlist\n",
    "    with open('mdidlist.txt', mode='w') as f:\n",
    "        f.writelines(map(lambda x: str(x) + '\\n', mdid))\n",
    "        f.close()\n",
    "    print(f'completed, length of mdid now is {len(mdid)}')\n",
    "    return mdid"
   ]
  },
  {
   "cell_type": "markdown",
   "id": "27c9e996",
   "metadata": {},
   "source": [
    "### 汇总数据"
   ]
  },
  {
   "cell_type": "markdown",
   "id": "335ce73b",
   "metadata": {},
   "source": [
    "使用pandas把上面整理好的数据汇总到一起，并且写入到csv文件中备用"
   ]
  },
  {
   "cell_type": "code",
   "execution_count": 22,
   "id": "04556675",
   "metadata": {
    "ExecuteTime": {
     "end_time": "2021-12-20T07:45:40.525340Z",
     "start_time": "2021-12-20T07:45:40.521379Z"
    }
   },
   "outputs": [],
   "source": [
    "def generate_df(mdid):\n",
    "    '''\n",
    "    获取mdid中所有番剧的信息，放到一个df中\n",
    "    input mdid【list】\n",
    "    output 汇总的所有番剧信息【pandas.DataFrame】\n",
    "    '''\n",
    "    l = []\n",
    "    for i in mdid:\n",
    "        # 不要过快访问\n",
    "        time.sleep(0.1)\n",
    "        # 用try语句捕获错误，尽量让程序一运行发现更多的错误\n",
    "        try:\n",
    "            html = gethtml(i)\n",
    "            info = getinfo(html)\n",
    "            info['mdid'] = i\n",
    "            l.append(info)\n",
    "        except Exception as e:\n",
    "            # 不过exception不是很多就放弃那些报错的数据\n",
    "            print(repr(e))\n",
    "            print(f'{i} failed!')\n",
    "    return pd.DataFrame(l)"
   ]
  },
  {
   "cell_type": "markdown",
   "id": "5bed76a7",
   "metadata": {},
   "source": [
    "## 收集数据"
   ]
  },
  {
   "cell_type": "code",
   "execution_count": 16,
   "id": "1c6dfc10",
   "metadata": {
    "ExecuteTime": {
     "end_time": "2021-12-20T07:45:52.848808Z",
     "start_time": "2021-12-20T07:45:48.809293Z"
    }
   },
   "outputs": [
    {
     "name": "stdout",
     "output_type": "stream",
     "text": [
      "completed, length of mdid now is 14685\n"
     ]
    }
   ],
   "source": [
    "mdid = moremdid(100)"
   ]
  },
  {
   "cell_type": "code",
   "execution_count": 17,
   "id": "a73c9bfe",
   "metadata": {
    "ExecuteTime": {
     "end_time": "2021-12-20T07:45:58.966219Z",
     "start_time": "2021-12-20T07:45:58.961233Z"
    }
   },
   "outputs": [
    {
     "data": {
      "text/plain": [
       "(28236223, 14685)"
      ]
     },
     "execution_count": 17,
     "metadata": {},
     "output_type": "execute_result"
    }
   ],
   "source": [
    "# 遍历的效率很低，但也别无他法\n",
    "max(mdid),len(mdid)"
   ]
  },
  {
   "cell_type": "code",
   "execution_count": 21,
   "id": "cf87a929",
   "metadata": {},
   "outputs": [
    {
     "data": {
      "text/plain": [
       "14685"
      ]
     },
     "execution_count": 21,
     "metadata": {},
     "output_type": "execute_result"
    }
   ],
   "source": [
    "len(mdid)"
   ]
  },
  {
   "cell_type": "code",
   "execution_count": null,
   "id": "21a83c10",
   "metadata": {
    "ExecuteTime": {
     "end_time": "2021-12-20T08:06:48.698165Z",
     "start_time": "2021-12-20T07:46:05.265437Z"
    },
    "scrolled": true
   },
   "outputs": [],
   "source": [
    "df = generate_df(mdid)"
   ]
  },
  {
   "cell_type": "code",
   "execution_count": null,
   "id": "bc8af58d",
   "metadata": {
    "ExecuteTime": {
     "end_time": "2021-12-20T08:07:23.193210Z",
     "start_time": "2021-12-20T08:07:19.023113Z"
    }
   },
   "outputs": [],
   "source": [
    "df.to_excel('./BLBLdata.xlsx', index=False, encoding='utf-8')"
   ]
  },
  {
   "cell_type": "markdown",
   "id": "dbf81919",
   "metadata": {},
   "source": [
    "# 回归分析"
   ]
  },
  {
   "cell_type": "markdown",
   "id": "45cf4131",
   "metadata": {},
   "source": [
    "# 可视化"
   ]
  }
 ],
 "metadata": {
  "kernelspec": {
   "display_name": "Python 3 (ipykernel)",
   "language": "python",
   "name": "python3"
  },
  "language_info": {
   "codemirror_mode": {
    "name": "ipython",
    "version": 3
   },
   "file_extension": ".py",
   "mimetype": "text/x-python",
   "name": "python",
   "nbconvert_exporter": "python",
   "pygments_lexer": "ipython3",
   "version": "3.9.7"
  },
  "toc": {
   "base_numbering": 1,
   "nav_menu": {},
   "number_sections": true,
   "sideBar": true,
   "skip_h1_title": false,
   "title_cell": "Table of Contents",
   "title_sidebar": "Contents",
   "toc_cell": true,
   "toc_position": {},
   "toc_section_display": true,
   "toc_window_display": true
  }
 },
 "nbformat": 4,
 "nbformat_minor": 5
}
