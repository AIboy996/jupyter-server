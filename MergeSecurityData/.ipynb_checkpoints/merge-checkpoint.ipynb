{
 "cells": [
  {
   "cell_type": "markdown",
   "id": "29cb6978",
   "metadata": {},
   "source": [
    "# 导入数据"
   ]
  },
  {
   "cell_type": "code",
   "execution_count": 1,
   "id": "376c1862",
   "metadata": {
    "ExecuteTime": {
     "end_time": "2021-12-08T16:22:21.981839Z",
     "start_time": "2021-12-08T16:22:21.706693Z"
    }
   },
   "outputs": [],
   "source": [
    "import pandas as pd"
   ]
  },
  {
   "cell_type": "code",
   "execution_count": 2,
   "id": "c9b40a89",
   "metadata": {
    "ExecuteTime": {
     "end_time": "2021-12-08T16:22:22.700272Z",
     "start_time": "2021-12-08T16:22:22.550516Z"
    }
   },
   "outputs": [
    {
     "name": "stdout",
     "output_type": "stream",
     "text": [
      "data1.csv  data2.csv  merge.ipynb\r\n"
     ]
    }
   ],
   "source": [
    "ls"
   ]
  },
  {
   "cell_type": "markdown",
   "id": "8ab3e282",
   "metadata": {},
   "source": [
    "## DtypeWarning"
   ]
  },
  {
   "cell_type": "code",
   "execution_count": 3,
   "id": "5d2ab0b1",
   "metadata": {
    "ExecuteTime": {
     "end_time": "2021-12-08T16:22:23.394761Z",
     "start_time": "2021-12-08T16:22:23.110941Z"
    }
   },
   "outputs": [
    {
     "name": "stderr",
     "output_type": "stream",
     "text": [
      "/root/anaconda3/lib/python3.9/site-packages/IPython/core/interactiveshell.py:3444: DtypeWarning: Columns (8) have mixed types.Specify dtype option on import or set low_memory=False.\n",
      "  exec(code_obj, self.user_global_ns, self.user_ns)\n"
     ]
    }
   ],
   "source": [
    "df1 = pd.read_csv('data1.csv')"
   ]
  },
  {
   "cell_type": "code",
   "execution_count": 4,
   "id": "abcdf177",
   "metadata": {
    "ExecuteTime": {
     "end_time": "2021-12-08T16:22:23.419790Z",
     "start_time": "2021-12-08T16:22:23.396808Z"
    }
   },
   "outputs": [
    {
     "data": {
      "text/html": [
       "<div>\n",
       "<style scoped>\n",
       "    .dataframe tbody tr th:only-of-type {\n",
       "        vertical-align: middle;\n",
       "    }\n",
       "\n",
       "    .dataframe tbody tr th {\n",
       "        vertical-align: top;\n",
       "    }\n",
       "\n",
       "    .dataframe thead th {\n",
       "        text-align: right;\n",
       "    }\n",
       "</style>\n",
       "<table border=\"1\" class=\"dataframe\">\n",
       "  <thead>\n",
       "    <tr style=\"text-align: right;\">\n",
       "      <th></th>\n",
       "      <th>tradeDate</th>\n",
       "      <th>secID</th>\n",
       "      <th>ROE</th>\n",
       "      <th>QuickRatio</th>\n",
       "      <th>PE</th>\n",
       "      <th>LFLO</th>\n",
       "      <th>TVMA20</th>\n",
       "      <th>REVS20</th>\n",
       "      <th>EP</th>\n",
       "    </tr>\n",
       "  </thead>\n",
       "  <tbody>\n",
       "    <tr>\n",
       "      <th>0</th>\n",
       "      <td>2019/1/2</td>\n",
       "      <td>000009.XSHE</td>\n",
       "      <td>0.0104</td>\n",
       "      <td>0.8513</td>\n",
       "      <td>180.0405</td>\n",
       "      <td>22.9332</td>\n",
       "      <td>60.4605</td>\n",
       "      <td>0.8758</td>\n",
       "      <td>0.005554306</td>\n",
       "    </tr>\n",
       "    <tr>\n",
       "      <th>1</th>\n",
       "      <td>2019/1/2</td>\n",
       "      <td>000012.XSHE</td>\n",
       "      <td>0.0681</td>\n",
       "      <td>0.7034</td>\n",
       "      <td>19.5304</td>\n",
       "      <td>22.6784</td>\n",
       "      <td>20.2816</td>\n",
       "      <td>0.9149</td>\n",
       "      <td>0.051202228</td>\n",
       "    </tr>\n",
       "    <tr>\n",
       "      <th>2</th>\n",
       "      <td>2019/1/2</td>\n",
       "      <td>000021.XSHE</td>\n",
       "      <td>0.0877</td>\n",
       "      <td>0.8723</td>\n",
       "      <td>16.2858</td>\n",
       "      <td>22.8450</td>\n",
       "      <td>43.3856</td>\n",
       "      <td>0.9030</td>\n",
       "      <td>0.061403186</td>\n",
       "    </tr>\n",
       "    <tr>\n",
       "      <th>3</th>\n",
       "      <td>2019/1/2</td>\n",
       "      <td>000027.XSHE</td>\n",
       "      <td>0.0257</td>\n",
       "      <td>0.7900</td>\n",
       "      <td>37.1553</td>\n",
       "      <td>23.7396</td>\n",
       "      <td>20.7372</td>\n",
       "      <td>0.9555</td>\n",
       "      <td>0.026914061</td>\n",
       "    </tr>\n",
       "    <tr>\n",
       "      <th>4</th>\n",
       "      <td>2019/1/2</td>\n",
       "      <td>000028.XSHE</td>\n",
       "      <td>0.1240</td>\n",
       "      <td>1.3436</td>\n",
       "      <td>14.5830</td>\n",
       "      <td>23.2399</td>\n",
       "      <td>39.4524</td>\n",
       "      <td>0.8733</td>\n",
       "      <td>0.068572996</td>\n",
       "    </tr>\n",
       "    <tr>\n",
       "      <th>...</th>\n",
       "      <td>...</td>\n",
       "      <td>...</td>\n",
       "      <td>...</td>\n",
       "      <td>...</td>\n",
       "      <td>...</td>\n",
       "      <td>...</td>\n",
       "      <td>...</td>\n",
       "      <td>...</td>\n",
       "      <td>...</td>\n",
       "    </tr>\n",
       "    <tr>\n",
       "      <th>345781</th>\n",
       "      <td>2021/11/30</td>\n",
       "      <td>688029.XSHG</td>\n",
       "      <td>0.1139</td>\n",
       "      <td>3.7979</td>\n",
       "      <td>110.9337</td>\n",
       "      <td>23.1222</td>\n",
       "      <td>171.9601</td>\n",
       "      <td>1.0060</td>\n",
       "      <td>0.009014</td>\n",
       "    </tr>\n",
       "    <tr>\n",
       "      <th>345782</th>\n",
       "      <td>2021/11/30</td>\n",
       "      <td>688088.XSHG</td>\n",
       "      <td>0.0613</td>\n",
       "      <td>7.4023</td>\n",
       "      <td>120.9688</td>\n",
       "      <td>23.2944</td>\n",
       "      <td>237.6361</td>\n",
       "      <td>1.2744</td>\n",
       "      <td>0.008267</td>\n",
       "    </tr>\n",
       "    <tr>\n",
       "      <th>345783</th>\n",
       "      <td>2021/11/30</td>\n",
       "      <td>688099.XSHG</td>\n",
       "      <td>0.2108</td>\n",
       "      <td>3.2560</td>\n",
       "      <td>79.0363</td>\n",
       "      <td>23.9739</td>\n",
       "      <td>321.6632</td>\n",
       "      <td>1.1177</td>\n",
       "      <td>0.012652</td>\n",
       "    </tr>\n",
       "    <tr>\n",
       "      <th>345784</th>\n",
       "      <td>2021/11/30</td>\n",
       "      <td>688208.XSHG</td>\n",
       "      <td>0.1830</td>\n",
       "      <td>1.4225</td>\n",
       "      <td>74.1014</td>\n",
       "      <td>23.7365</td>\n",
       "      <td>172.6206</td>\n",
       "      <td>1.1183</td>\n",
       "      <td>0.013495</td>\n",
       "    </tr>\n",
       "    <tr>\n",
       "      <th>345785</th>\n",
       "      <td>2021/11/30</td>\n",
       "      <td>688321.XSHG</td>\n",
       "      <td>-0.0211</td>\n",
       "      <td>2.1027</td>\n",
       "      <td>-466.0829</td>\n",
       "      <td>22.9379</td>\n",
       "      <td>72.6784</td>\n",
       "      <td>0.9833</td>\n",
       "      <td>-0.002146</td>\n",
       "    </tr>\n",
       "  </tbody>\n",
       "</table>\n",
       "<p>345786 rows × 9 columns</p>\n",
       "</div>"
      ],
      "text/plain": [
       "         tradeDate        secID     ROE  QuickRatio        PE     LFLO  \\\n",
       "0         2019/1/2  000009.XSHE  0.0104      0.8513  180.0405  22.9332   \n",
       "1         2019/1/2  000012.XSHE  0.0681      0.7034   19.5304  22.6784   \n",
       "2         2019/1/2  000021.XSHE  0.0877      0.8723   16.2858  22.8450   \n",
       "3         2019/1/2  000027.XSHE  0.0257      0.7900   37.1553  23.7396   \n",
       "4         2019/1/2  000028.XSHE  0.1240      1.3436   14.5830  23.2399   \n",
       "...            ...          ...     ...         ...       ...      ...   \n",
       "345781  2021/11/30  688029.XSHG  0.1139      3.7979  110.9337  23.1222   \n",
       "345782  2021/11/30  688088.XSHG  0.0613      7.4023  120.9688  23.2944   \n",
       "345783  2021/11/30  688099.XSHG  0.2108      3.2560   79.0363  23.9739   \n",
       "345784  2021/11/30  688208.XSHG  0.1830      1.4225   74.1014  23.7365   \n",
       "345785  2021/11/30  688321.XSHG -0.0211      2.1027 -466.0829  22.9379   \n",
       "\n",
       "          TVMA20  REVS20           EP  \n",
       "0        60.4605  0.8758  0.005554306  \n",
       "1        20.2816  0.9149  0.051202228  \n",
       "2        43.3856  0.9030  0.061403186  \n",
       "3        20.7372  0.9555  0.026914061  \n",
       "4        39.4524  0.8733  0.068572996  \n",
       "...          ...     ...          ...  \n",
       "345781  171.9601  1.0060     0.009014  \n",
       "345782  237.6361  1.2744     0.008267  \n",
       "345783  321.6632  1.1177     0.012652  \n",
       "345784  172.6206  1.1183     0.013495  \n",
       "345785   72.6784  0.9833    -0.002146  \n",
       "\n",
       "[345786 rows x 9 columns]"
      ]
     },
     "execution_count": 4,
     "metadata": {},
     "output_type": "execute_result"
    }
   ],
   "source": [
    "df1"
   ]
  },
  {
   "cell_type": "code",
   "execution_count": 5,
   "id": "43d4447d",
   "metadata": {
    "ExecuteTime": {
     "end_time": "2021-12-08T16:22:23.766068Z",
     "start_time": "2021-12-08T16:22:23.760070Z"
    }
   },
   "outputs": [
    {
     "data": {
      "text/plain": [
       "'EP'"
      ]
     },
     "execution_count": 5,
     "metadata": {},
     "output_type": "execute_result"
    }
   ],
   "source": [
    "df1.columns[8]"
   ]
  },
  {
   "cell_type": "markdown",
   "id": "44e89dc7",
   "metadata": {},
   "source": [
    "## 找一下"
   ]
  },
  {
   "cell_type": "code",
   "execution_count": 6,
   "id": "5a28dd1c",
   "metadata": {
    "ExecuteTime": {
     "end_time": "2021-12-08T16:22:24.732397Z",
     "start_time": "2021-12-08T16:22:24.662665Z"
    },
    "scrolled": true
   },
   "outputs": [
    {
     "name": "stdout",
     "output_type": "stream",
     "text": [
      "#DIV/0!\n"
     ]
    }
   ],
   "source": [
    "for i in df1['EP']:\n",
    "    try:\n",
    "        float(i)\n",
    "    except:\n",
    "        print(i)"
   ]
  },
  {
   "cell_type": "code",
   "execution_count": 7,
   "id": "f1a590a6",
   "metadata": {
    "ExecuteTime": {
     "end_time": "2021-12-08T16:22:24.978064Z",
     "start_time": "2021-12-08T16:22:24.926715Z"
    }
   },
   "outputs": [
    {
     "data": {
      "text/plain": [
       "32325"
      ]
     },
     "execution_count": 7,
     "metadata": {},
     "output_type": "execute_result"
    }
   ],
   "source": [
    "list(df1['EP']).index('#DIV/0!')"
   ]
  },
  {
   "cell_type": "code",
   "execution_count": 8,
   "id": "d8f0e5eb",
   "metadata": {
    "ExecuteTime": {
     "end_time": "2021-12-08T16:22:25.315706Z",
     "start_time": "2021-12-08T16:22:25.309867Z"
    }
   },
   "outputs": [
    {
     "data": {
      "text/plain": [
       "tradeDate       2019/4/16\n",
       "secID         603317.XSHG\n",
       "ROE                   NaN\n",
       "QuickRatio            NaN\n",
       "PE                    NaN\n",
       "LFLO              20.5011\n",
       "TVMA20                NaN\n",
       "REVS20                NaN\n",
       "EP                #DIV/0!\n",
       "Name: 32325, dtype: object"
      ]
     },
     "execution_count": 8,
     "metadata": {},
     "output_type": "execute_result"
    }
   ],
   "source": [
    "df1.iloc[32325,:]"
   ]
  },
  {
   "cell_type": "markdown",
   "id": "8b530699",
   "metadata": {},
   "source": [
    "## 删掉这一行"
   ]
  },
  {
   "cell_type": "code",
   "execution_count": 9,
   "id": "f57da592",
   "metadata": {
    "ExecuteTime": {
     "end_time": "2021-12-08T16:22:26.178012Z",
     "start_time": "2021-12-08T16:22:26.150590Z"
    }
   },
   "outputs": [],
   "source": [
    "df1.drop(index=32325,axis=0,inplace=True)"
   ]
  },
  {
   "cell_type": "code",
   "execution_count": 10,
   "id": "d63cec54",
   "metadata": {
    "ExecuteTime": {
     "end_time": "2021-12-08T16:22:26.460655Z",
     "start_time": "2021-12-08T16:22:26.455186Z"
    }
   },
   "outputs": [],
   "source": [
    "df1.reset_index(inplace=True)"
   ]
  },
  {
   "cell_type": "code",
   "execution_count": 11,
   "id": "3aa3d9aa",
   "metadata": {
    "ExecuteTime": {
     "end_time": "2021-12-08T16:22:26.699094Z",
     "start_time": "2021-12-08T16:22:26.678207Z"
    }
   },
   "outputs": [],
   "source": [
    "df1.drop(columns='index',axis=1,inplace=True)"
   ]
  },
  {
   "cell_type": "code",
   "execution_count": 12,
   "id": "62081a3b",
   "metadata": {
    "ExecuteTime": {
     "end_time": "2021-12-08T16:22:27.038275Z",
     "start_time": "2021-12-08T16:22:27.023219Z"
    }
   },
   "outputs": [
    {
     "data": {
      "text/html": [
       "<div>\n",
       "<style scoped>\n",
       "    .dataframe tbody tr th:only-of-type {\n",
       "        vertical-align: middle;\n",
       "    }\n",
       "\n",
       "    .dataframe tbody tr th {\n",
       "        vertical-align: top;\n",
       "    }\n",
       "\n",
       "    .dataframe thead th {\n",
       "        text-align: right;\n",
       "    }\n",
       "</style>\n",
       "<table border=\"1\" class=\"dataframe\">\n",
       "  <thead>\n",
       "    <tr style=\"text-align: right;\">\n",
       "      <th></th>\n",
       "      <th>tradeDate</th>\n",
       "      <th>secID</th>\n",
       "      <th>ROE</th>\n",
       "      <th>QuickRatio</th>\n",
       "      <th>PE</th>\n",
       "      <th>LFLO</th>\n",
       "      <th>TVMA20</th>\n",
       "      <th>REVS20</th>\n",
       "      <th>EP</th>\n",
       "    </tr>\n",
       "  </thead>\n",
       "  <tbody>\n",
       "    <tr>\n",
       "      <th>0</th>\n",
       "      <td>2019/1/2</td>\n",
       "      <td>000009.XSHE</td>\n",
       "      <td>0.0104</td>\n",
       "      <td>0.8513</td>\n",
       "      <td>180.0405</td>\n",
       "      <td>22.9332</td>\n",
       "      <td>60.4605</td>\n",
       "      <td>0.8758</td>\n",
       "      <td>0.005554306</td>\n",
       "    </tr>\n",
       "    <tr>\n",
       "      <th>1</th>\n",
       "      <td>2019/1/2</td>\n",
       "      <td>000012.XSHE</td>\n",
       "      <td>0.0681</td>\n",
       "      <td>0.7034</td>\n",
       "      <td>19.5304</td>\n",
       "      <td>22.6784</td>\n",
       "      <td>20.2816</td>\n",
       "      <td>0.9149</td>\n",
       "      <td>0.051202228</td>\n",
       "    </tr>\n",
       "    <tr>\n",
       "      <th>2</th>\n",
       "      <td>2019/1/2</td>\n",
       "      <td>000021.XSHE</td>\n",
       "      <td>0.0877</td>\n",
       "      <td>0.8723</td>\n",
       "      <td>16.2858</td>\n",
       "      <td>22.8450</td>\n",
       "      <td>43.3856</td>\n",
       "      <td>0.9030</td>\n",
       "      <td>0.061403186</td>\n",
       "    </tr>\n",
       "    <tr>\n",
       "      <th>3</th>\n",
       "      <td>2019/1/2</td>\n",
       "      <td>000027.XSHE</td>\n",
       "      <td>0.0257</td>\n",
       "      <td>0.7900</td>\n",
       "      <td>37.1553</td>\n",
       "      <td>23.7396</td>\n",
       "      <td>20.7372</td>\n",
       "      <td>0.9555</td>\n",
       "      <td>0.026914061</td>\n",
       "    </tr>\n",
       "    <tr>\n",
       "      <th>4</th>\n",
       "      <td>2019/1/2</td>\n",
       "      <td>000028.XSHE</td>\n",
       "      <td>0.1240</td>\n",
       "      <td>1.3436</td>\n",
       "      <td>14.5830</td>\n",
       "      <td>23.2399</td>\n",
       "      <td>39.4524</td>\n",
       "      <td>0.8733</td>\n",
       "      <td>0.068572996</td>\n",
       "    </tr>\n",
       "    <tr>\n",
       "      <th>...</th>\n",
       "      <td>...</td>\n",
       "      <td>...</td>\n",
       "      <td>...</td>\n",
       "      <td>...</td>\n",
       "      <td>...</td>\n",
       "      <td>...</td>\n",
       "      <td>...</td>\n",
       "      <td>...</td>\n",
       "      <td>...</td>\n",
       "    </tr>\n",
       "    <tr>\n",
       "      <th>345780</th>\n",
       "      <td>2021/11/30</td>\n",
       "      <td>688029.XSHG</td>\n",
       "      <td>0.1139</td>\n",
       "      <td>3.7979</td>\n",
       "      <td>110.9337</td>\n",
       "      <td>23.1222</td>\n",
       "      <td>171.9601</td>\n",
       "      <td>1.0060</td>\n",
       "      <td>0.009014</td>\n",
       "    </tr>\n",
       "    <tr>\n",
       "      <th>345781</th>\n",
       "      <td>2021/11/30</td>\n",
       "      <td>688088.XSHG</td>\n",
       "      <td>0.0613</td>\n",
       "      <td>7.4023</td>\n",
       "      <td>120.9688</td>\n",
       "      <td>23.2944</td>\n",
       "      <td>237.6361</td>\n",
       "      <td>1.2744</td>\n",
       "      <td>0.008267</td>\n",
       "    </tr>\n",
       "    <tr>\n",
       "      <th>345782</th>\n",
       "      <td>2021/11/30</td>\n",
       "      <td>688099.XSHG</td>\n",
       "      <td>0.2108</td>\n",
       "      <td>3.2560</td>\n",
       "      <td>79.0363</td>\n",
       "      <td>23.9739</td>\n",
       "      <td>321.6632</td>\n",
       "      <td>1.1177</td>\n",
       "      <td>0.012652</td>\n",
       "    </tr>\n",
       "    <tr>\n",
       "      <th>345783</th>\n",
       "      <td>2021/11/30</td>\n",
       "      <td>688208.XSHG</td>\n",
       "      <td>0.1830</td>\n",
       "      <td>1.4225</td>\n",
       "      <td>74.1014</td>\n",
       "      <td>23.7365</td>\n",
       "      <td>172.6206</td>\n",
       "      <td>1.1183</td>\n",
       "      <td>0.013495</td>\n",
       "    </tr>\n",
       "    <tr>\n",
       "      <th>345784</th>\n",
       "      <td>2021/11/30</td>\n",
       "      <td>688321.XSHG</td>\n",
       "      <td>-0.0211</td>\n",
       "      <td>2.1027</td>\n",
       "      <td>-466.0829</td>\n",
       "      <td>22.9379</td>\n",
       "      <td>72.6784</td>\n",
       "      <td>0.9833</td>\n",
       "      <td>-0.002146</td>\n",
       "    </tr>\n",
       "  </tbody>\n",
       "</table>\n",
       "<p>345785 rows × 9 columns</p>\n",
       "</div>"
      ],
      "text/plain": [
       "         tradeDate        secID     ROE  QuickRatio        PE     LFLO  \\\n",
       "0         2019/1/2  000009.XSHE  0.0104      0.8513  180.0405  22.9332   \n",
       "1         2019/1/2  000012.XSHE  0.0681      0.7034   19.5304  22.6784   \n",
       "2         2019/1/2  000021.XSHE  0.0877      0.8723   16.2858  22.8450   \n",
       "3         2019/1/2  000027.XSHE  0.0257      0.7900   37.1553  23.7396   \n",
       "4         2019/1/2  000028.XSHE  0.1240      1.3436   14.5830  23.2399   \n",
       "...            ...          ...     ...         ...       ...      ...   \n",
       "345780  2021/11/30  688029.XSHG  0.1139      3.7979  110.9337  23.1222   \n",
       "345781  2021/11/30  688088.XSHG  0.0613      7.4023  120.9688  23.2944   \n",
       "345782  2021/11/30  688099.XSHG  0.2108      3.2560   79.0363  23.9739   \n",
       "345783  2021/11/30  688208.XSHG  0.1830      1.4225   74.1014  23.7365   \n",
       "345784  2021/11/30  688321.XSHG -0.0211      2.1027 -466.0829  22.9379   \n",
       "\n",
       "          TVMA20  REVS20           EP  \n",
       "0        60.4605  0.8758  0.005554306  \n",
       "1        20.2816  0.9149  0.051202228  \n",
       "2        43.3856  0.9030  0.061403186  \n",
       "3        20.7372  0.9555  0.026914061  \n",
       "4        39.4524  0.8733  0.068572996  \n",
       "...          ...     ...          ...  \n",
       "345780  171.9601  1.0060     0.009014  \n",
       "345781  237.6361  1.2744     0.008267  \n",
       "345782  321.6632  1.1177     0.012652  \n",
       "345783  172.6206  1.1183     0.013495  \n",
       "345784   72.6784  0.9833    -0.002146  \n",
       "\n",
       "[345785 rows x 9 columns]"
      ]
     },
     "execution_count": 12,
     "metadata": {},
     "output_type": "execute_result"
    }
   ],
   "source": [
    "df1"
   ]
  },
  {
   "cell_type": "code",
   "execution_count": 13,
   "id": "057bdeec",
   "metadata": {
    "ExecuteTime": {
     "end_time": "2021-12-08T16:22:27.490253Z",
     "start_time": "2021-12-08T16:22:27.383269Z"
    }
   },
   "outputs": [],
   "source": [
    "df2 = pd.read_csv('data2.csv')"
   ]
  },
  {
   "cell_type": "code",
   "execution_count": 14,
   "id": "4d4cb573",
   "metadata": {
    "ExecuteTime": {
     "end_time": "2021-12-08T16:22:27.798089Z",
     "start_time": "2021-12-08T16:22:27.783594Z"
    }
   },
   "outputs": [
    {
     "data": {
      "text/html": [
       "<div>\n",
       "<style scoped>\n",
       "    .dataframe tbody tr th:only-of-type {\n",
       "        vertical-align: middle;\n",
       "    }\n",
       "\n",
       "    .dataframe tbody tr th {\n",
       "        vertical-align: top;\n",
       "    }\n",
       "\n",
       "    .dataframe thead th {\n",
       "        text-align: right;\n",
       "    }\n",
       "</style>\n",
       "<table border=\"1\" class=\"dataframe\">\n",
       "  <thead>\n",
       "    <tr style=\"text-align: right;\">\n",
       "      <th></th>\n",
       "      <th>tradeDate</th>\n",
       "      <th>secID</th>\n",
       "      <th>dailyReturnNoReinv</th>\n",
       "    </tr>\n",
       "  </thead>\n",
       "  <tbody>\n",
       "    <tr>\n",
       "      <th>0</th>\n",
       "      <td>2019/1/2</td>\n",
       "      <td>000009.XSHE</td>\n",
       "      <td>-0.002321</td>\n",
       "    </tr>\n",
       "    <tr>\n",
       "      <th>1</th>\n",
       "      <td>2019/1/3</td>\n",
       "      <td>000009.XSHE</td>\n",
       "      <td>-0.013954</td>\n",
       "    </tr>\n",
       "    <tr>\n",
       "      <th>2</th>\n",
       "      <td>2019/1/4</td>\n",
       "      <td>000009.XSHE</td>\n",
       "      <td>0.030660</td>\n",
       "    </tr>\n",
       "    <tr>\n",
       "      <th>3</th>\n",
       "      <td>2019/1/7</td>\n",
       "      <td>000009.XSHE</td>\n",
       "      <td>0.018306</td>\n",
       "    </tr>\n",
       "    <tr>\n",
       "      <th>4</th>\n",
       "      <td>2019/1/8</td>\n",
       "      <td>000009.XSHE</td>\n",
       "      <td>0.015730</td>\n",
       "    </tr>\n",
       "    <tr>\n",
       "      <th>...</th>\n",
       "      <td>...</td>\n",
       "      <td>...</td>\n",
       "      <td>...</td>\n",
       "    </tr>\n",
       "    <tr>\n",
       "      <th>346013</th>\n",
       "      <td>2021/11/24</td>\n",
       "      <td>688321.XSHG</td>\n",
       "      <td>0.006318</td>\n",
       "    </tr>\n",
       "    <tr>\n",
       "      <th>346014</th>\n",
       "      <td>2021/11/25</td>\n",
       "      <td>688321.XSHG</td>\n",
       "      <td>0.015015</td>\n",
       "    </tr>\n",
       "    <tr>\n",
       "      <th>346015</th>\n",
       "      <td>2021/11/26</td>\n",
       "      <td>688321.XSHG</td>\n",
       "      <td>-0.016138</td>\n",
       "    </tr>\n",
       "    <tr>\n",
       "      <th>346016</th>\n",
       "      <td>2021/11/29</td>\n",
       "      <td>688321.XSHG</td>\n",
       "      <td>-0.017496</td>\n",
       "    </tr>\n",
       "    <tr>\n",
       "      <th>346017</th>\n",
       "      <td>2021/11/30</td>\n",
       "      <td>688321.XSHG</td>\n",
       "      <td>-0.001113</td>\n",
       "    </tr>\n",
       "  </tbody>\n",
       "</table>\n",
       "<p>346018 rows × 3 columns</p>\n",
       "</div>"
      ],
      "text/plain": [
       "         tradeDate        secID  dailyReturnNoReinv\n",
       "0         2019/1/2  000009.XSHE           -0.002321\n",
       "1         2019/1/3  000009.XSHE           -0.013954\n",
       "2         2019/1/4  000009.XSHE            0.030660\n",
       "3         2019/1/7  000009.XSHE            0.018306\n",
       "4         2019/1/8  000009.XSHE            0.015730\n",
       "...            ...          ...                 ...\n",
       "346013  2021/11/24  688321.XSHG            0.006318\n",
       "346014  2021/11/25  688321.XSHG            0.015015\n",
       "346015  2021/11/26  688321.XSHG           -0.016138\n",
       "346016  2021/11/29  688321.XSHG           -0.017496\n",
       "346017  2021/11/30  688321.XSHG           -0.001113\n",
       "\n",
       "[346018 rows x 3 columns]"
      ]
     },
     "execution_count": 14,
     "metadata": {},
     "output_type": "execute_result"
    }
   ],
   "source": [
    "df2"
   ]
  },
  {
   "cell_type": "markdown",
   "id": "bd15b8cc",
   "metadata": {},
   "source": [
    "# merge"
   ]
  },
  {
   "cell_type": "code",
   "execution_count": 15,
   "id": "e967c0e3",
   "metadata": {
    "ExecuteTime": {
     "end_time": "2021-12-08T16:22:28.569592Z",
     "start_time": "2021-12-08T16:22:28.527785Z"
    }
   },
   "outputs": [
    {
     "data": {
      "text/plain": [
       "(500, 500)"
      ]
     },
     "execution_count": 15,
     "metadata": {},
     "output_type": "execute_result"
    }
   ],
   "source": [
    "# 一共500只股票\n",
    "len(set(df1['secID'])),len(set(df2['secID']))"
   ]
  },
  {
   "cell_type": "code",
   "execution_count": 16,
   "id": "6af96f18",
   "metadata": {
    "ExecuteTime": {
     "end_time": "2021-12-08T16:22:28.931375Z",
     "start_time": "2021-12-08T16:22:28.871926Z"
    }
   },
   "outputs": [
    {
     "data": {
      "text/plain": [
       "True"
      ]
     },
     "execution_count": 16,
     "metadata": {},
     "output_type": "execute_result"
    }
   ],
   "source": [
    "# 股票也是一样的\n",
    "set(df1['secID'])==set(df2['secID'])"
   ]
  },
  {
   "cell_type": "code",
   "execution_count": 17,
   "id": "d45da50d",
   "metadata": {
    "ExecuteTime": {
     "end_time": "2021-12-08T16:22:29.283852Z",
     "start_time": "2021-12-08T16:22:29.240290Z"
    }
   },
   "outputs": [
    {
     "data": {
      "text/plain": [
       "(707, 707)"
      ]
     },
     "execution_count": 17,
     "metadata": {},
     "output_type": "execute_result"
    }
   ],
   "source": [
    "# 一共707个交易日\n",
    "len(set(df1['tradeDate'])),len(set(df2['tradeDate']))"
   ]
  },
  {
   "cell_type": "code",
   "execution_count": 18,
   "id": "423cbf2c",
   "metadata": {
    "ExecuteTime": {
     "end_time": "2021-12-08T16:22:29.726928Z",
     "start_time": "2021-12-08T16:22:29.678317Z"
    }
   },
   "outputs": [
    {
     "data": {
      "text/plain": [
       "True"
      ]
     },
     "execution_count": 18,
     "metadata": {},
     "output_type": "execute_result"
    }
   ],
   "source": [
    "# 交易日也是一样的\n",
    "set(df1['tradeDate'])==set(df2['tradeDate'])"
   ]
  },
  {
   "cell_type": "markdown",
   "id": "e8f7cd71",
   "metadata": {},
   "source": [
    "## 直接按照日期、股票索引就可以实现merge"
   ]
  },
  {
   "cell_type": "code",
   "execution_count": 19,
   "id": "de9cb784",
   "metadata": {
    "ExecuteTime": {
     "end_time": "2021-12-08T16:22:30.269600Z",
     "start_time": "2021-12-08T16:22:30.264821Z"
    }
   },
   "outputs": [],
   "source": [
    "# 初始化一行\n",
    "df2['ancillary']=1"
   ]
  },
  {
   "cell_type": "code",
   "execution_count": 20,
   "id": "3581523a",
   "metadata": {
    "ExecuteTime": {
     "end_time": "2021-12-08T16:22:30.498281Z",
     "start_time": "2021-12-08T16:22:30.485857Z"
    }
   },
   "outputs": [
    {
     "data": {
      "text/html": [
       "<div>\n",
       "<style scoped>\n",
       "    .dataframe tbody tr th:only-of-type {\n",
       "        vertical-align: middle;\n",
       "    }\n",
       "\n",
       "    .dataframe tbody tr th {\n",
       "        vertical-align: top;\n",
       "    }\n",
       "\n",
       "    .dataframe thead th {\n",
       "        text-align: right;\n",
       "    }\n",
       "</style>\n",
       "<table border=\"1\" class=\"dataframe\">\n",
       "  <thead>\n",
       "    <tr style=\"text-align: right;\">\n",
       "      <th></th>\n",
       "      <th>tradeDate</th>\n",
       "      <th>secID</th>\n",
       "      <th>dailyReturnNoReinv</th>\n",
       "      <th>ancillary</th>\n",
       "    </tr>\n",
       "  </thead>\n",
       "  <tbody>\n",
       "    <tr>\n",
       "      <th>0</th>\n",
       "      <td>2019/1/2</td>\n",
       "      <td>000009.XSHE</td>\n",
       "      <td>-0.002321</td>\n",
       "      <td>1</td>\n",
       "    </tr>\n",
       "    <tr>\n",
       "      <th>1</th>\n",
       "      <td>2019/1/3</td>\n",
       "      <td>000009.XSHE</td>\n",
       "      <td>-0.013954</td>\n",
       "      <td>1</td>\n",
       "    </tr>\n",
       "    <tr>\n",
       "      <th>2</th>\n",
       "      <td>2019/1/4</td>\n",
       "      <td>000009.XSHE</td>\n",
       "      <td>0.030660</td>\n",
       "      <td>1</td>\n",
       "    </tr>\n",
       "    <tr>\n",
       "      <th>3</th>\n",
       "      <td>2019/1/7</td>\n",
       "      <td>000009.XSHE</td>\n",
       "      <td>0.018306</td>\n",
       "      <td>1</td>\n",
       "    </tr>\n",
       "    <tr>\n",
       "      <th>4</th>\n",
       "      <td>2019/1/8</td>\n",
       "      <td>000009.XSHE</td>\n",
       "      <td>0.015730</td>\n",
       "      <td>1</td>\n",
       "    </tr>\n",
       "    <tr>\n",
       "      <th>...</th>\n",
       "      <td>...</td>\n",
       "      <td>...</td>\n",
       "      <td>...</td>\n",
       "      <td>...</td>\n",
       "    </tr>\n",
       "    <tr>\n",
       "      <th>346013</th>\n",
       "      <td>2021/11/24</td>\n",
       "      <td>688321.XSHG</td>\n",
       "      <td>0.006318</td>\n",
       "      <td>1</td>\n",
       "    </tr>\n",
       "    <tr>\n",
       "      <th>346014</th>\n",
       "      <td>2021/11/25</td>\n",
       "      <td>688321.XSHG</td>\n",
       "      <td>0.015015</td>\n",
       "      <td>1</td>\n",
       "    </tr>\n",
       "    <tr>\n",
       "      <th>346015</th>\n",
       "      <td>2021/11/26</td>\n",
       "      <td>688321.XSHG</td>\n",
       "      <td>-0.016138</td>\n",
       "      <td>1</td>\n",
       "    </tr>\n",
       "    <tr>\n",
       "      <th>346016</th>\n",
       "      <td>2021/11/29</td>\n",
       "      <td>688321.XSHG</td>\n",
       "      <td>-0.017496</td>\n",
       "      <td>1</td>\n",
       "    </tr>\n",
       "    <tr>\n",
       "      <th>346017</th>\n",
       "      <td>2021/11/30</td>\n",
       "      <td>688321.XSHG</td>\n",
       "      <td>-0.001113</td>\n",
       "      <td>1</td>\n",
       "    </tr>\n",
       "  </tbody>\n",
       "</table>\n",
       "<p>346018 rows × 4 columns</p>\n",
       "</div>"
      ],
      "text/plain": [
       "         tradeDate        secID  dailyReturnNoReinv  ancillary\n",
       "0         2019/1/2  000009.XSHE           -0.002321          1\n",
       "1         2019/1/3  000009.XSHE           -0.013954          1\n",
       "2         2019/1/4  000009.XSHE            0.030660          1\n",
       "3         2019/1/7  000009.XSHE            0.018306          1\n",
       "4         2019/1/8  000009.XSHE            0.015730          1\n",
       "...            ...          ...                 ...        ...\n",
       "346013  2021/11/24  688321.XSHG            0.006318          1\n",
       "346014  2021/11/25  688321.XSHG            0.015015          1\n",
       "346015  2021/11/26  688321.XSHG           -0.016138          1\n",
       "346016  2021/11/29  688321.XSHG           -0.017496          1\n",
       "346017  2021/11/30  688321.XSHG           -0.001113          1\n",
       "\n",
       "[346018 rows x 4 columns]"
      ]
     },
     "execution_count": 20,
     "metadata": {},
     "output_type": "execute_result"
    }
   ],
   "source": [
    "df2"
   ]
  },
  {
   "cell_type": "code",
   "execution_count": 21,
   "id": "5d1987ef",
   "metadata": {
    "ExecuteTime": {
     "end_time": "2021-12-08T16:22:31.097890Z",
     "start_time": "2021-12-08T16:22:30.951409Z"
    }
   },
   "outputs": [
    {
     "data": {
      "text/html": [
       "<div>\n",
       "<style scoped>\n",
       "    .dataframe tbody tr th:only-of-type {\n",
       "        vertical-align: middle;\n",
       "    }\n",
       "\n",
       "    .dataframe tbody tr th {\n",
       "        vertical-align: top;\n",
       "    }\n",
       "\n",
       "    .dataframe thead th {\n",
       "        text-align: right;\n",
       "    }\n",
       "</style>\n",
       "<table border=\"1\" class=\"dataframe\">\n",
       "  <thead>\n",
       "    <tr style=\"text-align: right;\">\n",
       "      <th></th>\n",
       "      <th>ancillary</th>\n",
       "      <th>1</th>\n",
       "    </tr>\n",
       "    <tr>\n",
       "      <th>secID</th>\n",
       "      <th>tradeDate</th>\n",
       "      <th></th>\n",
       "    </tr>\n",
       "  </thead>\n",
       "  <tbody>\n",
       "    <tr>\n",
       "      <th rowspan=\"5\" valign=\"top\">000009.XSHE</th>\n",
       "      <th>2019/1/10</th>\n",
       "      <td>-0.006697</td>\n",
       "    </tr>\n",
       "    <tr>\n",
       "      <th>2019/1/11</th>\n",
       "      <td>0.004494</td>\n",
       "    </tr>\n",
       "    <tr>\n",
       "      <th>2019/1/14</th>\n",
       "      <td>0.002237</td>\n",
       "    </tr>\n",
       "    <tr>\n",
       "      <th>2019/1/15</th>\n",
       "      <td>0.008928</td>\n",
       "    </tr>\n",
       "    <tr>\n",
       "      <th>2019/1/16</th>\n",
       "      <td>-0.013275</td>\n",
       "    </tr>\n",
       "    <tr>\n",
       "      <th>...</th>\n",
       "      <th>...</th>\n",
       "      <td>...</td>\n",
       "    </tr>\n",
       "    <tr>\n",
       "      <th rowspan=\"5\" valign=\"top\">688321.XSHG</th>\n",
       "      <th>2021/9/30</th>\n",
       "      <td>-0.012353</td>\n",
       "    </tr>\n",
       "    <tr>\n",
       "      <th>2021/9/6</th>\n",
       "      <td>0.031533</td>\n",
       "    </tr>\n",
       "    <tr>\n",
       "      <th>2021/9/7</th>\n",
       "      <td>-0.002850</td>\n",
       "    </tr>\n",
       "    <tr>\n",
       "      <th>2021/9/8</th>\n",
       "      <td>-0.007015</td>\n",
       "    </tr>\n",
       "    <tr>\n",
       "      <th>2021/9/9</th>\n",
       "      <td>-0.007065</td>\n",
       "    </tr>\n",
       "  </tbody>\n",
       "</table>\n",
       "<p>346018 rows × 1 columns</p>\n",
       "</div>"
      ],
      "text/plain": [
       "ancillary                     1\n",
       "secID       tradeDate          \n",
       "000009.XSHE 2019/1/10 -0.006697\n",
       "            2019/1/11  0.004494\n",
       "            2019/1/14  0.002237\n",
       "            2019/1/15  0.008928\n",
       "            2019/1/16 -0.013275\n",
       "...                         ...\n",
       "688321.XSHG 2021/9/30 -0.012353\n",
       "            2021/9/6   0.031533\n",
       "            2021/9/7  -0.002850\n",
       "            2021/9/8  -0.007015\n",
       "            2021/9/9  -0.007065\n",
       "\n",
       "[346018 rows x 1 columns]"
      ]
     },
     "execution_count": 21,
     "metadata": {},
     "output_type": "execute_result"
    }
   ],
   "source": [
    "df = df2.pivot(values='dailyReturnNoReinv',index=['secID','tradeDate'],columns=['ancillary'])\n",
    "df"
   ]
  },
  {
   "cell_type": "code",
   "execution_count": 22,
   "id": "07e3c49f",
   "metadata": {
    "ExecuteTime": {
     "end_time": "2021-12-08T16:22:31.983056Z",
     "start_time": "2021-12-08T16:22:31.510925Z"
    }
   },
   "outputs": [],
   "source": [
    "d = dict(zip(df.index,df.values))"
   ]
  },
  {
   "cell_type": "code",
   "execution_count": 23,
   "id": "424174d9",
   "metadata": {
    "ExecuteTime": {
     "end_time": "2021-12-08T16:22:32.041939Z",
     "start_time": "2021-12-08T16:22:32.038054Z"
    }
   },
   "outputs": [
    {
     "data": {
      "text/plain": [
       "array([-0.006697])"
      ]
     },
     "execution_count": 23,
     "metadata": {},
     "output_type": "execute_result"
    }
   ],
   "source": [
    "# d的功能就是索引全部的daily收益率\n",
    "d[('000009.XSHE','2019/1/10')]"
   ]
  },
  {
   "cell_type": "code",
   "execution_count": 24,
   "id": "4b13c0d7",
   "metadata": {
    "ExecuteTime": {
     "end_time": "2021-12-08T16:22:32.691736Z",
     "start_time": "2021-12-08T16:22:32.686259Z"
    }
   },
   "outputs": [],
   "source": [
    "# 初始化\n",
    "df1['dailyReturnNoReinv']=0"
   ]
  },
  {
   "cell_type": "code",
   "execution_count": 25,
   "id": "55eb2ded",
   "metadata": {
    "ExecuteTime": {
     "end_time": "2021-12-08T16:22:33.233701Z",
     "start_time": "2021-12-08T16:22:33.215317Z"
    }
   },
   "outputs": [
    {
     "data": {
      "text/html": [
       "<div>\n",
       "<style scoped>\n",
       "    .dataframe tbody tr th:only-of-type {\n",
       "        vertical-align: middle;\n",
       "    }\n",
       "\n",
       "    .dataframe tbody tr th {\n",
       "        vertical-align: top;\n",
       "    }\n",
       "\n",
       "    .dataframe thead th {\n",
       "        text-align: right;\n",
       "    }\n",
       "</style>\n",
       "<table border=\"1\" class=\"dataframe\">\n",
       "  <thead>\n",
       "    <tr style=\"text-align: right;\">\n",
       "      <th></th>\n",
       "      <th>tradeDate</th>\n",
       "      <th>secID</th>\n",
       "      <th>ROE</th>\n",
       "      <th>QuickRatio</th>\n",
       "      <th>PE</th>\n",
       "      <th>LFLO</th>\n",
       "      <th>TVMA20</th>\n",
       "      <th>REVS20</th>\n",
       "      <th>EP</th>\n",
       "      <th>dailyReturnNoReinv</th>\n",
       "    </tr>\n",
       "  </thead>\n",
       "  <tbody>\n",
       "    <tr>\n",
       "      <th>0</th>\n",
       "      <td>2019/1/2</td>\n",
       "      <td>000009.XSHE</td>\n",
       "      <td>0.0104</td>\n",
       "      <td>0.8513</td>\n",
       "      <td>180.0405</td>\n",
       "      <td>22.9332</td>\n",
       "      <td>60.4605</td>\n",
       "      <td>0.8758</td>\n",
       "      <td>0.005554306</td>\n",
       "      <td>0</td>\n",
       "    </tr>\n",
       "    <tr>\n",
       "      <th>1</th>\n",
       "      <td>2019/1/2</td>\n",
       "      <td>000012.XSHE</td>\n",
       "      <td>0.0681</td>\n",
       "      <td>0.7034</td>\n",
       "      <td>19.5304</td>\n",
       "      <td>22.6784</td>\n",
       "      <td>20.2816</td>\n",
       "      <td>0.9149</td>\n",
       "      <td>0.051202228</td>\n",
       "      <td>0</td>\n",
       "    </tr>\n",
       "    <tr>\n",
       "      <th>2</th>\n",
       "      <td>2019/1/2</td>\n",
       "      <td>000021.XSHE</td>\n",
       "      <td>0.0877</td>\n",
       "      <td>0.8723</td>\n",
       "      <td>16.2858</td>\n",
       "      <td>22.8450</td>\n",
       "      <td>43.3856</td>\n",
       "      <td>0.9030</td>\n",
       "      <td>0.061403186</td>\n",
       "      <td>0</td>\n",
       "    </tr>\n",
       "    <tr>\n",
       "      <th>3</th>\n",
       "      <td>2019/1/2</td>\n",
       "      <td>000027.XSHE</td>\n",
       "      <td>0.0257</td>\n",
       "      <td>0.7900</td>\n",
       "      <td>37.1553</td>\n",
       "      <td>23.7396</td>\n",
       "      <td>20.7372</td>\n",
       "      <td>0.9555</td>\n",
       "      <td>0.026914061</td>\n",
       "      <td>0</td>\n",
       "    </tr>\n",
       "    <tr>\n",
       "      <th>4</th>\n",
       "      <td>2019/1/2</td>\n",
       "      <td>000028.XSHE</td>\n",
       "      <td>0.1240</td>\n",
       "      <td>1.3436</td>\n",
       "      <td>14.5830</td>\n",
       "      <td>23.2399</td>\n",
       "      <td>39.4524</td>\n",
       "      <td>0.8733</td>\n",
       "      <td>0.068572996</td>\n",
       "      <td>0</td>\n",
       "    </tr>\n",
       "    <tr>\n",
       "      <th>...</th>\n",
       "      <td>...</td>\n",
       "      <td>...</td>\n",
       "      <td>...</td>\n",
       "      <td>...</td>\n",
       "      <td>...</td>\n",
       "      <td>...</td>\n",
       "      <td>...</td>\n",
       "      <td>...</td>\n",
       "      <td>...</td>\n",
       "      <td>...</td>\n",
       "    </tr>\n",
       "    <tr>\n",
       "      <th>345780</th>\n",
       "      <td>2021/11/30</td>\n",
       "      <td>688029.XSHG</td>\n",
       "      <td>0.1139</td>\n",
       "      <td>3.7979</td>\n",
       "      <td>110.9337</td>\n",
       "      <td>23.1222</td>\n",
       "      <td>171.9601</td>\n",
       "      <td>1.0060</td>\n",
       "      <td>0.009014</td>\n",
       "      <td>0</td>\n",
       "    </tr>\n",
       "    <tr>\n",
       "      <th>345781</th>\n",
       "      <td>2021/11/30</td>\n",
       "      <td>688088.XSHG</td>\n",
       "      <td>0.0613</td>\n",
       "      <td>7.4023</td>\n",
       "      <td>120.9688</td>\n",
       "      <td>23.2944</td>\n",
       "      <td>237.6361</td>\n",
       "      <td>1.2744</td>\n",
       "      <td>0.008267</td>\n",
       "      <td>0</td>\n",
       "    </tr>\n",
       "    <tr>\n",
       "      <th>345782</th>\n",
       "      <td>2021/11/30</td>\n",
       "      <td>688099.XSHG</td>\n",
       "      <td>0.2108</td>\n",
       "      <td>3.2560</td>\n",
       "      <td>79.0363</td>\n",
       "      <td>23.9739</td>\n",
       "      <td>321.6632</td>\n",
       "      <td>1.1177</td>\n",
       "      <td>0.012652</td>\n",
       "      <td>0</td>\n",
       "    </tr>\n",
       "    <tr>\n",
       "      <th>345783</th>\n",
       "      <td>2021/11/30</td>\n",
       "      <td>688208.XSHG</td>\n",
       "      <td>0.1830</td>\n",
       "      <td>1.4225</td>\n",
       "      <td>74.1014</td>\n",
       "      <td>23.7365</td>\n",
       "      <td>172.6206</td>\n",
       "      <td>1.1183</td>\n",
       "      <td>0.013495</td>\n",
       "      <td>0</td>\n",
       "    </tr>\n",
       "    <tr>\n",
       "      <th>345784</th>\n",
       "      <td>2021/11/30</td>\n",
       "      <td>688321.XSHG</td>\n",
       "      <td>-0.0211</td>\n",
       "      <td>2.1027</td>\n",
       "      <td>-466.0829</td>\n",
       "      <td>22.9379</td>\n",
       "      <td>72.6784</td>\n",
       "      <td>0.9833</td>\n",
       "      <td>-0.002146</td>\n",
       "      <td>0</td>\n",
       "    </tr>\n",
       "  </tbody>\n",
       "</table>\n",
       "<p>345785 rows × 10 columns</p>\n",
       "</div>"
      ],
      "text/plain": [
       "         tradeDate        secID     ROE  QuickRatio        PE     LFLO  \\\n",
       "0         2019/1/2  000009.XSHE  0.0104      0.8513  180.0405  22.9332   \n",
       "1         2019/1/2  000012.XSHE  0.0681      0.7034   19.5304  22.6784   \n",
       "2         2019/1/2  000021.XSHE  0.0877      0.8723   16.2858  22.8450   \n",
       "3         2019/1/2  000027.XSHE  0.0257      0.7900   37.1553  23.7396   \n",
       "4         2019/1/2  000028.XSHE  0.1240      1.3436   14.5830  23.2399   \n",
       "...            ...          ...     ...         ...       ...      ...   \n",
       "345780  2021/11/30  688029.XSHG  0.1139      3.7979  110.9337  23.1222   \n",
       "345781  2021/11/30  688088.XSHG  0.0613      7.4023  120.9688  23.2944   \n",
       "345782  2021/11/30  688099.XSHG  0.2108      3.2560   79.0363  23.9739   \n",
       "345783  2021/11/30  688208.XSHG  0.1830      1.4225   74.1014  23.7365   \n",
       "345784  2021/11/30  688321.XSHG -0.0211      2.1027 -466.0829  22.9379   \n",
       "\n",
       "          TVMA20  REVS20           EP  dailyReturnNoReinv  \n",
       "0        60.4605  0.8758  0.005554306                   0  \n",
       "1        20.2816  0.9149  0.051202228                   0  \n",
       "2        43.3856  0.9030  0.061403186                   0  \n",
       "3        20.7372  0.9555  0.026914061                   0  \n",
       "4        39.4524  0.8733  0.068572996                   0  \n",
       "...          ...     ...          ...                 ...  \n",
       "345780  171.9601  1.0060     0.009014                   0  \n",
       "345781  237.6361  1.2744     0.008267                   0  \n",
       "345782  321.6632  1.1177     0.012652                   0  \n",
       "345783  172.6206  1.1183     0.013495                   0  \n",
       "345784   72.6784  0.9833    -0.002146                   0  \n",
       "\n",
       "[345785 rows x 10 columns]"
      ]
     },
     "execution_count": 25,
     "metadata": {},
     "output_type": "execute_result"
    }
   ],
   "source": [
    "df1"
   ]
  },
  {
   "cell_type": "code",
   "execution_count": null,
   "id": "6fa5066a",
   "metadata": {
    "ExecuteTime": {
     "start_time": "2021-12-08T16:23:37.140Z"
    }
   },
   "outputs": [
    {
     "name": "stdout",
     "output_type": "stream",
     "text": [
      "0.000000% complete\n",
      "0.289198% complete\n",
      "0.578396% complete\n",
      "0.867594% complete\n",
      "1.156792% complete\n",
      "1.445989% complete\n",
      "1.735187% complete\n",
      "2.024385% complete\n",
      "2.313583% complete\n",
      "2.602781% complete\n"
     ]
    }
   ],
   "source": [
    "for i in df1.index:\n",
    "    if i%1000==0:\n",
    "        print(f'{i/345784:%} complete')\n",
    "    date = df1.loc[i,'tradeDate']\n",
    "    stock = df1.loc[i,'secID']\n",
    "    try:\n",
    "        df1.loc[i,'dailyReturnNoReinv']=d[(stock,date)]\n",
    "    except:\n",
    "        print(i,'no match')"
   ]
  },
  {
   "cell_type": "code",
   "execution_count": 26,
   "id": "27808c1b",
   "metadata": {
    "ExecuteTime": {
     "end_time": "2021-12-08T16:14:57.076385Z",
     "start_time": "2021-12-08T16:14:57.015147Z"
    }
   },
   "outputs": [],
   "source": [
    "df1.to_csv('./merged.csv',index=False)"
   ]
  }
 ],
 "metadata": {
  "kernelspec": {
   "display_name": "Python 3 (ipykernel)",
   "language": "python",
   "name": "python3"
  },
  "language_info": {
   "codemirror_mode": {
    "name": "ipython",
    "version": 3
   },
   "file_extension": ".py",
   "mimetype": "text/x-python",
   "name": "python",
   "nbconvert_exporter": "python",
   "pygments_lexer": "ipython3",
   "version": "3.9.7"
  },
  "toc": {
   "base_numbering": 1,
   "nav_menu": {},
   "number_sections": true,
   "sideBar": true,
   "skip_h1_title": false,
   "title_cell": "Table of Contents",
   "title_sidebar": "Contents",
   "toc_cell": false,
   "toc_position": {},
   "toc_section_display": true,
   "toc_window_display": false
  }
 },
 "nbformat": 4,
 "nbformat_minor": 5
}
