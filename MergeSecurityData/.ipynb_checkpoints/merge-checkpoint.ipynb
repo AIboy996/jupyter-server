{
 "cells": [
  {
   "cell_type": "markdown",
   "id": "29cb6978",
   "metadata": {},
   "source": [
    "# 导入数据"
   ]
  },
  {
   "cell_type": "code",
   "execution_count": 1,
   "id": "376c1862",
   "metadata": {
    "ExecuteTime": {
     "end_time": "2021-12-08T16:24:17.458275Z",
     "start_time": "2021-12-08T16:24:17.199039Z"
    }
   },
   "outputs": [],
   "source": [
    "import pandas as pd"
   ]
  },
  {
   "cell_type": "code",
   "execution_count": 2,
   "id": "c9b40a89",
   "metadata": {
    "ExecuteTime": {
     "end_time": "2021-12-08T16:24:17.609242Z",
     "start_time": "2021-12-08T16:24:17.459831Z"
    }
   },
   "outputs": [
    {
     "name": "stdout",
     "output_type": "stream",
     "text": [
      "data1.csv  data2.csv  merge.ipynb\r\n"
     ]
    }
   ],
   "source": [
    "ls"
   ]
  },
  {
   "cell_type": "markdown",
   "id": "8ab3e282",
   "metadata": {},
   "source": [
    "## DtypeWarning"
   ]
  },
  {
   "cell_type": "code",
   "execution_count": 3,
   "id": "5d2ab0b1",
   "metadata": {
    "ExecuteTime": {
     "end_time": "2021-12-08T16:24:17.907658Z",
     "start_time": "2021-12-08T16:24:17.610924Z"
    }
   },
   "outputs": [
    {
     "name": "stderr",
     "output_type": "stream",
     "text": [
      "/root/anaconda3/lib/python3.9/site-packages/IPython/core/interactiveshell.py:3444: DtypeWarning: Columns (8) have mixed types.Specify dtype option on import or set low_memory=False.\n",
      "  exec(code_obj, self.user_global_ns, self.user_ns)\n"
     ]
    }
   ],
   "source": [
    "df1 = pd.read_csv('data1.csv')"
   ]
  },
  {
   "cell_type": "code",
   "execution_count": 4,
   "id": "abcdf177",
   "metadata": {
    "ExecuteTime": {
     "end_time": "2021-12-08T16:24:17.943397Z",
     "start_time": "2021-12-08T16:24:17.909332Z"
    }
   },
   "outputs": [
    {
     "data": {
      "text/html": [
       "<div>\n",
       "<style scoped>\n",
       "    .dataframe tbody tr th:only-of-type {\n",
       "        vertical-align: middle;\n",
       "    }\n",
       "\n",
       "    .dataframe tbody tr th {\n",
       "        vertical-align: top;\n",
       "    }\n",
       "\n",
       "    .dataframe thead th {\n",
       "        text-align: right;\n",
       "    }\n",
       "</style>\n",
       "<table border=\"1\" class=\"dataframe\">\n",
       "  <thead>\n",
       "    <tr style=\"text-align: right;\">\n",
       "      <th></th>\n",
       "      <th>tradeDate</th>\n",
       "      <th>secID</th>\n",
       "      <th>ROE</th>\n",
       "      <th>QuickRatio</th>\n",
       "      <th>PE</th>\n",
       "      <th>LFLO</th>\n",
       "      <th>TVMA20</th>\n",
       "      <th>REVS20</th>\n",
       "      <th>EP</th>\n",
       "    </tr>\n",
       "  </thead>\n",
       "  <tbody>\n",
       "    <tr>\n",
       "      <th>0</th>\n",
       "      <td>2019/1/2</td>\n",
       "      <td>000009.XSHE</td>\n",
       "      <td>0.0104</td>\n",
       "      <td>0.8513</td>\n",
       "      <td>180.0405</td>\n",
       "      <td>22.9332</td>\n",
       "      <td>60.4605</td>\n",
       "      <td>0.8758</td>\n",
       "      <td>0.005554306</td>\n",
       "    </tr>\n",
       "    <tr>\n",
       "      <th>1</th>\n",
       "      <td>2019/1/2</td>\n",
       "      <td>000012.XSHE</td>\n",
       "      <td>0.0681</td>\n",
       "      <td>0.7034</td>\n",
       "      <td>19.5304</td>\n",
       "      <td>22.6784</td>\n",
       "      <td>20.2816</td>\n",
       "      <td>0.9149</td>\n",
       "      <td>0.051202228</td>\n",
       "    </tr>\n",
       "    <tr>\n",
       "      <th>2</th>\n",
       "      <td>2019/1/2</td>\n",
       "      <td>000021.XSHE</td>\n",
       "      <td>0.0877</td>\n",
       "      <td>0.8723</td>\n",
       "      <td>16.2858</td>\n",
       "      <td>22.8450</td>\n",
       "      <td>43.3856</td>\n",
       "      <td>0.9030</td>\n",
       "      <td>0.061403186</td>\n",
       "    </tr>\n",
       "    <tr>\n",
       "      <th>3</th>\n",
       "      <td>2019/1/2</td>\n",
       "      <td>000027.XSHE</td>\n",
       "      <td>0.0257</td>\n",
       "      <td>0.7900</td>\n",
       "      <td>37.1553</td>\n",
       "      <td>23.7396</td>\n",
       "      <td>20.7372</td>\n",
       "      <td>0.9555</td>\n",
       "      <td>0.026914061</td>\n",
       "    </tr>\n",
       "    <tr>\n",
       "      <th>4</th>\n",
       "      <td>2019/1/2</td>\n",
       "      <td>000028.XSHE</td>\n",
       "      <td>0.1240</td>\n",
       "      <td>1.3436</td>\n",
       "      <td>14.5830</td>\n",
       "      <td>23.2399</td>\n",
       "      <td>39.4524</td>\n",
       "      <td>0.8733</td>\n",
       "      <td>0.068572996</td>\n",
       "    </tr>\n",
       "    <tr>\n",
       "      <th>...</th>\n",
       "      <td>...</td>\n",
       "      <td>...</td>\n",
       "      <td>...</td>\n",
       "      <td>...</td>\n",
       "      <td>...</td>\n",
       "      <td>...</td>\n",
       "      <td>...</td>\n",
       "      <td>...</td>\n",
       "      <td>...</td>\n",
       "    </tr>\n",
       "    <tr>\n",
       "      <th>345781</th>\n",
       "      <td>2021/11/30</td>\n",
       "      <td>688029.XSHG</td>\n",
       "      <td>0.1139</td>\n",
       "      <td>3.7979</td>\n",
       "      <td>110.9337</td>\n",
       "      <td>23.1222</td>\n",
       "      <td>171.9601</td>\n",
       "      <td>1.0060</td>\n",
       "      <td>0.009014</td>\n",
       "    </tr>\n",
       "    <tr>\n",
       "      <th>345782</th>\n",
       "      <td>2021/11/30</td>\n",
       "      <td>688088.XSHG</td>\n",
       "      <td>0.0613</td>\n",
       "      <td>7.4023</td>\n",
       "      <td>120.9688</td>\n",
       "      <td>23.2944</td>\n",
       "      <td>237.6361</td>\n",
       "      <td>1.2744</td>\n",
       "      <td>0.008267</td>\n",
       "    </tr>\n",
       "    <tr>\n",
       "      <th>345783</th>\n",
       "      <td>2021/11/30</td>\n",
       "      <td>688099.XSHG</td>\n",
       "      <td>0.2108</td>\n",
       "      <td>3.2560</td>\n",
       "      <td>79.0363</td>\n",
       "      <td>23.9739</td>\n",
       "      <td>321.6632</td>\n",
       "      <td>1.1177</td>\n",
       "      <td>0.012652</td>\n",
       "    </tr>\n",
       "    <tr>\n",
       "      <th>345784</th>\n",
       "      <td>2021/11/30</td>\n",
       "      <td>688208.XSHG</td>\n",
       "      <td>0.1830</td>\n",
       "      <td>1.4225</td>\n",
       "      <td>74.1014</td>\n",
       "      <td>23.7365</td>\n",
       "      <td>172.6206</td>\n",
       "      <td>1.1183</td>\n",
       "      <td>0.013495</td>\n",
       "    </tr>\n",
       "    <tr>\n",
       "      <th>345785</th>\n",
       "      <td>2021/11/30</td>\n",
       "      <td>688321.XSHG</td>\n",
       "      <td>-0.0211</td>\n",
       "      <td>2.1027</td>\n",
       "      <td>-466.0829</td>\n",
       "      <td>22.9379</td>\n",
       "      <td>72.6784</td>\n",
       "      <td>0.9833</td>\n",
       "      <td>-0.002146</td>\n",
       "    </tr>\n",
       "  </tbody>\n",
       "</table>\n",
       "<p>345786 rows × 9 columns</p>\n",
       "</div>"
      ],
      "text/plain": [
       "         tradeDate        secID     ROE  QuickRatio        PE     LFLO  \\\n",
       "0         2019/1/2  000009.XSHE  0.0104      0.8513  180.0405  22.9332   \n",
       "1         2019/1/2  000012.XSHE  0.0681      0.7034   19.5304  22.6784   \n",
       "2         2019/1/2  000021.XSHE  0.0877      0.8723   16.2858  22.8450   \n",
       "3         2019/1/2  000027.XSHE  0.0257      0.7900   37.1553  23.7396   \n",
       "4         2019/1/2  000028.XSHE  0.1240      1.3436   14.5830  23.2399   \n",
       "...            ...          ...     ...         ...       ...      ...   \n",
       "345781  2021/11/30  688029.XSHG  0.1139      3.7979  110.9337  23.1222   \n",
       "345782  2021/11/30  688088.XSHG  0.0613      7.4023  120.9688  23.2944   \n",
       "345783  2021/11/30  688099.XSHG  0.2108      3.2560   79.0363  23.9739   \n",
       "345784  2021/11/30  688208.XSHG  0.1830      1.4225   74.1014  23.7365   \n",
       "345785  2021/11/30  688321.XSHG -0.0211      2.1027 -466.0829  22.9379   \n",
       "\n",
       "          TVMA20  REVS20           EP  \n",
       "0        60.4605  0.8758  0.005554306  \n",
       "1        20.2816  0.9149  0.051202228  \n",
       "2        43.3856  0.9030  0.061403186  \n",
       "3        20.7372  0.9555  0.026914061  \n",
       "4        39.4524  0.8733  0.068572996  \n",
       "...          ...     ...          ...  \n",
       "345781  171.9601  1.0060     0.009014  \n",
       "345782  237.6361  1.2744     0.008267  \n",
       "345783  321.6632  1.1177     0.012652  \n",
       "345784  172.6206  1.1183     0.013495  \n",
       "345785   72.6784  0.9833    -0.002146  \n",
       "\n",
       "[345786 rows x 9 columns]"
      ]
     },
     "execution_count": 4,
     "metadata": {},
     "output_type": "execute_result"
    }
   ],
   "source": [
    "df1"
   ]
  },
  {
   "cell_type": "code",
   "execution_count": 5,
   "id": "43d4447d",
   "metadata": {
    "ExecuteTime": {
     "end_time": "2021-12-08T16:24:17.952555Z",
     "start_time": "2021-12-08T16:24:17.945569Z"
    }
   },
   "outputs": [
    {
     "data": {
      "text/plain": [
       "'EP'"
      ]
     },
     "execution_count": 5,
     "metadata": {},
     "output_type": "execute_result"
    }
   ],
   "source": [
    "df1.columns[8]"
   ]
  },
  {
   "cell_type": "markdown",
   "id": "44e89dc7",
   "metadata": {},
   "source": [
    "## 找一下"
   ]
  },
  {
   "cell_type": "code",
   "execution_count": 6,
   "id": "5a28dd1c",
   "metadata": {
    "ExecuteTime": {
     "end_time": "2021-12-08T16:24:18.024980Z",
     "start_time": "2021-12-08T16:24:17.954138Z"
    },
    "scrolled": true
   },
   "outputs": [
    {
     "name": "stdout",
     "output_type": "stream",
     "text": [
      "#DIV/0!\n"
     ]
    }
   ],
   "source": [
    "for i in df1['EP']:\n",
    "    try:\n",
    "        float(i)\n",
    "    except:\n",
    "        print(i)"
   ]
  },
  {
   "cell_type": "code",
   "execution_count": 7,
   "id": "f1a590a6",
   "metadata": {
    "ExecuteTime": {
     "end_time": "2021-12-08T16:24:18.052757Z",
     "start_time": "2021-12-08T16:24:18.026676Z"
    }
   },
   "outputs": [
    {
     "data": {
      "text/plain": [
       "32325"
      ]
     },
     "execution_count": 7,
     "metadata": {},
     "output_type": "execute_result"
    }
   ],
   "source": [
    "list(df1['EP']).index('#DIV/0!')"
   ]
  },
  {
   "cell_type": "code",
   "execution_count": 8,
   "id": "d8f0e5eb",
   "metadata": {
    "ExecuteTime": {
     "end_time": "2021-12-08T16:24:18.060664Z",
     "start_time": "2021-12-08T16:24:18.054011Z"
    }
   },
   "outputs": [
    {
     "data": {
      "text/plain": [
       "tradeDate       2019/4/16\n",
       "secID         603317.XSHG\n",
       "ROE                   NaN\n",
       "QuickRatio            NaN\n",
       "PE                    NaN\n",
       "LFLO              20.5011\n",
       "TVMA20                NaN\n",
       "REVS20                NaN\n",
       "EP                #DIV/0!\n",
       "Name: 32325, dtype: object"
      ]
     },
     "execution_count": 8,
     "metadata": {},
     "output_type": "execute_result"
    }
   ],
   "source": [
    "df1.iloc[32325,:]"
   ]
  },
  {
   "cell_type": "markdown",
   "id": "8b530699",
   "metadata": {},
   "source": [
    "## 删掉这一行"
   ]
  },
  {
   "cell_type": "code",
   "execution_count": 9,
   "id": "f57da592",
   "metadata": {
    "ExecuteTime": {
     "end_time": "2021-12-08T16:24:18.092063Z",
     "start_time": "2021-12-08T16:24:18.061708Z"
    }
   },
   "outputs": [],
   "source": [
    "df1.drop(index=32325,axis=0,inplace=True)"
   ]
  },
  {
   "cell_type": "code",
   "execution_count": 10,
   "id": "d63cec54",
   "metadata": {
    "ExecuteTime": {
     "end_time": "2021-12-08T16:24:18.101251Z",
     "start_time": "2021-12-08T16:24:18.094754Z"
    }
   },
   "outputs": [],
   "source": [
    "df1.reset_index(inplace=True)"
   ]
  },
  {
   "cell_type": "code",
   "execution_count": 11,
   "id": "3aa3d9aa",
   "metadata": {
    "ExecuteTime": {
     "end_time": "2021-12-08T16:24:18.124367Z",
     "start_time": "2021-12-08T16:24:18.102822Z"
    }
   },
   "outputs": [],
   "source": [
    "df1.drop(columns='index',axis=1,inplace=True)"
   ]
  },
  {
   "cell_type": "code",
   "execution_count": 12,
   "id": "62081a3b",
   "metadata": {
    "ExecuteTime": {
     "end_time": "2021-12-08T16:24:18.144873Z",
     "start_time": "2021-12-08T16:24:18.127309Z"
    }
   },
   "outputs": [
    {
     "data": {
      "text/html": [
       "<div>\n",
       "<style scoped>\n",
       "    .dataframe tbody tr th:only-of-type {\n",
       "        vertical-align: middle;\n",
       "    }\n",
       "\n",
       "    .dataframe tbody tr th {\n",
       "        vertical-align: top;\n",
       "    }\n",
       "\n",
       "    .dataframe thead th {\n",
       "        text-align: right;\n",
       "    }\n",
       "</style>\n",
       "<table border=\"1\" class=\"dataframe\">\n",
       "  <thead>\n",
       "    <tr style=\"text-align: right;\">\n",
       "      <th></th>\n",
       "      <th>tradeDate</th>\n",
       "      <th>secID</th>\n",
       "      <th>ROE</th>\n",
       "      <th>QuickRatio</th>\n",
       "      <th>PE</th>\n",
       "      <th>LFLO</th>\n",
       "      <th>TVMA20</th>\n",
       "      <th>REVS20</th>\n",
       "      <th>EP</th>\n",
       "    </tr>\n",
       "  </thead>\n",
       "  <tbody>\n",
       "    <tr>\n",
       "      <th>0</th>\n",
       "      <td>2019/1/2</td>\n",
       "      <td>000009.XSHE</td>\n",
       "      <td>0.0104</td>\n",
       "      <td>0.8513</td>\n",
       "      <td>180.0405</td>\n",
       "      <td>22.9332</td>\n",
       "      <td>60.4605</td>\n",
       "      <td>0.8758</td>\n",
       "      <td>0.005554306</td>\n",
       "    </tr>\n",
       "    <tr>\n",
       "      <th>1</th>\n",
       "      <td>2019/1/2</td>\n",
       "      <td>000012.XSHE</td>\n",
       "      <td>0.0681</td>\n",
       "      <td>0.7034</td>\n",
       "      <td>19.5304</td>\n",
       "      <td>22.6784</td>\n",
       "      <td>20.2816</td>\n",
       "      <td>0.9149</td>\n",
       "      <td>0.051202228</td>\n",
       "    </tr>\n",
       "    <tr>\n",
       "      <th>2</th>\n",
       "      <td>2019/1/2</td>\n",
       "      <td>000021.XSHE</td>\n",
       "      <td>0.0877</td>\n",
       "      <td>0.8723</td>\n",
       "      <td>16.2858</td>\n",
       "      <td>22.8450</td>\n",
       "      <td>43.3856</td>\n",
       "      <td>0.9030</td>\n",
       "      <td>0.061403186</td>\n",
       "    </tr>\n",
       "    <tr>\n",
       "      <th>3</th>\n",
       "      <td>2019/1/2</td>\n",
       "      <td>000027.XSHE</td>\n",
       "      <td>0.0257</td>\n",
       "      <td>0.7900</td>\n",
       "      <td>37.1553</td>\n",
       "      <td>23.7396</td>\n",
       "      <td>20.7372</td>\n",
       "      <td>0.9555</td>\n",
       "      <td>0.026914061</td>\n",
       "    </tr>\n",
       "    <tr>\n",
       "      <th>4</th>\n",
       "      <td>2019/1/2</td>\n",
       "      <td>000028.XSHE</td>\n",
       "      <td>0.1240</td>\n",
       "      <td>1.3436</td>\n",
       "      <td>14.5830</td>\n",
       "      <td>23.2399</td>\n",
       "      <td>39.4524</td>\n",
       "      <td>0.8733</td>\n",
       "      <td>0.068572996</td>\n",
       "    </tr>\n",
       "    <tr>\n",
       "      <th>...</th>\n",
       "      <td>...</td>\n",
       "      <td>...</td>\n",
       "      <td>...</td>\n",
       "      <td>...</td>\n",
       "      <td>...</td>\n",
       "      <td>...</td>\n",
       "      <td>...</td>\n",
       "      <td>...</td>\n",
       "      <td>...</td>\n",
       "    </tr>\n",
       "    <tr>\n",
       "      <th>345780</th>\n",
       "      <td>2021/11/30</td>\n",
       "      <td>688029.XSHG</td>\n",
       "      <td>0.1139</td>\n",
       "      <td>3.7979</td>\n",
       "      <td>110.9337</td>\n",
       "      <td>23.1222</td>\n",
       "      <td>171.9601</td>\n",
       "      <td>1.0060</td>\n",
       "      <td>0.009014</td>\n",
       "    </tr>\n",
       "    <tr>\n",
       "      <th>345781</th>\n",
       "      <td>2021/11/30</td>\n",
       "      <td>688088.XSHG</td>\n",
       "      <td>0.0613</td>\n",
       "      <td>7.4023</td>\n",
       "      <td>120.9688</td>\n",
       "      <td>23.2944</td>\n",
       "      <td>237.6361</td>\n",
       "      <td>1.2744</td>\n",
       "      <td>0.008267</td>\n",
       "    </tr>\n",
       "    <tr>\n",
       "      <th>345782</th>\n",
       "      <td>2021/11/30</td>\n",
       "      <td>688099.XSHG</td>\n",
       "      <td>0.2108</td>\n",
       "      <td>3.2560</td>\n",
       "      <td>79.0363</td>\n",
       "      <td>23.9739</td>\n",
       "      <td>321.6632</td>\n",
       "      <td>1.1177</td>\n",
       "      <td>0.012652</td>\n",
       "    </tr>\n",
       "    <tr>\n",
       "      <th>345783</th>\n",
       "      <td>2021/11/30</td>\n",
       "      <td>688208.XSHG</td>\n",
       "      <td>0.1830</td>\n",
       "      <td>1.4225</td>\n",
       "      <td>74.1014</td>\n",
       "      <td>23.7365</td>\n",
       "      <td>172.6206</td>\n",
       "      <td>1.1183</td>\n",
       "      <td>0.013495</td>\n",
       "    </tr>\n",
       "    <tr>\n",
       "      <th>345784</th>\n",
       "      <td>2021/11/30</td>\n",
       "      <td>688321.XSHG</td>\n",
       "      <td>-0.0211</td>\n",
       "      <td>2.1027</td>\n",
       "      <td>-466.0829</td>\n",
       "      <td>22.9379</td>\n",
       "      <td>72.6784</td>\n",
       "      <td>0.9833</td>\n",
       "      <td>-0.002146</td>\n",
       "    </tr>\n",
       "  </tbody>\n",
       "</table>\n",
       "<p>345785 rows × 9 columns</p>\n",
       "</div>"
      ],
      "text/plain": [
       "         tradeDate        secID     ROE  QuickRatio        PE     LFLO  \\\n",
       "0         2019/1/2  000009.XSHE  0.0104      0.8513  180.0405  22.9332   \n",
       "1         2019/1/2  000012.XSHE  0.0681      0.7034   19.5304  22.6784   \n",
       "2         2019/1/2  000021.XSHE  0.0877      0.8723   16.2858  22.8450   \n",
       "3         2019/1/2  000027.XSHE  0.0257      0.7900   37.1553  23.7396   \n",
       "4         2019/1/2  000028.XSHE  0.1240      1.3436   14.5830  23.2399   \n",
       "...            ...          ...     ...         ...       ...      ...   \n",
       "345780  2021/11/30  688029.XSHG  0.1139      3.7979  110.9337  23.1222   \n",
       "345781  2021/11/30  688088.XSHG  0.0613      7.4023  120.9688  23.2944   \n",
       "345782  2021/11/30  688099.XSHG  0.2108      3.2560   79.0363  23.9739   \n",
       "345783  2021/11/30  688208.XSHG  0.1830      1.4225   74.1014  23.7365   \n",
       "345784  2021/11/30  688321.XSHG -0.0211      2.1027 -466.0829  22.9379   \n",
       "\n",
       "          TVMA20  REVS20           EP  \n",
       "0        60.4605  0.8758  0.005554306  \n",
       "1        20.2816  0.9149  0.051202228  \n",
       "2        43.3856  0.9030  0.061403186  \n",
       "3        20.7372  0.9555  0.026914061  \n",
       "4        39.4524  0.8733  0.068572996  \n",
       "...          ...     ...          ...  \n",
       "345780  171.9601  1.0060     0.009014  \n",
       "345781  237.6361  1.2744     0.008267  \n",
       "345782  321.6632  1.1177     0.012652  \n",
       "345783  172.6206  1.1183     0.013495  \n",
       "345784   72.6784  0.9833    -0.002146  \n",
       "\n",
       "[345785 rows x 9 columns]"
      ]
     },
     "execution_count": 12,
     "metadata": {},
     "output_type": "execute_result"
    }
   ],
   "source": [
    "df1"
   ]
  },
  {
   "cell_type": "code",
   "execution_count": 13,
   "id": "057bdeec",
   "metadata": {
    "ExecuteTime": {
     "end_time": "2021-12-08T16:24:18.254887Z",
     "start_time": "2021-12-08T16:24:18.147516Z"
    }
   },
   "outputs": [],
   "source": [
    "df2 = pd.read_csv('data2.csv')"
   ]
  },
  {
   "cell_type": "code",
   "execution_count": 14,
   "id": "4d4cb573",
   "metadata": {
    "ExecuteTime": {
     "end_time": "2021-12-08T16:24:18.266922Z",
     "start_time": "2021-12-08T16:24:18.256211Z"
    }
   },
   "outputs": [
    {
     "data": {
      "text/html": [
       "<div>\n",
       "<style scoped>\n",
       "    .dataframe tbody tr th:only-of-type {\n",
       "        vertical-align: middle;\n",
       "    }\n",
       "\n",
       "    .dataframe tbody tr th {\n",
       "        vertical-align: top;\n",
       "    }\n",
       "\n",
       "    .dataframe thead th {\n",
       "        text-align: right;\n",
       "    }\n",
       "</style>\n",
       "<table border=\"1\" class=\"dataframe\">\n",
       "  <thead>\n",
       "    <tr style=\"text-align: right;\">\n",
       "      <th></th>\n",
       "      <th>tradeDate</th>\n",
       "      <th>secID</th>\n",
       "      <th>dailyReturnNoReinv</th>\n",
       "    </tr>\n",
       "  </thead>\n",
       "  <tbody>\n",
       "    <tr>\n",
       "      <th>0</th>\n",
       "      <td>2019/1/2</td>\n",
       "      <td>000009.XSHE</td>\n",
       "      <td>-0.002321</td>\n",
       "    </tr>\n",
       "    <tr>\n",
       "      <th>1</th>\n",
       "      <td>2019/1/3</td>\n",
       "      <td>000009.XSHE</td>\n",
       "      <td>-0.013954</td>\n",
       "    </tr>\n",
       "    <tr>\n",
       "      <th>2</th>\n",
       "      <td>2019/1/4</td>\n",
       "      <td>000009.XSHE</td>\n",
       "      <td>0.030660</td>\n",
       "    </tr>\n",
       "    <tr>\n",
       "      <th>3</th>\n",
       "      <td>2019/1/7</td>\n",
       "      <td>000009.XSHE</td>\n",
       "      <td>0.018306</td>\n",
       "    </tr>\n",
       "    <tr>\n",
       "      <th>4</th>\n",
       "      <td>2019/1/8</td>\n",
       "      <td>000009.XSHE</td>\n",
       "      <td>0.015730</td>\n",
       "    </tr>\n",
       "    <tr>\n",
       "      <th>...</th>\n",
       "      <td>...</td>\n",
       "      <td>...</td>\n",
       "      <td>...</td>\n",
       "    </tr>\n",
       "    <tr>\n",
       "      <th>346013</th>\n",
       "      <td>2021/11/24</td>\n",
       "      <td>688321.XSHG</td>\n",
       "      <td>0.006318</td>\n",
       "    </tr>\n",
       "    <tr>\n",
       "      <th>346014</th>\n",
       "      <td>2021/11/25</td>\n",
       "      <td>688321.XSHG</td>\n",
       "      <td>0.015015</td>\n",
       "    </tr>\n",
       "    <tr>\n",
       "      <th>346015</th>\n",
       "      <td>2021/11/26</td>\n",
       "      <td>688321.XSHG</td>\n",
       "      <td>-0.016138</td>\n",
       "    </tr>\n",
       "    <tr>\n",
       "      <th>346016</th>\n",
       "      <td>2021/11/29</td>\n",
       "      <td>688321.XSHG</td>\n",
       "      <td>-0.017496</td>\n",
       "    </tr>\n",
       "    <tr>\n",
       "      <th>346017</th>\n",
       "      <td>2021/11/30</td>\n",
       "      <td>688321.XSHG</td>\n",
       "      <td>-0.001113</td>\n",
       "    </tr>\n",
       "  </tbody>\n",
       "</table>\n",
       "<p>346018 rows × 3 columns</p>\n",
       "</div>"
      ],
      "text/plain": [
       "         tradeDate        secID  dailyReturnNoReinv\n",
       "0         2019/1/2  000009.XSHE           -0.002321\n",
       "1         2019/1/3  000009.XSHE           -0.013954\n",
       "2         2019/1/4  000009.XSHE            0.030660\n",
       "3         2019/1/7  000009.XSHE            0.018306\n",
       "4         2019/1/8  000009.XSHE            0.015730\n",
       "...            ...          ...                 ...\n",
       "346013  2021/11/24  688321.XSHG            0.006318\n",
       "346014  2021/11/25  688321.XSHG            0.015015\n",
       "346015  2021/11/26  688321.XSHG           -0.016138\n",
       "346016  2021/11/29  688321.XSHG           -0.017496\n",
       "346017  2021/11/30  688321.XSHG           -0.001113\n",
       "\n",
       "[346018 rows x 3 columns]"
      ]
     },
     "execution_count": 14,
     "metadata": {},
     "output_type": "execute_result"
    }
   ],
   "source": [
    "df2"
   ]
  },
  {
   "cell_type": "markdown",
   "id": "bd15b8cc",
   "metadata": {},
   "source": [
    "# merge"
   ]
  },
  {
   "cell_type": "code",
   "execution_count": 15,
   "id": "e967c0e3",
   "metadata": {
    "ExecuteTime": {
     "end_time": "2021-12-08T16:24:18.313704Z",
     "start_time": "2021-12-08T16:24:18.268076Z"
    }
   },
   "outputs": [
    {
     "data": {
      "text/plain": [
       "(500, 500)"
      ]
     },
     "execution_count": 15,
     "metadata": {},
     "output_type": "execute_result"
    }
   ],
   "source": [
    "# 一共500只股票\n",
    "len(set(df1['secID'])),len(set(df2['secID']))"
   ]
  },
  {
   "cell_type": "code",
   "execution_count": 16,
   "id": "6af96f18",
   "metadata": {
    "ExecuteTime": {
     "end_time": "2021-12-08T16:24:18.355449Z",
     "start_time": "2021-12-08T16:24:18.315096Z"
    }
   },
   "outputs": [
    {
     "data": {
      "text/plain": [
       "True"
      ]
     },
     "execution_count": 16,
     "metadata": {},
     "output_type": "execute_result"
    }
   ],
   "source": [
    "# 股票也是一样的\n",
    "set(df1['secID'])==set(df2['secID'])"
   ]
  },
  {
   "cell_type": "code",
   "execution_count": 17,
   "id": "d45da50d",
   "metadata": {
    "ExecuteTime": {
     "end_time": "2021-12-08T16:24:18.408982Z",
     "start_time": "2021-12-08T16:24:18.356755Z"
    }
   },
   "outputs": [
    {
     "data": {
      "text/plain": [
       "(707, 707)"
      ]
     },
     "execution_count": 17,
     "metadata": {},
     "output_type": "execute_result"
    }
   ],
   "source": [
    "# 一共707个交易日\n",
    "len(set(df1['tradeDate'])),len(set(df2['tradeDate']))"
   ]
  },
  {
   "cell_type": "code",
   "execution_count": 18,
   "id": "423cbf2c",
   "metadata": {
    "ExecuteTime": {
     "end_time": "2021-12-08T16:24:18.452221Z",
     "start_time": "2021-12-08T16:24:18.410291Z"
    }
   },
   "outputs": [
    {
     "data": {
      "text/plain": [
       "True"
      ]
     },
     "execution_count": 18,
     "metadata": {},
     "output_type": "execute_result"
    }
   ],
   "source": [
    "# 交易日也是一样的\n",
    "set(df1['tradeDate'])==set(df2['tradeDate'])"
   ]
  },
  {
   "cell_type": "markdown",
   "id": "e8f7cd71",
   "metadata": {},
   "source": [
    "## 直接按照日期、股票索引就可以实现merge"
   ]
  },
  {
   "cell_type": "code",
   "execution_count": 19,
   "id": "de9cb784",
   "metadata": {
    "ExecuteTime": {
     "end_time": "2021-12-08T16:24:18.457944Z",
     "start_time": "2021-12-08T16:24:18.454686Z"
    }
   },
   "outputs": [],
   "source": [
    "# 初始化一行\n",
    "df2['ancillary']=1"
   ]
  },
  {
   "cell_type": "code",
   "execution_count": 20,
   "id": "3581523a",
   "metadata": {
    "ExecuteTime": {
     "end_time": "2021-12-08T16:24:18.467503Z",
     "start_time": "2021-12-08T16:24:18.458926Z"
    }
   },
   "outputs": [
    {
     "data": {
      "text/html": [
       "<div>\n",
       "<style scoped>\n",
       "    .dataframe tbody tr th:only-of-type {\n",
       "        vertical-align: middle;\n",
       "    }\n",
       "\n",
       "    .dataframe tbody tr th {\n",
       "        vertical-align: top;\n",
       "    }\n",
       "\n",
       "    .dataframe thead th {\n",
       "        text-align: right;\n",
       "    }\n",
       "</style>\n",
       "<table border=\"1\" class=\"dataframe\">\n",
       "  <thead>\n",
       "    <tr style=\"text-align: right;\">\n",
       "      <th></th>\n",
       "      <th>tradeDate</th>\n",
       "      <th>secID</th>\n",
       "      <th>dailyReturnNoReinv</th>\n",
       "      <th>ancillary</th>\n",
       "    </tr>\n",
       "  </thead>\n",
       "  <tbody>\n",
       "    <tr>\n",
       "      <th>0</th>\n",
       "      <td>2019/1/2</td>\n",
       "      <td>000009.XSHE</td>\n",
       "      <td>-0.002321</td>\n",
       "      <td>1</td>\n",
       "    </tr>\n",
       "    <tr>\n",
       "      <th>1</th>\n",
       "      <td>2019/1/3</td>\n",
       "      <td>000009.XSHE</td>\n",
       "      <td>-0.013954</td>\n",
       "      <td>1</td>\n",
       "    </tr>\n",
       "    <tr>\n",
       "      <th>2</th>\n",
       "      <td>2019/1/4</td>\n",
       "      <td>000009.XSHE</td>\n",
       "      <td>0.030660</td>\n",
       "      <td>1</td>\n",
       "    </tr>\n",
       "    <tr>\n",
       "      <th>3</th>\n",
       "      <td>2019/1/7</td>\n",
       "      <td>000009.XSHE</td>\n",
       "      <td>0.018306</td>\n",
       "      <td>1</td>\n",
       "    </tr>\n",
       "    <tr>\n",
       "      <th>4</th>\n",
       "      <td>2019/1/8</td>\n",
       "      <td>000009.XSHE</td>\n",
       "      <td>0.015730</td>\n",
       "      <td>1</td>\n",
       "    </tr>\n",
       "    <tr>\n",
       "      <th>...</th>\n",
       "      <td>...</td>\n",
       "      <td>...</td>\n",
       "      <td>...</td>\n",
       "      <td>...</td>\n",
       "    </tr>\n",
       "    <tr>\n",
       "      <th>346013</th>\n",
       "      <td>2021/11/24</td>\n",
       "      <td>688321.XSHG</td>\n",
       "      <td>0.006318</td>\n",
       "      <td>1</td>\n",
       "    </tr>\n",
       "    <tr>\n",
       "      <th>346014</th>\n",
       "      <td>2021/11/25</td>\n",
       "      <td>688321.XSHG</td>\n",
       "      <td>0.015015</td>\n",
       "      <td>1</td>\n",
       "    </tr>\n",
       "    <tr>\n",
       "      <th>346015</th>\n",
       "      <td>2021/11/26</td>\n",
       "      <td>688321.XSHG</td>\n",
       "      <td>-0.016138</td>\n",
       "      <td>1</td>\n",
       "    </tr>\n",
       "    <tr>\n",
       "      <th>346016</th>\n",
       "      <td>2021/11/29</td>\n",
       "      <td>688321.XSHG</td>\n",
       "      <td>-0.017496</td>\n",
       "      <td>1</td>\n",
       "    </tr>\n",
       "    <tr>\n",
       "      <th>346017</th>\n",
       "      <td>2021/11/30</td>\n",
       "      <td>688321.XSHG</td>\n",
       "      <td>-0.001113</td>\n",
       "      <td>1</td>\n",
       "    </tr>\n",
       "  </tbody>\n",
       "</table>\n",
       "<p>346018 rows × 4 columns</p>\n",
       "</div>"
      ],
      "text/plain": [
       "         tradeDate        secID  dailyReturnNoReinv  ancillary\n",
       "0         2019/1/2  000009.XSHE           -0.002321          1\n",
       "1         2019/1/3  000009.XSHE           -0.013954          1\n",
       "2         2019/1/4  000009.XSHE            0.030660          1\n",
       "3         2019/1/7  000009.XSHE            0.018306          1\n",
       "4         2019/1/8  000009.XSHE            0.015730          1\n",
       "...            ...          ...                 ...        ...\n",
       "346013  2021/11/24  688321.XSHG            0.006318          1\n",
       "346014  2021/11/25  688321.XSHG            0.015015          1\n",
       "346015  2021/11/26  688321.XSHG           -0.016138          1\n",
       "346016  2021/11/29  688321.XSHG           -0.017496          1\n",
       "346017  2021/11/30  688321.XSHG           -0.001113          1\n",
       "\n",
       "[346018 rows x 4 columns]"
      ]
     },
     "execution_count": 20,
     "metadata": {},
     "output_type": "execute_result"
    }
   ],
   "source": [
    "df2"
   ]
  },
  {
   "cell_type": "code",
   "execution_count": 21,
   "id": "5d1987ef",
   "metadata": {
    "ExecuteTime": {
     "end_time": "2021-12-08T16:24:18.608940Z",
     "start_time": "2021-12-08T16:24:18.468788Z"
    }
   },
   "outputs": [
    {
     "data": {
      "text/html": [
       "<div>\n",
       "<style scoped>\n",
       "    .dataframe tbody tr th:only-of-type {\n",
       "        vertical-align: middle;\n",
       "    }\n",
       "\n",
       "    .dataframe tbody tr th {\n",
       "        vertical-align: top;\n",
       "    }\n",
       "\n",
       "    .dataframe thead th {\n",
       "        text-align: right;\n",
       "    }\n",
       "</style>\n",
       "<table border=\"1\" class=\"dataframe\">\n",
       "  <thead>\n",
       "    <tr style=\"text-align: right;\">\n",
       "      <th></th>\n",
       "      <th>ancillary</th>\n",
       "      <th>1</th>\n",
       "    </tr>\n",
       "    <tr>\n",
       "      <th>secID</th>\n",
       "      <th>tradeDate</th>\n",
       "      <th></th>\n",
       "    </tr>\n",
       "  </thead>\n",
       "  <tbody>\n",
       "    <tr>\n",
       "      <th rowspan=\"5\" valign=\"top\">000009.XSHE</th>\n",
       "      <th>2019/1/10</th>\n",
       "      <td>-0.006697</td>\n",
       "    </tr>\n",
       "    <tr>\n",
       "      <th>2019/1/11</th>\n",
       "      <td>0.004494</td>\n",
       "    </tr>\n",
       "    <tr>\n",
       "      <th>2019/1/14</th>\n",
       "      <td>0.002237</td>\n",
       "    </tr>\n",
       "    <tr>\n",
       "      <th>2019/1/15</th>\n",
       "      <td>0.008928</td>\n",
       "    </tr>\n",
       "    <tr>\n",
       "      <th>2019/1/16</th>\n",
       "      <td>-0.013275</td>\n",
       "    </tr>\n",
       "    <tr>\n",
       "      <th>...</th>\n",
       "      <th>...</th>\n",
       "      <td>...</td>\n",
       "    </tr>\n",
       "    <tr>\n",
       "      <th rowspan=\"5\" valign=\"top\">688321.XSHG</th>\n",
       "      <th>2021/9/30</th>\n",
       "      <td>-0.012353</td>\n",
       "    </tr>\n",
       "    <tr>\n",
       "      <th>2021/9/6</th>\n",
       "      <td>0.031533</td>\n",
       "    </tr>\n",
       "    <tr>\n",
       "      <th>2021/9/7</th>\n",
       "      <td>-0.002850</td>\n",
       "    </tr>\n",
       "    <tr>\n",
       "      <th>2021/9/8</th>\n",
       "      <td>-0.007015</td>\n",
       "    </tr>\n",
       "    <tr>\n",
       "      <th>2021/9/9</th>\n",
       "      <td>-0.007065</td>\n",
       "    </tr>\n",
       "  </tbody>\n",
       "</table>\n",
       "<p>346018 rows × 1 columns</p>\n",
       "</div>"
      ],
      "text/plain": [
       "ancillary                     1\n",
       "secID       tradeDate          \n",
       "000009.XSHE 2019/1/10 -0.006697\n",
       "            2019/1/11  0.004494\n",
       "            2019/1/14  0.002237\n",
       "            2019/1/15  0.008928\n",
       "            2019/1/16 -0.013275\n",
       "...                         ...\n",
       "688321.XSHG 2021/9/30 -0.012353\n",
       "            2021/9/6   0.031533\n",
       "            2021/9/7  -0.002850\n",
       "            2021/9/8  -0.007015\n",
       "            2021/9/9  -0.007065\n",
       "\n",
       "[346018 rows x 1 columns]"
      ]
     },
     "execution_count": 21,
     "metadata": {},
     "output_type": "execute_result"
    }
   ],
   "source": [
    "df = df2.pivot(values='dailyReturnNoReinv',index=['secID','tradeDate'],columns=['ancillary'])\n",
    "df"
   ]
  },
  {
   "cell_type": "code",
   "execution_count": 22,
   "id": "07e3c49f",
   "metadata": {
    "ExecuteTime": {
     "end_time": "2021-12-08T16:24:19.026985Z",
     "start_time": "2021-12-08T16:24:18.610897Z"
    }
   },
   "outputs": [],
   "source": [
    "d = dict(zip(df.index,df.values))"
   ]
  },
  {
   "cell_type": "code",
   "execution_count": 23,
   "id": "424174d9",
   "metadata": {
    "ExecuteTime": {
     "end_time": "2021-12-08T16:24:19.035810Z",
     "start_time": "2021-12-08T16:24:19.030243Z"
    }
   },
   "outputs": [
    {
     "data": {
      "text/plain": [
       "array([-0.006697])"
      ]
     },
     "execution_count": 23,
     "metadata": {},
     "output_type": "execute_result"
    }
   ],
   "source": [
    "# d的功能就是索引全部的daily收益率\n",
    "d[('000009.XSHE','2019/1/10')]"
   ]
  },
  {
   "cell_type": "code",
   "execution_count": 24,
   "id": "4b13c0d7",
   "metadata": {
    "ExecuteTime": {
     "end_time": "2021-12-08T16:24:19.040354Z",
     "start_time": "2021-12-08T16:24:19.037173Z"
    }
   },
   "outputs": [],
   "source": [
    "# 初始化\n",
    "df1['dailyReturnNoReinv']=0"
   ]
  },
  {
   "cell_type": "code",
   "execution_count": 25,
   "id": "55eb2ded",
   "metadata": {
    "ExecuteTime": {
     "end_time": "2021-12-08T16:24:19.057962Z",
     "start_time": "2021-12-08T16:24:19.041300Z"
    }
   },
   "outputs": [
    {
     "data": {
      "text/html": [
       "<div>\n",
       "<style scoped>\n",
       "    .dataframe tbody tr th:only-of-type {\n",
       "        vertical-align: middle;\n",
       "    }\n",
       "\n",
       "    .dataframe tbody tr th {\n",
       "        vertical-align: top;\n",
       "    }\n",
       "\n",
       "    .dataframe thead th {\n",
       "        text-align: right;\n",
       "    }\n",
       "</style>\n",
       "<table border=\"1\" class=\"dataframe\">\n",
       "  <thead>\n",
       "    <tr style=\"text-align: right;\">\n",
       "      <th></th>\n",
       "      <th>tradeDate</th>\n",
       "      <th>secID</th>\n",
       "      <th>ROE</th>\n",
       "      <th>QuickRatio</th>\n",
       "      <th>PE</th>\n",
       "      <th>LFLO</th>\n",
       "      <th>TVMA20</th>\n",
       "      <th>REVS20</th>\n",
       "      <th>EP</th>\n",
       "      <th>dailyReturnNoReinv</th>\n",
       "    </tr>\n",
       "  </thead>\n",
       "  <tbody>\n",
       "    <tr>\n",
       "      <th>0</th>\n",
       "      <td>2019/1/2</td>\n",
       "      <td>000009.XSHE</td>\n",
       "      <td>0.0104</td>\n",
       "      <td>0.8513</td>\n",
       "      <td>180.0405</td>\n",
       "      <td>22.9332</td>\n",
       "      <td>60.4605</td>\n",
       "      <td>0.8758</td>\n",
       "      <td>0.005554306</td>\n",
       "      <td>0</td>\n",
       "    </tr>\n",
       "    <tr>\n",
       "      <th>1</th>\n",
       "      <td>2019/1/2</td>\n",
       "      <td>000012.XSHE</td>\n",
       "      <td>0.0681</td>\n",
       "      <td>0.7034</td>\n",
       "      <td>19.5304</td>\n",
       "      <td>22.6784</td>\n",
       "      <td>20.2816</td>\n",
       "      <td>0.9149</td>\n",
       "      <td>0.051202228</td>\n",
       "      <td>0</td>\n",
       "    </tr>\n",
       "    <tr>\n",
       "      <th>2</th>\n",
       "      <td>2019/1/2</td>\n",
       "      <td>000021.XSHE</td>\n",
       "      <td>0.0877</td>\n",
       "      <td>0.8723</td>\n",
       "      <td>16.2858</td>\n",
       "      <td>22.8450</td>\n",
       "      <td>43.3856</td>\n",
       "      <td>0.9030</td>\n",
       "      <td>0.061403186</td>\n",
       "      <td>0</td>\n",
       "    </tr>\n",
       "    <tr>\n",
       "      <th>3</th>\n",
       "      <td>2019/1/2</td>\n",
       "      <td>000027.XSHE</td>\n",
       "      <td>0.0257</td>\n",
       "      <td>0.7900</td>\n",
       "      <td>37.1553</td>\n",
       "      <td>23.7396</td>\n",
       "      <td>20.7372</td>\n",
       "      <td>0.9555</td>\n",
       "      <td>0.026914061</td>\n",
       "      <td>0</td>\n",
       "    </tr>\n",
       "    <tr>\n",
       "      <th>4</th>\n",
       "      <td>2019/1/2</td>\n",
       "      <td>000028.XSHE</td>\n",
       "      <td>0.1240</td>\n",
       "      <td>1.3436</td>\n",
       "      <td>14.5830</td>\n",
       "      <td>23.2399</td>\n",
       "      <td>39.4524</td>\n",
       "      <td>0.8733</td>\n",
       "      <td>0.068572996</td>\n",
       "      <td>0</td>\n",
       "    </tr>\n",
       "    <tr>\n",
       "      <th>...</th>\n",
       "      <td>...</td>\n",
       "      <td>...</td>\n",
       "      <td>...</td>\n",
       "      <td>...</td>\n",
       "      <td>...</td>\n",
       "      <td>...</td>\n",
       "      <td>...</td>\n",
       "      <td>...</td>\n",
       "      <td>...</td>\n",
       "      <td>...</td>\n",
       "    </tr>\n",
       "    <tr>\n",
       "      <th>345780</th>\n",
       "      <td>2021/11/30</td>\n",
       "      <td>688029.XSHG</td>\n",
       "      <td>0.1139</td>\n",
       "      <td>3.7979</td>\n",
       "      <td>110.9337</td>\n",
       "      <td>23.1222</td>\n",
       "      <td>171.9601</td>\n",
       "      <td>1.0060</td>\n",
       "      <td>0.009014</td>\n",
       "      <td>0</td>\n",
       "    </tr>\n",
       "    <tr>\n",
       "      <th>345781</th>\n",
       "      <td>2021/11/30</td>\n",
       "      <td>688088.XSHG</td>\n",
       "      <td>0.0613</td>\n",
       "      <td>7.4023</td>\n",
       "      <td>120.9688</td>\n",
       "      <td>23.2944</td>\n",
       "      <td>237.6361</td>\n",
       "      <td>1.2744</td>\n",
       "      <td>0.008267</td>\n",
       "      <td>0</td>\n",
       "    </tr>\n",
       "    <tr>\n",
       "      <th>345782</th>\n",
       "      <td>2021/11/30</td>\n",
       "      <td>688099.XSHG</td>\n",
       "      <td>0.2108</td>\n",
       "      <td>3.2560</td>\n",
       "      <td>79.0363</td>\n",
       "      <td>23.9739</td>\n",
       "      <td>321.6632</td>\n",
       "      <td>1.1177</td>\n",
       "      <td>0.012652</td>\n",
       "      <td>0</td>\n",
       "    </tr>\n",
       "    <tr>\n",
       "      <th>345783</th>\n",
       "      <td>2021/11/30</td>\n",
       "      <td>688208.XSHG</td>\n",
       "      <td>0.1830</td>\n",
       "      <td>1.4225</td>\n",
       "      <td>74.1014</td>\n",
       "      <td>23.7365</td>\n",
       "      <td>172.6206</td>\n",
       "      <td>1.1183</td>\n",
       "      <td>0.013495</td>\n",
       "      <td>0</td>\n",
       "    </tr>\n",
       "    <tr>\n",
       "      <th>345784</th>\n",
       "      <td>2021/11/30</td>\n",
       "      <td>688321.XSHG</td>\n",
       "      <td>-0.0211</td>\n",
       "      <td>2.1027</td>\n",
       "      <td>-466.0829</td>\n",
       "      <td>22.9379</td>\n",
       "      <td>72.6784</td>\n",
       "      <td>0.9833</td>\n",
       "      <td>-0.002146</td>\n",
       "      <td>0</td>\n",
       "    </tr>\n",
       "  </tbody>\n",
       "</table>\n",
       "<p>345785 rows × 10 columns</p>\n",
       "</div>"
      ],
      "text/plain": [
       "         tradeDate        secID     ROE  QuickRatio        PE     LFLO  \\\n",
       "0         2019/1/2  000009.XSHE  0.0104      0.8513  180.0405  22.9332   \n",
       "1         2019/1/2  000012.XSHE  0.0681      0.7034   19.5304  22.6784   \n",
       "2         2019/1/2  000021.XSHE  0.0877      0.8723   16.2858  22.8450   \n",
       "3         2019/1/2  000027.XSHE  0.0257      0.7900   37.1553  23.7396   \n",
       "4         2019/1/2  000028.XSHE  0.1240      1.3436   14.5830  23.2399   \n",
       "...            ...          ...     ...         ...       ...      ...   \n",
       "345780  2021/11/30  688029.XSHG  0.1139      3.7979  110.9337  23.1222   \n",
       "345781  2021/11/30  688088.XSHG  0.0613      7.4023  120.9688  23.2944   \n",
       "345782  2021/11/30  688099.XSHG  0.2108      3.2560   79.0363  23.9739   \n",
       "345783  2021/11/30  688208.XSHG  0.1830      1.4225   74.1014  23.7365   \n",
       "345784  2021/11/30  688321.XSHG -0.0211      2.1027 -466.0829  22.9379   \n",
       "\n",
       "          TVMA20  REVS20           EP  dailyReturnNoReinv  \n",
       "0        60.4605  0.8758  0.005554306                   0  \n",
       "1        20.2816  0.9149  0.051202228                   0  \n",
       "2        43.3856  0.9030  0.061403186                   0  \n",
       "3        20.7372  0.9555  0.026914061                   0  \n",
       "4        39.4524  0.8733  0.068572996                   0  \n",
       "...          ...     ...          ...                 ...  \n",
       "345780  171.9601  1.0060     0.009014                   0  \n",
       "345781  237.6361  1.2744     0.008267                   0  \n",
       "345782  321.6632  1.1177     0.012652                   0  \n",
       "345783  172.6206  1.1183     0.013495                   0  \n",
       "345784   72.6784  0.9833    -0.002146                   0  \n",
       "\n",
       "[345785 rows x 10 columns]"
      ]
     },
     "execution_count": 25,
     "metadata": {},
     "output_type": "execute_result"
    }
   ],
   "source": [
    "df1"
   ]
  },
  {
   "cell_type": "code",
   "execution_count": 26,
   "id": "6fa5066a",
   "metadata": {
    "ExecuteTime": {
     "end_time": "2021-12-08T16:30:29.173102Z",
     "start_time": "2021-12-08T16:24:19.060869Z"
    }
   },
   "outputs": [
    {
     "name": "stdout",
     "output_type": "stream",
     "text": [
      "0.000000% complete\n",
      "5.783958% complete\n",
      "11.567915% complete\n",
      "17.351873% complete\n",
      "23.135830% complete\n",
      "28.919788% complete\n",
      "34.703746% complete\n",
      "40.487703% complete\n",
      "46.271661% complete\n",
      "52.055619% complete\n",
      "57.839576% complete\n",
      "63.623534% complete\n",
      "69.407491% complete\n",
      "75.191449% complete\n",
      "80.975407% complete\n",
      "86.759364% complete\n",
      "92.543322% complete\n",
      "98.327279% complete\n"
     ]
    }
   ],
   "source": [
    "for i in df1.index:\n",
    "    if i%20000==0:\n",
    "        print(f'{i/345784:%} complete')\n",
    "    date = df1.loc[i,'tradeDate']\n",
    "    stock = df1.loc[i,'secID']\n",
    "    try:\n",
    "        df1.loc[i,'dailyReturnNoReinv']=d[(stock,date)]\n",
    "    except:\n",
    "        print(i,'no match')"
   ]
  },
  {
   "cell_type": "code",
   "execution_count": 27,
   "id": "27808c1b",
   "metadata": {
    "ExecuteTime": {
     "end_time": "2021-12-08T16:30:32.030755Z",
     "start_time": "2021-12-08T16:30:29.174823Z"
    }
   },
   "outputs": [],
   "source": [
    "df1.to_csv('./merged.csv',index=False)"
   ]
  },
  {
   "cell_type": "markdown",
   "id": "f7f8e398",
   "metadata": {},
   "source": [
    "## 有的地方是0奇怪"
   ]
  },
  {
   "cell_type": "code",
   "execution_count": 31,
   "id": "1b766e01",
   "metadata": {
    "ExecuteTime": {
     "end_time": "2021-12-08T16:34:06.423559Z",
     "start_time": "2021-12-08T16:34:06.409062Z"
    }
   },
   "outputs": [
    {
     "data": {
      "text/html": [
       "<div>\n",
       "<style scoped>\n",
       "    .dataframe tbody tr th:only-of-type {\n",
       "        vertical-align: middle;\n",
       "    }\n",
       "\n",
       "    .dataframe tbody tr th {\n",
       "        vertical-align: top;\n",
       "    }\n",
       "\n",
       "    .dataframe thead th {\n",
       "        text-align: right;\n",
       "    }\n",
       "</style>\n",
       "<table border=\"1\" class=\"dataframe\">\n",
       "  <thead>\n",
       "    <tr style=\"text-align: right;\">\n",
       "      <th></th>\n",
       "      <th>tradeDate</th>\n",
       "      <th>secID</th>\n",
       "      <th>ROE</th>\n",
       "      <th>QuickRatio</th>\n",
       "      <th>PE</th>\n",
       "      <th>LFLO</th>\n",
       "      <th>TVMA20</th>\n",
       "      <th>REVS20</th>\n",
       "      <th>EP</th>\n",
       "      <th>dailyReturnNoReinv</th>\n",
       "    </tr>\n",
       "  </thead>\n",
       "  <tbody>\n",
       "    <tr>\n",
       "      <th>0</th>\n",
       "      <td>2019/1/2</td>\n",
       "      <td>000009.XSHE</td>\n",
       "      <td>0.0104</td>\n",
       "      <td>0.8513</td>\n",
       "      <td>180.0405</td>\n",
       "      <td>22.9332</td>\n",
       "      <td>60.4605</td>\n",
       "      <td>0.8758</td>\n",
       "      <td>0.005554306</td>\n",
       "      <td>-0.002321</td>\n",
       "    </tr>\n",
       "    <tr>\n",
       "      <th>1</th>\n",
       "      <td>2019/1/2</td>\n",
       "      <td>000012.XSHE</td>\n",
       "      <td>0.0681</td>\n",
       "      <td>0.7034</td>\n",
       "      <td>19.5304</td>\n",
       "      <td>22.6784</td>\n",
       "      <td>20.2816</td>\n",
       "      <td>0.9149</td>\n",
       "      <td>0.051202228</td>\n",
       "      <td>-0.002507</td>\n",
       "    </tr>\n",
       "    <tr>\n",
       "      <th>2</th>\n",
       "      <td>2019/1/2</td>\n",
       "      <td>000021.XSHE</td>\n",
       "      <td>0.0877</td>\n",
       "      <td>0.8723</td>\n",
       "      <td>16.2858</td>\n",
       "      <td>22.8450</td>\n",
       "      <td>43.3856</td>\n",
       "      <td>0.9030</td>\n",
       "      <td>0.061403186</td>\n",
       "      <td>-0.012174</td>\n",
       "    </tr>\n",
       "    <tr>\n",
       "      <th>3</th>\n",
       "      <td>2019/1/2</td>\n",
       "      <td>000027.XSHE</td>\n",
       "      <td>0.0257</td>\n",
       "      <td>0.7900</td>\n",
       "      <td>37.1553</td>\n",
       "      <td>23.7396</td>\n",
       "      <td>20.7372</td>\n",
       "      <td>0.9555</td>\n",
       "      <td>0.026914061</td>\n",
       "      <td>-0.019048</td>\n",
       "    </tr>\n",
       "    <tr>\n",
       "      <th>4</th>\n",
       "      <td>2019/1/2</td>\n",
       "      <td>000028.XSHE</td>\n",
       "      <td>0.1240</td>\n",
       "      <td>1.3436</td>\n",
       "      <td>14.5830</td>\n",
       "      <td>23.2399</td>\n",
       "      <td>39.4524</td>\n",
       "      <td>0.8733</td>\n",
       "      <td>0.068572996</td>\n",
       "      <td>-0.028717</td>\n",
       "    </tr>\n",
       "    <tr>\n",
       "      <th>5</th>\n",
       "      <td>2019/1/2</td>\n",
       "      <td>000031.XSHE</td>\n",
       "      <td>0.1982</td>\n",
       "      <td>0.7313</td>\n",
       "      <td>6.6401</td>\n",
       "      <td>22.8997</td>\n",
       "      <td>58.0772</td>\n",
       "      <td>0.9275</td>\n",
       "      <td>0.150600142</td>\n",
       "      <td>-0.004099</td>\n",
       "    </tr>\n",
       "    <tr>\n",
       "      <th>6</th>\n",
       "      <td>2019/1/2</td>\n",
       "      <td>000039.XSHE</td>\n",
       "      <td>0.1110</td>\n",
       "      <td>0.7331</td>\n",
       "      <td>9.0986</td>\n",
       "      <td>23.3327</td>\n",
       "      <td>49.7998</td>\n",
       "      <td>0.9371</td>\n",
       "      <td>0.109907019</td>\n",
       "      <td>0.013232</td>\n",
       "    </tr>\n",
       "    <tr>\n",
       "      <th>7</th>\n",
       "      <td>2019/1/2</td>\n",
       "      <td>000046.XSHE</td>\n",
       "      <td>0.1720</td>\n",
       "      <td>0.5138</td>\n",
       "      <td>6.9602</td>\n",
       "      <td>23.8923</td>\n",
       "      <td>14.2412</td>\n",
       "      <td>0.9050</td>\n",
       "      <td>0.143674032</td>\n",
       "      <td>0.000000</td>\n",
       "    </tr>\n",
       "    <tr>\n",
       "      <th>8</th>\n",
       "      <td>2019/1/2</td>\n",
       "      <td>000050.XSHE</td>\n",
       "      <td>0.0287</td>\n",
       "      <td>0.6413</td>\n",
       "      <td>30.3740</td>\n",
       "      <td>23.3222</td>\n",
       "      <td>87.9873</td>\n",
       "      <td>0.8791</td>\n",
       "      <td>0.032922895</td>\n",
       "      <td>-0.021407</td>\n",
       "    </tr>\n",
       "    <tr>\n",
       "      <th>9</th>\n",
       "      <td>2019/1/2</td>\n",
       "      <td>000060.XSHE</td>\n",
       "      <td>0.0969</td>\n",
       "      <td>0.8535</td>\n",
       "      <td>14.4070</td>\n",
       "      <td>23.3640</td>\n",
       "      <td>59.7943</td>\n",
       "      <td>0.9161</td>\n",
       "      <td>0.069410703</td>\n",
       "      <td>-0.007576</td>\n",
       "    </tr>\n",
       "    <tr>\n",
       "      <th>10</th>\n",
       "      <td>2019/1/2</td>\n",
       "      <td>000061.XSHE</td>\n",
       "      <td>0.0122</td>\n",
       "      <td>0.4560</td>\n",
       "      <td>135.6175</td>\n",
       "      <td>22.7921</td>\n",
       "      <td>47.7981</td>\n",
       "      <td>0.9175</td>\n",
       "      <td>0.00737368</td>\n",
       "      <td>-0.037114</td>\n",
       "    </tr>\n",
       "    <tr>\n",
       "      <th>11</th>\n",
       "      <td>2019/1/2</td>\n",
       "      <td>000062.XSHE</td>\n",
       "      <td>0.1442</td>\n",
       "      <td>1.0373</td>\n",
       "      <td>19.9580</td>\n",
       "      <td>23.2016</td>\n",
       "      <td>31.5113</td>\n",
       "      <td>0.9032</td>\n",
       "      <td>0.050105221</td>\n",
       "      <td>0.013805</td>\n",
       "    </tr>\n",
       "    <tr>\n",
       "      <th>12</th>\n",
       "      <td>2019/1/2</td>\n",
       "      <td>000078.XSHE</td>\n",
       "      <td>0.1160</td>\n",
       "      <td>1.0545</td>\n",
       "      <td>11.9999</td>\n",
       "      <td>22.4340</td>\n",
       "      <td>41.4719</td>\n",
       "      <td>0.8638</td>\n",
       "      <td>0.083334028</td>\n",
       "      <td>0.000000</td>\n",
       "    </tr>\n",
       "    <tr>\n",
       "      <th>13</th>\n",
       "      <td>2019/1/2</td>\n",
       "      <td>000089.XSHE</td>\n",
       "      <td>0.0655</td>\n",
       "      <td>2.2114</td>\n",
       "      <td>21.3009</td>\n",
       "      <td>23.4736</td>\n",
       "      <td>37.7674</td>\n",
       "      <td>0.9526</td>\n",
       "      <td>0.046946373</td>\n",
       "      <td>-0.020540</td>\n",
       "    </tr>\n",
       "    <tr>\n",
       "      <th>14</th>\n",
       "      <td>2019/1/2</td>\n",
       "      <td>000090.XSHE</td>\n",
       "      <td>0.0359</td>\n",
       "      <td>0.5294</td>\n",
       "      <td>28.4086</td>\n",
       "      <td>22.6099</td>\n",
       "      <td>26.6947</td>\n",
       "      <td>0.8776</td>\n",
       "      <td>0.035200608</td>\n",
       "      <td>-0.002174</td>\n",
       "    </tr>\n",
       "    <tr>\n",
       "      <th>15</th>\n",
       "      <td>2019/1/2</td>\n",
       "      <td>000156.XSHE</td>\n",
       "      <td>0.0628</td>\n",
       "      <td>3.2586</td>\n",
       "      <td>17.5553</td>\n",
       "      <td>23.0473</td>\n",
       "      <td>50.1696</td>\n",
       "      <td>0.8683</td>\n",
       "      <td>0.056962855</td>\n",
       "      <td>0.006305</td>\n",
       "    </tr>\n",
       "    <tr>\n",
       "      <th>16</th>\n",
       "      <td>2019/1/2</td>\n",
       "      <td>000158.XSHE</td>\n",
       "      <td>0.0556</td>\n",
       "      <td>0.9329</td>\n",
       "      <td>25.9921</td>\n",
       "      <td>22.8531</td>\n",
       "      <td>35.7366</td>\n",
       "      <td>0.9610</td>\n",
       "      <td>0.038473228</td>\n",
       "      <td>-0.007663</td>\n",
       "    </tr>\n",
       "    <tr>\n",
       "      <th>17</th>\n",
       "      <td>2019/1/2</td>\n",
       "      <td>000400.XSHE</td>\n",
       "      <td>0.0621</td>\n",
       "      <td>1.5705</td>\n",
       "      <td>19.0510</td>\n",
       "      <td>22.9107</td>\n",
       "      <td>95.7022</td>\n",
       "      <td>0.9693</td>\n",
       "      <td>0.052490683</td>\n",
       "      <td>-0.005625</td>\n",
       "    </tr>\n",
       "    <tr>\n",
       "      <th>18</th>\n",
       "      <td>2019/1/2</td>\n",
       "      <td>000401.XSHE</td>\n",
       "      <td>0.0853</td>\n",
       "      <td>0.6665</td>\n",
       "      <td>19.1724</td>\n",
       "      <td>23.5219</td>\n",
       "      <td>498.7934</td>\n",
       "      <td>1.0270</td>\n",
       "      <td>0.052158311</td>\n",
       "      <td>-0.015348</td>\n",
       "    </tr>\n",
       "    <tr>\n",
       "      <th>19</th>\n",
       "      <td>2019/1/2</td>\n",
       "      <td>000402.XSHE</td>\n",
       "      <td>0.0888</td>\n",
       "      <td>0.6453</td>\n",
       "      <td>7.2789</td>\n",
       "      <td>23.6647</td>\n",
       "      <td>39.0651</td>\n",
       "      <td>0.9044</td>\n",
       "      <td>0.137383396</td>\n",
       "      <td>-0.015528</td>\n",
       "    </tr>\n",
       "  </tbody>\n",
       "</table>\n",
       "</div>"
      ],
      "text/plain": [
       "   tradeDate        secID     ROE  QuickRatio        PE     LFLO    TVMA20  \\\n",
       "0   2019/1/2  000009.XSHE  0.0104      0.8513  180.0405  22.9332   60.4605   \n",
       "1   2019/1/2  000012.XSHE  0.0681      0.7034   19.5304  22.6784   20.2816   \n",
       "2   2019/1/2  000021.XSHE  0.0877      0.8723   16.2858  22.8450   43.3856   \n",
       "3   2019/1/2  000027.XSHE  0.0257      0.7900   37.1553  23.7396   20.7372   \n",
       "4   2019/1/2  000028.XSHE  0.1240      1.3436   14.5830  23.2399   39.4524   \n",
       "5   2019/1/2  000031.XSHE  0.1982      0.7313    6.6401  22.8997   58.0772   \n",
       "6   2019/1/2  000039.XSHE  0.1110      0.7331    9.0986  23.3327   49.7998   \n",
       "7   2019/1/2  000046.XSHE  0.1720      0.5138    6.9602  23.8923   14.2412   \n",
       "8   2019/1/2  000050.XSHE  0.0287      0.6413   30.3740  23.3222   87.9873   \n",
       "9   2019/1/2  000060.XSHE  0.0969      0.8535   14.4070  23.3640   59.7943   \n",
       "10  2019/1/2  000061.XSHE  0.0122      0.4560  135.6175  22.7921   47.7981   \n",
       "11  2019/1/2  000062.XSHE  0.1442      1.0373   19.9580  23.2016   31.5113   \n",
       "12  2019/1/2  000078.XSHE  0.1160      1.0545   11.9999  22.4340   41.4719   \n",
       "13  2019/1/2  000089.XSHE  0.0655      2.2114   21.3009  23.4736   37.7674   \n",
       "14  2019/1/2  000090.XSHE  0.0359      0.5294   28.4086  22.6099   26.6947   \n",
       "15  2019/1/2  000156.XSHE  0.0628      3.2586   17.5553  23.0473   50.1696   \n",
       "16  2019/1/2  000158.XSHE  0.0556      0.9329   25.9921  22.8531   35.7366   \n",
       "17  2019/1/2  000400.XSHE  0.0621      1.5705   19.0510  22.9107   95.7022   \n",
       "18  2019/1/2  000401.XSHE  0.0853      0.6665   19.1724  23.5219  498.7934   \n",
       "19  2019/1/2  000402.XSHE  0.0888      0.6453    7.2789  23.6647   39.0651   \n",
       "\n",
       "    REVS20           EP  dailyReturnNoReinv  \n",
       "0   0.8758  0.005554306           -0.002321  \n",
       "1   0.9149  0.051202228           -0.002507  \n",
       "2   0.9030  0.061403186           -0.012174  \n",
       "3   0.9555  0.026914061           -0.019048  \n",
       "4   0.8733  0.068572996           -0.028717  \n",
       "5   0.9275  0.150600142           -0.004099  \n",
       "6   0.9371  0.109907019            0.013232  \n",
       "7   0.9050  0.143674032            0.000000  \n",
       "8   0.8791  0.032922895           -0.021407  \n",
       "9   0.9161  0.069410703           -0.007576  \n",
       "10  0.9175   0.00737368           -0.037114  \n",
       "11  0.9032  0.050105221            0.013805  \n",
       "12  0.8638  0.083334028            0.000000  \n",
       "13  0.9526  0.046946373           -0.020540  \n",
       "14  0.8776  0.035200608           -0.002174  \n",
       "15  0.8683  0.056962855            0.006305  \n",
       "16  0.9610  0.038473228           -0.007663  \n",
       "17  0.9693  0.052490683           -0.005625  \n",
       "18  1.0270  0.052158311           -0.015348  \n",
       "19  0.9044  0.137383396           -0.015528  "
      ]
     },
     "execution_count": 31,
     "metadata": {},
     "output_type": "execute_result"
    }
   ],
   "source": [
    "df1.head(20)"
   ]
  },
  {
   "cell_type": "markdown",
   "id": "4e98c7eb",
   "metadata": {},
   "source": [
    "## 确实是0那没事儿了"
   ]
  },
  {
   "cell_type": "code",
   "execution_count": 32,
   "id": "29e91cf0",
   "metadata": {
    "ExecuteTime": {
     "end_time": "2021-12-08T16:35:30.636256Z",
     "start_time": "2021-12-08T16:35:30.631496Z"
    }
   },
   "outputs": [
    {
     "data": {
      "text/plain": [
       "array([0.])"
      ]
     },
     "execution_count": 32,
     "metadata": {},
     "output_type": "execute_result"
    }
   ],
   "source": [
    "d[('000078.XSHE','2019/1/2')]"
   ]
  },
  {
   "attachments": {
    "image.png": {
     "image/png": "[encoded data removed]"
    }
   },
   "cell_type": "markdown",
   "id": "a4926e3e",
   "metadata": {},
   "source": [
    "![image.png](attachment:image.png)"
   ]
  }
 ],
 "metadata": {
  "kernelspec": {
   "display_name": "Python 3 (ipykernel)",
   "language": "python",
   "name": "python3"
  },
  "language_info": {
   "codemirror_mode": {
    "name": "ipython",
    "version": 3
   },
   "file_extension": ".py",
   "mimetype": "text/x-python",
   "name": "python",
   "nbconvert_exporter": "python",
   "pygments_lexer": "ipython3",
   "version": "3.9.7"
  },
  "toc": {
   "base_numbering": 1,
   "nav_menu": {},
   "number_sections": true,
   "sideBar": true,
   "skip_h1_title": false,
   "title_cell": "Table of Contents",
   "title_sidebar": "Contents",
   "toc_cell": false,
   "toc_position": {},
   "toc_section_display": true,
   "toc_window_display": false
  }
 },
 "nbformat": 4,
 "nbformat_minor": 5
}
