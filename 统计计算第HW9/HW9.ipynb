{
 "cells": [
  {
   "cell_type": "code",
   "execution_count": 1,
   "id": "680279a4",
   "metadata": {
    "ExecuteTime": {
     "end_time": "2021-12-29T16:03:17.214612Z",
     "start_time": "2021-12-29T16:03:17.165582Z"
    },
    "scrolled": true
   },
   "outputs": [
    {
     "name": "stdout",
     "output_type": "stream",
     "text": [
      " 驱动器 C 中的卷是 C盘SSD\n",
      " 卷的序列号是 A888-AE0B\n",
      "\n",
      " C:\\Users\\yangz\\iCloudDrive\\git\\jupyter-server\\统计计算第HW9 的目录\n",
      "\n",
      "2021/12/29  23:59    <DIR>          .\n",
      "2021/12/29  23:59    <DIR>          ..\n",
      "2021/12/29  23:59            60,676 HW9.ipynb\n",
      "2021/12/29  23:59               487 salmon.dat\n",
      "               2 个文件         61,163 字节\n",
      "               2 个目录 83,754,569,728 可用字节\n"
     ]
    }
   ],
   "source": [
    "ls"
   ]
  },
  {
   "cell_type": "code",
   "execution_count": 6,
   "id": "22f66783",
   "metadata": {
    "ExecuteTime": {
     "end_time": "2021-12-29T16:04:27.979933Z",
     "start_time": "2021-12-29T16:04:25.467499Z"
    }
   },
   "outputs": [],
   "source": [
    "import numpy as np\n",
    "import matplotlib.pyplot as plt\n",
    "import pandas as pd\n",
    "import statsmodels.api as sm"
   ]
  },
  {
   "cell_type": "markdown",
   "id": "a05ed667",
   "metadata": {},
   "source": [
    "# 9.4"
   ]
  },
  {
   "cell_type": "code",
   "execution_count": 7,
   "id": "764c980c",
   "metadata": {
    "ExecuteTime": {
     "end_time": "2021-12-29T16:04:29.987412Z",
     "start_time": "2021-12-29T16:04:29.950313Z"
    }
   },
   "outputs": [
    {
     "data": {
      "text/html": [
       "<div>\n",
       "<style scoped>\n",
       "    .dataframe tbody tr th:only-of-type {\n",
       "        vertical-align: middle;\n",
       "    }\n",
       "\n",
       "    .dataframe tbody tr th {\n",
       "        vertical-align: top;\n",
       "    }\n",
       "\n",
       "    .dataframe thead th {\n",
       "        text-align: right;\n",
       "    }\n",
       "</style>\n",
       "<table border=\"1\" class=\"dataframe\">\n",
       "  <thead>\n",
       "    <tr style=\"text-align: right;\">\n",
       "      <th></th>\n",
       "      <th>recruits</th>\n",
       "      <th>spawners</th>\n",
       "    </tr>\n",
       "    <tr>\n",
       "      <th>year</th>\n",
       "      <th></th>\n",
       "      <th></th>\n",
       "    </tr>\n",
       "  </thead>\n",
       "  <tbody>\n",
       "    <tr>\n",
       "      <th>1</th>\n",
       "      <td>68</td>\n",
       "      <td>56</td>\n",
       "    </tr>\n",
       "    <tr>\n",
       "      <th>2</th>\n",
       "      <td>77</td>\n",
       "      <td>62</td>\n",
       "    </tr>\n",
       "    <tr>\n",
       "      <th>3</th>\n",
       "      <td>299</td>\n",
       "      <td>445</td>\n",
       "    </tr>\n",
       "    <tr>\n",
       "      <th>4</th>\n",
       "      <td>220</td>\n",
       "      <td>279</td>\n",
       "    </tr>\n",
       "    <tr>\n",
       "      <th>5</th>\n",
       "      <td>142</td>\n",
       "      <td>138</td>\n",
       "    </tr>\n",
       "  </tbody>\n",
       "</table>\n",
       "</div>"
      ],
      "text/plain": [
       "      recruits  spawners\n",
       "year                    \n",
       "1           68        56\n",
       "2           77        62\n",
       "3          299       445\n",
       "4          220       279\n",
       "5          142       138"
      ]
     },
     "execution_count": 7,
     "metadata": {},
     "output_type": "execute_result"
    }
   ],
   "source": [
    "df = pd.read_csv('salmon.dat',sep=' ',index_col=0)\n",
    "df.head()"
   ]
  },
  {
   "cell_type": "markdown",
   "id": "35039d06",
   "metadata": {},
   "source": [
    "## a"
   ]
  },
  {
   "cell_type": "markdown",
   "id": "bfc2cdc7",
   "metadata": {},
   "source": [
    "$$R=\\frac{1}{\\beta_1+\\beta_2/S},\\beta_1,\\beta_2\\geq0$$\n",
    "也就是\n",
    "$$\\frac{1}{R} = \\beta_1+\\beta_2\\frac{1}{S}$$"
   ]
  },
  {
   "cell_type": "markdown",
   "id": "56962404",
   "metadata": {},
   "source": [
    "稳定状态$R=S$,有$$R=S=\\frac{1-\\beta_2}{\\beta_1}$$"
   ]
  },
  {
   "cell_type": "code",
   "execution_count": 8,
   "id": "9344e4ac",
   "metadata": {
    "ExecuteTime": {
     "end_time": "2021-12-29T16:04:32.035544Z",
     "start_time": "2021-12-29T16:04:32.023516Z"
    }
   },
   "outputs": [],
   "source": [
    "Idf = 1/df"
   ]
  },
  {
   "cell_type": "code",
   "execution_count": 9,
   "id": "14e839fb",
   "metadata": {
    "ExecuteTime": {
     "end_time": "2021-12-29T16:04:32.473478Z",
     "start_time": "2021-12-29T16:04:32.445373Z"
    }
   },
   "outputs": [],
   "source": [
    "# 建立线性回归模型\n",
    "x = Idf.spawners.to_numpy()\n",
    "y = Idf.recruits.to_numpy()\n",
    "X = sm.add_constant(x)\n",
    "model = sm.OLS(y,X).fit()"
   ]
  },
  {
   "cell_type": "code",
   "execution_count": 10,
   "id": "7569fa28",
   "metadata": {
    "ExecuteTime": {
     "end_time": "2021-12-29T16:04:33.049193Z",
     "start_time": "2021-12-29T16:04:33.029196Z"
    }
   },
   "outputs": [
    {
     "data": {
      "text/html": [
       "<table class=\"simpletable\">\n",
       "<caption>OLS Regression Results</caption>\n",
       "<tr>\n",
       "  <th>Dep. Variable:</th>            <td>y</td>        <th>  R-squared:         </th> <td>   0.990</td>\n",
       "</tr>\n",
       "<tr>\n",
       "  <th>Model:</th>                   <td>OLS</td>       <th>  Adj. R-squared:    </th> <td>   0.990</td>\n",
       "</tr>\n",
       "<tr>\n",
       "  <th>Method:</th>             <td>Least Squares</td>  <th>  F-statistic:       </th> <td>   3687.</td>\n",
       "</tr>\n",
       "<tr>\n",
       "  <th>Date:</th>             <td>Thu, 30 Dec 2021</td> <th>  Prob (F-statistic):</th> <td>1.89e-39</td>\n",
       "</tr>\n",
       "<tr>\n",
       "  <th>Time:</th>                 <td>00:04:33</td>     <th>  Log-Likelihood:    </th> <td>  264.18</td>\n",
       "</tr>\n",
       "<tr>\n",
       "  <th>No. Observations:</th>      <td>    40</td>      <th>  AIC:               </th> <td>  -524.4</td>\n",
       "</tr>\n",
       "<tr>\n",
       "  <th>Df Residuals:</th>          <td>    38</td>      <th>  BIC:               </th> <td>  -521.0</td>\n",
       "</tr>\n",
       "<tr>\n",
       "  <th>Df Model:</th>              <td>     1</td>      <th>                     </th>     <td> </td>   \n",
       "</tr>\n",
       "<tr>\n",
       "  <th>Covariance Type:</th>      <td>nonrobust</td>    <th>                     </th>     <td> </td>   \n",
       "</tr>\n",
       "</table>\n",
       "<table class=\"simpletable\">\n",
       "<tr>\n",
       "    <td></td>       <th>coef</th>     <th>std err</th>      <th>t</th>      <th>P>|t|</th>  <th>[0.025</th>    <th>0.975]</th>  \n",
       "</tr>\n",
       "<tr>\n",
       "  <th>const</th> <td>    0.0020</td> <td> 8.22e-05</td> <td>   24.502</td> <td> 0.000</td> <td>    0.002</td> <td>    0.002</td>\n",
       "</tr>\n",
       "<tr>\n",
       "  <th>x1</th>    <td>    0.6978</td> <td>    0.011</td> <td>   60.721</td> <td> 0.000</td> <td>    0.675</td> <td>    0.721</td>\n",
       "</tr>\n",
       "</table>\n",
       "<table class=\"simpletable\">\n",
       "<tr>\n",
       "  <th>Omnibus:</th>       <td> 1.265</td> <th>  Durbin-Watson:     </th> <td>   1.730</td>\n",
       "</tr>\n",
       "<tr>\n",
       "  <th>Prob(Omnibus):</th> <td> 0.531</td> <th>  Jarque-Bera (JB):  </th> <td>   1.256</td>\n",
       "</tr>\n",
       "<tr>\n",
       "  <th>Skew:</th>          <td> 0.344</td> <th>  Prob(JB):          </th> <td>   0.534</td>\n",
       "</tr>\n",
       "<tr>\n",
       "  <th>Kurtosis:</th>      <td> 2.471</td> <th>  Cond. No.          </th> <td>    216.</td>\n",
       "</tr>\n",
       "</table><br/><br/>Notes:<br/>[1] Standard Errors assume that the covariance matrix of the errors is correctly specified."
      ],
      "text/plain": [
       "<class 'statsmodels.iolib.summary.Summary'>\n",
       "\"\"\"\n",
       "                            OLS Regression Results                            \n",
       "==============================================================================\n",
       "Dep. Variable:                      y   R-squared:                       0.990\n",
       "Model:                            OLS   Adj. R-squared:                  0.990\n",
       "Method:                 Least Squares   F-statistic:                     3687.\n",
       "Date:                Thu, 30 Dec 2021   Prob (F-statistic):           1.89e-39\n",
       "Time:                        00:04:33   Log-Likelihood:                 264.18\n",
       "No. Observations:                  40   AIC:                            -524.4\n",
       "Df Residuals:                      38   BIC:                            -521.0\n",
       "Df Model:                           1                                         \n",
       "Covariance Type:            nonrobust                                         \n",
       "==============================================================================\n",
       "                 coef    std err          t      P>|t|      [0.025      0.975]\n",
       "------------------------------------------------------------------------------\n",
       "const          0.0020   8.22e-05     24.502      0.000       0.002       0.002\n",
       "x1             0.6978      0.011     60.721      0.000       0.675       0.721\n",
       "==============================================================================\n",
       "Omnibus:                        1.265   Durbin-Watson:                   1.730\n",
       "Prob(Omnibus):                  0.531   Jarque-Bera (JB):                1.256\n",
       "Skew:                           0.344   Prob(JB):                        0.534\n",
       "Kurtosis:                       2.471   Cond. No.                         216.\n",
       "==============================================================================\n",
       "\n",
       "Notes:\n",
       "[1] Standard Errors assume that the covariance matrix of the errors is correctly specified.\n",
       "\"\"\""
      ]
     },
     "execution_count": 10,
     "metadata": {},
     "output_type": "execute_result"
    }
   ],
   "source": [
    "model.summary()"
   ]
  },
  {
   "cell_type": "code",
   "execution_count": 11,
   "id": "34451ba1",
   "metadata": {
    "ExecuteTime": {
     "end_time": "2021-12-29T16:04:33.427192Z",
     "start_time": "2021-12-29T16:04:33.413195Z"
    }
   },
   "outputs": [
    {
     "data": {
      "text/plain": [
       "array([0.00201323, 0.69781884])"
      ]
     },
     "execution_count": 11,
     "metadata": {},
     "output_type": "execute_result"
    }
   ],
   "source": [
    "# 参数估计\n",
    "model.params"
   ]
  },
  {
   "cell_type": "code",
   "execution_count": 12,
   "id": "bb2fa865",
   "metadata": {
    "ExecuteTime": {
     "end_time": "2021-12-29T16:04:34.367527Z",
     "start_time": "2021-12-29T16:04:34.357525Z"
    }
   },
   "outputs": [
    {
     "data": {
      "text/plain": [
       "150.09763430097846"
      ]
     },
     "execution_count": 12,
     "metadata": {},
     "output_type": "execute_result"
    }
   ],
   "source": [
    "# 稳定状态\n",
    "R = (1-model.params[1])/model.params[0]\n",
    "R"
   ]
  },
  {
   "cell_type": "markdown",
   "id": "f253bc89",
   "metadata": {},
   "source": [
    "拟合结果为\n",
    "$$\\frac{1}{R} = 0.002 +0.6978\\frac{1}{S}$$"
   ]
  },
  {
   "cell_type": "markdown",
   "id": "bc0b1eb5",
   "metadata": {},
   "source": [
    "稳定状态$$R=S=\\frac{1-0.6978}{0.002}\\approx 150$$"
   ]
  },
  {
   "cell_type": "markdown",
   "id": "72c45ccc",
   "metadata": {},
   "source": [
    "### Bootstrap residual"
   ]
  },
  {
   "cell_type": "code",
   "execution_count": 13,
   "id": "c5ba48f9",
   "metadata": {
    "ExecuteTime": {
     "end_time": "2021-12-29T16:04:36.293638Z",
     "start_time": "2021-12-29T16:04:36.275641Z"
    }
   },
   "outputs": [],
   "source": [
    "def residual_bt(B=10000):\n",
    "    R_l = []\n",
    "    for i in range(B):\n",
    "        y_bt = model.fittedvalues + np.random.choice(model.resid, size=40)\n",
    "        model_bt = sm.OLS(y_bt, X).fit()\n",
    "        R_bt = (1-model_bt.params[1])/model_bt.params[0]\n",
    "        R_l.append(R_bt)\n",
    "    return np.array(R_l)"
   ]
  },
  {
   "cell_type": "code",
   "execution_count": 14,
   "id": "4fd98c67",
   "metadata": {
    "ExecuteTime": {
     "end_time": "2021-12-29T16:04:38.875874Z",
     "start_time": "2021-12-29T16:04:36.716653Z"
    }
   },
   "outputs": [],
   "source": [
    "R_l_residual = residual_bt()"
   ]
  },
  {
   "cell_type": "code",
   "execution_count": 15,
   "id": "1effface",
   "metadata": {
    "ExecuteTime": {
     "end_time": "2021-12-29T16:04:39.344269Z",
     "start_time": "2021-12-29T16:04:39.332248Z"
    }
   },
   "outputs": [
    {
     "data": {
      "text/plain": [
       "(142.48103352139265, 158.1931779751314)"
      ]
     },
     "execution_count": 15,
     "metadata": {},
     "output_type": "execute_result"
    }
   ],
   "source": [
    "# 95%置信区间\n",
    "(np.quantile(R_l_residual,0.025),np.quantile(R_l_residual,0.975))"
   ]
  },
  {
   "cell_type": "code",
   "execution_count": 16,
   "id": "eac49da7",
   "metadata": {
    "ExecuteTime": {
     "end_time": "2021-12-29T16:04:40.144610Z",
     "start_time": "2021-12-29T16:04:40.139607Z"
    }
   },
   "outputs": [
    {
     "data": {
      "text/plain": [
       "15.712144453738745"
      ]
     },
     "execution_count": 16,
     "metadata": {},
     "output_type": "execute_result"
    }
   ],
   "source": [
    "# 区间长度\n",
    "abs(np.quantile(R_l_residual,0.025)-np.quantile(R_l_residual,0.975))"
   ]
  },
  {
   "cell_type": "code",
   "execution_count": 17,
   "id": "fab92437",
   "metadata": {
    "ExecuteTime": {
     "end_time": "2021-12-29T16:04:40.817696Z",
     "start_time": "2021-12-29T16:04:40.805694Z"
    }
   },
   "outputs": [
    {
     "data": {
      "text/plain": [
       "4.0110472091580345"
      ]
     },
     "execution_count": 17,
     "metadata": {},
     "output_type": "execute_result"
    }
   ],
   "source": [
    "# 标准误\n",
    "R_l_residual.std()"
   ]
  },
  {
   "cell_type": "code",
   "execution_count": 18,
   "id": "78ae71db",
   "metadata": {
    "ExecuteTime": {
     "end_time": "2021-12-29T16:04:41.845720Z",
     "start_time": "2021-12-29T16:04:41.491723Z"
    }
   },
   "outputs": [
    {
     "data": {
      "image/png": "[encoded data removed]",
      "text/plain": [
       "<Figure size 720x360 with 1 Axes>"
      ]
     },
     "metadata": {
      "needs_background": "light"
     },
     "output_type": "display_data"
    }
   ],
   "source": [
    "# 直方图\n",
    "pd.DataFrame(R_l_residual).hist(grid=False, bins=20, figsize=(10, 5))\n",
    "plt.title('bootstrap residual')\n",
    "plt.xlabel(r'estimation of $\\frac{1-\\beta_2}{\\beta_1}$')\n",
    "plt.ylabel('count')\n",
    "plt.axvline(x=np.quantile(R_l_residual, 0.025),\n",
    "            color='red',\n",
    "            alpha=.5,\n",
    "            linestyle='dashed',\n",
    "            label='95% CI')\n",
    "plt.axvline(x=np.quantile(R_l_residual, 0.975),\n",
    "            color='red',\n",
    "            alpha=.5,\n",
    "            linestyle='dashed')\n",
    "plt.legend()\n",
    "plt.show()"
   ]
  },
  {
   "cell_type": "markdown",
   "id": "9f5384fc",
   "metadata": {},
   "source": [
    "### Paired bootstrap"
   ]
  },
  {
   "cell_type": "code",
   "execution_count": 19,
   "id": "e7b162d9",
   "metadata": {
    "ExecuteTime": {
     "end_time": "2021-12-29T16:04:43.687950Z",
     "start_time": "2021-12-29T16:04:43.676947Z"
    }
   },
   "outputs": [],
   "source": [
    "def paired_bt(B=10000):\n",
    "    R_l = []\n",
    "    for i in range(B):\n",
    "        df_bt = Idf.loc[np.random.choice(df.index, size=40), :]\n",
    "        x_bt = df_bt.spawners.to_numpy()\n",
    "        y_bt = df_bt.recruits.to_numpy()\n",
    "        X_bt = sm.add_constant(x_bt)\n",
    "        model_bt = sm.OLS(y_bt, X_bt).fit()\n",
    "        R_bt = (1 - model_bt.params[1]) / model_bt.params[0]\n",
    "        R_l.append(R_bt)\n",
    "    return np.array(R_l)"
   ]
  },
  {
   "cell_type": "code",
   "execution_count": 20,
   "id": "f01612b8",
   "metadata": {
    "ExecuteTime": {
     "end_time": "2021-12-29T16:04:50.711388Z",
     "start_time": "2021-12-29T16:04:44.022390Z"
    }
   },
   "outputs": [],
   "source": [
    "R_l_paired = paired_bt()"
   ]
  },
  {
   "cell_type": "code",
   "execution_count": 21,
   "id": "778afce2",
   "metadata": {
    "ExecuteTime": {
     "end_time": "2021-12-29T16:04:56.887901Z",
     "start_time": "2021-12-29T16:04:56.867904Z"
    }
   },
   "outputs": [
    {
     "data": {
      "text/plain": [
       "(142.89754239721609, 157.8347094974571)"
      ]
     },
     "execution_count": 21,
     "metadata": {},
     "output_type": "execute_result"
    }
   ],
   "source": [
    "# 95%置信区间\n",
    "(np.quantile(R_l_paired,0.025),np.quantile(R_l_paired,0.975))"
   ]
  },
  {
   "cell_type": "code",
   "execution_count": 22,
   "id": "db5fefc4",
   "metadata": {
    "ExecuteTime": {
     "end_time": "2021-12-29T16:04:57.310772Z",
     "start_time": "2021-12-29T16:04:57.292749Z"
    }
   },
   "outputs": [
    {
     "data": {
      "text/plain": [
       "14.937167100241027"
      ]
     },
     "execution_count": 22,
     "metadata": {},
     "output_type": "execute_result"
    }
   ],
   "source": [
    "# 区间长度\n",
    "abs(np.quantile(R_l_paired,0.025)-np.quantile(R_l_paired,0.975))"
   ]
  },
  {
   "cell_type": "code",
   "execution_count": 23,
   "id": "120383aa",
   "metadata": {
    "ExecuteTime": {
     "end_time": "2021-12-29T16:04:57.621504Z",
     "start_time": "2021-12-29T16:04:57.611476Z"
    }
   },
   "outputs": [
    {
     "data": {
      "text/plain": [
       "3.826005127733072"
      ]
     },
     "execution_count": 23,
     "metadata": {},
     "output_type": "execute_result"
    }
   ],
   "source": [
    "# 标准误\n",
    "R_l_paired.std()"
   ]
  },
  {
   "cell_type": "code",
   "execution_count": 24,
   "id": "71011f41",
   "metadata": {
    "ExecuteTime": {
     "end_time": "2021-12-29T16:04:58.246232Z",
     "start_time": "2021-12-29T16:04:58.100206Z"
    }
   },
   "outputs": [
    {
     "data": {
      "image/png": "[encoded data removed]",
      "text/plain": [
       "<Figure size 720x360 with 1 Axes>"
      ]
     },
     "metadata": {
      "needs_background": "light"
     },
     "output_type": "display_data"
    }
   ],
   "source": [
    "# 直方图\n",
    "pd.DataFrame(R_l_paired).hist(grid=False, bins=20, figsize=(10, 5))\n",
    "plt.title('paired bootstrap')\n",
    "plt.xlabel(r'estimation of $\\frac{1-\\beta_2}{\\beta_1}$')\n",
    "plt.ylabel('count')\n",
    "plt.axvline(x=np.quantile(R_l_paired, 0.05),\n",
    "            color='red',\n",
    "            alpha=.5,\n",
    "            linestyle='dashed',\n",
    "            label='95% CI')\n",
    "plt.axvline(x=np.quantile(R_l_paired, 0.95),\n",
    "            color='red',\n",
    "            alpha=.5,\n",
    "            linestyle='dashed')\n",
    "plt.legend()\n",
    "plt.show()"
   ]
  },
  {
   "cell_type": "raw",
   "id": "8a48f563",
   "metadata": {},
   "source": [
    "paired bootstrap方法总比bootstrap residual方法所得的标准误小一些，构造出的置信区间也更小，从直方图也可以直观地看出paired bootstrap方法得到的估计值更加集中在均值附近"
   ]
  },
  {
   "cell_type": "markdown",
   "id": "2bb72a4b",
   "metadata": {},
   "source": [
    "## b"
   ]
  },
  {
   "cell_type": "markdown",
   "id": "14133d04",
   "metadata": {},
   "source": [
    "### 修正"
   ]
  },
  {
   "cell_type": "code",
   "execution_count": 25,
   "id": "872a5253",
   "metadata": {
    "ExecuteTime": {
     "end_time": "2021-12-29T16:05:00.574100Z",
     "start_time": "2021-12-29T16:05:00.555597Z"
    }
   },
   "outputs": [
    {
     "data": {
      "text/plain": [
       "0.0595190654255191"
      ]
     },
     "execution_count": 25,
     "metadata": {},
     "output_type": "execute_result"
    }
   ],
   "source": [
    "correction_residual = np.mean(R_l_residual)-R\n",
    "correction_residual"
   ]
  },
  {
   "cell_type": "code",
   "execution_count": 26,
   "id": "5314955c",
   "metadata": {
    "ExecuteTime": {
     "end_time": "2021-12-29T16:05:01.218446Z",
     "start_time": "2021-12-29T16:05:01.205448Z"
    }
   },
   "outputs": [
    {
     "data": {
      "text/plain": [
       "0.0616475815728279"
      ]
     },
     "execution_count": 26,
     "metadata": {},
     "output_type": "execute_result"
    }
   ],
   "source": [
    "correction_paired = np.mean(R_l_paired)-R\n",
    "correction_paired"
   ]
  },
  {
   "cell_type": "markdown",
   "id": "313371b6",
   "metadata": {},
   "source": [
    "### 标准误"
   ]
  },
  {
   "cell_type": "code",
   "execution_count": 30,
   "id": "70600b45",
   "metadata": {
    "ExecuteTime": {
     "end_time": "2021-12-29T17:03:06.999273Z",
     "start_time": "2021-12-29T16:40:25.358790Z"
    }
   },
   "outputs": [],
   "source": [
    "B = 1000\n",
    "correction_residual_l = []\n",
    "correction_paired_l = []\n",
    "for i in range(B):\n",
    "    R_l_residual = residual_bt(1000)\n",
    "    R_l_paired = paired_bt(1000)\n",
    "    correction_residual = np.mean(R_l_residual)-R\n",
    "    correction_paired = np.mean(R_l_paired)-R\n",
    "    correction_residual_l.append(correction_residual)\n",
    "    correction_paired_l.append(correction_paired)"
   ]
  },
  {
   "cell_type": "code",
   "execution_count": 31,
   "id": "a7f8ac41",
   "metadata": {
    "ExecuteTime": {
     "end_time": "2021-12-29T17:03:07.015273Z",
     "start_time": "2021-12-29T17:03:07.002273Z"
    }
   },
   "outputs": [
    {
     "data": {
      "text/plain": [
       "0.12927454656372173"
      ]
     },
     "execution_count": 31,
     "metadata": {},
     "output_type": "execute_result"
    }
   ],
   "source": [
    "np.std(correction_residual_l)"
   ]
  },
  {
   "cell_type": "code",
   "execution_count": 32,
   "id": "53f8833e",
   "metadata": {
    "ExecuteTime": {
     "end_time": "2021-12-29T17:03:07.031273Z",
     "start_time": "2021-12-29T17:03:07.017275Z"
    }
   },
   "outputs": [
    {
     "data": {
      "text/plain": [
       "0.12093621787253035"
      ]
     },
     "execution_count": 32,
     "metadata": {},
     "output_type": "execute_result"
    }
   ],
   "source": [
    "np.std(correction_paired_l)"
   ]
  },
  {
   "cell_type": "markdown",
   "id": "6e7fde2b",
   "metadata": {},
   "source": [
    "# 9.7"
   ]
  },
  {
   "cell_type": "code",
   "execution_count": 33,
   "id": "8177d655",
   "metadata": {
    "ExecuteTime": {
     "end_time": "2021-12-29T17:03:12.808489Z",
     "start_time": "2021-12-29T17:03:12.790487Z"
    }
   },
   "outputs": [],
   "source": [
    "import scipy.stats as sci"
   ]
  },
  {
   "cell_type": "markdown",
   "id": "487d10ca",
   "metadata": {},
   "source": [
    "## Bootstrap不能用于厚尾分布"
   ]
  },
  {
   "cell_type": "code",
   "execution_count": 62,
   "id": "bfecad46",
   "metadata": {
    "ExecuteTime": {
     "end_time": "2021-12-29T17:05:18.149160Z",
     "start_time": "2021-12-29T17:05:18.141161Z"
    }
   },
   "outputs": [
    {
     "data": {
      "text/plain": [
       "array([-5.39176017e+01,  7.28521075e-01,  3.08226086e+00, -6.09314869e+01,\n",
       "        4.51492748e-01, -7.38551329e-01, -8.90910474e-01, -4.94271181e-01,\n",
       "       -3.30601929e-01, -9.33364484e-01,  1.83985487e+02,  2.57425728e+00,\n",
       "        4.18846226e+00, -2.03774870e-01,  8.05001159e-01,  1.40655787e+00,\n",
       "       -1.29257850e-01,  3.12705711e-02,  3.63907115e+00, -1.28658811e-01,\n",
       "        5.00968985e+00, -3.05933550e+00,  1.31878878e+00,  9.43316604e+01,\n",
       "       -5.06293560e-01, -4.44915507e+00,  1.51083897e+00, -3.12917605e+00,\n",
       "       -3.68274096e-01,  3.62908779e-03,  6.72884357e-01,  2.37052095e+00,\n",
       "        1.86633768e+01, -5.49286064e-02,  4.84634168e-01,  6.62266303e+00,\n",
       "       -5.30674466e-01, -1.85707492e+00,  4.63493806e+00, -2.35379209e+00])"
      ]
     },
     "execution_count": 62,
     "metadata": {},
     "output_type": "execute_result"
    }
   ],
   "source": [
    "# 40个从标准cauchy分布中抽出来的样本\n",
    "x = sci.cauchy.rvs(loc=0,size=40)\n",
    "x"
   ]
  },
  {
   "cell_type": "code",
   "execution_count": 63,
   "id": "7f03d74c",
   "metadata": {
    "ExecuteTime": {
     "end_time": "2021-12-29T17:05:18.412666Z",
     "start_time": "2021-12-29T17:05:18.396668Z"
    }
   },
   "outputs": [
    {
     "data": {
      "text/plain": [
       "5.037720569004544"
      ]
     },
     "execution_count": 63,
     "metadata": {},
     "output_type": "execute_result"
    }
   ],
   "source": [
    "# 样本均值\n",
    "x.mean()"
   ]
  },
  {
   "cell_type": "code",
   "execution_count": 142,
   "id": "6aa56a5a",
   "metadata": {
    "ExecuteTime": {
     "end_time": "2021-12-29T17:12:55.563262Z",
     "start_time": "2021-12-29T17:12:55.527289Z"
    }
   },
   "outputs": [],
   "source": [
    "# bootstrap估计\n",
    "mean_bt = [np.random.choice(x,size=40).mean() for i in range(1000)]"
   ]
  },
  {
   "cell_type": "code",
   "execution_count": 145,
   "id": "41461098",
   "metadata": {
    "ExecuteTime": {
     "end_time": "2021-12-29T17:13:23.222052Z",
     "start_time": "2021-12-29T17:13:23.079171Z"
    }
   },
   "outputs": [
    {
     "data": {
      "text/plain": [
       "[<matplotlib.lines.Line2D at 0x18e757ec070>]"
      ]
     },
     "execution_count": 145,
     "metadata": {},
     "output_type": "execute_result"
    },
    {
     "data": {
      "image/png": "[encoded data removed]",
      "text/plain": [
       "<Figure size 1440x432 with 1 Axes>"
      ]
     },
     "metadata": {
      "needs_background": "light"
     },
     "output_type": "display_data"
    }
   ],
   "source": [
    "plt.figure(figsize=(20,6))\n",
    "plt.plot(mean_bt)"
   ]
  },
  {
   "cell_type": "code",
   "execution_count": 147,
   "id": "e68e6890",
   "metadata": {
    "ExecuteTime": {
     "end_time": "2021-12-29T17:14:11.984293Z",
     "start_time": "2021-12-29T17:14:11.880261Z"
    }
   },
   "outputs": [
    {
     "data": {
      "text/plain": [
       "(array([ 20., 119., 239., 242., 198., 115.,  46.,  14.,   6.,   1.]),\n",
       " array([-7.78179943, -4.30252322, -0.82324701,  2.6560292 ,  6.13530541,\n",
       "         9.61458162, 13.09385782, 16.57313403, 20.05241024, 23.53168645,\n",
       "        27.01096266]),\n",
       " <BarContainer object of 10 artists>)"
      ]
     },
     "execution_count": 147,
     "metadata": {},
     "output_type": "execute_result"
    },
    {
     "data": {
      "image/png": "[encoded data removed]",
      "text/plain": [
       "<Figure size 432x288 with 1 Axes>"
      ]
     },
     "metadata": {
      "needs_background": "light"
     },
     "output_type": "display_data"
    }
   ],
   "source": [
    "plt.hist(mean_bt)"
   ]
  },
  {
   "cell_type": "markdown",
   "id": "d3cf0679",
   "metadata": {},
   "source": [
    "## Bootstrap不能用于估计极值"
   ]
  },
  {
   "cell_type": "code",
   "execution_count": 1,
   "id": "2566467f",
   "metadata": {
    "ExecuteTime": {
     "end_time": "2022-01-02T11:48:46.888186Z",
     "start_time": "2022-01-02T11:48:46.879186Z"
    }
   },
   "outputs": [
    {
     "data": {
      "text/plain": [
       "1"
      ]
     },
     "execution_count": 1,
     "metadata": {},
     "output_type": "execute_result"
    }
   ],
   "source": [
    "1"
   ]
  },
  {
   "cell_type": "code",
   "execution_count": null,
   "id": "3fefc493",
   "metadata": {},
   "outputs": [],
   "source": []
  }
 ],
 "metadata": {
  "kernelspec": {
   "display_name": "Python 3 (ipykernel)",
   "language": "python",
   "name": "python3"
  },
  "language_info": {
   "codemirror_mode": {
    "name": "ipython",
    "version": 3
   },
   "file_extension": ".py",
   "mimetype": "text/x-python",
   "name": "python",
   "nbconvert_exporter": "python",
   "pygments_lexer": "ipython3",
   "version": "3.9.7"
  },
  "toc": {
   "base_numbering": 1,
   "nav_menu": {},
   "number_sections": false,
   "sideBar": true,
   "skip_h1_title": false,
   "title_cell": "Table of Contents",
   "title_sidebar": "Contents",
   "toc_cell": false,
   "toc_position": {},
   "toc_section_display": true,
   "toc_window_display": true
  },
  "varInspector": {
   "cols": {
    "lenName": 16,
    "lenType": 16,
    "lenVar": 40
   },
   "kernels_config": {
    "python": {
     "delete_cmd_postfix": "",
     "delete_cmd_prefix": "del ",
     "library": "var_list.py",
     "varRefreshCmd": "print(var_dic_list())"
    },
    "r": {
     "delete_cmd_postfix": ") ",
     "delete_cmd_prefix": "rm(",
     "library": "var_list.r",
     "varRefreshCmd": "cat(var_dic_list()) "
    }
   },
   "types_to_exclude": [
    "module",
    "function",
    "builtin_function_or_method",
    "instance",
    "_Feature"
   ],
   "window_display": false
  }
 },
 "nbformat": 4,
 "nbformat_minor": 5
}
