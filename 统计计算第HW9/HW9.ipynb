{
 "cells": [
  {
   "cell_type": "code",
   "execution_count": 1,
   "id": "680279a4",
   "metadata": {
    "ExecuteTime": {
     "end_time": "2021-12-29T15:33:45.884466Z",
     "start_time": "2021-12-29T15:33:45.738844Z"
    }
   },
   "outputs": [
    {
     "name": "stdout",
     "output_type": "stream",
     "text": [
      "HW9.ipynb  salmon.dat\r\n"
     ]
    }
   ],
   "source": [
    "ls"
   ]
  },
  {
   "cell_type": "code",
   "execution_count": 2,
   "id": "22f66783",
   "metadata": {
    "ExecuteTime": {
     "end_time": "2021-12-29T15:33:46.861106Z",
     "start_time": "2021-12-29T15:33:45.944821Z"
    }
   },
   "outputs": [],
   "source": [
    "import numpy as np\n",
    "import matplotlib.pyplot as plt\n",
    "import pandas as pd\n",
    "import statsmodels.api as sm\n"
   ]
  },
  {
   "cell_type": "markdown",
   "id": "a05ed667",
   "metadata": {},
   "source": [
    "# 9.4"
   ]
  },
  {
   "cell_type": "code",
   "execution_count": 3,
   "id": "764c980c",
   "metadata": {
    "ExecuteTime": {
     "end_time": "2021-12-29T15:33:46.896539Z",
     "start_time": "2021-12-29T15:33:46.881822Z"
    }
   },
   "outputs": [
    {
     "data": {
      "text/html": [
       "<div>\n",
       "<style scoped>\n",
       "    .dataframe tbody tr th:only-of-type {\n",
       "        vertical-align: middle;\n",
       "    }\n",
       "\n",
       "    .dataframe tbody tr th {\n",
       "        vertical-align: top;\n",
       "    }\n",
       "\n",
       "    .dataframe thead th {\n",
       "        text-align: right;\n",
       "    }\n",
       "</style>\n",
       "<table border=\"1\" class=\"dataframe\">\n",
       "  <thead>\n",
       "    <tr style=\"text-align: right;\">\n",
       "      <th></th>\n",
       "      <th>recruits</th>\n",
       "      <th>spawners</th>\n",
       "    </tr>\n",
       "    <tr>\n",
       "      <th>year</th>\n",
       "      <th></th>\n",
       "      <th></th>\n",
       "    </tr>\n",
       "  </thead>\n",
       "  <tbody>\n",
       "    <tr>\n",
       "      <th>1</th>\n",
       "      <td>68</td>\n",
       "      <td>56</td>\n",
       "    </tr>\n",
       "    <tr>\n",
       "      <th>2</th>\n",
       "      <td>77</td>\n",
       "      <td>62</td>\n",
       "    </tr>\n",
       "    <tr>\n",
       "      <th>3</th>\n",
       "      <td>299</td>\n",
       "      <td>445</td>\n",
       "    </tr>\n",
       "    <tr>\n",
       "      <th>4</th>\n",
       "      <td>220</td>\n",
       "      <td>279</td>\n",
       "    </tr>\n",
       "    <tr>\n",
       "      <th>5</th>\n",
       "      <td>142</td>\n",
       "      <td>138</td>\n",
       "    </tr>\n",
       "  </tbody>\n",
       "</table>\n",
       "</div>"
      ],
      "text/plain": [
       "      recruits  spawners\n",
       "year                    \n",
       "1           68        56\n",
       "2           77        62\n",
       "3          299       445\n",
       "4          220       279\n",
       "5          142       138"
      ]
     },
     "execution_count": 3,
     "metadata": {},
     "output_type": "execute_result"
    }
   ],
   "source": [
    "df = pd.read_csv('salmon.dat',sep=' ',index_col=0)\n",
    "df.head()"
   ]
  },
  {
   "cell_type": "markdown",
   "id": "35039d06",
   "metadata": {},
   "source": [
    "## a"
   ]
  },
  {
   "cell_type": "markdown",
   "id": "bfc2cdc7",
   "metadata": {},
   "source": [
    "$$R=\\frac{1}{\\beta_1+\\beta_2/S},\\beta_1,\\beta_2\\geq0$$\n",
    "也就是\n",
    "$$\\frac{1}{R} = \\beta_1+\\beta_2\\frac{1}{S}$$"
   ]
  },
  {
   "cell_type": "markdown",
   "id": "56962404",
   "metadata": {},
   "source": [
    "稳定状态$R=S$,有$$R=S=\\frac{1-\\beta_2}{\\beta_1}$$"
   ]
  },
  {
   "cell_type": "code",
   "execution_count": 4,
   "id": "9344e4ac",
   "metadata": {
    "ExecuteTime": {
     "end_time": "2021-12-29T15:33:47.636428Z",
     "start_time": "2021-12-29T15:33:47.631978Z"
    }
   },
   "outputs": [],
   "source": [
    "Idf = 1/df"
   ]
  },
  {
   "cell_type": "code",
   "execution_count": 5,
   "id": "14e839fb",
   "metadata": {
    "ExecuteTime": {
     "end_time": "2021-12-29T15:33:47.921324Z",
     "start_time": "2021-12-29T15:33:47.912642Z"
    }
   },
   "outputs": [],
   "source": [
    "# 建立线性回归模型\n",
    "x = Idf.spawners.to_numpy()\n",
    "y = Idf.recruits.to_numpy()\n",
    "X = sm.add_constant(x)\n",
    "model = sm.OLS(y,X).fit()"
   ]
  },
  {
   "cell_type": "code",
   "execution_count": 6,
   "id": "7569fa28",
   "metadata": {
    "ExecuteTime": {
     "end_time": "2021-12-29T15:33:48.294448Z",
     "start_time": "2021-12-29T15:33:48.279584Z"
    }
   },
   "outputs": [
    {
     "data": {
      "text/html": [
       "<table class=\"simpletable\">\n",
       "<caption>OLS Regression Results</caption>\n",
       "<tr>\n",
       "  <th>Dep. Variable:</th>            <td>y</td>        <th>  R-squared:         </th> <td>   0.990</td>\n",
       "</tr>\n",
       "<tr>\n",
       "  <th>Model:</th>                   <td>OLS</td>       <th>  Adj. R-squared:    </th> <td>   0.990</td>\n",
       "</tr>\n",
       "<tr>\n",
       "  <th>Method:</th>             <td>Least Squares</td>  <th>  F-statistic:       </th> <td>   3687.</td>\n",
       "</tr>\n",
       "<tr>\n",
       "  <th>Date:</th>             <td>Wed, 29 Dec 2021</td> <th>  Prob (F-statistic):</th> <td>1.89e-39</td>\n",
       "</tr>\n",
       "<tr>\n",
       "  <th>Time:</th>                 <td>23:33:48</td>     <th>  Log-Likelihood:    </th> <td>  264.18</td>\n",
       "</tr>\n",
       "<tr>\n",
       "  <th>No. Observations:</th>      <td>    40</td>      <th>  AIC:               </th> <td>  -524.4</td>\n",
       "</tr>\n",
       "<tr>\n",
       "  <th>Df Residuals:</th>          <td>    38</td>      <th>  BIC:               </th> <td>  -521.0</td>\n",
       "</tr>\n",
       "<tr>\n",
       "  <th>Df Model:</th>              <td>     1</td>      <th>                     </th>     <td> </td>   \n",
       "</tr>\n",
       "<tr>\n",
       "  <th>Covariance Type:</th>      <td>nonrobust</td>    <th>                     </th>     <td> </td>   \n",
       "</tr>\n",
       "</table>\n",
       "<table class=\"simpletable\">\n",
       "<tr>\n",
       "    <td></td>       <th>coef</th>     <th>std err</th>      <th>t</th>      <th>P>|t|</th>  <th>[0.025</th>    <th>0.975]</th>  \n",
       "</tr>\n",
       "<tr>\n",
       "  <th>const</th> <td>    0.0020</td> <td> 8.22e-05</td> <td>   24.502</td> <td> 0.000</td> <td>    0.002</td> <td>    0.002</td>\n",
       "</tr>\n",
       "<tr>\n",
       "  <th>x1</th>    <td>    0.6978</td> <td>    0.011</td> <td>   60.721</td> <td> 0.000</td> <td>    0.675</td> <td>    0.721</td>\n",
       "</tr>\n",
       "</table>\n",
       "<table class=\"simpletable\">\n",
       "<tr>\n",
       "  <th>Omnibus:</th>       <td> 1.265</td> <th>  Durbin-Watson:     </th> <td>   1.730</td>\n",
       "</tr>\n",
       "<tr>\n",
       "  <th>Prob(Omnibus):</th> <td> 0.531</td> <th>  Jarque-Bera (JB):  </th> <td>   1.256</td>\n",
       "</tr>\n",
       "<tr>\n",
       "  <th>Skew:</th>          <td> 0.344</td> <th>  Prob(JB):          </th> <td>   0.534</td>\n",
       "</tr>\n",
       "<tr>\n",
       "  <th>Kurtosis:</th>      <td> 2.471</td> <th>  Cond. No.          </th> <td>    216.</td>\n",
       "</tr>\n",
       "</table><br/><br/>Notes:<br/>[1] Standard Errors assume that the covariance matrix of the errors is correctly specified."
      ],
      "text/plain": [
       "<class 'statsmodels.iolib.summary.Summary'>\n",
       "\"\"\"\n",
       "                            OLS Regression Results                            \n",
       "==============================================================================\n",
       "Dep. Variable:                      y   R-squared:                       0.990\n",
       "Model:                            OLS   Adj. R-squared:                  0.990\n",
       "Method:                 Least Squares   F-statistic:                     3687.\n",
       "Date:                Wed, 29 Dec 2021   Prob (F-statistic):           1.89e-39\n",
       "Time:                        23:33:48   Log-Likelihood:                 264.18\n",
       "No. Observations:                  40   AIC:                            -524.4\n",
       "Df Residuals:                      38   BIC:                            -521.0\n",
       "Df Model:                           1                                         \n",
       "Covariance Type:            nonrobust                                         \n",
       "==============================================================================\n",
       "                 coef    std err          t      P>|t|      [0.025      0.975]\n",
       "------------------------------------------------------------------------------\n",
       "const          0.0020   8.22e-05     24.502      0.000       0.002       0.002\n",
       "x1             0.6978      0.011     60.721      0.000       0.675       0.721\n",
       "==============================================================================\n",
       "Omnibus:                        1.265   Durbin-Watson:                   1.730\n",
       "Prob(Omnibus):                  0.531   Jarque-Bera (JB):                1.256\n",
       "Skew:                           0.344   Prob(JB):                        0.534\n",
       "Kurtosis:                       2.471   Cond. No.                         216.\n",
       "==============================================================================\n",
       "\n",
       "Notes:\n",
       "[1] Standard Errors assume that the covariance matrix of the errors is correctly specified.\n",
       "\"\"\""
      ]
     },
     "execution_count": 6,
     "metadata": {},
     "output_type": "execute_result"
    }
   ],
   "source": [
    "model.summary()"
   ]
  },
  {
   "cell_type": "code",
   "execution_count": 7,
   "id": "34451ba1",
   "metadata": {
    "ExecuteTime": {
     "end_time": "2021-12-29T15:33:48.727003Z",
     "start_time": "2021-12-29T15:33:48.720579Z"
    }
   },
   "outputs": [
    {
     "data": {
      "text/plain": [
       "array([0.00201323, 0.69781884])"
      ]
     },
     "execution_count": 7,
     "metadata": {},
     "output_type": "execute_result"
    }
   ],
   "source": [
    "# 参数估计\n",
    "model.params"
   ]
  },
  {
   "cell_type": "code",
   "execution_count": 25,
   "id": "bb2fa865",
   "metadata": {
    "ExecuteTime": {
     "end_time": "2021-12-29T15:36:24.196409Z",
     "start_time": "2021-12-29T15:36:24.191366Z"
    }
   },
   "outputs": [
    {
     "data": {
      "text/plain": [
       "150.0976343009784"
      ]
     },
     "execution_count": 25,
     "metadata": {},
     "output_type": "execute_result"
    }
   ],
   "source": [
    "# 稳定状态\n",
    "R = (1-model.params[1])/model.params[0]\n",
    "R"
   ]
  },
  {
   "cell_type": "markdown",
   "id": "f253bc89",
   "metadata": {},
   "source": [
    "拟合结果为\n",
    "$$\\frac{1}{R} = 0.002 +0.6978\\frac{1}{S}$$"
   ]
  },
  {
   "cell_type": "markdown",
   "id": "bc0b1eb5",
   "metadata": {},
   "source": [
    "稳定状态$$R=S=\\frac{1-0.6978}{0.002}\\approx 150$$"
   ]
  },
  {
   "cell_type": "markdown",
   "id": "72c45ccc",
   "metadata": {},
   "source": [
    "### Bootstrap residual"
   ]
  },
  {
   "cell_type": "code",
   "execution_count": 32,
   "id": "c5ba48f9",
   "metadata": {
    "ExecuteTime": {
     "end_time": "2021-12-29T15:43:47.576125Z",
     "start_time": "2021-12-29T15:43:47.572467Z"
    }
   },
   "outputs": [],
   "source": [
    "def residual_bt(B=10000):\n",
    "    R_l = []\n",
    "    for i in range(B):\n",
    "        y_bt = model.fittedvalues + np.random.choice(model.resid, size=40)\n",
    "        model_bt = sm.OLS(y_bt, X).fit()\n",
    "        R_bt = (1-model_bt.params[1])/model_bt.params[0]\n",
    "        R_l.append(R_bt)\n",
    "    return np.array(R_l)"
   ]
  },
  {
   "cell_type": "code",
   "execution_count": 34,
   "id": "4fd98c67",
   "metadata": {
    "ExecuteTime": {
     "end_time": "2021-12-29T15:44:15.772496Z",
     "start_time": "2021-12-29T15:44:12.557353Z"
    }
   },
   "outputs": [],
   "source": [
    "R_l_residual = residual_bt()"
   ]
  },
  {
   "cell_type": "code",
   "execution_count": 35,
   "id": "1effface",
   "metadata": {
    "ExecuteTime": {
     "end_time": "2021-12-29T15:44:22.742953Z",
     "start_time": "2021-12-29T15:44:22.738320Z"
    }
   },
   "outputs": [
    {
     "data": {
      "text/plain": [
       "(142.51217735177934, 158.17483257430226)"
      ]
     },
     "execution_count": 35,
     "metadata": {},
     "output_type": "execute_result"
    }
   ],
   "source": [
    "# 95%置信区间\n",
    "(np.quantile(R_l_residual,0.025),np.quantile(R_l_residual,0.975))"
   ]
  },
  {
   "cell_type": "code",
   "execution_count": 36,
   "id": "eac49da7",
   "metadata": {
    "ExecuteTime": {
     "end_time": "2021-12-29T15:44:29.593052Z",
     "start_time": "2021-12-29T15:44:29.589127Z"
    }
   },
   "outputs": [
    {
     "data": {
      "text/plain": [
       "15.662655222522915"
      ]
     },
     "execution_count": 36,
     "metadata": {},
     "output_type": "execute_result"
    }
   ],
   "source": [
    "# 区间长度\n",
    "abs(np.quantile(R_l_residual,0.025)-np.quantile(R_l_residual,0.975))"
   ]
  },
  {
   "cell_type": "code",
   "execution_count": 39,
   "id": "fab92437",
   "metadata": {
    "ExecuteTime": {
     "end_time": "2021-12-29T15:44:50.390951Z",
     "start_time": "2021-12-29T15:44:50.387261Z"
    }
   },
   "outputs": [
    {
     "data": {
      "text/plain": [
       "4.0099787297018565"
      ]
     },
     "execution_count": 39,
     "metadata": {},
     "output_type": "execute_result"
    }
   ],
   "source": [
    "# 标准误\n",
    "R_l_residual.std()"
   ]
  },
  {
   "cell_type": "code",
   "execution_count": 38,
   "id": "78ae71db",
   "metadata": {
    "ExecuteTime": {
     "end_time": "2021-12-29T15:44:43.529277Z",
     "start_time": "2021-12-29T15:44:43.335819Z"
    }
   },
   "outputs": [
    {
     "data": {
      "image/png": "[encoded data removed]",
      "text/plain": [
       "<Figure size 720x360 with 1 Axes>"
      ]
     },
     "metadata": {
      "needs_background": "light"
     },
     "output_type": "display_data"
    }
   ],
   "source": [
    "# 直方图\n",
    "pd.DataFrame(R_l_residual).hist(grid=False, bins=20, figsize=(10, 5))\n",
    "plt.title('bootstrap residual')\n",
    "plt.xlabel(r'estimation of $\\frac{1-\\beta_2}{\\beta_1}$')\n",
    "plt.ylabel('count')\n",
    "plt.axvline(x=np.quantile(R_l_residual, 0.025),\n",
    "            color='red',\n",
    "            alpha=.5,\n",
    "            linestyle='dashed',\n",
    "            label='95% CI')\n",
    "plt.axvline(x=np.quantile(R_l_residual, 0.975),\n",
    "            color='red',\n",
    "            alpha=.5,\n",
    "            linestyle='dashed')\n",
    "plt.legend()\n",
    "plt.show()"
   ]
  },
  {
   "cell_type": "markdown",
   "id": "9f5384fc",
   "metadata": {},
   "source": [
    "### Paired bootstrap"
   ]
  },
  {
   "cell_type": "code",
   "execution_count": 41,
   "id": "e7b162d9",
   "metadata": {
    "ExecuteTime": {
     "end_time": "2021-12-29T15:46:34.873978Z",
     "start_time": "2021-12-29T15:46:34.867396Z"
    }
   },
   "outputs": [],
   "source": [
    "def paired_bt(B=10000):\n",
    "    R_l = []\n",
    "    for i in range(B):\n",
    "        df_bt = Idf.loc[np.random.choice(df.index, size=40), :]\n",
    "        x_bt = df_bt.spawners.to_numpy()\n",
    "        y_bt = df_bt.recruits.to_numpy()\n",
    "        X_bt = sm.add_constant(x_bt)\n",
    "        model_bt = sm.OLS(y_bt, X_bt).fit()\n",
    "        R_bt = (1 - model_bt.params[1]) / model_bt.params[0]\n",
    "        R_l.append(R_bt)\n",
    "    return np.array(R_l)"
   ]
  },
  {
   "cell_type": "code",
   "execution_count": 42,
   "id": "f01612b8",
   "metadata": {
    "ExecuteTime": {
     "end_time": "2021-12-29T15:46:54.750838Z",
     "start_time": "2021-12-29T15:46:46.434037Z"
    }
   },
   "outputs": [],
   "source": [
    "R_l_paired = paired_bt()"
   ]
  },
  {
   "cell_type": "code",
   "execution_count": 44,
   "id": "778afce2",
   "metadata": {
    "ExecuteTime": {
     "end_time": "2021-12-29T15:47:10.325678Z",
     "start_time": "2021-12-29T15:47:10.320476Z"
    }
   },
   "outputs": [
    {
     "data": {
      "text/plain": [
       "(142.71043190209588, 157.74255035186982)"
      ]
     },
     "execution_count": 44,
     "metadata": {},
     "output_type": "execute_result"
    }
   ],
   "source": [
    "# 95%置信区间\n",
    "(np.quantile(R_l_paired,0.025),np.quantile(R_l_paired,0.975))"
   ]
  },
  {
   "cell_type": "code",
   "execution_count": 45,
   "id": "db5fefc4",
   "metadata": {
    "ExecuteTime": {
     "end_time": "2021-12-29T15:47:18.069141Z",
     "start_time": "2021-12-29T15:47:18.061622Z"
    }
   },
   "outputs": [
    {
     "data": {
      "text/plain": [
       "15.032118449773947"
      ]
     },
     "execution_count": 45,
     "metadata": {},
     "output_type": "execute_result"
    }
   ],
   "source": [
    "# 区间长度\n",
    "abs(np.quantile(R_l_paired,0.025)-np.quantile(R_l_paired,0.975))"
   ]
  },
  {
   "cell_type": "code",
   "execution_count": 46,
   "id": "120383aa",
   "metadata": {
    "ExecuteTime": {
     "end_time": "2021-12-29T15:47:25.825331Z",
     "start_time": "2021-12-29T15:47:25.820709Z"
    }
   },
   "outputs": [
    {
     "data": {
      "text/plain": [
       "3.850719401715517"
      ]
     },
     "execution_count": 46,
     "metadata": {},
     "output_type": "execute_result"
    }
   ],
   "source": [
    "# 标准误\n",
    "R_l_paired.std()"
   ]
  },
  {
   "cell_type": "code",
   "execution_count": 47,
   "id": "71011f41",
   "metadata": {
    "ExecuteTime": {
     "end_time": "2021-12-29T15:47:33.462475Z",
     "start_time": "2021-12-29T15:47:33.274047Z"
    }
   },
   "outputs": [
    {
     "data": {
      "image/png": "[encoded data removed]",
      "text/plain": [
       "<Figure size 720x360 with 1 Axes>"
      ]
     },
     "metadata": {
      "needs_background": "light"
     },
     "output_type": "display_data"
    }
   ],
   "source": [
    "# 直方图\n",
    "pd.DataFrame(R_l_paired).hist(grid=False, bins=20, figsize=(10, 5))\n",
    "plt.title('paired bootstrap')\n",
    "plt.xlabel(r'estimation of $\\frac{1-\\beta_2}{\\beta_1}$')\n",
    "plt.ylabel('count')\n",
    "plt.axvline(x=np.quantile(R_l_paired, 0.05),\n",
    "            color='red',\n",
    "            alpha=.5,\n",
    "            linestyle='dashed',\n",
    "            label='95% CI')\n",
    "plt.axvline(x=np.quantile(R_l_paired, 0.95),\n",
    "            color='red',\n",
    "            alpha=.5,\n",
    "            linestyle='dashed')\n",
    "plt.legend()\n",
    "plt.show()"
   ]
  },
  {
   "cell_type": "raw",
   "id": "8a48f563",
   "metadata": {},
   "source": [
    "paired bootstrap方法总比bootstrap residual方法所得的标准误小一些，构造出的置信区间也更小，从直方图也可以直观地看出paired bootstrap方法得到的估计值更加集中在均值附近"
   ]
  },
  {
   "cell_type": "markdown",
   "id": "2bb72a4b",
   "metadata": {},
   "source": [
    "## b"
   ]
  },
  {
   "cell_type": "code",
   "execution_count": 54,
   "id": "872a5253",
   "metadata": {
    "ExecuteTime": {
     "end_time": "2021-12-29T15:54:30.386559Z",
     "start_time": "2021-12-29T15:54:30.380518Z"
    }
   },
   "outputs": [
    {
     "data": {
      "text/plain": [
       "0.03710473871925046"
      ]
     },
     "execution_count": 54,
     "metadata": {},
     "output_type": "execute_result"
    }
   ],
   "source": [
    "correction_residual = np.mean(R_l_residual)-R\n",
    "correction_residual"
   ]
  },
  {
   "cell_type": "code",
   "execution_count": 55,
   "id": "5314955c",
   "metadata": {
    "ExecuteTime": {
     "end_time": "2021-12-29T15:54:38.451161Z",
     "start_time": "2021-12-29T15:54:38.447764Z"
    }
   },
   "outputs": [
    {
     "data": {
      "text/plain": [
       "0.0009245873471854793"
      ]
     },
     "execution_count": 55,
     "metadata": {},
     "output_type": "execute_result"
    }
   ],
   "source": [
    "correction_paired = np.mean(R_l_paired)-R\n",
    "correction_paired"
   ]
  },
  {
   "cell_type": "code",
   "execution_count": 56,
   "id": "70600b45",
   "metadata": {
    "ExecuteTime": {
     "end_time": "2021-12-29T15:57:47.606421Z",
     "start_time": "2021-12-29T15:54:45.296019Z"
    }
   },
   "outputs": [
    {
     "ename": "KeyboardInterrupt",
     "evalue": "",
     "output_type": "error",
     "traceback": [
      "\u001b[0;31m---------------------------------------------------------------------------\u001b[0m",
      "\u001b[0;31mKeyboardInterrupt\u001b[0m                         Traceback (most recent call last)",
      "\u001b[0;32m/tmp/ipykernel_19247/2558553490.py\u001b[0m in \u001b[0;36m<module>\u001b[0;34m\u001b[0m\n\u001b[1;32m      3\u001b[0m \u001b[0mcorrection_paired_l\u001b[0m \u001b[0;34m=\u001b[0m \u001b[0;34m[\u001b[0m\u001b[0;34m]\u001b[0m\u001b[0;34m\u001b[0m\u001b[0;34m\u001b[0m\u001b[0m\n\u001b[1;32m      4\u001b[0m \u001b[0;32mfor\u001b[0m \u001b[0mi\u001b[0m \u001b[0;32min\u001b[0m \u001b[0mrange\u001b[0m\u001b[0;34m(\u001b[0m\u001b[0mB\u001b[0m\u001b[0;34m)\u001b[0m\u001b[0;34m:\u001b[0m\u001b[0;34m\u001b[0m\u001b[0;34m\u001b[0m\u001b[0m\n\u001b[0;32m----> 5\u001b[0;31m     \u001b[0mR_l_residual\u001b[0m \u001b[0;34m=\u001b[0m \u001b[0mresidual_bt\u001b[0m\u001b[0;34m(\u001b[0m\u001b[0;36m1000\u001b[0m\u001b[0;34m)\u001b[0m\u001b[0;34m\u001b[0m\u001b[0;34m\u001b[0m\u001b[0m\n\u001b[0m\u001b[1;32m      6\u001b[0m     \u001b[0mR_l_paired\u001b[0m \u001b[0;34m=\u001b[0m \u001b[0mpaired_bt\u001b[0m\u001b[0;34m(\u001b[0m\u001b[0;36m1000\u001b[0m\u001b[0;34m)\u001b[0m\u001b[0;34m\u001b[0m\u001b[0;34m\u001b[0m\u001b[0m\n\u001b[1;32m      7\u001b[0m     \u001b[0mcorrection_residual\u001b[0m \u001b[0;34m=\u001b[0m \u001b[0mnp\u001b[0m\u001b[0;34m.\u001b[0m\u001b[0mmean\u001b[0m\u001b[0;34m(\u001b[0m\u001b[0mR_l_residual\u001b[0m\u001b[0;34m)\u001b[0m\u001b[0;34m-\u001b[0m\u001b[0mR\u001b[0m\u001b[0;34m\u001b[0m\u001b[0;34m\u001b[0m\u001b[0m\n",
      "\u001b[0;32m/tmp/ipykernel_19247/2284781670.py\u001b[0m in \u001b[0;36mresidual_bt\u001b[0;34m(B)\u001b[0m\n\u001b[1;32m      3\u001b[0m     \u001b[0;32mfor\u001b[0m \u001b[0mi\u001b[0m \u001b[0;32min\u001b[0m \u001b[0mrange\u001b[0m\u001b[0;34m(\u001b[0m\u001b[0mB\u001b[0m\u001b[0;34m)\u001b[0m\u001b[0;34m:\u001b[0m\u001b[0;34m\u001b[0m\u001b[0;34m\u001b[0m\u001b[0m\n\u001b[1;32m      4\u001b[0m         \u001b[0my_bt\u001b[0m \u001b[0;34m=\u001b[0m \u001b[0mmodel\u001b[0m\u001b[0;34m.\u001b[0m\u001b[0mfittedvalues\u001b[0m \u001b[0;34m+\u001b[0m \u001b[0mnp\u001b[0m\u001b[0;34m.\u001b[0m\u001b[0mrandom\u001b[0m\u001b[0;34m.\u001b[0m\u001b[0mchoice\u001b[0m\u001b[0;34m(\u001b[0m\u001b[0mmodel\u001b[0m\u001b[0;34m.\u001b[0m\u001b[0mresid\u001b[0m\u001b[0;34m,\u001b[0m \u001b[0msize\u001b[0m\u001b[0;34m=\u001b[0m\u001b[0;36m40\u001b[0m\u001b[0;34m)\u001b[0m\u001b[0;34m\u001b[0m\u001b[0;34m\u001b[0m\u001b[0m\n\u001b[0;32m----> 5\u001b[0;31m         \u001b[0mmodel_bt\u001b[0m \u001b[0;34m=\u001b[0m \u001b[0msm\u001b[0m\u001b[0;34m.\u001b[0m\u001b[0mOLS\u001b[0m\u001b[0;34m(\u001b[0m\u001b[0my_bt\u001b[0m\u001b[0;34m,\u001b[0m \u001b[0mX\u001b[0m\u001b[0;34m)\u001b[0m\u001b[0;34m.\u001b[0m\u001b[0mfit\u001b[0m\u001b[0;34m(\u001b[0m\u001b[0;34m)\u001b[0m\u001b[0;34m\u001b[0m\u001b[0;34m\u001b[0m\u001b[0m\n\u001b[0m\u001b[1;32m      6\u001b[0m         \u001b[0mR_bt\u001b[0m \u001b[0;34m=\u001b[0m \u001b[0;34m(\u001b[0m\u001b[0;36m1\u001b[0m\u001b[0;34m-\u001b[0m\u001b[0mmodel_bt\u001b[0m\u001b[0;34m.\u001b[0m\u001b[0mparams\u001b[0m\u001b[0;34m[\u001b[0m\u001b[0;36m1\u001b[0m\u001b[0;34m]\u001b[0m\u001b[0;34m)\u001b[0m\u001b[0;34m/\u001b[0m\u001b[0mmodel_bt\u001b[0m\u001b[0;34m.\u001b[0m\u001b[0mparams\u001b[0m\u001b[0;34m[\u001b[0m\u001b[0;36m0\u001b[0m\u001b[0;34m]\u001b[0m\u001b[0;34m\u001b[0m\u001b[0;34m\u001b[0m\u001b[0m\n\u001b[1;32m      7\u001b[0m         \u001b[0mR_l\u001b[0m\u001b[0;34m.\u001b[0m\u001b[0mappend\u001b[0m\u001b[0;34m(\u001b[0m\u001b[0mR_bt\u001b[0m\u001b[0;34m)\u001b[0m\u001b[0;34m\u001b[0m\u001b[0;34m\u001b[0m\u001b[0m\n",
      "\u001b[0;32m~/anaconda3/lib/python3.9/site-packages/statsmodels/regression/linear_model.py\u001b[0m in \u001b[0;36mfit\u001b[0;34m(self, method, cov_type, cov_kwds, use_t, **kwargs)\u001b[0m\n\u001b[1;32m    340\u001b[0m \u001b[0;34m\u001b[0m\u001b[0m\n\u001b[1;32m    341\u001b[0m         \u001b[0;32mif\u001b[0m \u001b[0misinstance\u001b[0m\u001b[0;34m(\u001b[0m\u001b[0mself\u001b[0m\u001b[0;34m,\u001b[0m \u001b[0mOLS\u001b[0m\u001b[0;34m)\u001b[0m\u001b[0;34m:\u001b[0m\u001b[0;34m\u001b[0m\u001b[0;34m\u001b[0m\u001b[0m\n\u001b[0;32m--> 342\u001b[0;31m             lfit = OLSResults(\n\u001b[0m\u001b[1;32m    343\u001b[0m                 \u001b[0mself\u001b[0m\u001b[0;34m,\u001b[0m \u001b[0mbeta\u001b[0m\u001b[0;34m,\u001b[0m\u001b[0;34m\u001b[0m\u001b[0;34m\u001b[0m\u001b[0m\n\u001b[1;32m    344\u001b[0m                 \u001b[0mnormalized_cov_params\u001b[0m\u001b[0;34m=\u001b[0m\u001b[0mself\u001b[0m\u001b[0;34m.\u001b[0m\u001b[0mnormalized_cov_params\u001b[0m\u001b[0;34m,\u001b[0m\u001b[0;34m\u001b[0m\u001b[0;34m\u001b[0m\u001b[0m\n",
      "\u001b[0;32m~/anaconda3/lib/python3.9/site-packages/statsmodels/regression/linear_model.py\u001b[0m in \u001b[0;36m__init__\u001b[0;34m(self, model, params, normalized_cov_params, scale, cov_type, cov_kwds, use_t, **kwargs)\u001b[0m\n\u001b[1;32m   1552\u001b[0m     def __init__(self, model, params, normalized_cov_params=None, scale=1.,\n\u001b[1;32m   1553\u001b[0m                  cov_type='nonrobust', cov_kwds=None, use_t=None, **kwargs):\n\u001b[0;32m-> 1554\u001b[0;31m         super(RegressionResults, self).__init__(\n\u001b[0m\u001b[1;32m   1555\u001b[0m             model, params, normalized_cov_params, scale)\n\u001b[1;32m   1556\u001b[0m \u001b[0;34m\u001b[0m\u001b[0m\n",
      "\u001b[0;32m~/anaconda3/lib/python3.9/site-packages/statsmodels/base/model.py\u001b[0m in \u001b[0;36m__init__\u001b[0;34m(self, model, params, normalized_cov_params, scale, **kwargs)\u001b[0m\n\u001b[1;32m   1280\u001b[0m                  **kwargs):\n\u001b[1;32m   1281\u001b[0m         \u001b[0msuper\u001b[0m\u001b[0;34m(\u001b[0m\u001b[0mLikelihoodModelResults\u001b[0m\u001b[0;34m,\u001b[0m \u001b[0mself\u001b[0m\u001b[0;34m)\u001b[0m\u001b[0;34m.\u001b[0m\u001b[0m__init__\u001b[0m\u001b[0;34m(\u001b[0m\u001b[0mmodel\u001b[0m\u001b[0;34m,\u001b[0m \u001b[0mparams\u001b[0m\u001b[0;34m)\u001b[0m\u001b[0;34m\u001b[0m\u001b[0;34m\u001b[0m\u001b[0m\n\u001b[0;32m-> 1282\u001b[0;31m         \u001b[0mself\u001b[0m\u001b[0;34m.\u001b[0m\u001b[0mnormalized_cov_params\u001b[0m \u001b[0;34m=\u001b[0m \u001b[0mnormalized_cov_params\u001b[0m\u001b[0;34m\u001b[0m\u001b[0;34m\u001b[0m\u001b[0m\n\u001b[0m\u001b[1;32m   1283\u001b[0m         \u001b[0mself\u001b[0m\u001b[0;34m.\u001b[0m\u001b[0mscale\u001b[0m \u001b[0;34m=\u001b[0m \u001b[0mscale\u001b[0m\u001b[0;34m\u001b[0m\u001b[0;34m\u001b[0m\u001b[0m\n\u001b[1;32m   1284\u001b[0m         \u001b[0mself\u001b[0m\u001b[0;34m.\u001b[0m\u001b[0m_use_t\u001b[0m \u001b[0;34m=\u001b[0m \u001b[0;32mFalse\u001b[0m\u001b[0;34m\u001b[0m\u001b[0;34m\u001b[0m\u001b[0m\n",
      "\u001b[0;31mKeyboardInterrupt\u001b[0m: "
     ]
    }
   ],
   "source": [
    "B = 1000\n",
    "correction_residual_l = []\n",
    "correction_paired_l = []\n",
    "for i in range(B):\n",
    "    R_l_residual = residual_bt(1000)\n",
    "    R_l_paired = paired_bt(1000)\n",
    "    correction_residual = np.mean(R_l_residual)-R\n",
    "    correction_paired = np.mean(R_l_paired)-R\n",
    "    correction_residual_l.append(correction_residual)\n",
    "    correction_paired_l.append(correction_residual)"
   ]
  },
  {
   "cell_type": "code",
   "execution_count": null,
   "id": "a7f8ac41",
   "metadata": {},
   "outputs": [],
   "source": [
    "np.std(correction_residual_l)"
   ]
  },
  {
   "cell_type": "code",
   "execution_count": null,
   "id": "53f8833e",
   "metadata": {},
   "outputs": [],
   "source": [
    "np.std(correction_paired_l)"
   ]
  },
  {
   "cell_type": "markdown",
   "id": "6e7fde2b",
   "metadata": {},
   "source": [
    "# 9.7"
   ]
  },
  {
   "cell_type": "code",
   "execution_count": null,
   "id": "b26d1318",
   "metadata": {},
   "outputs": [],
   "source": []
  }
 ],
 "metadata": {
  "kernelspec": {
   "display_name": "Python 3 (ipykernel)",
   "language": "python",
   "name": "python3"
  },
  "language_info": {
   "codemirror_mode": {
    "name": "ipython",
    "version": 3
   },
   "file_extension": ".py",
   "mimetype": "text/x-python",
   "name": "python",
   "nbconvert_exporter": "python",
   "pygments_lexer": "ipython3",
   "version": "3.9.7"
  },
  "toc": {
   "base_numbering": 1,
   "nav_menu": {},
   "number_sections": false,
   "sideBar": true,
   "skip_h1_title": false,
   "title_cell": "Table of Contents",
   "title_sidebar": "Contents",
   "toc_cell": false,
   "toc_position": {},
   "toc_section_display": true,
   "toc_window_display": true
  },
  "varInspector": {
   "cols": {
    "lenName": 16,
    "lenType": 16,
    "lenVar": 40
   },
   "kernels_config": {
    "python": {
     "delete_cmd_postfix": "",
     "delete_cmd_prefix": "del ",
     "library": "var_list.py",
     "varRefreshCmd": "print(var_dic_list())"
    },
    "r": {
     "delete_cmd_postfix": ") ",
     "delete_cmd_prefix": "rm(",
     "library": "var_list.r",
     "varRefreshCmd": "cat(var_dic_list()) "
    }
   },
   "types_to_exclude": [
    "module",
    "function",
    "builtin_function_or_method",
    "instance",
    "_Feature"
   ],
   "window_display": false
  }
 },
 "nbformat": 4,
 "nbformat_minor": 5
}
